{
  "nbformat": 4,
  "nbformat_minor": 0,
  "metadata": {
    "kernelspec": {
      "display_name": "Python 3",
      "language": "python",
      "name": "python3"
    },
    "language_info": {
      "codemirror_mode": {
        "name": "ipython",
        "version": 3
      },
      "file_extension": ".py",
      "mimetype": "text/x-python",
      "name": "python",
      "nbconvert_exporter": "python",
      "pygments_lexer": "ipython3",
      "version": "3.6.5"
    },
    "colab": {
      "name": "Lab_2_Loto.ipynb",
      "provenance": [],
      "collapsed_sections": [
        "ooUrjmFJ2leo",
        "kyPUF7sz2lev",
        "qHblo19K2le0"
      ]
    }
  },
  "cells": [
    {
      "cell_type": "markdown",
      "metadata": {
        "id": "8Blg7f_k2lec",
        "colab_type": "text"
      },
      "source": [
        "# Laboratorio 2: Armado de un esquema de aprendizaje automático\n",
        "\n",
        "En el laboratorio final se espera que puedan poner en práctica los conocimientos adquiridos en el curso, trabajando con un conjunto de datos de clasificación.\n",
        "\n",
        "El objetivo es que se introduzcan en el desarrollo de un esquema para hacer tareas de aprendizaje automático: selección de un modelo, ajuste de hiperparámetros y evaluación.\n",
        "\n",
        "El conjunto de datos a utilizar está en `./data/loan_data.csv`. Si abren el archivo verán que al principio (las líneas que empiezan con `#`) describen el conjunto de datos y sus atributos (incluyendo el atributo de etiqueta o clase).\n",
        "\n",
        "Se espera que hagan uso de las herramientas vistas en el curso. Se espera que hagan uso especialmente de las herramientas brindadas por `scikit-learn`."
      ]
    },
    {
      "cell_type": "code",
      "metadata": {
        "id": "LBhQAF8-3QKG",
        "colab_type": "code",
        "colab": {
          "base_uri": "https://localhost:8080/",
          "height": 72
        },
        "outputId": "6066d019-0c19-44d3-a04d-d13db30f60b5"
      },
      "source": [
        "#Librerías \n",
        "import numpy as np\n",
        "import pandas as pd\n",
        "# Para gráficos\n",
        "import matplotlib.pyplot as plt\n",
        "import seaborn as sns\n",
        "\n",
        "from seaborn import heatmap\n",
        "from scipy import stats\n",
        "\n",
        "# Para dividir el dataset en train  y test\n",
        "from sklearn.model_selection import train_test_split\n",
        "\n",
        "# Algoritmo del Gradiente Descendente\n",
        "from sklearn.linear_model import SGDClassifier\n",
        "\n",
        "# Algoritmo del Árbol de Decisión\n",
        "from sklearn.tree import (DecisionTreeClassifier, plot_tree)\n",
        "\n",
        "# Validación Cruzada \n",
        "from sklearn.model_selection import GridSearchCV\n",
        "\n",
        "# Para calcular métricas\n",
        "from sklearn.metrics import (accuracy_score, precision_score, recall_score,\n",
        "                             f1_score, confusion_matrix, classification_report,\n",
        "                            roc_curve, roc_auc_score, precision_recall_curve)\n",
        "\n",
        "# Para la Normalización cuando utilizamos SGDC\n",
        "from sklearn.preprocessing import StandardScaler"
      ],
      "execution_count": 2,
      "outputs": [
        {
          "output_type": "stream",
          "text": [
            "/usr/local/lib/python3.6/dist-packages/statsmodels/tools/_testing.py:19: FutureWarning: pandas.util.testing is deprecated. Use the functions in the public API at pandas.testing instead.\n",
            "  import pandas.util.testing as tm\n"
          ],
          "name": "stderr"
        }
      ]
    },
    {
      "cell_type": "markdown",
      "metadata": {
        "id": "ooUrjmFJ2leo",
        "colab_type": "text"
      },
      "source": [
        "## Carga de datos y división en entrenamiento y evaluación\n",
        "\n",
        "La celda siguiente se encarga de la carga de datos (haciendo uso de pandas). Estos serán los que se trabajarán en el resto del laboratorio."
      ]
    },
    {
      "cell_type": "code",
      "metadata": {
        "id": "SOq_J_Ez2lep",
        "colab_type": "code",
        "colab": {}
      },
      "source": [
        "#dataset = pd.read_csv(\"./data/loan_data.csv\", comment=\"#\")\n",
        "\n",
        "datos_credito = pd.read_csv(\"https://raw.githubusercontent.com/DiploDatos/IntroduccionAprendizajeAutomatico/master/data/loan_data.csv\", comment=\"#\")\n",
        "\n",
        "\n",
        "# División entre instancias y etiquetas\n",
        "X, y = datos_credito.iloc[:, 1:], datos_credito.TARGET\n",
        "\n",
        "# división entre entrenamiento y evaluación\n",
        "X_train, X_test, y_train, y_test = train_test_split(X, y, test_size=0.2, random_state=0)"
      ],
      "execution_count": 3,
      "outputs": []
    },
    {
      "cell_type": "markdown",
      "metadata": {
        "id": "p2j6EulC2leu",
        "colab_type": "text"
      },
      "source": [
        "\n",
        "Documentación:\n",
        "\n",
        "- https://scikit-learn.org/stable/modules/generated/sklearn.model_selection.train_test_split.html"
      ]
    },
    {
      "cell_type": "markdown",
      "metadata": {
        "id": "kyPUF7sz2lev",
        "colab_type": "text"
      },
      "source": [
        "## Ejercicio 1: Descripción de los Datos y la Tarea\n",
        "\n",
        "Responder las siguientes preguntas:\n",
        "\n",
        "1. ¿De qué se trata el conjunto de datos?\n",
        "2. ¿Cuál es la variable objetivo que hay que predecir? ¿Qué significado tiene?\n",
        "3. ¿Qué información (atributos) hay disponible para hacer la predicción?\n",
        "4. ¿Qué atributos imagina ud. que son los más determinantes para la predicción?\n",
        "\n",
        "**No hace falta escribir código para responder estas preguntas.**"
      ]
    },
    {
      "cell_type": "markdown",
      "metadata": {
        "id": "uyRlrBDT5SFw",
        "colab_type": "text"
      },
      "source": [
        "**1.** Revisamos el dataset para conocer un poco más de los datos."
      ]
    },
    {
      "cell_type": "code",
      "metadata": {
        "id": "c0oJ7z8V5jJX",
        "colab_type": "code",
        "colab": {
          "base_uri": "https://localhost:8080/",
          "height": 0
        },
        "outputId": "d864efd2-80e4-4e0b-9989-6f90de9e282f"
      },
      "source": [
        "datos_credito"
      ],
      "execution_count": 4,
      "outputs": [
        {
          "output_type": "execute_result",
          "data": {
            "text/html": [
              "<div>\n",
              "<style scoped>\n",
              "    .dataframe tbody tr th:only-of-type {\n",
              "        vertical-align: middle;\n",
              "    }\n",
              "\n",
              "    .dataframe tbody tr th {\n",
              "        vertical-align: top;\n",
              "    }\n",
              "\n",
              "    .dataframe thead th {\n",
              "        text-align: right;\n",
              "    }\n",
              "</style>\n",
              "<table border=\"1\" class=\"dataframe\">\n",
              "  <thead>\n",
              "    <tr style=\"text-align: right;\">\n",
              "      <th></th>\n",
              "      <th>TARGET</th>\n",
              "      <th>LOAN</th>\n",
              "      <th>MORTDUE</th>\n",
              "      <th>VALUE</th>\n",
              "      <th>YOJ</th>\n",
              "      <th>DEROG</th>\n",
              "      <th>DELINQ</th>\n",
              "      <th>CLAGE</th>\n",
              "      <th>NINQ</th>\n",
              "      <th>CLNO</th>\n",
              "      <th>DEBTINC</th>\n",
              "    </tr>\n",
              "  </thead>\n",
              "  <tbody>\n",
              "    <tr>\n",
              "      <th>0</th>\n",
              "      <td>0</td>\n",
              "      <td>4700</td>\n",
              "      <td>88026.0</td>\n",
              "      <td>115506.0</td>\n",
              "      <td>6.0</td>\n",
              "      <td>0.0</td>\n",
              "      <td>0.0</td>\n",
              "      <td>182.248332</td>\n",
              "      <td>0.0</td>\n",
              "      <td>27.0</td>\n",
              "      <td>29.209023</td>\n",
              "    </tr>\n",
              "    <tr>\n",
              "      <th>1</th>\n",
              "      <td>0</td>\n",
              "      <td>19300</td>\n",
              "      <td>39926.0</td>\n",
              "      <td>101208.0</td>\n",
              "      <td>4.0</td>\n",
              "      <td>0.0</td>\n",
              "      <td>0.0</td>\n",
              "      <td>140.051638</td>\n",
              "      <td>0.0</td>\n",
              "      <td>14.0</td>\n",
              "      <td>31.545694</td>\n",
              "    </tr>\n",
              "    <tr>\n",
              "      <th>2</th>\n",
              "      <td>0</td>\n",
              "      <td>5700</td>\n",
              "      <td>71556.0</td>\n",
              "      <td>79538.0</td>\n",
              "      <td>2.0</td>\n",
              "      <td>0.0</td>\n",
              "      <td>0.0</td>\n",
              "      <td>92.643085</td>\n",
              "      <td>0.0</td>\n",
              "      <td>15.0</td>\n",
              "      <td>41.210012</td>\n",
              "    </tr>\n",
              "    <tr>\n",
              "      <th>3</th>\n",
              "      <td>0</td>\n",
              "      <td>13000</td>\n",
              "      <td>44875.0</td>\n",
              "      <td>57713.0</td>\n",
              "      <td>0.0</td>\n",
              "      <td>1.0</td>\n",
              "      <td>0.0</td>\n",
              "      <td>184.990324</td>\n",
              "      <td>1.0</td>\n",
              "      <td>12.0</td>\n",
              "      <td>28.602076</td>\n",
              "    </tr>\n",
              "    <tr>\n",
              "      <th>4</th>\n",
              "      <td>0</td>\n",
              "      <td>19300</td>\n",
              "      <td>72752.0</td>\n",
              "      <td>106084.0</td>\n",
              "      <td>11.0</td>\n",
              "      <td>0.0</td>\n",
              "      <td>0.0</td>\n",
              "      <td>193.707100</td>\n",
              "      <td>1.0</td>\n",
              "      <td>13.0</td>\n",
              "      <td>30.686106</td>\n",
              "    </tr>\n",
              "    <tr>\n",
              "      <th>...</th>\n",
              "      <td>...</td>\n",
              "      <td>...</td>\n",
              "      <td>...</td>\n",
              "      <td>...</td>\n",
              "      <td>...</td>\n",
              "      <td>...</td>\n",
              "      <td>...</td>\n",
              "      <td>...</td>\n",
              "      <td>...</td>\n",
              "      <td>...</td>\n",
              "      <td>...</td>\n",
              "    </tr>\n",
              "    <tr>\n",
              "      <th>1849</th>\n",
              "      <td>1</td>\n",
              "      <td>53400</td>\n",
              "      <td>228236.0</td>\n",
              "      <td>305514.0</td>\n",
              "      <td>6.0</td>\n",
              "      <td>0.0</td>\n",
              "      <td>0.0</td>\n",
              "      <td>11.148069</td>\n",
              "      <td>0.0</td>\n",
              "      <td>2.0</td>\n",
              "      <td>34.558417</td>\n",
              "    </tr>\n",
              "    <tr>\n",
              "      <th>1850</th>\n",
              "      <td>1</td>\n",
              "      <td>53600</td>\n",
              "      <td>235895.0</td>\n",
              "      <td>299772.0</td>\n",
              "      <td>5.0</td>\n",
              "      <td>0.0</td>\n",
              "      <td>0.0</td>\n",
              "      <td>112.748282</td>\n",
              "      <td>7.0</td>\n",
              "      <td>22.0</td>\n",
              "      <td>44.945929</td>\n",
              "    </tr>\n",
              "    <tr>\n",
              "      <th>1851</th>\n",
              "      <td>1</td>\n",
              "      <td>53600</td>\n",
              "      <td>208197.0</td>\n",
              "      <td>297280.0</td>\n",
              "      <td>4.0</td>\n",
              "      <td>1.0</td>\n",
              "      <td>1.0</td>\n",
              "      <td>160.485251</td>\n",
              "      <td>2.0</td>\n",
              "      <td>29.0</td>\n",
              "      <td>41.646731</td>\n",
              "    </tr>\n",
              "    <tr>\n",
              "      <th>1852</th>\n",
              "      <td>1</td>\n",
              "      <td>65500</td>\n",
              "      <td>205156.0</td>\n",
              "      <td>290239.0</td>\n",
              "      <td>2.0</td>\n",
              "      <td>0.0</td>\n",
              "      <td>0.0</td>\n",
              "      <td>98.808206</td>\n",
              "      <td>1.0</td>\n",
              "      <td>21.0</td>\n",
              "      <td>144.189001</td>\n",
              "    </tr>\n",
              "    <tr>\n",
              "      <th>1853</th>\n",
              "      <td>1</td>\n",
              "      <td>77400</td>\n",
              "      <td>87651.0</td>\n",
              "      <td>224630.0</td>\n",
              "      <td>9.0</td>\n",
              "      <td>0.0</td>\n",
              "      <td>2.0</td>\n",
              "      <td>73.469630</td>\n",
              "      <td>3.0</td>\n",
              "      <td>13.0</td>\n",
              "      <td>40.929793</td>\n",
              "    </tr>\n",
              "  </tbody>\n",
              "</table>\n",
              "<p>1854 rows × 11 columns</p>\n",
              "</div>"
            ],
            "text/plain": [
              "      TARGET   LOAN   MORTDUE     VALUE  ...       CLAGE  NINQ  CLNO     DEBTINC\n",
              "0          0   4700   88026.0  115506.0  ...  182.248332   0.0  27.0   29.209023\n",
              "1          0  19300   39926.0  101208.0  ...  140.051638   0.0  14.0   31.545694\n",
              "2          0   5700   71556.0   79538.0  ...   92.643085   0.0  15.0   41.210012\n",
              "3          0  13000   44875.0   57713.0  ...  184.990324   1.0  12.0   28.602076\n",
              "4          0  19300   72752.0  106084.0  ...  193.707100   1.0  13.0   30.686106\n",
              "...      ...    ...       ...       ...  ...         ...   ...   ...         ...\n",
              "1849       1  53400  228236.0  305514.0  ...   11.148069   0.0   2.0   34.558417\n",
              "1850       1  53600  235895.0  299772.0  ...  112.748282   7.0  22.0   44.945929\n",
              "1851       1  53600  208197.0  297280.0  ...  160.485251   2.0  29.0   41.646731\n",
              "1852       1  65500  205156.0  290239.0  ...   98.808206   1.0  21.0  144.189001\n",
              "1853       1  77400   87651.0  224630.0  ...   73.469630   3.0  13.0   40.929793\n",
              "\n",
              "[1854 rows x 11 columns]"
            ]
          },
          "metadata": {
            "tags": []
          },
          "execution_count": 4
        }
      ]
    },
    {
      "cell_type": "code",
      "metadata": {
        "id": "QlbeiWmH41iL",
        "colab_type": "code",
        "colab": {
          "base_uri": "https://localhost:8080/",
          "height": 0
        },
        "outputId": "69d5ce20-89da-49bb-b021-59fd60c11e23"
      },
      "source": [
        "datos_credito.describe()  "
      ],
      "execution_count": 5,
      "outputs": [
        {
          "output_type": "execute_result",
          "data": {
            "text/html": [
              "<div>\n",
              "<style scoped>\n",
              "    .dataframe tbody tr th:only-of-type {\n",
              "        vertical-align: middle;\n",
              "    }\n",
              "\n",
              "    .dataframe tbody tr th {\n",
              "        vertical-align: top;\n",
              "    }\n",
              "\n",
              "    .dataframe thead th {\n",
              "        text-align: right;\n",
              "    }\n",
              "</style>\n",
              "<table border=\"1\" class=\"dataframe\">\n",
              "  <thead>\n",
              "    <tr style=\"text-align: right;\">\n",
              "      <th></th>\n",
              "      <th>TARGET</th>\n",
              "      <th>LOAN</th>\n",
              "      <th>MORTDUE</th>\n",
              "      <th>VALUE</th>\n",
              "      <th>YOJ</th>\n",
              "      <th>DEROG</th>\n",
              "      <th>DELINQ</th>\n",
              "      <th>CLAGE</th>\n",
              "      <th>NINQ</th>\n",
              "      <th>CLNO</th>\n",
              "      <th>DEBTINC</th>\n",
              "    </tr>\n",
              "  </thead>\n",
              "  <tbody>\n",
              "    <tr>\n",
              "      <th>count</th>\n",
              "      <td>1854.000000</td>\n",
              "      <td>1854.000000</td>\n",
              "      <td>1854.000000</td>\n",
              "      <td>1854.000000</td>\n",
              "      <td>1854.000000</td>\n",
              "      <td>1854.000000</td>\n",
              "      <td>1854.000000</td>\n",
              "      <td>1854.000000</td>\n",
              "      <td>1854.000000</td>\n",
              "      <td>1854.000000</td>\n",
              "      <td>1854.000000</td>\n",
              "    </tr>\n",
              "    <tr>\n",
              "      <th>mean</th>\n",
              "      <td>0.166667</td>\n",
              "      <td>19111.758360</td>\n",
              "      <td>76316.051780</td>\n",
              "      <td>107321.088457</td>\n",
              "      <td>8.900216</td>\n",
              "      <td>0.187702</td>\n",
              "      <td>0.319849</td>\n",
              "      <td>180.300783</td>\n",
              "      <td>1.128910</td>\n",
              "      <td>21.857066</td>\n",
              "      <td>34.573408</td>\n",
              "    </tr>\n",
              "    <tr>\n",
              "      <th>std</th>\n",
              "      <td>0.372779</td>\n",
              "      <td>11000.345961</td>\n",
              "      <td>46227.026585</td>\n",
              "      <td>56039.685066</td>\n",
              "      <td>7.552677</td>\n",
              "      <td>0.704882</td>\n",
              "      <td>0.928452</td>\n",
              "      <td>84.838308</td>\n",
              "      <td>1.664555</td>\n",
              "      <td>9.510840</td>\n",
              "      <td>9.308794</td>\n",
              "    </tr>\n",
              "    <tr>\n",
              "      <th>min</th>\n",
              "      <td>0.000000</td>\n",
              "      <td>1700.000000</td>\n",
              "      <td>5627.000000</td>\n",
              "      <td>21144.000000</td>\n",
              "      <td>0.000000</td>\n",
              "      <td>0.000000</td>\n",
              "      <td>0.000000</td>\n",
              "      <td>0.486711</td>\n",
              "      <td>0.000000</td>\n",
              "      <td>0.000000</td>\n",
              "      <td>0.838118</td>\n",
              "    </tr>\n",
              "    <tr>\n",
              "      <th>25%</th>\n",
              "      <td>0.000000</td>\n",
              "      <td>12000.000000</td>\n",
              "      <td>48984.750000</td>\n",
              "      <td>70787.250000</td>\n",
              "      <td>3.000000</td>\n",
              "      <td>0.000000</td>\n",
              "      <td>0.000000</td>\n",
              "      <td>116.970718</td>\n",
              "      <td>0.000000</td>\n",
              "      <td>16.000000</td>\n",
              "      <td>29.427210</td>\n",
              "    </tr>\n",
              "    <tr>\n",
              "      <th>50%</th>\n",
              "      <td>0.000000</td>\n",
              "      <td>17000.000000</td>\n",
              "      <td>67201.000000</td>\n",
              "      <td>94198.000000</td>\n",
              "      <td>7.000000</td>\n",
              "      <td>0.000000</td>\n",
              "      <td>0.000000</td>\n",
              "      <td>174.967815</td>\n",
              "      <td>1.000000</td>\n",
              "      <td>21.000000</td>\n",
              "      <td>35.363407</td>\n",
              "    </tr>\n",
              "    <tr>\n",
              "      <th>75%</th>\n",
              "      <td>0.000000</td>\n",
              "      <td>23900.000000</td>\n",
              "      <td>93731.500000</td>\n",
              "      <td>122976.250000</td>\n",
              "      <td>13.000000</td>\n",
              "      <td>0.000000</td>\n",
              "      <td>0.000000</td>\n",
              "      <td>232.261800</td>\n",
              "      <td>2.000000</td>\n",
              "      <td>27.000000</td>\n",
              "      <td>39.357987</td>\n",
              "    </tr>\n",
              "    <tr>\n",
              "      <th>max</th>\n",
              "      <td>1.000000</td>\n",
              "      <td>89800.000000</td>\n",
              "      <td>399412.000000</td>\n",
              "      <td>512650.000000</td>\n",
              "      <td>41.000000</td>\n",
              "      <td>10.000000</td>\n",
              "      <td>10.000000</td>\n",
              "      <td>1168.233561</td>\n",
              "      <td>13.000000</td>\n",
              "      <td>65.000000</td>\n",
              "      <td>144.189001</td>\n",
              "    </tr>\n",
              "  </tbody>\n",
              "</table>\n",
              "</div>"
            ],
            "text/plain": [
              "            TARGET          LOAN  ...         CLNO      DEBTINC\n",
              "count  1854.000000   1854.000000  ...  1854.000000  1854.000000\n",
              "mean      0.166667  19111.758360  ...    21.857066    34.573408\n",
              "std       0.372779  11000.345961  ...     9.510840     9.308794\n",
              "min       0.000000   1700.000000  ...     0.000000     0.838118\n",
              "25%       0.000000  12000.000000  ...    16.000000    29.427210\n",
              "50%       0.000000  17000.000000  ...    21.000000    35.363407\n",
              "75%       0.000000  23900.000000  ...    27.000000    39.357987\n",
              "max       1.000000  89800.000000  ...    65.000000   144.189001\n",
              "\n",
              "[8 rows x 11 columns]"
            ]
          },
          "metadata": {
            "tags": []
          },
          "execution_count": 5
        }
      ]
    },
    {
      "cell_type": "markdown",
      "metadata": {
        "id": "kemtM3Ie73E_",
        "colab_type": "text"
      },
      "source": [
        "**2.** El target o variable objetivo puede tomar dos valores 1 ó 0 (1 si no se cumplieron las obligaciones del préstamo, por el contrario 0 si el préstamo fue pagado). Esta variable es la que queremos predecir y representa el cumplimiento por parte del solicitante de las obligaciones adquiridas al tomar un préstamo."
      ]
    },
    {
      "cell_type": "markdown",
      "metadata": {
        "id": "GVUwwaAX6C4t",
        "colab_type": "text"
      },
      "source": [
        "**3. Variables oatributos disponibles:**\n",
        "\n",
        "TARGET: Dicha variable puede tomar dos valores 1 ó 0  (1 = no se cumplieron las obligaciones del préstamo; 0 = se cumplió la obligación del préstamo, es decir, que fue pagado en su totalidad. Esta variable es la que queremos predecir.\n",
        "\n",
        "LOAN: Cantidad de dinero solicitado en el préstamo.\n",
        "\n",
        "MORTDUE: Suma adeudada en la hipoteca existente.\n",
        "\n",
        "VALUE: Valor de la propiedad actual.\n",
        "\n",
        "YOJ: Años en el trabajo actual.\n",
        "\n",
        "DEROG: Número de informes negativos importantes.\n",
        "\n",
        "DELINQ: Número de líneas de crédito en mora.\n",
        "\n",
        "CLAGE: Edad de la línea comercial más antigua en meses.\n",
        "\n",
        "NINQ: Número de líneas de crédito recientes.\n",
        "\n",
        "CLNO: Número de líneas de crédito.\n",
        "\n",
        "DEBTINC: Relación Deuda/Ingreso.\n",
        "\n",
        "** 4.Posibles Variables que influyen sobre la variable objetivo:**\n",
        "\n",
        "* DEBTINC: Relación Deuda/Ingreso  \n",
        "* DEROG: Número de informes negativos.\n",
        "* DELINQ: Número de líneas de crédito en mora y por último, \n",
        "* CLNO: Número de líneas de crédito."
      ]
    },
    {
      "cell_type": "markdown",
      "metadata": {
        "id": "PKtJaKu82lev",
        "colab_type": "text"
      },
      "source": [
        "## Ejercicio 2: Predicción con Modelos Lineales\n",
        "\n",
        "En este ejercicio se entrenarán modelos lineales de clasificación para predecir la variable objetivo.\n",
        "\n",
        "Para ello, deberán utilizar la clase SGDClassifier de scikit-learn.\n",
        "\n",
        "Documentación:\n",
        "- https://scikit-learn.org/stable/modules/sgd.html\n",
        "- https://scikit-learn.org/stable/modules/generated/sklearn.linear_model.SGDClassifier.html\n"
      ]
    },
    {
      "cell_type": "markdown",
      "metadata": {
        "id": "36O1AZ6p9Vcw",
        "colab_type": "text"
      },
      "source": [
        "#### Antes de avanzar es necesario normalizar el dataset para luego aplicar los algoritmos de clasificación. "
      ]
    },
    {
      "cell_type": "code",
      "metadata": {
        "id": "nBL4aMmq9VAg",
        "colab_type": "code",
        "colab": {}
      },
      "source": [
        "# SGDClassifier es sensitivo a las magnitudes de los valores, por esta razón a continuación se realiza un escalado o normalización\n",
        "escalado = StandardScaler()\n",
        "escalado.fit(X_train)\n",
        "X_train = escalado.transform(X_train)\n",
        "X_test  = escalado.transform(X_test)  \n",
        "\n",
        "#from sklearn.preprocessing import StandardScaler\n",
        "##scaler = StandardScaler()\n",
        "#scaler.fit(X_train)  # Don't cheat - fit only on training data\n",
        "#X_train = scaler.transform(X_train)\n",
        "#X_test = scaler.transform(X_test) "
      ],
      "execution_count": 6,
      "outputs": []
    },
    {
      "cell_type": "markdown",
      "metadata": {
        "id": "Sy0pKJl22lew",
        "colab_type": "text"
      },
      "source": [
        "### Ejercicio 2.1: SGDClassifier con hiperparámetros por defecto\n",
        "\n",
        "Entrenar y evaluar el clasificador SGDClassifier usando los valores por omisión de scikit-learn para todos los parámetros. Únicamente **fijar la semilla aleatoria** para hacer repetible el experimento.\n",
        "\n",
        "Evaluar sobre el conjunto de **entrenamiento** y sobre el conjunto de **evaluación**, reportando:\n",
        "- Accuracy\n",
        "- Precision\n",
        "- Recall\n",
        "- F1\n",
        "- matriz de confusión"
      ]
    },
    {
      "cell_type": "code",
      "metadata": {
        "id": "-_V74C-Z-ZxN",
        "colab_type": "code",
        "colab": {
          "base_uri": "https://localhost:8080/",
          "height": 121
        },
        "outputId": "4aec94b5-8eef-4f0c-c8ee-dbe5631541ad"
      },
      "source": [
        "# Ejecutamos el algoritmo del gradiente descendiente con los valores por omisión\n",
        "modelGD = SGDClassifier(random_state=0)\n",
        "modelGD.get_params   # para conocer los valores por omisión que utiliza\n"
      ],
      "execution_count": 7,
      "outputs": [
        {
          "output_type": "execute_result",
          "data": {
            "text/plain": [
              "<bound method BaseEstimator.get_params of SGDClassifier(alpha=0.0001, average=False, class_weight=None,\n",
              "              early_stopping=False, epsilon=0.1, eta0=0.0, fit_intercept=True,\n",
              "              l1_ratio=0.15, learning_rate='optimal', loss='hinge',\n",
              "              max_iter=1000, n_iter_no_change=5, n_jobs=None, penalty='l2',\n",
              "              power_t=0.5, random_state=0, shuffle=True, tol=0.001,\n",
              "              validation_fraction=0.1, verbose=0, warm_start=False)>"
            ]
          },
          "metadata": {
            "tags": []
          },
          "execution_count": 7
        }
      ]
    },
    {
      "cell_type": "code",
      "metadata": {
        "id": "k0S9xzdTAyR_",
        "colab_type": "code",
        "colab": {}
      },
      "source": [
        "# Entrenamiento\n",
        "modelGD.fit(X_train, y_train);\n",
        "#GD.fit(X_train, y_train);"
      ],
      "execution_count": 8,
      "outputs": []
    },
    {
      "cell_type": "code",
      "metadata": {
        "id": "gu31jGn-Ax9I",
        "colab_type": "code",
        "colab": {}
      },
      "source": [
        "#Predicción \n",
        "y_train_predict = modelGD.predict(X_train)\n",
        "y_test_predict = modelGD.predict (X_test)"
      ],
      "execution_count": 9,
      "outputs": []
    },
    {
      "cell_type": "code",
      "metadata": {
        "id": "X9jcOxuwDGu1",
        "colab_type": "code",
        "colab": {
          "base_uri": "https://localhost:8080/",
          "height": 207
        },
        "outputId": "afbee88d-930d-4bae-da37-ddff71584235"
      },
      "source": [
        "# Calculamos las métricas más comunes (Ac: accuracy, Pr:precisión, Re: recall, F1, CM:matriz de confusión)\n",
        "print('Resultados obtenidos en Entrenamiento')\n",
        "print('------------------------------------------------------------')\n",
        "print(classification_report(y_train, y_train_predict, digits=3))\n"
      ],
      "execution_count": 10,
      "outputs": [
        {
          "output_type": "stream",
          "text": [
            "Resultados obtenidos en Entrenamiento\n",
            "------------------------------------------------------------\n",
            "              precision    recall  f1-score   support\n",
            "\n",
            "           0      0.891     0.966     0.927      1232\n",
            "           1      0.714     0.418     0.528       251\n",
            "\n",
            "    accuracy                          0.873      1483\n",
            "   macro avg      0.803     0.692     0.727      1483\n",
            "weighted avg      0.861     0.873     0.859      1483\n",
            "\n"
          ],
          "name": "stdout"
        }
      ]
    },
    {
      "cell_type": "code",
      "metadata": {
        "id": "bgYhiSO1BF9A",
        "colab_type": "code",
        "colab": {
          "base_uri": "https://localhost:8080/",
          "height": 69
        },
        "outputId": "c1d60db4-6d1d-4abe-c5fe-f9ae65f417f6"
      },
      "source": [
        "print('matriz de confusión')\n",
        "mtx_confusion_train= confusion_matrix(y_train, y_train_predict)\n",
        "print(mtx_confusion_train)"
      ],
      "execution_count": 11,
      "outputs": [
        {
          "output_type": "stream",
          "text": [
            "matriz de confusión\n",
            "[[1190   42]\n",
            " [ 146  105]]\n"
          ],
          "name": "stdout"
        }
      ]
    },
    {
      "cell_type": "code",
      "metadata": {
        "id": "XqO7ZVHRNEh3",
        "colab_type": "code",
        "colab": {
          "base_uri": "https://localhost:8080/",
          "height": 433
        },
        "outputId": "e90c116e-29cd-4c20-b991-92bbff3ef781"
      },
      "source": [
        "# graficamos la matriz de confusión\n",
        "plt.figure(figsize=(10,6))  \n",
        "plt.clf()\n",
        "plt.imshow(mtx_confusion_train, interpolation='nearest', cmap=plt.cm.BuPu)#Orangescmap=plt.mtx_confusion_test.Wistia from matplotlib.colors import ListedColormap\n",
        "classNames = ['Negativo','Positivo']\n",
        "plt.title('Matriz de confusión con datos de Train')\n",
        "plt.ylabel('Valores Reales')\n",
        "plt.xlabel('Valores Predichos')\n",
        "tick_marks = np.arange(len(classNames))\n",
        "plt.xticks(tick_marks, classNames, rotation=45)\n",
        "plt.yticks(tick_marks, classNames)\n",
        "s = [['TN','FP'], ['FN', 'TP']]\n",
        "for i in range(2):\n",
        "    for j in range(2):\n",
        "        plt.text(j,i, str(s[i][j])+\" = \"+str(mtx_confusion_train[i][j]))\n",
        "plt.show()"
      ],
      "execution_count": 12,
      "outputs": [
        {
          "output_type": "display_data",
          "data": {
            "image/png": "[encoded data removed]",
            "text/plain": [
              "<Figure size 720x432 with 1 Axes>"
            ]
          },
          "metadata": {
            "tags": [],
            "needs_background": "light"
          }
        }
      ]
    },
    {
      "cell_type": "code",
      "metadata": {
        "id": "cHTgAZ7SGYgm",
        "colab_type": "code",
        "colab": {
          "base_uri": "https://localhost:8080/",
          "height": 207
        },
        "outputId": "a422acf2-92e6-4e0f-e558-f542b447866a"
      },
      "source": [
        "# Calculamos las métricas más comunes (Ac: accuracy, Pr:precisión, Re: recall, F1, CM:matriz de confusión)\n",
        "print('Resultados obtenidos en Prueba')\n",
        "print('------------------------------------------------------------')\n",
        "print(classification_report(y_test, y_test_predict, digits=4))\n",
        "\n"
      ],
      "execution_count": 13,
      "outputs": [
        {
          "output_type": "stream",
          "text": [
            "Resultados obtenidos en Prueba\n",
            "------------------------------------------------------------\n",
            "              precision    recall  f1-score   support\n",
            "\n",
            "           0     0.8882    0.9649    0.9250       313\n",
            "           1     0.6452    0.3448    0.4494        58\n",
            "\n",
            "    accuracy                         0.8679       371\n",
            "   macro avg     0.7667    0.6548    0.6872       371\n",
            "weighted avg     0.8502    0.8679    0.8506       371\n",
            "\n"
          ],
          "name": "stdout"
        }
      ]
    },
    {
      "cell_type": "code",
      "metadata": {
        "id": "Z8xraga6Bo50",
        "colab_type": "code",
        "colab": {
          "base_uri": "https://localhost:8080/",
          "height": 69
        },
        "outputId": "b39bc774-a1c3-422a-fefd-9339b600f8fb"
      },
      "source": [
        "print('matriz de confusión')\n",
        "mtx_confusion_test= confusion_matrix(y_test, y_test_predict)\n",
        "print(mtx_confusion_test)"
      ],
      "execution_count": 14,
      "outputs": [
        {
          "output_type": "stream",
          "text": [
            "matriz de confusión\n",
            "[[302  11]\n",
            " [ 38  20]]\n"
          ],
          "name": "stdout"
        }
      ]
    },
    {
      "cell_type": "code",
      "metadata": {
        "id": "6mxVqSVIJcZR",
        "colab_type": "code",
        "colab": {
          "base_uri": "https://localhost:8080/",
          "height": 433
        },
        "outputId": "9d741ca3-4b95-4c84-f2c6-42cd5aa2586e"
      },
      "source": [
        "# graficamos la matriz de confusión\n",
        "plt.figure(figsize=(10,6))  \n",
        "plt.clf()\n",
        "plt.imshow(mtx_confusion_test, interpolation='nearest', cmap=plt.cm.BuPu)#BuPu Oranges cmap=plt.mtx_confusion_test.RdPu from matplotlib.colors import ListedColormap\n",
        "classNames = ['Negativo','Positivo']\n",
        "plt.title('Matriz de confusión con datos de Test')\n",
        "plt.ylabel('Valores Reales')\n",
        "plt.xlabel('Valores Predichos')\n",
        "tick_marks = np.arange(len(classNames))\n",
        "plt.xticks(tick_marks, classNames, rotation=45)\n",
        "plt.yticks(tick_marks, classNames)\n",
        "s = [['TN','FP'], ['FN', 'TP']]\n",
        "for i in range(2):\n",
        "    for j in range(2):\n",
        "        plt.text(j,i, str(s[i][j])+\" = \"+str(mtx_confusion_test[i][j]))\n",
        "plt.show()"
      ],
      "execution_count": 15,
      "outputs": [
        {
          "output_type": "display_data",
          "data": {
            "image/png": "[encoded data removed]",
            "text/plain": [
              "<Figure size 720x432 with 1 Axes>"
            ]
          },
          "metadata": {
            "tags": [],
            "needs_background": "light"
          }
        }
      ]
    },
    {
      "cell_type": "markdown",
      "metadata": {
        "id": "JVtKwPox2lex",
        "colab_type": "text"
      },
      "source": [
        "### Ejercicio 2.2: Ajuste de Hiperparámetros\n",
        "\n",
        "Seleccionar valores para los hiperparámetros principales del SGDClassifier. Como mínimo, probar diferentes funciones de loss, tasas de entrenamiento y tasas de regularización.\n",
        "\n",
        "Para ello, usar grid-search y 5-fold cross-validation sobre el conjunto de entrenamiento para explorar muchas combinaciones posibles de valores.\n",
        "\n",
        "Reportar accuracy promedio y varianza para todas las configuraciones.\n",
        "\n",
        "Para la mejor configuración encontrada, evaluar sobre el conjunto de **entrenamiento** y sobre el conjunto de **evaluación**, reportando:\n",
        "- Accuracy\n",
        "- Precision\n",
        "- Recall\n",
        "- F1\n",
        "- matriz de confusión\n",
        "\n",
        "Documentación:\n",
        "- https://scikit-learn.org/stable/modules/grid_search.html\n",
        "- https://scikit-learn.org/stable/modules/generated/sklearn.model_selection.GridSearchCV.html"
      ]
    },
    {
      "cell_type": "code",
      "metadata": {
        "id": "j45aOf67IOCl",
        "colab_type": "code",
        "colab": {}
      },
      "source": [
        "modelGD2 = SGDClassifier(random_state=0)"
      ],
      "execution_count": 42,
      "outputs": []
    },
    {
      "cell_type": "code",
      "metadata": {
        "id": "IIVu0-zYZWTi",
        "colab_type": "code",
        "colab": {}
      },
      "source": [
        "param_grid_GD2 = {\n",
        "  'learning_rate': ['optimal','constant', 'adaptive'],  #diferents opciones de tasa de entrenamiento\n",
        "  'loss': ['hinge', 'log', 'modified_huber', 'squared_hinge'], #diferentes opciones de función de costo\n",
        "  'l1_ratio': list(np.linspace(0, 1, 11))+[0.15], # diferentes opciones de tasas de regularización\n",
        "  'alpha': np.logspace(-5, 0, 6),\n",
        "  'eta0': np.logspace(-5, 0, 6)\n",
        "}"
      ],
      "execution_count": 17,
      "outputs": []
    },
    {
      "cell_type": "code",
      "metadata": {
        "id": "F6YyrjQcUSrR",
        "colab_type": "code",
        "colab": {
          "base_uri": "https://localhost:8080/",
          "height": 86
        },
        "outputId": "1f8f0f05-1d00-435d-d682-df24e364cc0f"
      },
      "source": [
        "from sklearn.model_selection import ParameterSampler\n",
        "\n",
        "for params in ParameterSampler(param_grid_GD2, 4, random_state=0):\n",
        "    print(params)\n",
        "    #model = SGDClassifier(**params, random_state=0)\n",
        "    "
      ],
      "execution_count": 50,
      "outputs": [
        {
          "output_type": "stream",
          "text": [
            "{'loss': 'hinge', 'learning_rate': 'adaptive', 'l1_ratio': 0.15, 'eta0': 1e-05, 'alpha': 0.01}\n",
            "{'loss': 'squared_hinge', 'learning_rate': 'optimal', 'l1_ratio': 0.1, 'eta0': 1e-05, 'alpha': 0.01}\n",
            "{'loss': 'log', 'learning_rate': 'adaptive', 'l1_ratio': 0.5, 'eta0': 1.0, 'alpha': 0.0001}\n",
            "{'loss': 'hinge', 'learning_rate': 'optimal', 'l1_ratio': 0.8, 'eta0': 0.1, 'alpha': 0.01}\n"
          ],
          "name": "stdout"
        }
      ]
    },
    {
      "cell_type": "code",
      "metadata": {
        "id": "bTPntZ25Yvxi",
        "colab_type": "code",
        "colab": {}
      },
      "source": [
        "# Entrenamiento\n",
        "modelGD2.fit(X_train, y_train);"
      ],
      "execution_count": 44,
      "outputs": []
    },
    {
      "cell_type": "code",
      "metadata": {
        "id": "CbDzK0wMYyIu",
        "colab_type": "code",
        "colab": {}
      },
      "source": [
        "#Predicción \n",
        "y_train_predict = modelGD2.predict(X_train)\n",
        "y_test_predict = modelGD2.predict (X_test)"
      ],
      "execution_count": 45,
      "outputs": []
    },
    {
      "cell_type": "code",
      "metadata": {
        "id": "P0HlHuHE9Gq5",
        "colab_type": "code",
        "colab": {
          "base_uri": "https://localhost:8080/",
          "height": 345
        },
        "outputId": "be7b963f-38c4-4980-c661-77845ea45e11"
      },
      "source": [
        "grid_gd2 = GridSearchCV(modelGD2, param_grid_GD2, cv=5, scoring=['accuracy'], refit= False) #sino ponfo refit en false genera error\n",
        "grid_gd2.fit(X_train, y_train)  #gd2:por gradiente descendiente \n"
      ],
      "execution_count": 71,
      "outputs": [
        {
          "output_type": "execute_result",
          "data": {
            "text/plain": [
              "GridSearchCV(cv=5, error_score=nan,\n",
              "             estimator=SGDClassifier(alpha=0.0001, average=False,\n",
              "                                     class_weight=None, early_stopping=False,\n",
              "                                     epsilon=0.1, eta0=0.0, fit_intercept=True,\n",
              "                                     l1_ratio=0.15, learning_rate='optimal',\n",
              "                                     loss='hinge', max_iter=1000,\n",
              "                                     n_iter_no_change=5, n_jobs=None,\n",
              "                                     penalty='l2', power_t=0.5, random_state=0,\n",
              "                                     shuffle=True, tol=0.001,\n",
              "                                     validation_fraction=0.1, ver...\n",
              "                         'eta0': array([1.e-05, 1.e-04, 1.e-03, 1.e-02, 1.e-01, 1.e+00]),\n",
              "                         'l1_ratio': [0.0, 0.1, 0.2, 0.30000000000000004, 0.4,\n",
              "                                      0.5, 0.6000000000000001,\n",
              "                                      0.7000000000000001, 0.8, 0.9, 1.0, 0.15],\n",
              "                         'learning_rate': ['optimal', 'constant', 'adaptive'],\n",
              "                         'loss': ['hinge', 'log', 'modified_huber',\n",
              "                                  'squared_hinge']},\n",
              "             pre_dispatch='2*n_jobs', refit=False, return_train_score=False,\n",
              "             scoring=['accuracy'], verbose=0)"
            ]
          },
          "metadata": {
            "tags": []
          },
          "execution_count": 71
        }
      ]
    },
    {
      "cell_type": "code",
      "metadata": {
        "id": "Bc-jcSHuIv-0",
        "colab_type": "code",
        "colab": {
          "base_uri": "https://localhost:8080/",
          "height": 184
        },
        "outputId": "467308a8-6f08-4845-dd5a-cf6e5b8d6d21"
      },
      "source": [
        "# a los resultados lo guardamos como dataframe\n",
        "grid_gd2_df = pd.DataFrame(grid_gd2.cv_results_)\n"
      ],
      "execution_count": 58,
      "outputs": [
        {
          "output_type": "error",
          "ename": "AttributeError",
          "evalue": "ignored",
          "traceback": [
            "\u001b[0;31m---------------------------------------------------------------------------\u001b[0m",
            "\u001b[0;31mAttributeError\u001b[0m                            Traceback (most recent call last)",
            "\u001b[0;32m<ipython-input-58-159fd29e0347>\u001b[0m in \u001b[0;36m<module>\u001b[0;34m()\u001b[0m\n\u001b[1;32m      1\u001b[0m \u001b[0;31m#Pasamos a DF los Resultados\u001b[0m\u001b[0;34m\u001b[0m\u001b[0;34m\u001b[0m\u001b[0;34m\u001b[0m\u001b[0m\n\u001b[0;32m----> 2\u001b[0;31m \u001b[0mgrid_df\u001b[0m \u001b[0;34m=\u001b[0m \u001b[0mpd\u001b[0m\u001b[0;34m.\u001b[0m\u001b[0mDataFrame\u001b[0m\u001b[0;34m(\u001b[0m\u001b[0mGrid\u001b[0m\u001b[0;34m.\u001b[0m\u001b[0mcv_results_\u001b[0m\u001b[0;34m)\u001b[0m\u001b[0;34m\u001b[0m\u001b[0;34m\u001b[0m\u001b[0m\n\u001b[0m",
            "\u001b[0;31mAttributeError\u001b[0m: 'GridSearchCV' object has no attribute 'cv_results_'"
          ]
        }
      ]
    },
    {
      "cell_type": "code",
      "metadata": {
        "id": "moOJYU_rXvDv",
        "colab_type": "code",
        "colab": {
          "base_uri": "https://localhost:8080/",
          "height": 121
        },
        "outputId": "c3f9cf24-e905-4d6e-bcd0-d303e0603159"
      },
      "source": [
        "grid_gd2_df.columns"
      ],
      "execution_count": 52,
      "outputs": [
        {
          "output_type": "execute_result",
          "data": {
            "text/plain": [
              "Index(['mean_fit_time', 'std_fit_time', 'mean_score_time', 'std_score_time',\n",
              "       'param_alpha', 'param_eta0', 'param_l1_ratio', 'param_learning_rate',\n",
              "       'param_loss', 'params', 'split0_test_accuracy', 'split1_test_accuracy',\n",
              "       'split2_test_accuracy', 'split3_test_accuracy', 'split4_test_accuracy',\n",
              "       'mean_test_accuracy', 'std_test_accuracy', 'rank_test_accuracy'],\n",
              "      dtype='object')"
            ]
          },
          "metadata": {
            "tags": []
          },
          "execution_count": 52
        }
      ]
    },
    {
      "cell_type": "code",
      "metadata": {
        "id": "Z8EVu5jjWyBb",
        "colab_type": "code",
        "colab": {
          "base_uri": "https://localhost:8080/",
          "height": 1000
        },
        "outputId": "30f3535b-77f7-4f49-cc8b-47973a4fd8ed"
      },
      "source": [
        "grid_gd2_df"
      ],
      "execution_count": 55,
      "outputs": [
        {
          "output_type": "execute_result",
          "data": {
            "text/html": [
              "<div>\n",
              "<style scoped>\n",
              "    .dataframe tbody tr th:only-of-type {\n",
              "        vertical-align: middle;\n",
              "    }\n",
              "\n",
              "    .dataframe tbody tr th {\n",
              "        vertical-align: top;\n",
              "    }\n",
              "\n",
              "    .dataframe thead th {\n",
              "        text-align: right;\n",
              "    }\n",
              "</style>\n",
              "<table border=\"1\" class=\"dataframe\">\n",
              "  <thead>\n",
              "    <tr style=\"text-align: right;\">\n",
              "      <th></th>\n",
              "      <th>mean_fit_time</th>\n",
              "      <th>std_fit_time</th>\n",
              "      <th>mean_score_time</th>\n",
              "      <th>std_score_time</th>\n",
              "      <th>param_alpha</th>\n",
              "      <th>param_eta0</th>\n",
              "      <th>param_l1_ratio</th>\n",
              "      <th>param_learning_rate</th>\n",
              "      <th>param_loss</th>\n",
              "      <th>params</th>\n",
              "      <th>split0_test_accuracy</th>\n",
              "      <th>split1_test_accuracy</th>\n",
              "      <th>split2_test_accuracy</th>\n",
              "      <th>split3_test_accuracy</th>\n",
              "      <th>split4_test_accuracy</th>\n",
              "      <th>mean_test_accuracy</th>\n",
              "      <th>std_test_accuracy</th>\n",
              "      <th>rank_test_accuracy</th>\n",
              "    </tr>\n",
              "  </thead>\n",
              "  <tbody>\n",
              "    <tr>\n",
              "      <th>0</th>\n",
              "      <td>0.006226</td>\n",
              "      <td>0.001544</td>\n",
              "      <td>0.000728</td>\n",
              "      <td>0.000084</td>\n",
              "      <td>1e-05</td>\n",
              "      <td>1e-05</td>\n",
              "      <td>0</td>\n",
              "      <td>optimal</td>\n",
              "      <td>hinge</td>\n",
              "      <td>{'alpha': 1e-05, 'eta0': 1e-05, 'l1_ratio': 0....</td>\n",
              "      <td>0.781145</td>\n",
              "      <td>0.804714</td>\n",
              "      <td>0.818182</td>\n",
              "      <td>0.854730</td>\n",
              "      <td>0.814189</td>\n",
              "      <td>0.814592</td>\n",
              "      <td>0.023834</td>\n",
              "      <td>4561</td>\n",
              "    </tr>\n",
              "    <tr>\n",
              "      <th>1</th>\n",
              "      <td>0.011450</td>\n",
              "      <td>0.003816</td>\n",
              "      <td>0.000657</td>\n",
              "      <td>0.000034</td>\n",
              "      <td>1e-05</td>\n",
              "      <td>1e-05</td>\n",
              "      <td>0</td>\n",
              "      <td>optimal</td>\n",
              "      <td>log</td>\n",
              "      <td>{'alpha': 1e-05, 'eta0': 1e-05, 'l1_ratio': 0....</td>\n",
              "      <td>0.831650</td>\n",
              "      <td>0.784512</td>\n",
              "      <td>0.787879</td>\n",
              "      <td>0.871622</td>\n",
              "      <td>0.854730</td>\n",
              "      <td>0.826078</td>\n",
              "      <td>0.034966</td>\n",
              "      <td>4345</td>\n",
              "    </tr>\n",
              "    <tr>\n",
              "      <th>2</th>\n",
              "      <td>0.005061</td>\n",
              "      <td>0.000462</td>\n",
              "      <td>0.000564</td>\n",
              "      <td>0.000028</td>\n",
              "      <td>1e-05</td>\n",
              "      <td>1e-05</td>\n",
              "      <td>0</td>\n",
              "      <td>optimal</td>\n",
              "      <td>modified_huber</td>\n",
              "      <td>{'alpha': 1e-05, 'eta0': 1e-05, 'l1_ratio': 0....</td>\n",
              "      <td>0.811448</td>\n",
              "      <td>0.808081</td>\n",
              "      <td>0.851852</td>\n",
              "      <td>0.773649</td>\n",
              "      <td>0.854730</td>\n",
              "      <td>0.819952</td>\n",
              "      <td>0.030280</td>\n",
              "      <td>4477</td>\n",
              "    </tr>\n",
              "    <tr>\n",
              "      <th>3</th>\n",
              "      <td>0.004823</td>\n",
              "      <td>0.000573</td>\n",
              "      <td>0.000540</td>\n",
              "      <td>0.000025</td>\n",
              "      <td>1e-05</td>\n",
              "      <td>1e-05</td>\n",
              "      <td>0</td>\n",
              "      <td>optimal</td>\n",
              "      <td>squared_hinge</td>\n",
              "      <td>{'alpha': 1e-05, 'eta0': 1e-05, 'l1_ratio': 0....</td>\n",
              "      <td>0.804714</td>\n",
              "      <td>0.774411</td>\n",
              "      <td>0.811448</td>\n",
              "      <td>0.837838</td>\n",
              "      <td>0.783784</td>\n",
              "      <td>0.802439</td>\n",
              "      <td>0.022240</td>\n",
              "      <td>4813</td>\n",
              "    </tr>\n",
              "    <tr>\n",
              "      <th>4</th>\n",
              "      <td>0.011753</td>\n",
              "      <td>0.000206</td>\n",
              "      <td>0.000662</td>\n",
              "      <td>0.000025</td>\n",
              "      <td>1e-05</td>\n",
              "      <td>1e-05</td>\n",
              "      <td>0</td>\n",
              "      <td>constant</td>\n",
              "      <td>hinge</td>\n",
              "      <td>{'alpha': 1e-05, 'eta0': 1e-05, 'l1_ratio': 0....</td>\n",
              "      <td>0.861953</td>\n",
              "      <td>0.858586</td>\n",
              "      <td>0.851852</td>\n",
              "      <td>0.868243</td>\n",
              "      <td>0.851351</td>\n",
              "      <td>0.858397</td>\n",
              "      <td>0.006358</td>\n",
              "      <td>2629</td>\n",
              "    </tr>\n",
              "    <tr>\n",
              "      <th>...</th>\n",
              "      <td>...</td>\n",
              "      <td>...</td>\n",
              "      <td>...</td>\n",
              "      <td>...</td>\n",
              "      <td>...</td>\n",
              "      <td>...</td>\n",
              "      <td>...</td>\n",
              "      <td>...</td>\n",
              "      <td>...</td>\n",
              "      <td>...</td>\n",
              "      <td>...</td>\n",
              "      <td>...</td>\n",
              "      <td>...</td>\n",
              "      <td>...</td>\n",
              "      <td>...</td>\n",
              "      <td>...</td>\n",
              "      <td>...</td>\n",
              "      <td>...</td>\n",
              "    </tr>\n",
              "    <tr>\n",
              "      <th>5179</th>\n",
              "      <td>0.002463</td>\n",
              "      <td>0.000346</td>\n",
              "      <td>0.000432</td>\n",
              "      <td>0.000017</td>\n",
              "      <td>1</td>\n",
              "      <td>1</td>\n",
              "      <td>0.15</td>\n",
              "      <td>constant</td>\n",
              "      <td>squared_hinge</td>\n",
              "      <td>{'alpha': 1.0, 'eta0': 1.0, 'l1_ratio': 0.15, ...</td>\n",
              "      <td>0.649832</td>\n",
              "      <td>0.831650</td>\n",
              "      <td>0.828283</td>\n",
              "      <td>0.722973</td>\n",
              "      <td>0.168919</td>\n",
              "      <td>0.640331</td>\n",
              "      <td>0.245389</td>\n",
              "      <td>5173</td>\n",
              "    </tr>\n",
              "    <tr>\n",
              "      <th>5180</th>\n",
              "      <td>0.006268</td>\n",
              "      <td>0.000363</td>\n",
              "      <td>0.000500</td>\n",
              "      <td>0.000019</td>\n",
              "      <td>1</td>\n",
              "      <td>1</td>\n",
              "      <td>0.15</td>\n",
              "      <td>adaptive</td>\n",
              "      <td>hinge</td>\n",
              "      <td>{'alpha': 1.0, 'eta0': 1.0, 'l1_ratio': 0.15, ...</td>\n",
              "      <td>0.831650</td>\n",
              "      <td>0.831650</td>\n",
              "      <td>0.828283</td>\n",
              "      <td>0.831081</td>\n",
              "      <td>0.831081</td>\n",
              "      <td>0.830749</td>\n",
              "      <td>0.001259</td>\n",
              "      <td>4141</td>\n",
              "    </tr>\n",
              "    <tr>\n",
              "      <th>5181</th>\n",
              "      <td>0.013735</td>\n",
              "      <td>0.000885</td>\n",
              "      <td>0.000638</td>\n",
              "      <td>0.000043</td>\n",
              "      <td>1</td>\n",
              "      <td>1</td>\n",
              "      <td>0.15</td>\n",
              "      <td>adaptive</td>\n",
              "      <td>log</td>\n",
              "      <td>{'alpha': 1.0, 'eta0': 1.0, 'l1_ratio': 0.15, ...</td>\n",
              "      <td>0.831650</td>\n",
              "      <td>0.831650</td>\n",
              "      <td>0.828283</td>\n",
              "      <td>0.831081</td>\n",
              "      <td>0.831081</td>\n",
              "      <td>0.830749</td>\n",
              "      <td>0.001259</td>\n",
              "      <td>4141</td>\n",
              "    </tr>\n",
              "    <tr>\n",
              "      <th>5182</th>\n",
              "      <td>0.007748</td>\n",
              "      <td>0.000410</td>\n",
              "      <td>0.000602</td>\n",
              "      <td>0.000035</td>\n",
              "      <td>1</td>\n",
              "      <td>1</td>\n",
              "      <td>0.15</td>\n",
              "      <td>adaptive</td>\n",
              "      <td>modified_huber</td>\n",
              "      <td>{'alpha': 1.0, 'eta0': 1.0, 'l1_ratio': 0.15, ...</td>\n",
              "      <td>0.851852</td>\n",
              "      <td>0.851852</td>\n",
              "      <td>0.841751</td>\n",
              "      <td>0.854730</td>\n",
              "      <td>0.854730</td>\n",
              "      <td>0.850983</td>\n",
              "      <td>0.004792</td>\n",
              "      <td>3433</td>\n",
              "    </tr>\n",
              "    <tr>\n",
              "      <th>5183</th>\n",
              "      <td>0.008030</td>\n",
              "      <td>0.000415</td>\n",
              "      <td>0.000591</td>\n",
              "      <td>0.000028</td>\n",
              "      <td>1</td>\n",
              "      <td>1</td>\n",
              "      <td>0.15</td>\n",
              "      <td>adaptive</td>\n",
              "      <td>squared_hinge</td>\n",
              "      <td>{'alpha': 1.0, 'eta0': 1.0, 'l1_ratio': 0.15, ...</td>\n",
              "      <td>0.851852</td>\n",
              "      <td>0.851852</td>\n",
              "      <td>0.841751</td>\n",
              "      <td>0.854730</td>\n",
              "      <td>0.854730</td>\n",
              "      <td>0.850983</td>\n",
              "      <td>0.004792</td>\n",
              "      <td>3433</td>\n",
              "    </tr>\n",
              "  </tbody>\n",
              "</table>\n",
              "<p>5184 rows × 18 columns</p>\n",
              "</div>"
            ],
            "text/plain": [
              "      mean_fit_time  std_fit_time  ...  std_test_accuracy  rank_test_accuracy\n",
              "0          0.006226      0.001544  ...           0.023834                4561\n",
              "1          0.011450      0.003816  ...           0.034966                4345\n",
              "2          0.005061      0.000462  ...           0.030280                4477\n",
              "3          0.004823      0.000573  ...           0.022240                4813\n",
              "4          0.011753      0.000206  ...           0.006358                2629\n",
              "...             ...           ...  ...                ...                 ...\n",
              "5179       0.002463      0.000346  ...           0.245389                5173\n",
              "5180       0.006268      0.000363  ...           0.001259                4141\n",
              "5181       0.013735      0.000885  ...           0.001259                4141\n",
              "5182       0.007748      0.000410  ...           0.004792                3433\n",
              "5183       0.008030      0.000415  ...           0.004792                3433\n",
              "\n",
              "[5184 rows x 18 columns]"
            ]
          },
          "metadata": {
            "tags": []
          },
          "execution_count": 55
        }
      ]
    },
    {
      "cell_type": "code",
      "metadata": {
        "id": "RQyv28JDZ-J8",
        "colab_type": "code",
        "colab": {
          "base_uri": "https://localhost:8080/",
          "height": 708
        },
        "outputId": "fbc116fb-8091-412e-ea3d-8632f86faf52"
      },
      "source": [
        "#Ranking_accuracy\n",
        "grid_ordenado['Ranking_accuracy'].idxmin()"
      ],
      "execution_count": 56,
      "outputs": [
        {
          "output_type": "error",
          "ename": "KeyError",
          "evalue": "ignored",
          "traceback": [
            "\u001b[0;31m---------------------------------------------------------------------------\u001b[0m",
            "\u001b[0;31mKeyError\u001b[0m                                  Traceback (most recent call last)",
            "\u001b[0;32m/usr/local/lib/python3.6/dist-packages/pandas/core/indexes/base.py\u001b[0m in \u001b[0;36mget_loc\u001b[0;34m(self, key, method, tolerance)\u001b[0m\n\u001b[1;32m   2645\u001b[0m             \u001b[0;32mtry\u001b[0m\u001b[0;34m:\u001b[0m\u001b[0;34m\u001b[0m\u001b[0;34m\u001b[0m\u001b[0m\n\u001b[0;32m-> 2646\u001b[0;31m                 \u001b[0;32mreturn\u001b[0m \u001b[0mself\u001b[0m\u001b[0;34m.\u001b[0m\u001b[0m_engine\u001b[0m\u001b[0;34m.\u001b[0m\u001b[0mget_loc\u001b[0m\u001b[0;34m(\u001b[0m\u001b[0mkey\u001b[0m\u001b[0;34m)\u001b[0m\u001b[0;34m\u001b[0m\u001b[0;34m\u001b[0m\u001b[0m\n\u001b[0m\u001b[1;32m   2647\u001b[0m             \u001b[0;32mexcept\u001b[0m \u001b[0mKeyError\u001b[0m\u001b[0;34m:\u001b[0m\u001b[0;34m\u001b[0m\u001b[0;34m\u001b[0m\u001b[0m\n",
            "\u001b[0;32mpandas/_libs/index.pyx\u001b[0m in \u001b[0;36mpandas._libs.index.IndexEngine.get_loc\u001b[0;34m()\u001b[0m\n",
            "\u001b[0;32mpandas/_libs/index.pyx\u001b[0m in \u001b[0;36mpandas._libs.index.IndexEngine.get_loc\u001b[0;34m()\u001b[0m\n",
            "\u001b[0;32mpandas/_libs/hashtable_class_helper.pxi\u001b[0m in \u001b[0;36mpandas._libs.hashtable.PyObjectHashTable.get_item\u001b[0;34m()\u001b[0m\n",
            "\u001b[0;32mpandas/_libs/hashtable_class_helper.pxi\u001b[0m in \u001b[0;36mpandas._libs.hashtable.PyObjectHashTable.get_item\u001b[0;34m()\u001b[0m\n",
            "\u001b[0;31mKeyError\u001b[0m: 'Ranking_accuracy'",
            "\nDuring handling of the above exception, another exception occurred:\n",
            "\u001b[0;31mKeyError\u001b[0m                                  Traceback (most recent call last)",
            "\u001b[0;32m<ipython-input-56-1fdbc075051c>\u001b[0m in \u001b[0;36m<module>\u001b[0;34m()\u001b[0m\n\u001b[1;32m      1\u001b[0m \u001b[0;31m#Ranking_accuracy\u001b[0m\u001b[0;34m\u001b[0m\u001b[0;34m\u001b[0m\u001b[0;34m\u001b[0m\u001b[0m\n\u001b[0;32m----> 2\u001b[0;31m \u001b[0mgrid_ordenado\u001b[0m\u001b[0;34m[\u001b[0m\u001b[0;34m'Ranking_accuracy'\u001b[0m\u001b[0;34m]\u001b[0m\u001b[0;34m.\u001b[0m\u001b[0midxmin\u001b[0m\u001b[0;34m(\u001b[0m\u001b[0;34m)\u001b[0m\u001b[0;34m\u001b[0m\u001b[0;34m\u001b[0m\u001b[0m\n\u001b[0m",
            "\u001b[0;32m/usr/local/lib/python3.6/dist-packages/pandas/core/frame.py\u001b[0m in \u001b[0;36m__getitem__\u001b[0;34m(self, key)\u001b[0m\n\u001b[1;32m   2798\u001b[0m             \u001b[0;32mif\u001b[0m \u001b[0mself\u001b[0m\u001b[0;34m.\u001b[0m\u001b[0mcolumns\u001b[0m\u001b[0;34m.\u001b[0m\u001b[0mnlevels\u001b[0m \u001b[0;34m>\u001b[0m \u001b[0;36m1\u001b[0m\u001b[0;34m:\u001b[0m\u001b[0;34m\u001b[0m\u001b[0;34m\u001b[0m\u001b[0m\n\u001b[1;32m   2799\u001b[0m                 \u001b[0;32mreturn\u001b[0m \u001b[0mself\u001b[0m\u001b[0;34m.\u001b[0m\u001b[0m_getitem_multilevel\u001b[0m\u001b[0;34m(\u001b[0m\u001b[0mkey\u001b[0m\u001b[0;34m)\u001b[0m\u001b[0;34m\u001b[0m\u001b[0;34m\u001b[0m\u001b[0m\n\u001b[0;32m-> 2800\u001b[0;31m             \u001b[0mindexer\u001b[0m \u001b[0;34m=\u001b[0m \u001b[0mself\u001b[0m\u001b[0;34m.\u001b[0m\u001b[0mcolumns\u001b[0m\u001b[0;34m.\u001b[0m\u001b[0mget_loc\u001b[0m\u001b[0;34m(\u001b[0m\u001b[0mkey\u001b[0m\u001b[0;34m)\u001b[0m\u001b[0;34m\u001b[0m\u001b[0;34m\u001b[0m\u001b[0m\n\u001b[0m\u001b[1;32m   2801\u001b[0m             \u001b[0;32mif\u001b[0m \u001b[0mis_integer\u001b[0m\u001b[0;34m(\u001b[0m\u001b[0mindexer\u001b[0m\u001b[0;34m)\u001b[0m\u001b[0;34m:\u001b[0m\u001b[0;34m\u001b[0m\u001b[0;34m\u001b[0m\u001b[0m\n\u001b[1;32m   2802\u001b[0m                 \u001b[0mindexer\u001b[0m \u001b[0;34m=\u001b[0m \u001b[0;34m[\u001b[0m\u001b[0mindexer\u001b[0m\u001b[0;34m]\u001b[0m\u001b[0;34m\u001b[0m\u001b[0;34m\u001b[0m\u001b[0m\n",
            "\u001b[0;32m/usr/local/lib/python3.6/dist-packages/pandas/core/indexes/base.py\u001b[0m in \u001b[0;36mget_loc\u001b[0;34m(self, key, method, tolerance)\u001b[0m\n\u001b[1;32m   2646\u001b[0m                 \u001b[0;32mreturn\u001b[0m \u001b[0mself\u001b[0m\u001b[0;34m.\u001b[0m\u001b[0m_engine\u001b[0m\u001b[0;34m.\u001b[0m\u001b[0mget_loc\u001b[0m\u001b[0;34m(\u001b[0m\u001b[0mkey\u001b[0m\u001b[0;34m)\u001b[0m\u001b[0;34m\u001b[0m\u001b[0;34m\u001b[0m\u001b[0m\n\u001b[1;32m   2647\u001b[0m             \u001b[0;32mexcept\u001b[0m \u001b[0mKeyError\u001b[0m\u001b[0;34m:\u001b[0m\u001b[0;34m\u001b[0m\u001b[0;34m\u001b[0m\u001b[0m\n\u001b[0;32m-> 2648\u001b[0;31m                 \u001b[0;32mreturn\u001b[0m \u001b[0mself\u001b[0m\u001b[0;34m.\u001b[0m\u001b[0m_engine\u001b[0m\u001b[0;34m.\u001b[0m\u001b[0mget_loc\u001b[0m\u001b[0;34m(\u001b[0m\u001b[0mself\u001b[0m\u001b[0;34m.\u001b[0m\u001b[0m_maybe_cast_indexer\u001b[0m\u001b[0;34m(\u001b[0m\u001b[0mkey\u001b[0m\u001b[0;34m)\u001b[0m\u001b[0;34m)\u001b[0m\u001b[0;34m\u001b[0m\u001b[0;34m\u001b[0m\u001b[0m\n\u001b[0m\u001b[1;32m   2649\u001b[0m         \u001b[0mindexer\u001b[0m \u001b[0;34m=\u001b[0m \u001b[0mself\u001b[0m\u001b[0;34m.\u001b[0m\u001b[0mget_indexer\u001b[0m\u001b[0;34m(\u001b[0m\u001b[0;34m[\u001b[0m\u001b[0mkey\u001b[0m\u001b[0;34m]\u001b[0m\u001b[0;34m,\u001b[0m \u001b[0mmethod\u001b[0m\u001b[0;34m=\u001b[0m\u001b[0mmethod\u001b[0m\u001b[0;34m,\u001b[0m \u001b[0mtolerance\u001b[0m\u001b[0;34m=\u001b[0m\u001b[0mtolerance\u001b[0m\u001b[0;34m)\u001b[0m\u001b[0;34m\u001b[0m\u001b[0;34m\u001b[0m\u001b[0m\n\u001b[1;32m   2650\u001b[0m         \u001b[0;32mif\u001b[0m \u001b[0mindexer\u001b[0m\u001b[0;34m.\u001b[0m\u001b[0mndim\u001b[0m \u001b[0;34m>\u001b[0m \u001b[0;36m1\u001b[0m \u001b[0;32mor\u001b[0m \u001b[0mindexer\u001b[0m\u001b[0;34m.\u001b[0m\u001b[0msize\u001b[0m \u001b[0;34m>\u001b[0m \u001b[0;36m1\u001b[0m\u001b[0;34m:\u001b[0m\u001b[0;34m\u001b[0m\u001b[0;34m\u001b[0m\u001b[0m\n",
            "\u001b[0;32mpandas/_libs/index.pyx\u001b[0m in \u001b[0;36mpandas._libs.index.IndexEngine.get_loc\u001b[0;34m()\u001b[0m\n",
            "\u001b[0;32mpandas/_libs/index.pyx\u001b[0m in \u001b[0;36mpandas._libs.index.IndexEngine.get_loc\u001b[0;34m()\u001b[0m\n",
            "\u001b[0;32mpandas/_libs/hashtable_class_helper.pxi\u001b[0m in \u001b[0;36mpandas._libs.hashtable.PyObjectHashTable.get_item\u001b[0;34m()\u001b[0m\n",
            "\u001b[0;32mpandas/_libs/hashtable_class_helper.pxi\u001b[0m in \u001b[0;36mpandas._libs.hashtable.PyObjectHashTable.get_item\u001b[0;34m()\u001b[0m\n",
            "\u001b[0;31mKeyError\u001b[0m: 'Ranking_accuracy'"
          ]
        }
      ]
    },
    {
      "cell_type": "code",
      "metadata": {
        "id": "srAcZrpfc2dw",
        "colab_type": "code",
        "colab": {}
      },
      "source": [
        "GSVC_ac = grid_ordenado.loc[grid_ordenado.Ranking_accuracy.idxmin()]\n",
        "GSVC_pr = grid_ordenado.loc[grid_ordenado.Ranking_precision.idxmin()]\n",
        "GSVC_re = grid_ordenado.loc[grid_ordenado.Ranking_recall.idxmin()]\n",
        "GSVC_f1 = grid_ordenado.loc[grid_ordenado.Ranking_f1.idxmin()]\n",
        "#GSVC_ov = grid_ordenado.loc[grid_ordenado.Ranking_overall.idxmin()]"
      ],
      "execution_count": null,
      "outputs": []
    },
    {
      "cell_type": "code",
      "metadata": {
        "id": "xNjvRzYrdqre",
        "colab_type": "code",
        "colab": {}
      },
      "source": [
        "print(GSVC_ac)"
      ],
      "execution_count": null,
      "outputs": []
    },
    {
      "cell_type": "code",
      "metadata": {
        "id": "jbYe81UMbew_",
        "colab_type": "code",
        "colab": {}
      },
      "source": [
        "# Calculamos las métricas más comunes (Ac: accuracy, Pr:precisión, Re: recall, F1, CM:matriz de confusión)\n",
        "print('Resultados obtenidos en Prueba')\n",
        "print('------------------------------------------------------------')\n",
        "print(classification_report(y_test, y_test_predict, digits=4))"
      ],
      "execution_count": null,
      "outputs": []
    },
    {
      "cell_type": "code",
      "metadata": {
        "id": "RUJlTtZMbpxY",
        "colab_type": "code",
        "colab": {}
      },
      "source": [
        "print('matriz de confusión')\n",
        "mtx_confusion_test= confusion_matrix(y_test, y_test_predict)\n",
        "print(mtx_confusion_test)"
      ],
      "execution_count": null,
      "outputs": []
    },
    {
      "cell_type": "markdown",
      "metadata": {
        "id": "WhEG2JgS2lex",
        "colab_type": "text"
      },
      "source": [
        "## Ejercicio 3: Árboles de Decisión\n",
        "\n",
        "En este ejercicio se entrenarán árboles de decisión para predecir la variable objetivo.\n",
        "\n",
        "Para ello, deberán utilizar la clase DecisionTreeClassifier de scikit-learn.\n",
        "\n",
        "Documentación:\n",
        "- https://scikit-learn.org/stable/modules/tree.html\n",
        "  - https://scikit-learn.org/stable/modules/tree.html#tips-on-practical-use\n",
        "- https://scikit-learn.org/stable/modules/generated/sklearn.tree.DecisionTreeClassifier.html\n",
        "- https://scikit-learn.org/stable/auto_examples/tree/plot_unveil_tree_structure.html"
      ]
    },
    {
      "cell_type": "markdown",
      "metadata": {
        "id": "Z-cmg7SzVZ4b",
        "colab_type": "text"
      },
      "source": [
        "### Ejercicio 3.1: DecisionTreeClassifier con hiperparámetros por defecto\n",
        "\n",
        "Entrenar y evaluar el clasificador DecisionTreeClassifier usando los valores por omisión de scikit-learn para todos los parámetros. Únicamente **fijar la semilla aleatoria** para hacer repetible el experimento.\n",
        "\n",
        "Evaluar sobre el conjunto de **entrenamiento** y sobre el conjunto de **evaluación**, reportando:\n",
        "- Accuracy\n",
        "- Precision\n",
        "- Recall\n",
        "- F1\n",
        "- matriz de confusión"
      ]
    },
    {
      "cell_type": "code",
      "metadata": {
        "id": "jAS7g8Mq9uVV",
        "colab_type": "code",
        "colab": {
          "base_uri": "https://localhost:8080/",
          "height": 276
        },
        "outputId": "091275f2-7ba7-4bcb-c39b-af9832eef83b"
      },
      "source": [
        "arbol_decision = DecisionTreeClassifier(random_state=0)\n",
        "\n",
        "print('Parámetros utilizados: \\n', np.array(list(arbol_decision.get_params(deep=False).items())))"
      ],
      "execution_count": 25,
      "outputs": [
        {
          "output_type": "stream",
          "text": [
            "Parámetros utilizados: \n",
            " [['ccp_alpha' 0.0]\n",
            " ['class_weight' None]\n",
            " ['criterion' 'gini']\n",
            " ['max_depth' None]\n",
            " ['max_features' None]\n",
            " ['max_leaf_nodes' None]\n",
            " ['min_impurity_decrease' 0.0]\n",
            " ['min_impurity_split' None]\n",
            " ['min_samples_leaf' 1]\n",
            " ['min_samples_split' 2]\n",
            " ['min_weight_fraction_leaf' 0.0]\n",
            " ['presort' 'deprecated']\n",
            " ['random_state' 0]\n",
            " ['splitter' 'best']]\n"
          ],
          "name": "stdout"
        }
      ]
    },
    {
      "cell_type": "markdown",
      "metadata": {
        "id": "sLSi2nRv95qB",
        "colab_type": "text"
      },
      "source": [
        "Entrenamiento"
      ]
    },
    {
      "cell_type": "code",
      "metadata": {
        "id": "7VFj4_AD97UK",
        "colab_type": "code",
        "colab": {
          "base_uri": "https://localhost:8080/",
          "height": 121
        },
        "outputId": "6c7578bb-a22c-43ae-c78d-62073a5c43d4"
      },
      "source": [
        "arbol_decision.fit(X_train, y_train)"
      ],
      "execution_count": 26,
      "outputs": [
        {
          "output_type": "execute_result",
          "data": {
            "text/plain": [
              "DecisionTreeClassifier(ccp_alpha=0.0, class_weight=None, criterion='gini',\n",
              "                       max_depth=None, max_features=None, max_leaf_nodes=None,\n",
              "                       min_impurity_decrease=0.0, min_impurity_split=None,\n",
              "                       min_samples_leaf=1, min_samples_split=2,\n",
              "                       min_weight_fraction_leaf=0.0, presort='deprecated',\n",
              "                       random_state=0, splitter='best')"
            ]
          },
          "metadata": {
            "tags": []
          },
          "execution_count": 26
        }
      ]
    },
    {
      "cell_type": "markdown",
      "metadata": {
        "id": "sluPxTVL-D4f",
        "colab_type": "text"
      },
      "source": [
        "Predicción"
      ]
    },
    {
      "cell_type": "code",
      "metadata": {
        "id": "igDb6hxe9-pE",
        "colab_type": "code",
        "colab": {}
      },
      "source": [
        "y_train_pred_arbol = arbol_decision.predict(X_train)\n",
        "y_test_pred_arbol  = arbol_decision.predict(X_test)"
      ],
      "execution_count": 27,
      "outputs": []
    },
    {
      "cell_type": "code",
      "metadata": {
        "id": "ezU7lvAJ-Js9",
        "colab_type": "code",
        "colab": {
          "base_uri": "https://localhost:8080/",
          "height": 52
        },
        "outputId": "71062624-3963-471e-fcfb-007c52a88011"
      },
      "source": [
        "print('Profundidad máxima del árbol:', arbol_decision.get_depth())\n",
        "print('Cantidad de hojas del árbol:', arbol_decision.get_n_leaves())"
      ],
      "execution_count": 28,
      "outputs": [
        {
          "output_type": "stream",
          "text": [
            "Profundidad máxima del árbol: 22\n",
            "Cantidad de hojas del árbol: 141\n"
          ],
          "name": "stdout"
        }
      ]
    },
    {
      "cell_type": "markdown",
      "metadata": {
        "id": "vyma2nwVevsr",
        "colab_type": "text"
      },
      "source": [
        "Gráficos"
      ]
    },
    {
      "cell_type": "code",
      "metadata": {
        "id": "kFrkRiPU-PfC",
        "colab_type": "code",
        "colab": {
          "base_uri": "https://localhost:8080/",
          "height": 357
        },
        "outputId": "ba65ea67-cf88-4ed0-a31a-d7c23b92e01d"
      },
      "source": [
        "# muestro los arboles generado por el modelo con 4 ramas de profundidad\n",
        "plt.figure(figsize=(15,6))\n",
        "plot_tree(arbol_decision, impurity=False, filled=True, max_depth= 4, fontsize=11, label='root')\n",
        "plt.show()"
      ],
      "execution_count": 29,
      "outputs": [
        {
          "output_type": "display_data",
          "data": {
            "image/png": "[encoded data removed]",
            "text/plain": [
              "<Figure size 1080x432 with 1 Axes>"
            ]
          },
          "metadata": {
            "tags": [],
            "needs_background": "light"
          }
        }
      ]
    },
    {
      "cell_type": "code",
      "metadata": {
        "id": "MR9PsRMx-bEJ",
        "colab_type": "code",
        "colab": {
          "base_uri": "https://localhost:8080/",
          "height": 578
        },
        "outputId": "98f2a272-5c9b-4a38-e70c-38f83a85253c"
      },
      "source": [
        "# árbol sin especificar el nro. de ramas\n",
        "plt.figure(figsize=(17,10))\n",
        "plot_tree(arbol_decision, impurity=False, fontsize=8, filled=True, label='root')  #filled=True,\n",
        "plt.show()"
      ],
      "execution_count": 30,
      "outputs": [
        {
          "output_type": "display_data",
          "data": {
            "image/png": "[encoded data removed]",
            "text/plain": [
              "<Figure size 1224x720 with 1 Axes>"
            ]
          },
          "metadata": {
            "tags": [],
            "needs_background": "light"
          }
        }
      ]
    },
    {
      "cell_type": "code",
      "metadata": {
        "id": "yvPo_UsmWKzL",
        "colab_type": "code",
        "colab": {
          "base_uri": "https://localhost:8080/",
          "height": 207
        },
        "outputId": "59672eab-2473-43c1-b293-dfcbdef0137c"
      },
      "source": [
        "# Calculamos las métricas más comunes (Ac: accuracy, Pr:precisión, Re: recall, F1, CM:matriz de confusión)\n",
        "print('Resultados obtenidos en Entrenamiento')\n",
        "print('------------------------------------------------------------')\n",
        "print(classification_report(y_train, y_train_pred_arbol, digits=3))"
      ],
      "execution_count": 33,
      "outputs": [
        {
          "output_type": "stream",
          "text": [
            "Resultados obtenidos en Entrenamiento\n",
            "------------------------------------------------------------\n",
            "              precision    recall  f1-score   support\n",
            "\n",
            "           0      1.000     1.000     1.000      1232\n",
            "           1      1.000     1.000     1.000       251\n",
            "\n",
            "    accuracy                          1.000      1483\n",
            "   macro avg      1.000     1.000     1.000      1483\n",
            "weighted avg      1.000     1.000     1.000      1483\n",
            "\n"
          ],
          "name": "stdout"
        }
      ]
    },
    {
      "cell_type": "code",
      "metadata": {
        "id": "oxtbdZgQYOAr",
        "colab_type": "code",
        "colab": {
          "base_uri": "https://localhost:8080/",
          "height": 69
        },
        "outputId": "c1d391cb-1ec6-4d6b-9b99-bbe79f9c1f1e"
      },
      "source": [
        "print('Matriz de confusión con datos de entrenamiento')\n",
        "mtx_confusion_train_arbol= confusion_matrix(y_train, y_train_pred_arbol)\n",
        "print(mtx_confusion_train_arbol)"
      ],
      "execution_count": 35,
      "outputs": [
        {
          "output_type": "stream",
          "text": [
            "matriz de confusión\n",
            "[[1232    0]\n",
            " [   0  251]]\n"
          ],
          "name": "stdout"
        }
      ]
    },
    {
      "cell_type": "code",
      "metadata": {
        "id": "fLftwqeLaKOX",
        "colab_type": "code",
        "colab": {
          "base_uri": "https://localhost:8080/",
          "height": 433
        },
        "outputId": "bd2fced7-070c-42cd-a73d-bab3c250c806"
      },
      "source": [
        "# graficamos la matriz de confusión con datos de train o entrenamiento\n",
        "plt.figure(figsize=(10,6))  \n",
        "plt.clf()\n",
        "plt.imshow(mtx_confusion_train_arbol, interpolation='nearest', cmap=plt.cm.BuPu)#Orangescmap=plt.mtx_confusion_test.Wistia from matplotlib.colors import ListedColormap\n",
        "classNames = ['Negativo','Positivo']\n",
        "plt.title('Matriz de confusión con datos de entrenamiento')\n",
        "plt.ylabel('Valores Reales')\n",
        "plt.xlabel('Valores Predichos')\n",
        "tick_marks = np.arange(len(classNames))\n",
        "plt.xticks(tick_marks, classNames, rotation=45)\n",
        "plt.yticks(tick_marks, classNames)\n",
        "s = [['TN','FP'], ['FN', 'TP']]\n",
        "for i in range(2):\n",
        "    for j in range(2):\n",
        "        plt.text(j,i, str(s[i][j])+\" = \"+str(mtx_confusion_train_arbol[i][j]))\n",
        "plt.show()"
      ],
      "execution_count": 38,
      "outputs": [
        {
          "output_type": "display_data",
          "data": {
            "image/png": "[encoded data removed]",
            "text/plain": [
              "<Figure size 720x432 with 1 Axes>"
            ]
          },
          "metadata": {
            "tags": [],
            "needs_background": "light"
          }
        }
      ]
    },
    {
      "cell_type": "code",
      "metadata": {
        "id": "4QML_FeXV8Y2",
        "colab_type": "code",
        "colab": {
          "base_uri": "https://localhost:8080/",
          "height": 207
        },
        "outputId": "ea25deec-ffdb-4fcd-daa7-7e992e0a6425"
      },
      "source": [
        "# Calculamos las métricas más comunes (Ac: accuracy, Pr:precisión, Re: recall, F1, CM:matriz de confusión)\n",
        "print('Resultados obtenidos en Prueba')\n",
        "print('------------------------------------------------------------')\n",
        "print(classification_report(y_test, y_test_pred_arbol, digits=3))"
      ],
      "execution_count": 34,
      "outputs": [
        {
          "output_type": "stream",
          "text": [
            "Resultados obtenidos en Prueba\n",
            "------------------------------------------------------------\n",
            "              precision    recall  f1-score   support\n",
            "\n",
            "           0      0.932     0.927     0.929       313\n",
            "           1      0.617     0.638     0.627        58\n",
            "\n",
            "    accuracy                          0.881       371\n",
            "   macro avg      0.775     0.782     0.778       371\n",
            "weighted avg      0.883     0.881     0.882       371\n",
            "\n"
          ],
          "name": "stdout"
        }
      ]
    },
    {
      "cell_type": "code",
      "metadata": {
        "id": "Vn3dCQ5iYrM1",
        "colab_type": "code",
        "colab": {
          "base_uri": "https://localhost:8080/",
          "height": 69
        },
        "outputId": "65e82dc7-356c-4fdb-a562-1cfb7ddf06a2"
      },
      "source": [
        "print('Matriz de confusión con datos de prueba')\n",
        "mtx_confusion_test_arbol= confusion_matrix(y_test, y_test_pred_arbol)\n",
        "print(mtx_confusion_test_arbol)"
      ],
      "execution_count": 36,
      "outputs": [
        {
          "output_type": "stream",
          "text": [
            "Matriz de confusión con datos de entrenamiento\n",
            "[[290  23]\n",
            " [ 21  37]]\n"
          ],
          "name": "stdout"
        }
      ]
    },
    {
      "cell_type": "code",
      "metadata": {
        "id": "6xXICwPNaIff",
        "colab_type": "code",
        "colab": {
          "base_uri": "https://localhost:8080/",
          "height": 433
        },
        "outputId": "ff199bd7-4093-48d6-a542-135d84d1e447"
      },
      "source": [
        "# graficamos la matriz de confusión con datos de test o prueba\n",
        "plt.figure(figsize=(10,6))  \n",
        "plt.clf()\n",
        "plt.imshow(mtx_confusion_test_arbol, interpolation='nearest', cmap=plt.cm.BuPu)#Orangescmap=plt.mtx_confusion_test.Wistia from matplotlib.colors import ListedColormap\n",
        "classNames = ['Negativo','Positivo']\n",
        "plt.title('Matriz de confusión con datos de entrenamiento')\n",
        "plt.ylabel('Valores Reales')\n",
        "plt.xlabel('Valores Predichos')\n",
        "tick_marks = np.arange(len(classNames))\n",
        "plt.xticks(tick_marks, classNames, rotation=45)\n",
        "plt.yticks(tick_marks, classNames)\n",
        "s = [['TN','FP'], ['FN', 'TP']]\n",
        "for i in range(2):\n",
        "    for j in range(2):\n",
        "        plt.text(j,i, str(s[i][j])+\" = \"+str(mtx_confusion_test_arbol[i][j]))\n",
        "plt.show()"
      ],
      "execution_count": 39,
      "outputs": [
        {
          "output_type": "display_data",
          "data": {
            "image/png": "[encoded data removed]",
            "text/plain": [
              "<Figure size 720x432 with 1 Axes>"
            ]
          },
          "metadata": {
            "tags": [],
            "needs_background": "light"
          }
        }
      ]
    },
    {
      "cell_type": "markdown",
      "metadata": {
        "id": "OhGacLtf2lez",
        "colab_type": "text"
      },
      "source": [
        "### Ejercicio 3.2: Ajuste de Hiperparámetros\n",
        "\n",
        "Seleccionar valores para los hiperparámetros principales del DecisionTreeClassifier. Como mínimo, probar diferentes criterios de partición (criterion), profundidad máxima del árbol (max_depth), y cantidad mínima de samples por hoja (min_samples_leaf).\n",
        "\n",
        "Para ello, usar grid-search y 5-fold cross-validation sobre el conjunto de entrenamiento para explorar muchas combinaciones posibles de valores.\n",
        "\n",
        "Reportar accuracy promedio y varianza para todas las configuraciones.\n",
        "\n",
        "Para la mejor configuración encontrada, evaluar sobre el conjunto de **entrenamiento** y sobre el conjunto de **evaluación**, reportando:\n",
        "- Accuracy\n",
        "- Precision\n",
        "- Recall\n",
        "- F1\n",
        "- matriz de confusión\n",
        "\n",
        "\n",
        "Documentación:\n",
        "- https://scikit-learn.org/stable/modules/generated/sklearn.tree.DecisionTreeClassifier.html\n"
      ]
    },
    {
      "cell_type": "markdown",
      "metadata": {
        "id": "BTvX2SqfipLs",
        "colab_type": "text"
      },
      "source": [
        "**Ärbol de decisión**"
      ]
    },
    {
      "cell_type": "code",
      "metadata": {
        "id": "GlOwYEhuVg0l",
        "colab_type": "code",
        "colab": {}
      },
      "source": [
        "arbol_decision_con_param = DecisionTreeClassifier(random_state=0)"
      ],
      "execution_count": 63,
      "outputs": []
    },
    {
      "cell_type": "markdown",
      "metadata": {
        "id": "rZOq5UYIiqze",
        "colab_type": "text"
      },
      "source": [
        "**Opciones de parámetros**"
      ]
    },
    {
      "cell_type": "code",
      "metadata": {
        "id": "wcgmcLjQgpjP",
        "colab_type": "code",
        "colab": {}
      },
      "source": [
        "param_arbol_decision = [\n",
        "  {'splitter': ['best'],\n",
        "          'criterion': ['gini', 'entropy'],\n",
        "          'max_depth': list(np.arange(4,20,2)),\n",
        "          'min_samples_leaf': np.arange(1,10)\n",
        "          },\n",
        "  {'splitter': ['random'],\n",
        "          'criterion': ['gini', 'entropy'],\n",
        "          'max_depth': list(np.arange(4,20,2)),\n",
        "          'min_samples_leaf': np.arange(1,10)\n",
        "          }\n",
        "]"
      ],
      "execution_count": 66,
      "outputs": []
    },
    {
      "cell_type": "markdown",
      "metadata": {
        "id": "D_9J_6PbitxC",
        "colab_type": "text"
      },
      "source": [
        "**Utilizamos grid-search con 5-fold cross-validation**"
      ]
    },
    {
      "cell_type": "code",
      "metadata": {
        "id": "RqqBWAy-h3mv",
        "colab_type": "code",
        "colab": {}
      },
      "source": [
        "grid_ad = GridSearchCV(arbol_decision_con_param, param_arbol_decision, cv=5, scoring=['accuracy', 'precision_weighted', 'recall_weighted', 'f1_weighted'], refit=False)\n",
        "grid_ad.fit(X_train, y_train);"
      ],
      "execution_count": 67,
      "outputs": []
    },
    {
      "cell_type": "code",
      "metadata": {
        "id": "lwrbUm7Zg_Mi",
        "colab_type": "code",
        "colab": {}
      },
      "source": [
        "# los resultados de la búsqueda lo guardamos como dataframe\n",
        "arbol_decision_con_param_df = pd.DataFrame(grid_ad.cv_results_)"
      ],
      "execution_count": 68,
      "outputs": []
    },
    {
      "cell_type": "code",
      "metadata": {
        "id": "blYIrQdsjWFv",
        "colab_type": "code",
        "colab": {
          "base_uri": "https://localhost:8080/",
          "height": 1000
        },
        "outputId": "6f46dbe7-a391-4acb-b6eb-6f6773b02092"
      },
      "source": [
        "# observamos los resultados obtenidos\n",
        "arbol_decision_con_param_df"
      ],
      "execution_count": 69,
      "outputs": [
        {
          "output_type": "execute_result",
          "data": {
            "text/html": [
              "<div>\n",
              "<style scoped>\n",
              "    .dataframe tbody tr th:only-of-type {\n",
              "        vertical-align: middle;\n",
              "    }\n",
              "\n",
              "    .dataframe tbody tr th {\n",
              "        vertical-align: top;\n",
              "    }\n",
              "\n",
              "    .dataframe thead th {\n",
              "        text-align: right;\n",
              "    }\n",
              "</style>\n",
              "<table border=\"1\" class=\"dataframe\">\n",
              "  <thead>\n",
              "    <tr style=\"text-align: right;\">\n",
              "      <th></th>\n",
              "      <th>mean_fit_time</th>\n",
              "      <th>std_fit_time</th>\n",
              "      <th>mean_score_time</th>\n",
              "      <th>std_score_time</th>\n",
              "      <th>param_criterion</th>\n",
              "      <th>param_max_depth</th>\n",
              "      <th>param_min_samples_leaf</th>\n",
              "      <th>param_splitter</th>\n",
              "      <th>params</th>\n",
              "      <th>split0_test_accuracy</th>\n",
              "      <th>split1_test_accuracy</th>\n",
              "      <th>split2_test_accuracy</th>\n",
              "      <th>split3_test_accuracy</th>\n",
              "      <th>split4_test_accuracy</th>\n",
              "      <th>mean_test_accuracy</th>\n",
              "      <th>std_test_accuracy</th>\n",
              "      <th>rank_test_accuracy</th>\n",
              "      <th>split0_test_precision_weighted</th>\n",
              "      <th>split1_test_precision_weighted</th>\n",
              "      <th>split2_test_precision_weighted</th>\n",
              "      <th>split3_test_precision_weighted</th>\n",
              "      <th>split4_test_precision_weighted</th>\n",
              "      <th>mean_test_precision_weighted</th>\n",
              "      <th>std_test_precision_weighted</th>\n",
              "      <th>rank_test_precision_weighted</th>\n",
              "      <th>split0_test_recall_weighted</th>\n",
              "      <th>split1_test_recall_weighted</th>\n",
              "      <th>split2_test_recall_weighted</th>\n",
              "      <th>split3_test_recall_weighted</th>\n",
              "      <th>split4_test_recall_weighted</th>\n",
              "      <th>mean_test_recall_weighted</th>\n",
              "      <th>std_test_recall_weighted</th>\n",
              "      <th>rank_test_recall_weighted</th>\n",
              "      <th>split0_test_f1_weighted</th>\n",
              "      <th>split1_test_f1_weighted</th>\n",
              "      <th>split2_test_f1_weighted</th>\n",
              "      <th>split3_test_f1_weighted</th>\n",
              "      <th>split4_test_f1_weighted</th>\n",
              "      <th>mean_test_f1_weighted</th>\n",
              "      <th>std_test_f1_weighted</th>\n",
              "      <th>rank_test_f1_weighted</th>\n",
              "    </tr>\n",
              "  </thead>\n",
              "  <tbody>\n",
              "    <tr>\n",
              "      <th>0</th>\n",
              "      <td>0.004754</td>\n",
              "      <td>0.000542</td>\n",
              "      <td>0.003340</td>\n",
              "      <td>0.000401</td>\n",
              "      <td>gini</td>\n",
              "      <td>4</td>\n",
              "      <td>1</td>\n",
              "      <td>best</td>\n",
              "      <td>{'criterion': 'gini', 'max_depth': 4, 'min_sam...</td>\n",
              "      <td>0.858586</td>\n",
              "      <td>0.872054</td>\n",
              "      <td>0.892256</td>\n",
              "      <td>0.898649</td>\n",
              "      <td>0.871622</td>\n",
              "      <td>0.878633</td>\n",
              "      <td>0.014701</td>\n",
              "      <td>18</td>\n",
              "      <td>0.840943</td>\n",
              "      <td>0.861941</td>\n",
              "      <td>0.894380</td>\n",
              "      <td>0.904361</td>\n",
              "      <td>0.878892</td>\n",
              "      <td>0.876103</td>\n",
              "      <td>0.022703</td>\n",
              "      <td>2</td>\n",
              "      <td>0.858586</td>\n",
              "      <td>0.872054</td>\n",
              "      <td>0.892256</td>\n",
              "      <td>0.898649</td>\n",
              "      <td>0.871622</td>\n",
              "      <td>0.878633</td>\n",
              "      <td>0.014701</td>\n",
              "      <td>18</td>\n",
              "      <td>0.841657</td>\n",
              "      <td>0.850607</td>\n",
              "      <td>0.874773</td>\n",
              "      <td>0.881670</td>\n",
              "      <td>0.839892</td>\n",
              "      <td>0.857720</td>\n",
              "      <td>0.017268</td>\n",
              "      <td>113</td>\n",
              "    </tr>\n",
              "    <tr>\n",
              "      <th>1</th>\n",
              "      <td>0.004258</td>\n",
              "      <td>0.000077</td>\n",
              "      <td>0.003042</td>\n",
              "      <td>0.000282</td>\n",
              "      <td>gini</td>\n",
              "      <td>4</td>\n",
              "      <td>2</td>\n",
              "      <td>best</td>\n",
              "      <td>{'criterion': 'gini', 'max_depth': 4, 'min_sam...</td>\n",
              "      <td>0.858586</td>\n",
              "      <td>0.872054</td>\n",
              "      <td>0.892256</td>\n",
              "      <td>0.898649</td>\n",
              "      <td>0.864865</td>\n",
              "      <td>0.877282</td>\n",
              "      <td>0.015568</td>\n",
              "      <td>24</td>\n",
              "      <td>0.840943</td>\n",
              "      <td>0.861941</td>\n",
              "      <td>0.894380</td>\n",
              "      <td>0.904361</td>\n",
              "      <td>0.863879</td>\n",
              "      <td>0.873101</td>\n",
              "      <td>0.023125</td>\n",
              "      <td>11</td>\n",
              "      <td>0.858586</td>\n",
              "      <td>0.872054</td>\n",
              "      <td>0.892256</td>\n",
              "      <td>0.898649</td>\n",
              "      <td>0.864865</td>\n",
              "      <td>0.877282</td>\n",
              "      <td>0.015568</td>\n",
              "      <td>24</td>\n",
              "      <td>0.841657</td>\n",
              "      <td>0.850607</td>\n",
              "      <td>0.874773</td>\n",
              "      <td>0.881670</td>\n",
              "      <td>0.831465</td>\n",
              "      <td>0.856034</td>\n",
              "      <td>0.019226</td>\n",
              "      <td>120</td>\n",
              "    </tr>\n",
              "    <tr>\n",
              "      <th>2</th>\n",
              "      <td>0.004206</td>\n",
              "      <td>0.000082</td>\n",
              "      <td>0.002878</td>\n",
              "      <td>0.000066</td>\n",
              "      <td>gini</td>\n",
              "      <td>4</td>\n",
              "      <td>3</td>\n",
              "      <td>best</td>\n",
              "      <td>{'criterion': 'gini', 'max_depth': 4, 'min_sam...</td>\n",
              "      <td>0.861953</td>\n",
              "      <td>0.875421</td>\n",
              "      <td>0.895623</td>\n",
              "      <td>0.898649</td>\n",
              "      <td>0.868243</td>\n",
              "      <td>0.879978</td>\n",
              "      <td>0.014675</td>\n",
              "      <td>8</td>\n",
              "      <td>0.845750</td>\n",
              "      <td>0.866275</td>\n",
              "      <td>0.897704</td>\n",
              "      <td>0.904361</td>\n",
              "      <td>0.868047</td>\n",
              "      <td>0.876427</td>\n",
              "      <td>0.021667</td>\n",
              "      <td>1</td>\n",
              "      <td>0.861953</td>\n",
              "      <td>0.875421</td>\n",
              "      <td>0.895623</td>\n",
              "      <td>0.898649</td>\n",
              "      <td>0.868243</td>\n",
              "      <td>0.879978</td>\n",
              "      <td>0.014675</td>\n",
              "      <td>8</td>\n",
              "      <td>0.846419</td>\n",
              "      <td>0.855610</td>\n",
              "      <td>0.879550</td>\n",
              "      <td>0.881670</td>\n",
              "      <td>0.837145</td>\n",
              "      <td>0.860079</td>\n",
              "      <td>0.017764</td>\n",
              "      <td>95</td>\n",
              "    </tr>\n",
              "    <tr>\n",
              "      <th>3</th>\n",
              "      <td>0.004208</td>\n",
              "      <td>0.000043</td>\n",
              "      <td>0.002985</td>\n",
              "      <td>0.000211</td>\n",
              "      <td>gini</td>\n",
              "      <td>4</td>\n",
              "      <td>4</td>\n",
              "      <td>best</td>\n",
              "      <td>{'criterion': 'gini', 'max_depth': 4, 'min_sam...</td>\n",
              "      <td>0.861953</td>\n",
              "      <td>0.875421</td>\n",
              "      <td>0.892256</td>\n",
              "      <td>0.898649</td>\n",
              "      <td>0.868243</td>\n",
              "      <td>0.879304</td>\n",
              "      <td>0.014003</td>\n",
              "      <td>12</td>\n",
              "      <td>0.845750</td>\n",
              "      <td>0.866275</td>\n",
              "      <td>0.894380</td>\n",
              "      <td>0.904361</td>\n",
              "      <td>0.868047</td>\n",
              "      <td>0.875763</td>\n",
              "      <td>0.021046</td>\n",
              "      <td>3</td>\n",
              "      <td>0.861953</td>\n",
              "      <td>0.875421</td>\n",
              "      <td>0.892256</td>\n",
              "      <td>0.898649</td>\n",
              "      <td>0.868243</td>\n",
              "      <td>0.879304</td>\n",
              "      <td>0.014003</td>\n",
              "      <td>12</td>\n",
              "      <td>0.846419</td>\n",
              "      <td>0.855610</td>\n",
              "      <td>0.874773</td>\n",
              "      <td>0.881670</td>\n",
              "      <td>0.837145</td>\n",
              "      <td>0.859124</td>\n",
              "      <td>0.016793</td>\n",
              "      <td>106</td>\n",
              "    </tr>\n",
              "    <tr>\n",
              "      <th>4</th>\n",
              "      <td>0.004297</td>\n",
              "      <td>0.000092</td>\n",
              "      <td>0.002944</td>\n",
              "      <td>0.000082</td>\n",
              "      <td>gini</td>\n",
              "      <td>4</td>\n",
              "      <td>5</td>\n",
              "      <td>best</td>\n",
              "      <td>{'criterion': 'gini', 'max_depth': 4, 'min_sam...</td>\n",
              "      <td>0.861953</td>\n",
              "      <td>0.875421</td>\n",
              "      <td>0.892256</td>\n",
              "      <td>0.898649</td>\n",
              "      <td>0.868243</td>\n",
              "      <td>0.879304</td>\n",
              "      <td>0.014003</td>\n",
              "      <td>12</td>\n",
              "      <td>0.845317</td>\n",
              "      <td>0.866275</td>\n",
              "      <td>0.894380</td>\n",
              "      <td>0.904361</td>\n",
              "      <td>0.868047</td>\n",
              "      <td>0.875676</td>\n",
              "      <td>0.021170</td>\n",
              "      <td>4</td>\n",
              "      <td>0.861953</td>\n",
              "      <td>0.875421</td>\n",
              "      <td>0.892256</td>\n",
              "      <td>0.898649</td>\n",
              "      <td>0.868243</td>\n",
              "      <td>0.879304</td>\n",
              "      <td>0.014003</td>\n",
              "      <td>12</td>\n",
              "      <td>0.844406</td>\n",
              "      <td>0.855610</td>\n",
              "      <td>0.874773</td>\n",
              "      <td>0.881670</td>\n",
              "      <td>0.837145</td>\n",
              "      <td>0.858721</td>\n",
              "      <td>0.017114</td>\n",
              "      <td>109</td>\n",
              "    </tr>\n",
              "    <tr>\n",
              "      <th>...</th>\n",
              "      <td>...</td>\n",
              "      <td>...</td>\n",
              "      <td>...</td>\n",
              "      <td>...</td>\n",
              "      <td>...</td>\n",
              "      <td>...</td>\n",
              "      <td>...</td>\n",
              "      <td>...</td>\n",
              "      <td>...</td>\n",
              "      <td>...</td>\n",
              "      <td>...</td>\n",
              "      <td>...</td>\n",
              "      <td>...</td>\n",
              "      <td>...</td>\n",
              "      <td>...</td>\n",
              "      <td>...</td>\n",
              "      <td>...</td>\n",
              "      <td>...</td>\n",
              "      <td>...</td>\n",
              "      <td>...</td>\n",
              "      <td>...</td>\n",
              "      <td>...</td>\n",
              "      <td>...</td>\n",
              "      <td>...</td>\n",
              "      <td>...</td>\n",
              "      <td>...</td>\n",
              "      <td>...</td>\n",
              "      <td>...</td>\n",
              "      <td>...</td>\n",
              "      <td>...</td>\n",
              "      <td>...</td>\n",
              "      <td>...</td>\n",
              "      <td>...</td>\n",
              "      <td>...</td>\n",
              "      <td>...</td>\n",
              "      <td>...</td>\n",
              "      <td>...</td>\n",
              "      <td>...</td>\n",
              "      <td>...</td>\n",
              "      <td>...</td>\n",
              "      <td>...</td>\n",
              "    </tr>\n",
              "    <tr>\n",
              "      <th>283</th>\n",
              "      <td>0.002205</td>\n",
              "      <td>0.000079</td>\n",
              "      <td>0.002820</td>\n",
              "      <td>0.000043</td>\n",
              "      <td>entropy</td>\n",
              "      <td>18</td>\n",
              "      <td>5</td>\n",
              "      <td>random</td>\n",
              "      <td>{'criterion': 'entropy', 'max_depth': 18, 'min...</td>\n",
              "      <td>0.841751</td>\n",
              "      <td>0.814815</td>\n",
              "      <td>0.835017</td>\n",
              "      <td>0.881757</td>\n",
              "      <td>0.858108</td>\n",
              "      <td>0.846289</td>\n",
              "      <td>0.022521</td>\n",
              "      <td>280</td>\n",
              "      <td>0.835631</td>\n",
              "      <td>0.798659</td>\n",
              "      <td>0.821748</td>\n",
              "      <td>0.871771</td>\n",
              "      <td>0.839951</td>\n",
              "      <td>0.833552</td>\n",
              "      <td>0.023928</td>\n",
              "      <td>276</td>\n",
              "      <td>0.841751</td>\n",
              "      <td>0.814815</td>\n",
              "      <td>0.835017</td>\n",
              "      <td>0.881757</td>\n",
              "      <td>0.858108</td>\n",
              "      <td>0.846289</td>\n",
              "      <td>0.022521</td>\n",
              "      <td>280</td>\n",
              "      <td>0.838379</td>\n",
              "      <td>0.805388</td>\n",
              "      <td>0.826849</td>\n",
              "      <td>0.871622</td>\n",
              "      <td>0.839004</td>\n",
              "      <td>0.836248</td>\n",
              "      <td>0.021467</td>\n",
              "      <td>248</td>\n",
              "    </tr>\n",
              "    <tr>\n",
              "      <th>284</th>\n",
              "      <td>0.002162</td>\n",
              "      <td>0.000056</td>\n",
              "      <td>0.002965</td>\n",
              "      <td>0.000170</td>\n",
              "      <td>entropy</td>\n",
              "      <td>18</td>\n",
              "      <td>6</td>\n",
              "      <td>random</td>\n",
              "      <td>{'criterion': 'entropy', 'max_depth': 18, 'min...</td>\n",
              "      <td>0.845118</td>\n",
              "      <td>0.831650</td>\n",
              "      <td>0.882155</td>\n",
              "      <td>0.898649</td>\n",
              "      <td>0.841216</td>\n",
              "      <td>0.859757</td>\n",
              "      <td>0.025932</td>\n",
              "      <td>202</td>\n",
              "      <td>0.822734</td>\n",
              "      <td>0.821245</td>\n",
              "      <td>0.872680</td>\n",
              "      <td>0.897401</td>\n",
              "      <td>0.820221</td>\n",
              "      <td>0.846856</td>\n",
              "      <td>0.032152</td>\n",
              "      <td>201</td>\n",
              "      <td>0.845118</td>\n",
              "      <td>0.831650</td>\n",
              "      <td>0.882155</td>\n",
              "      <td>0.898649</td>\n",
              "      <td>0.841216</td>\n",
              "      <td>0.859757</td>\n",
              "      <td>0.025932</td>\n",
              "      <td>202</td>\n",
              "      <td>0.826577</td>\n",
              "      <td>0.825672</td>\n",
              "      <td>0.870857</td>\n",
              "      <td>0.885003</td>\n",
              "      <td>0.825545</td>\n",
              "      <td>0.846731</td>\n",
              "      <td>0.025866</td>\n",
              "      <td>179</td>\n",
              "    </tr>\n",
              "    <tr>\n",
              "      <th>285</th>\n",
              "      <td>0.002167</td>\n",
              "      <td>0.000073</td>\n",
              "      <td>0.002913</td>\n",
              "      <td>0.000111</td>\n",
              "      <td>entropy</td>\n",
              "      <td>18</td>\n",
              "      <td>7</td>\n",
              "      <td>random</td>\n",
              "      <td>{'criterion': 'entropy', 'max_depth': 18, 'min...</td>\n",
              "      <td>0.858586</td>\n",
              "      <td>0.858586</td>\n",
              "      <td>0.848485</td>\n",
              "      <td>0.881757</td>\n",
              "      <td>0.844595</td>\n",
              "      <td>0.858402</td>\n",
              "      <td>0.012919</td>\n",
              "      <td>211</td>\n",
              "      <td>0.843928</td>\n",
              "      <td>0.843928</td>\n",
              "      <td>0.833246</td>\n",
              "      <td>0.876251</td>\n",
              "      <td>0.822171</td>\n",
              "      <td>0.843905</td>\n",
              "      <td>0.018068</td>\n",
              "      <td>219</td>\n",
              "      <td>0.858586</td>\n",
              "      <td>0.858586</td>\n",
              "      <td>0.848485</td>\n",
              "      <td>0.881757</td>\n",
              "      <td>0.844595</td>\n",
              "      <td>0.858402</td>\n",
              "      <td>0.012919</td>\n",
              "      <td>211</td>\n",
              "      <td>0.847336</td>\n",
              "      <td>0.847336</td>\n",
              "      <td>0.837665</td>\n",
              "      <td>0.862966</td>\n",
              "      <td>0.826004</td>\n",
              "      <td>0.844261</td>\n",
              "      <td>0.012211</td>\n",
              "      <td>196</td>\n",
              "    </tr>\n",
              "    <tr>\n",
              "      <th>286</th>\n",
              "      <td>0.002120</td>\n",
              "      <td>0.000130</td>\n",
              "      <td>0.002956</td>\n",
              "      <td>0.000148</td>\n",
              "      <td>entropy</td>\n",
              "      <td>18</td>\n",
              "      <td>8</td>\n",
              "      <td>random</td>\n",
              "      <td>{'criterion': 'entropy', 'max_depth': 18, 'min...</td>\n",
              "      <td>0.818182</td>\n",
              "      <td>0.858586</td>\n",
              "      <td>0.861953</td>\n",
              "      <td>0.888514</td>\n",
              "      <td>0.864865</td>\n",
              "      <td>0.858420</td>\n",
              "      <td>0.022710</td>\n",
              "      <td>210</td>\n",
              "      <td>0.786318</td>\n",
              "      <td>0.843928</td>\n",
              "      <td>0.848062</td>\n",
              "      <td>0.880317</td>\n",
              "      <td>0.849572</td>\n",
              "      <td>0.841639</td>\n",
              "      <td>0.030548</td>\n",
              "      <td>236</td>\n",
              "      <td>0.818182</td>\n",
              "      <td>0.858586</td>\n",
              "      <td>0.861953</td>\n",
              "      <td>0.888514</td>\n",
              "      <td>0.864865</td>\n",
              "      <td>0.858420</td>\n",
              "      <td>0.022710</td>\n",
              "      <td>210</td>\n",
              "      <td>0.796417</td>\n",
              "      <td>0.847336</td>\n",
              "      <td>0.850453</td>\n",
              "      <td>0.877511</td>\n",
              "      <td>0.848699</td>\n",
              "      <td>0.844083</td>\n",
              "      <td>0.026313</td>\n",
              "      <td>200</td>\n",
              "    </tr>\n",
              "    <tr>\n",
              "      <th>287</th>\n",
              "      <td>0.002089</td>\n",
              "      <td>0.000091</td>\n",
              "      <td>0.002903</td>\n",
              "      <td>0.000077</td>\n",
              "      <td>entropy</td>\n",
              "      <td>18</td>\n",
              "      <td>9</td>\n",
              "      <td>random</td>\n",
              "      <td>{'criterion': 'entropy', 'max_depth': 18, 'min...</td>\n",
              "      <td>0.838384</td>\n",
              "      <td>0.865320</td>\n",
              "      <td>0.845118</td>\n",
              "      <td>0.861486</td>\n",
              "      <td>0.861486</td>\n",
              "      <td>0.854359</td>\n",
              "      <td>0.010605</td>\n",
              "      <td>246</td>\n",
              "      <td>0.815534</td>\n",
              "      <td>0.849998</td>\n",
              "      <td>0.828404</td>\n",
              "      <td>0.845963</td>\n",
              "      <td>0.844829</td>\n",
              "      <td>0.836946</td>\n",
              "      <td>0.013002</td>\n",
              "      <td>262</td>\n",
              "      <td>0.838384</td>\n",
              "      <td>0.865320</td>\n",
              "      <td>0.845118</td>\n",
              "      <td>0.861486</td>\n",
              "      <td>0.861486</td>\n",
              "      <td>0.854359</td>\n",
              "      <td>0.010605</td>\n",
              "      <td>246</td>\n",
              "      <td>0.821326</td>\n",
              "      <td>0.847175</td>\n",
              "      <td>0.833149</td>\n",
              "      <td>0.837053</td>\n",
              "      <td>0.843892</td>\n",
              "      <td>0.836519</td>\n",
              "      <td>0.009060</td>\n",
              "      <td>247</td>\n",
              "    </tr>\n",
              "  </tbody>\n",
              "</table>\n",
              "<p>288 rows × 41 columns</p>\n",
              "</div>"
            ],
            "text/plain": [
              "     mean_fit_time  std_fit_time  ...  std_test_f1_weighted  rank_test_f1_weighted\n",
              "0         0.004754      0.000542  ...              0.017268                    113\n",
              "1         0.004258      0.000077  ...              0.019226                    120\n",
              "2         0.004206      0.000082  ...              0.017764                     95\n",
              "3         0.004208      0.000043  ...              0.016793                    106\n",
              "4         0.004297      0.000092  ...              0.017114                    109\n",
              "..             ...           ...  ...                   ...                    ...\n",
              "283       0.002205      0.000079  ...              0.021467                    248\n",
              "284       0.002162      0.000056  ...              0.025866                    179\n",
              "285       0.002167      0.000073  ...              0.012211                    196\n",
              "286       0.002120      0.000130  ...              0.026313                    200\n",
              "287       0.002089      0.000091  ...              0.009060                    247\n",
              "\n",
              "[288 rows x 41 columns]"
            ]
          },
          "metadata": {
            "tags": []
          },
          "execution_count": 69
        }
      ]
    },
    {
      "cell_type": "code",
      "metadata": {
        "id": "Wy9QAQZAjbNB",
        "colab_type": "code",
        "colab": {
          "base_uri": "https://localhost:8080/",
          "height": 345
        },
        "outputId": "d1bc125d-c61d-4998-e361-08f33d6777bc"
      },
      "source": [
        "arbol_decision_con_param_df.columns"
      ],
      "execution_count": 73,
      "outputs": [
        {
          "output_type": "execute_result",
          "data": {
            "text/plain": [
              "Index(['mean_fit_time', 'std_fit_time', 'mean_score_time', 'std_score_time',\n",
              "       'param_criterion', 'param_max_depth', 'param_min_samples_leaf',\n",
              "       'param_splitter', 'params', 'split0_test_accuracy',\n",
              "       'split1_test_accuracy', 'split2_test_accuracy', 'split3_test_accuracy',\n",
              "       'split4_test_accuracy', 'mean_test_accuracy', 'std_test_accuracy',\n",
              "       'rank_test_accuracy', 'split0_test_precision_weighted',\n",
              "       'split1_test_precision_weighted', 'split2_test_precision_weighted',\n",
              "       'split3_test_precision_weighted', 'split4_test_precision_weighted',\n",
              "       'mean_test_precision_weighted', 'std_test_precision_weighted',\n",
              "       'rank_test_precision_weighted', 'split0_test_recall_weighted',\n",
              "       'split1_test_recall_weighted', 'split2_test_recall_weighted',\n",
              "       'split3_test_recall_weighted', 'split4_test_recall_weighted',\n",
              "       'mean_test_recall_weighted', 'std_test_recall_weighted',\n",
              "       'rank_test_recall_weighted', 'split0_test_f1_weighted',\n",
              "       'split1_test_f1_weighted', 'split2_test_f1_weighted',\n",
              "       'split3_test_f1_weighted', 'split4_test_f1_weighted',\n",
              "       'mean_test_f1_weighted', 'std_test_f1_weighted',\n",
              "       'rank_test_f1_weighted'],\n",
              "      dtype='object')"
            ]
          },
          "metadata": {
            "tags": []
          },
          "execution_count": 73
        }
      ]
    },
    {
      "cell_type": "code",
      "metadata": {
        "id": "IAkRy7VUoWT2",
        "colab_type": "code",
        "colab": {}
      },
      "source": [
        "#Nos quedamos con las columnas que nos interesan\n",
        "Res_GSCV2 = Res_GSCV2[['param_criterion', 'param_max_depth', 'param_max_features', 'param_min_samples_leaf',\n",
        "       'param_min_samples_split', 'param_splitter', 'params', 'mean_test_accuracy',\n",
        "       'std_test_accuracy', 'rank_test_accuracy','mean_test_precision_weighted',\n",
        "       'std_test_precision_weighted','rank_test_precision_weighted', 'mean_test_recall_weighted', 'std_test_recall_weighted',\n",
        "       'rank_test_recall_weighted', 'mean_test_f1_weighted', 'std_test_f1_weighted', 'rank_test_f1_weighted']]"
      ],
      "execution_count": null,
      "outputs": []
    },
    {
      "cell_type": "markdown",
      "metadata": {
        "id": "qHblo19K2le0",
        "colab_type": "text"
      },
      "source": [
        "### Ejercicio 3.3: Inspección del Modelo"
      ]
    },
    {
      "cell_type": "code",
      "metadata": {
        "id": "OPNgMAhgEdM6",
        "colab_type": "code",
        "colab": {}
      },
      "source": [
        ""
      ],
      "execution_count": null,
      "outputs": []
    }
  ]
}