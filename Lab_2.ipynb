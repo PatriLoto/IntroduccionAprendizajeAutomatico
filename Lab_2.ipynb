{
 "cells": [
  {
   "cell_type": "markdown",
   "metadata": {
    "colab_type": "text",
    "id": "FQBUZTxtPe6q"
   },
   "source": [
    "# Laboratorio 2: Armado de un esquema de aprendizaje automático\n",
    "\n",
    "En el laboratorio final se espera que puedan poner en práctica los conocimientos adquiridos en el curso, trabajando con un conjunto de datos de clasificación.\n",
    "\n",
    "El objetivo es que se introduzcan en el desarrollo de un esquema para hacer tareas de aprendizaje automático: selección de un modelo, ajuste de hiperparámetros y evaluación.\n",
    "\n",
    "El conjunto de datos a utilizar está en `./data/loan_data.csv`. Si abren el archivo verán que al principio (las líneas que empiezan con `#`) describen el conjunto de datos y sus atributos (incluyendo el atributo de etiqueta o clase).\n",
    "\n",
    "Se espera que hagan uso de las herramientas vistas en el curso. Se espera que hagan uso especialmente de las herramientas brindadas por `scikit-learn`."
   ]
  },
  {
   "cell_type": "code",
   "execution_count": 39,
   "metadata": {
    "colab": {},
    "colab_type": "code",
    "id": "X8vi0OsqPe6s"
   },
   "outputs": [],
   "source": [
    "import sys\n",
    "import numpy as np\n",
    "import pandas as pd\n",
    "import matplotlib.pyplot as plt\n",
    "import seaborn as sns\n",
    "\n",
    "# TODO: Agregar las librerías que hagan falta\n",
    "from sklearn.model_selection import train_test_split, ParameterSampler, GridSearchCV\n",
    "from sklearn.linear_model import SGDClassifier\n",
    "from sklearn.tree import DecisionTreeClassifier, plot_tree\n",
    "from sklearn.metrics import classification_report, confusion_matrix\n",
    "from sklearn.preprocessing import StandardScaler\n",
    "from sklearn.pipeline import make_pipeline\n",
    "from scipy import stats\n",
    "\n",
    "# Utilizadas en el punto 2.2 para graficar las distintas configuraciones del modelo\n",
    "import plotly\n",
    "import plotly.graph_objects as go\n",
    "from plotly.subplots import make_subplots"
   ]
  },
  {
   "cell_type": "markdown",
   "metadata": {
    "colab_type": "text",
    "id": "L_6KYtn3Pe61"
   },
   "source": [
    "## Carga de datos y división en entrenamiento y evaluación\n",
    "\n",
    "La celda siguiente se encarga de la carga de datos (haciendo uso de pandas). Estos serán los que se trabajarán en el resto del laboratorio."
   ]
  },
  {
   "cell_type": "code",
   "execution_count": 40,
   "metadata": {
    "colab": {
     "base_uri": "https://localhost:8080/",
     "height": 120
    },
    "colab_type": "code",
    "id": "CqKuFc30QX8E",
    "outputId": "b8642b80-36d9-492a-9374-ab800f2e9fe5"
   },
   "outputs": [],
   "source": [
    "dataset = pd.read_csv(\"https://raw.githubusercontent.com/DiploDatos/IntroduccionAprendizajeAutomatico/master/data/loan_data.csv\", comment=\"#\")"
   ]
  },
  {
   "cell_type": "code",
   "execution_count": 41,
   "metadata": {
    "colab": {},
    "colab_type": "code",
    "id": "wL2t-wpIPe62"
   },
   "outputs": [],
   "source": [
    "# División entre instancias y etiquetas\n",
    "X, y = dataset.iloc[:, 1:], dataset.TARGET\n",
    "\n",
    "# división entre entrenamiento y evaluación\n",
    "X_train, X_test, y_train, y_test = train_test_split(X, y, test_size=0.2, random_state=0)"
   ]
  },
  {
   "cell_type": "markdown",
   "metadata": {
    "colab_type": "text",
    "id": "vXM5ZGx5Pe69"
   },
   "source": [
    "\n",
    "Documentación:\n",
    "\n",
    "- https://scikit-learn.org/stable/modules/generated/sklearn.model_selection.train_test_split.html"
   ]
  },
  {
   "cell_type": "markdown",
   "metadata": {
    "colab_type": "text",
    "id": "tM9YJrKKPe6-"
   },
   "source": [
    "## Ejercicio 1: Descripción de los Datos y la Tarea\n",
    "\n",
    "Responder las siguientes preguntas:\n",
    "\n",
    "1. ¿De qué se trata el conjunto de datos?\n",
    "2. ¿Cuál es la variable objetivo que hay que predecir? ¿Qué significado tiene?\n",
    "3. ¿Qué información (atributos) hay disponible para hacer la predicción?\n",
    "4. ¿Qué atributos imagina ud. que son los más determinantes para la predicción?\n",
    "\n",
    "**No hace falta escribir código para responder estas preguntas.**"
   ]
  },
  {
   "cell_type": "markdown",
   "metadata": {
    "colab_type": "text",
    "id": "Qs9gvwkJUqS9"
   },
   "source": [
    "https://www.kaggle.com/ajay1735/hmeq-data\n",
    "\n",
    "1. El Home Equity dataset (HMEQ), contiene una linea base y la información de rendimiento de los préstamos de 5690 préstamos otorgados recientemente. Esta planilla tiene 1854 registros.\n",
    "\n",
    "2. El variable objetivo (BAD) es una variable binaria que indica si un solicitante finalmente cumplió o incumplió en la cancelación del préstamo solicitado.  \n",
    " * 1 = cliente incumplió con el préstamo \n",
    " * 0 = préstamo cancelado\n",
    "\n",
    "3. Atributos:\n",
    " * LOAN    Amount of the loan request. Monto del préstamo solicitado.\n",
    " * MORTDUE Amount due on existing mortgage. Monto adeudado de la hipoteca.\n",
    " * VALUE   Value of current property. Valor actual de la propiedad.\n",
    " * YOJ     Years at present job. Antiguedad en el trabajo actual.\n",
    " * DEROG   Number of major derogatory reports. Número de informes negativos importantes.\n",
    " * DELINQ  Number of delinquent credit lines. Cantidad de créditos no pagados.\n",
    " * CLAGE   Age of oldest trade line in months. Edad de la línea comercial más antigua en meses.\n",
    " * NINQ    Number of recent credit lines. Número de líneas de crédito recientes.\n",
    " * CLNO    Number of credit lines. Número de linas de crédito.\n",
    " * DEBTINC Debt-to-income ratio. Relación Deuda / Ingresos.\n",
    "\n",
    "4. Seleccionaría:\n",
    " * DEROG   Number of major derogatory reports. Número de informes negativos importantes.\n",
    " * DELIQ   Number of delinquent credit lines. Cantidad de créditos no pagados.\n",
    " * CLNO    Number of credit lines. Número de linas de crédito.\n",
    " * DEBTINC Debt-to-income ratio. Relación Deuda / Ingresos.\n",
    "\n",
    "\n"
   ]
  },
  {
   "cell_type": "code",
   "execution_count": 42,
   "metadata": {
    "colab": {
     "base_uri": "https://localhost:8080/",
     "height": 287
    },
    "colab_type": "code",
    "id": "JHw23I8tOclt",
    "outputId": "85b75444-07bb-4c89-d7c4-3e62a6cdb346"
   },
   "outputs": [
    {
     "data": {
      "text/html": [
       "<div>\n",
       "<style scoped>\n",
       "    .dataframe tbody tr th:only-of-type {\n",
       "        vertical-align: middle;\n",
       "    }\n",
       "\n",
       "    .dataframe tbody tr th {\n",
       "        vertical-align: top;\n",
       "    }\n",
       "\n",
       "    .dataframe thead th {\n",
       "        text-align: right;\n",
       "    }\n",
       "</style>\n",
       "<table border=\"1\" class=\"dataframe\">\n",
       "  <thead>\n",
       "    <tr style=\"text-align: right;\">\n",
       "      <th></th>\n",
       "      <th>TARGET</th>\n",
       "      <th>LOAN</th>\n",
       "      <th>MORTDUE</th>\n",
       "      <th>VALUE</th>\n",
       "      <th>YOJ</th>\n",
       "      <th>DEROG</th>\n",
       "      <th>DELINQ</th>\n",
       "      <th>CLAGE</th>\n",
       "      <th>NINQ</th>\n",
       "      <th>CLNO</th>\n",
       "      <th>DEBTINC</th>\n",
       "    </tr>\n",
       "  </thead>\n",
       "  <tbody>\n",
       "    <tr>\n",
       "      <th>count</th>\n",
       "      <td>1854.000000</td>\n",
       "      <td>1854.000000</td>\n",
       "      <td>1854.000000</td>\n",
       "      <td>1854.000000</td>\n",
       "      <td>1854.000000</td>\n",
       "      <td>1854.000000</td>\n",
       "      <td>1854.000000</td>\n",
       "      <td>1854.000000</td>\n",
       "      <td>1854.000000</td>\n",
       "      <td>1854.000000</td>\n",
       "      <td>1854.000000</td>\n",
       "    </tr>\n",
       "    <tr>\n",
       "      <th>mean</th>\n",
       "      <td>0.166667</td>\n",
       "      <td>19111.758360</td>\n",
       "      <td>76316.051780</td>\n",
       "      <td>107321.088457</td>\n",
       "      <td>8.900216</td>\n",
       "      <td>0.187702</td>\n",
       "      <td>0.319849</td>\n",
       "      <td>180.300783</td>\n",
       "      <td>1.128910</td>\n",
       "      <td>21.857066</td>\n",
       "      <td>34.573408</td>\n",
       "    </tr>\n",
       "    <tr>\n",
       "      <th>std</th>\n",
       "      <td>0.372779</td>\n",
       "      <td>11000.345961</td>\n",
       "      <td>46227.026585</td>\n",
       "      <td>56039.685066</td>\n",
       "      <td>7.552677</td>\n",
       "      <td>0.704882</td>\n",
       "      <td>0.928452</td>\n",
       "      <td>84.838308</td>\n",
       "      <td>1.664555</td>\n",
       "      <td>9.510840</td>\n",
       "      <td>9.308794</td>\n",
       "    </tr>\n",
       "    <tr>\n",
       "      <th>min</th>\n",
       "      <td>0.000000</td>\n",
       "      <td>1700.000000</td>\n",
       "      <td>5627.000000</td>\n",
       "      <td>21144.000000</td>\n",
       "      <td>0.000000</td>\n",
       "      <td>0.000000</td>\n",
       "      <td>0.000000</td>\n",
       "      <td>0.486711</td>\n",
       "      <td>0.000000</td>\n",
       "      <td>0.000000</td>\n",
       "      <td>0.838118</td>\n",
       "    </tr>\n",
       "    <tr>\n",
       "      <th>25%</th>\n",
       "      <td>0.000000</td>\n",
       "      <td>12000.000000</td>\n",
       "      <td>48984.750000</td>\n",
       "      <td>70787.250000</td>\n",
       "      <td>3.000000</td>\n",
       "      <td>0.000000</td>\n",
       "      <td>0.000000</td>\n",
       "      <td>116.970718</td>\n",
       "      <td>0.000000</td>\n",
       "      <td>16.000000</td>\n",
       "      <td>29.427210</td>\n",
       "    </tr>\n",
       "    <tr>\n",
       "      <th>50%</th>\n",
       "      <td>0.000000</td>\n",
       "      <td>17000.000000</td>\n",
       "      <td>67201.000000</td>\n",
       "      <td>94198.000000</td>\n",
       "      <td>7.000000</td>\n",
       "      <td>0.000000</td>\n",
       "      <td>0.000000</td>\n",
       "      <td>174.967815</td>\n",
       "      <td>1.000000</td>\n",
       "      <td>21.000000</td>\n",
       "      <td>35.363407</td>\n",
       "    </tr>\n",
       "    <tr>\n",
       "      <th>75%</th>\n",
       "      <td>0.000000</td>\n",
       "      <td>23900.000000</td>\n",
       "      <td>93731.500000</td>\n",
       "      <td>122976.250000</td>\n",
       "      <td>13.000000</td>\n",
       "      <td>0.000000</td>\n",
       "      <td>0.000000</td>\n",
       "      <td>232.261800</td>\n",
       "      <td>2.000000</td>\n",
       "      <td>27.000000</td>\n",
       "      <td>39.357987</td>\n",
       "    </tr>\n",
       "    <tr>\n",
       "      <th>max</th>\n",
       "      <td>1.000000</td>\n",
       "      <td>89800.000000</td>\n",
       "      <td>399412.000000</td>\n",
       "      <td>512650.000000</td>\n",
       "      <td>41.000000</td>\n",
       "      <td>10.000000</td>\n",
       "      <td>10.000000</td>\n",
       "      <td>1168.233561</td>\n",
       "      <td>13.000000</td>\n",
       "      <td>65.000000</td>\n",
       "      <td>144.189001</td>\n",
       "    </tr>\n",
       "  </tbody>\n",
       "</table>\n",
       "</div>"
      ],
      "text/plain": [
       "            TARGET          LOAN        MORTDUE          VALUE          YOJ  \\\n",
       "count  1854.000000   1854.000000    1854.000000    1854.000000  1854.000000   \n",
       "mean      0.166667  19111.758360   76316.051780  107321.088457     8.900216   \n",
       "std       0.372779  11000.345961   46227.026585   56039.685066     7.552677   \n",
       "min       0.000000   1700.000000    5627.000000   21144.000000     0.000000   \n",
       "25%       0.000000  12000.000000   48984.750000   70787.250000     3.000000   \n",
       "50%       0.000000  17000.000000   67201.000000   94198.000000     7.000000   \n",
       "75%       0.000000  23900.000000   93731.500000  122976.250000    13.000000   \n",
       "max       1.000000  89800.000000  399412.000000  512650.000000    41.000000   \n",
       "\n",
       "             DEROG       DELINQ        CLAGE         NINQ         CLNO  \\\n",
       "count  1854.000000  1854.000000  1854.000000  1854.000000  1854.000000   \n",
       "mean      0.187702     0.319849   180.300783     1.128910    21.857066   \n",
       "std       0.704882     0.928452    84.838308     1.664555     9.510840   \n",
       "min       0.000000     0.000000     0.486711     0.000000     0.000000   \n",
       "25%       0.000000     0.000000   116.970718     0.000000    16.000000   \n",
       "50%       0.000000     0.000000   174.967815     1.000000    21.000000   \n",
       "75%       0.000000     0.000000   232.261800     2.000000    27.000000   \n",
       "max      10.000000    10.000000  1168.233561    13.000000    65.000000   \n",
       "\n",
       "           DEBTINC  \n",
       "count  1854.000000  \n",
       "mean     34.573408  \n",
       "std       9.308794  \n",
       "min       0.838118  \n",
       "25%      29.427210  \n",
       "50%      35.363407  \n",
       "75%      39.357987  \n",
       "max     144.189001  "
      ]
     },
     "execution_count": 42,
     "metadata": {},
     "output_type": "execute_result"
    }
   ],
   "source": [
    "dataset.describe()"
   ]
  },
  {
   "cell_type": "code",
   "execution_count": 43,
   "metadata": {
    "colab": {
     "base_uri": "https://localhost:8080/",
     "height": 77
    },
    "colab_type": "code",
    "id": "TnxcRZpnPHAt",
    "outputId": "1cb08bab-38f5-4647-ddcb-bc646a89ebf1"
   },
   "outputs": [
    {
     "data": {
      "text/html": [
       "<div>\n",
       "<style scoped>\n",
       "    .dataframe tbody tr th:only-of-type {\n",
       "        vertical-align: middle;\n",
       "    }\n",
       "\n",
       "    .dataframe tbody tr th {\n",
       "        vertical-align: top;\n",
       "    }\n",
       "\n",
       "    .dataframe thead th {\n",
       "        text-align: right;\n",
       "    }\n",
       "</style>\n",
       "<table border=\"1\" class=\"dataframe\">\n",
       "  <thead>\n",
       "    <tr style=\"text-align: right;\">\n",
       "      <th></th>\n",
       "      <th>TARGET</th>\n",
       "      <th>LOAN</th>\n",
       "      <th>MORTDUE</th>\n",
       "      <th>VALUE</th>\n",
       "      <th>YOJ</th>\n",
       "      <th>DEROG</th>\n",
       "      <th>DELINQ</th>\n",
       "      <th>CLAGE</th>\n",
       "      <th>NINQ</th>\n",
       "      <th>CLNO</th>\n",
       "      <th>DEBTINC</th>\n",
       "    </tr>\n",
       "  </thead>\n",
       "  <tbody>\n",
       "    <tr>\n",
       "      <th>1710</th>\n",
       "      <td>1</td>\n",
       "      <td>16800</td>\n",
       "      <td>16204.0</td>\n",
       "      <td>27781.0</td>\n",
       "      <td>1.0</td>\n",
       "      <td>10.0</td>\n",
       "      <td>0.0</td>\n",
       "      <td>190.577097</td>\n",
       "      <td>0.0</td>\n",
       "      <td>9.0</td>\n",
       "      <td>27.146886</td>\n",
       "    </tr>\n",
       "  </tbody>\n",
       "</table>\n",
       "</div>"
      ],
      "text/plain": [
       "      TARGET   LOAN  MORTDUE    VALUE  YOJ  DEROG  DELINQ       CLAGE  NINQ  \\\n",
       "1710       1  16800  16204.0  27781.0  1.0   10.0     0.0  190.577097   0.0   \n",
       "\n",
       "      CLNO    DEBTINC  \n",
       "1710   9.0  27.146886  "
      ]
     },
     "execution_count": 43,
     "metadata": {},
     "output_type": "execute_result"
    }
   ],
   "source": [
    "dataset[dataset[\"DEROG\"] == 10]"
   ]
  },
  {
   "cell_type": "code",
   "execution_count": 44,
   "metadata": {
    "colab": {
     "base_uri": "https://localhost:8080/",
     "height": 263
    },
    "colab_type": "code",
    "id": "xtexas1KGHDo",
    "outputId": "243a8bb6-b028-4e98-903a-84a143aced60"
   },
   "outputs": [
    {
     "data": {
      "image/png": "[encoded data removed]",
      "text/plain": [
       "<Figure size 432x288 with 1 Axes>"
      ]
     },
     "metadata": {
      "needs_background": "light"
     },
     "output_type": "display_data"
    }
   ],
   "source": [
    "dataset['TARGET'].value_counts().plot.bar();"
   ]
  },
  {
   "cell_type": "code",
   "execution_count": 45,
   "metadata": {
    "colab": {
     "base_uri": "https://localhost:8080/",
     "height": 1000
    },
    "colab_type": "code",
    "id": "VXBuRuKtPrXE",
    "outputId": "780f6118-d469-4837-b688-ba4e7ddc8d56"
   },
   "outputs": [
    {
     "data": {
      "image/png": "[encoded data removed]",
      "text/plain": [
       "<Figure size 1080x3600 with 10 Axes>"
      ]
     },
     "metadata": {
      "needs_background": "light"
     },
     "output_type": "display_data"
    }
   ],
   "source": [
    "features = dataset.columns[1:]\n",
    "fig = plt.figure(figsize=(15,5*len(features)))\n",
    "ds0 = dataset[dataset.TARGET == 0]\n",
    "ds1 = dataset[dataset.TARGET == 1]\n",
    "with sns.axes_style(\"white\"):\n",
    "    for i, col in enumerate(features):\n",
    "        sp1 = plt.subplot(len(features), 2, i+1)\n",
    "        sns.distplot(ds0[col], label='0')\n",
    "        sns.distplot(ds1[col], label='1')\n",
    "        plt.legend()"
   ]
  },
  {
   "cell_type": "markdown",
   "metadata": {
    "colab_type": "text",
    "id": "aSzoS6CAPe6_"
   },
   "source": [
    "## Ejercicio 2: Predicción con Modelos Lineales\n",
    "\n",
    "En este ejercicio se entrenarán modelos lineales de clasificación para predecir la variable objetivo.\n",
    "\n",
    "Para ello, deberán utilizar la clase SGDClassifier de scikit-learn.\n",
    "\n",
    "Documentación:\n",
    "- https://scikit-learn.org/stable/modules/sgd.html\n",
    "- https://scikit-learn.org/stable/modules/generated/sklearn.linear_model.SGDClassifier.html\n"
   ]
  },
  {
   "cell_type": "markdown",
   "metadata": {
    "colab_type": "text",
    "id": "jVHKAuvWfdk-"
   },
   "source": [
    "SGDClassifier es sensitivo a las magnitudes de los valores, por esta razón a continuación se realiza un escalado o normalización."
   ]
  },
  {
   "cell_type": "code",
   "execution_count": 46,
   "metadata": {
    "colab": {},
    "colab_type": "code",
    "id": "sYJi7SVGKhrL"
   },
   "outputs": [],
   "source": [
    "escalado = StandardScaler()\n",
    "escalado.fit(X_train)\n",
    "X_train = escalado.transform(X_train)\n",
    "X_test  = escalado.transform(X_test) "
   ]
  },
  {
   "cell_type": "markdown",
   "metadata": {
    "colab_type": "text",
    "id": "-nlhwLByPe7D"
   },
   "source": [
    "### Ejercicio 2.1: SGDClassifier con hiperparámetros por defecto\n",
    "\n",
    "Entrenar y evaluar el clasificador SGDClassifier usando los valores por omisión de scikit-learn para todos los parámetros. Únicamente **fijar la semilla aleatoria** para hacer repetible el experimento.\n",
    "\n",
    "Evaluar sobre el conjunto de **entrenamiento** y sobre el conjunto de **evaluación**, reportando:\n",
    "- Accuracy\n",
    "- Precision\n",
    "- Recall\n",
    "- F1\n",
    "- matriz de confusión"
   ]
  },
  {
   "cell_type": "code",
   "execution_count": 47,
   "metadata": {
    "colab": {
     "base_uri": "https://localhost:8080/",
     "height": 117
    },
    "colab_type": "code",
    "id": "nQBB0cHUR9sr",
    "outputId": "c0dd1adc-fe58-4efd-cf51-c1376e4890f3"
   },
   "outputs": [
    {
     "data": {
      "text/plain": [
       "SGDClassifier(random_state=0)"
      ]
     },
     "execution_count": 47,
     "metadata": {},
     "output_type": "execute_result"
    }
   ],
   "source": [
    "model = SGDClassifier(random_state=0)\n",
    "model.fit(X_train, y_train)"
   ]
  },
  {
   "cell_type": "code",
   "execution_count": 48,
   "metadata": {
    "colab": {},
    "colab_type": "code",
    "id": "4JJ1Fpj6hgat"
   },
   "outputs": [],
   "source": [
    "y_train_pred = model.predict(X_train)\n",
    "y_test_pred = model.predict(X_test)"
   ]
  },
  {
   "cell_type": "code",
   "execution_count": 49,
   "metadata": {
    "colab": {
     "base_uri": "https://localhost:8080/",
     "height": 167
    },
    "colab_type": "code",
    "id": "YBte2Dxjh3km",
    "outputId": "05fda297-acd4-4050-cc4f-73e6e1d2ede7"
   },
   "outputs": [
    {
     "name": "stdout",
     "output_type": "stream",
     "text": [
      "              precision    recall  f1-score   support\n",
      "\n",
      "           0       0.89      0.97      0.93      1232\n",
      "           1       0.71      0.42      0.53       251\n",
      "\n",
      "    accuracy                           0.87      1483\n",
      "   macro avg       0.80      0.69      0.73      1483\n",
      "weighted avg       0.86      0.87      0.86      1483\n",
      "\n"
     ]
    }
   ],
   "source": [
    "print(classification_report(y_train, y_train_pred))"
   ]
  },
  {
   "cell_type": "code",
   "execution_count": 50,
   "metadata": {
    "colab": {
     "base_uri": "https://localhost:8080/",
     "height": 50
    },
    "colab_type": "code",
    "id": "YxfaalnqwZui",
    "outputId": "90878e4f-0cd5-439b-8539-953d9e5895b4"
   },
   "outputs": [
    {
     "name": "stdout",
     "output_type": "stream",
     "text": [
      "TP:  105 \t FP:  42 \n",
      "TN:  1190 \t FN:  146\n"
     ]
    }
   ],
   "source": [
    "tn, fp, fn, tp = confusion_matrix(y_train, y_train_pred).ravel()\n",
    "print('TP: ', tp, '\\t FP: ', fp, '\\nTN: ', tn, '\\t FN: ', fn)"
   ]
  },
  {
   "cell_type": "markdown",
   "metadata": {
    "colab_type": "text",
    "id": "10P0FKVx1Wuj"
   },
   "source": [
    "Tomando como True = 1:\n",
    "\n",
    "$$Accuracy = \\frac{TP + TN}{TP + FP + FN + TN} = \\frac{105 + 1190}{105 + 42 + 146 + 1190} = 0.87 $$\n",
    "\n",
    "$$Precision = \\frac{TP}{TP + FP} = \\frac{105}{105 + 42} = 0.71 $$\n",
    "\n",
    "$$Recall = \\frac{TP}{TP + FN} = \\frac{105}{105 + 146} = 0.42 $$\n",
    "\n",
    "$$F_1 = \\frac{2 * Precision * Recall}{Precision + Recall} = \\frac{2 * 0.71 * 0.42}{0.71 + 0.42} = 0.53 $$\n"
   ]
  },
  {
   "cell_type": "code",
   "execution_count": 51,
   "metadata": {
    "colab": {
     "base_uri": "https://localhost:8080/",
     "height": 167
    },
    "colab_type": "code",
    "id": "hLXSz6cIixZe",
    "outputId": "ea73b7d7-eb52-4b73-d91f-aa063d68d763"
   },
   "outputs": [
    {
     "name": "stdout",
     "output_type": "stream",
     "text": [
      "              precision    recall  f1-score   support\n",
      "\n",
      "           0       0.89      0.96      0.92       313\n",
      "           1       0.65      0.34      0.45        58\n",
      "\n",
      "    accuracy                           0.87       371\n",
      "   macro avg       0.77      0.65      0.69       371\n",
      "weighted avg       0.85      0.87      0.85       371\n",
      "\n"
     ]
    }
   ],
   "source": [
    "print(classification_report(y_test, y_test_pred))"
   ]
  },
  {
   "cell_type": "code",
   "execution_count": 52,
   "metadata": {
    "colab": {
     "base_uri": "https://localhost:8080/",
     "height": 50
    },
    "colab_type": "code",
    "id": "yGooM14Tx52H",
    "outputId": "79fedf00-0567-4a53-d65a-3ab472da3413"
   },
   "outputs": [
    {
     "name": "stdout",
     "output_type": "stream",
     "text": [
      "TP:  20 \tFP:  11 \n",
      "TN:  302 \tFN:  38\n"
     ]
    }
   ],
   "source": [
    "tn, fp, fn, tp = confusion_matrix(y_test, y_test_pred).ravel()\n",
    "print('TP: ', tp, '\\tFP: ', fp, '\\nTN: ', tn, '\\tFN: ', fn)"
   ]
  },
  {
   "cell_type": "markdown",
   "metadata": {
    "colab_type": "text",
    "id": "JZEvnyUTPe7E"
   },
   "source": [
    "### Ejercicio 2.2: Ajuste de Hiperparámetros\n",
    "\n",
    "Seleccionar valores para los hiperparámetros principales del SGDClassifier. Como mínimo, probar diferentes funciones de loss, tasas de entrenamiento y tasas de regularización.\n",
    "\n",
    "Para ello, usar grid-search y 5-fold cross-validation sobre el conjunto de entrenamiento para explorar muchas combinaciones posibles de valores.\n",
    "\n",
    "Reportar accuracy promedio y varianza para todas las configuraciones.\n",
    "\n",
    "Para la mejor configuración encontrada, evaluar sobre el conjunto de **entrenamiento** y sobre el conjunto de **evaluación**, reportando:\n",
    "- Accuracy\n",
    "- Precision\n",
    "- Recall\n",
    "- F1\n",
    "- matriz de confusión\n",
    "\n",
    "Documentación:\n",
    "- https://scikit-learn.org/stable/modules/grid_search.html\n",
    "- https://scikit-learn.org/stable/modules/generated/sklearn.model_selection.GridSearchCV.html"
   ]
  },
  {
   "cell_type": "code",
   "execution_count": 53,
   "metadata": {
    "colab": {},
    "colab_type": "code",
    "id": "9xMZPoKNssf8"
   },
   "outputs": [],
   "source": [
    "param_grid = {\n",
    "    'loss': [\n",
    "        'hinge',        # SVM\n",
    "        'log',          # logistic regression\n",
    "    ],\n",
    "    'learning_rate': [\n",
    "        'constant',\n",
    "        'optimal',\n",
    "        'invscaling', \n",
    "        'adaptive', \n",
    "    ],\n",
    "    'alpha': [0.0001, 0.001, 0.01, 0.1, 1.0], \n",
    "    'eta0': [0.01, 0.1, 1] \n",
    "}"
   ]
  },
  {
   "cell_type": "code",
   "execution_count": 54,
   "metadata": {
    "colab": {},
    "colab_type": "code",
    "id": "uBgHmZo2woMH"
   },
   "outputs": [],
   "source": [
    "#cv=None is cv=5 by default.. cross validation \n",
    "model = SGDClassifier(random_state=0)\n",
    "cv = GridSearchCV(model, param_grid, scoring='accuracy')\n",
    "cv.fit(X, y);"
   ]
  },
  {
   "cell_type": "code",
   "execution_count": 55,
   "metadata": {
    "colab": {},
    "colab_type": "code",
    "id": "eIQF6uqsfVwr"
   },
   "outputs": [],
   "source": [
    "results = cv.cv_results_\n",
    "df = pd.DataFrame(results)"
   ]
  },
  {
   "cell_type": "code",
   "execution_count": 56,
   "metadata": {
    "colab": {
     "base_uri": "https://localhost:8080/",
     "height": 307
    },
    "colab_type": "code",
    "id": "UUNS7gmed53c",
    "outputId": "52d2f2aa-ef27-403d-9852-0f0b44970e4b"
   },
   "outputs": [
    {
     "data": {
      "text/html": [
       "<div>\n",
       "<style scoped>\n",
       "    .dataframe tbody tr th:only-of-type {\n",
       "        vertical-align: middle;\n",
       "    }\n",
       "\n",
       "    .dataframe tbody tr th {\n",
       "        vertical-align: top;\n",
       "    }\n",
       "\n",
       "    .dataframe thead th {\n",
       "        text-align: right;\n",
       "    }\n",
       "</style>\n",
       "<table border=\"1\" class=\"dataframe\">\n",
       "  <thead>\n",
       "    <tr style=\"text-align: right;\">\n",
       "      <th></th>\n",
       "      <th>mean_fit_time</th>\n",
       "      <th>std_fit_time</th>\n",
       "      <th>mean_score_time</th>\n",
       "      <th>std_score_time</th>\n",
       "      <th>split0_test_score</th>\n",
       "      <th>split1_test_score</th>\n",
       "      <th>split2_test_score</th>\n",
       "      <th>split3_test_score</th>\n",
       "      <th>split4_test_score</th>\n",
       "      <th>mean_test_score</th>\n",
       "      <th>std_test_score</th>\n",
       "      <th>rank_test_score</th>\n",
       "    </tr>\n",
       "  </thead>\n",
       "  <tbody>\n",
       "    <tr>\n",
       "      <th>count</th>\n",
       "      <td>120.000000</td>\n",
       "      <td>1.200000e+02</td>\n",
       "      <td>120.000000</td>\n",
       "      <td>120.000000</td>\n",
       "      <td>120.000000</td>\n",
       "      <td>120.000000</td>\n",
       "      <td>120.000000</td>\n",
       "      <td>120.000000</td>\n",
       "      <td>120.000000</td>\n",
       "      <td>120.000000</td>\n",
       "      <td>120.000000</td>\n",
       "      <td>120.000000</td>\n",
       "    </tr>\n",
       "    <tr>\n",
       "      <th>mean</th>\n",
       "      <td>0.006337</td>\n",
       "      <td>7.779584e-04</td>\n",
       "      <td>0.001282</td>\n",
       "      <td>0.000349</td>\n",
       "      <td>0.721384</td>\n",
       "      <td>0.742408</td>\n",
       "      <td>0.615386</td>\n",
       "      <td>0.797484</td>\n",
       "      <td>0.726081</td>\n",
       "      <td>0.720549</td>\n",
       "      <td>0.149747</td>\n",
       "      <td>58.291667</td>\n",
       "    </tr>\n",
       "    <tr>\n",
       "      <th>std</th>\n",
       "      <td>0.003168</td>\n",
       "      <td>4.277507e-04</td>\n",
       "      <td>0.000231</td>\n",
       "      <td>0.000226</td>\n",
       "      <td>0.224659</td>\n",
       "      <td>0.209151</td>\n",
       "      <td>0.298843</td>\n",
       "      <td>0.090451</td>\n",
       "      <td>0.191627</td>\n",
       "      <td>0.109854</td>\n",
       "      <td>0.120546</td>\n",
       "      <td>34.802781</td>\n",
       "    </tr>\n",
       "    <tr>\n",
       "      <th>min</th>\n",
       "      <td>0.002000</td>\n",
       "      <td>9.536743e-08</td>\n",
       "      <td>0.001000</td>\n",
       "      <td>0.000000</td>\n",
       "      <td>0.167116</td>\n",
       "      <td>0.167116</td>\n",
       "      <td>0.167116</td>\n",
       "      <td>0.167116</td>\n",
       "      <td>0.159459</td>\n",
       "      <td>0.389666</td>\n",
       "      <td>0.000900</td>\n",
       "      <td>1.000000</td>\n",
       "    </tr>\n",
       "    <tr>\n",
       "      <th>25%</th>\n",
       "      <td>0.004200</td>\n",
       "      <td>4.898819e-04</td>\n",
       "      <td>0.001150</td>\n",
       "      <td>0.000300</td>\n",
       "      <td>0.765499</td>\n",
       "      <td>0.792453</td>\n",
       "      <td>0.172507</td>\n",
       "      <td>0.797844</td>\n",
       "      <td>0.757432</td>\n",
       "      <td>0.692094</td>\n",
       "      <td>0.020161</td>\n",
       "      <td>30.750000</td>\n",
       "    </tr>\n",
       "    <tr>\n",
       "      <th>50%</th>\n",
       "      <td>0.005900</td>\n",
       "      <td>7.483091e-04</td>\n",
       "      <td>0.001200</td>\n",
       "      <td>0.000400</td>\n",
       "      <td>0.822102</td>\n",
       "      <td>0.832884</td>\n",
       "      <td>0.827493</td>\n",
       "      <td>0.832884</td>\n",
       "      <td>0.835135</td>\n",
       "      <td>0.743610</td>\n",
       "      <td>0.173207</td>\n",
       "      <td>54.000000</td>\n",
       "    </tr>\n",
       "    <tr>\n",
       "      <th>75%</th>\n",
       "      <td>0.008000</td>\n",
       "      <td>1.019831e-03</td>\n",
       "      <td>0.001400</td>\n",
       "      <td>0.000490</td>\n",
       "      <td>0.832884</td>\n",
       "      <td>0.832884</td>\n",
       "      <td>0.832884</td>\n",
       "      <td>0.832884</td>\n",
       "      <td>0.835135</td>\n",
       "      <td>0.815140</td>\n",
       "      <td>0.260130</td>\n",
       "      <td>80.000000</td>\n",
       "    </tr>\n",
       "    <tr>\n",
       "      <th>max</th>\n",
       "      <td>0.015200</td>\n",
       "      <td>2.280499e-03</td>\n",
       "      <td>0.002000</td>\n",
       "      <td>0.001166</td>\n",
       "      <td>0.832884</td>\n",
       "      <td>0.835580</td>\n",
       "      <td>0.835580</td>\n",
       "      <td>0.849057</td>\n",
       "      <td>0.835135</td>\n",
       "      <td>0.833334</td>\n",
       "      <td>0.326527</td>\n",
       "      <td>120.000000</td>\n",
       "    </tr>\n",
       "  </tbody>\n",
       "</table>\n",
       "</div>"
      ],
      "text/plain": [
       "       mean_fit_time  std_fit_time  mean_score_time  std_score_time  \\\n",
       "count     120.000000  1.200000e+02       120.000000      120.000000   \n",
       "mean        0.006337  7.779584e-04         0.001282        0.000349   \n",
       "std         0.003168  4.277507e-04         0.000231        0.000226   \n",
       "min         0.002000  9.536743e-08         0.001000        0.000000   \n",
       "25%         0.004200  4.898819e-04         0.001150        0.000300   \n",
       "50%         0.005900  7.483091e-04         0.001200        0.000400   \n",
       "75%         0.008000  1.019831e-03         0.001400        0.000490   \n",
       "max         0.015200  2.280499e-03         0.002000        0.001166   \n",
       "\n",
       "       split0_test_score  split1_test_score  split2_test_score  \\\n",
       "count         120.000000         120.000000         120.000000   \n",
       "mean            0.721384           0.742408           0.615386   \n",
       "std             0.224659           0.209151           0.298843   \n",
       "min             0.167116           0.167116           0.167116   \n",
       "25%             0.765499           0.792453           0.172507   \n",
       "50%             0.822102           0.832884           0.827493   \n",
       "75%             0.832884           0.832884           0.832884   \n",
       "max             0.832884           0.835580           0.835580   \n",
       "\n",
       "       split3_test_score  split4_test_score  mean_test_score  std_test_score  \\\n",
       "count         120.000000         120.000000       120.000000      120.000000   \n",
       "mean            0.797484           0.726081         0.720549        0.149747   \n",
       "std             0.090451           0.191627         0.109854        0.120546   \n",
       "min             0.167116           0.159459         0.389666        0.000900   \n",
       "25%             0.797844           0.757432         0.692094        0.020161   \n",
       "50%             0.832884           0.835135         0.743610        0.173207   \n",
       "75%             0.832884           0.835135         0.815140        0.260130   \n",
       "max             0.849057           0.835135         0.833334        0.326527   \n",
       "\n",
       "       rank_test_score  \n",
       "count       120.000000  \n",
       "mean         58.291667  \n",
       "std          34.802781  \n",
       "min           1.000000  \n",
       "25%          30.750000  \n",
       "50%          54.000000  \n",
       "75%          80.000000  \n",
       "max         120.000000  "
      ]
     },
     "execution_count": 56,
     "metadata": {},
     "output_type": "execute_result"
    }
   ],
   "source": [
    "df.describe()"
   ]
  },
  {
   "cell_type": "code",
   "execution_count": 57,
   "metadata": {
    "colab": {
     "base_uri": "https://localhost:8080/",
     "height": 647
    },
    "colab_type": "code",
    "id": "wmMeivJdlegh",
    "outputId": "66faa237-e0a9-4068-f769-fd496d4921bf"
   },
   "outputs": [
    {
     "data": {
      "text/html": [
       "<div>\n",
       "<style scoped>\n",
       "    .dataframe tbody tr th:only-of-type {\n",
       "        vertical-align: middle;\n",
       "    }\n",
       "\n",
       "    .dataframe tbody tr th {\n",
       "        vertical-align: top;\n",
       "    }\n",
       "\n",
       "    .dataframe thead th {\n",
       "        text-align: right;\n",
       "    }\n",
       "</style>\n",
       "<table border=\"1\" class=\"dataframe\">\n",
       "  <thead>\n",
       "    <tr style=\"text-align: right;\">\n",
       "      <th></th>\n",
       "      <th>params</th>\n",
       "      <th>mean_test_score</th>\n",
       "      <th>std_test_score</th>\n",
       "      <th>rank_test_score</th>\n",
       "    </tr>\n",
       "  </thead>\n",
       "  <tbody>\n",
       "    <tr>\n",
       "      <th>0</th>\n",
       "      <td>{'alpha': 0.0001, 'eta0': 0.01, 'learning_rate': 'constant', 'loss': 'hinge'}</td>\n",
       "      <td>0.833334</td>\n",
       "      <td>0.000900</td>\n",
       "      <td>1</td>\n",
       "    </tr>\n",
       "    <tr>\n",
       "      <th>1</th>\n",
       "      <td>{'alpha': 0.0001, 'eta0': 0.01, 'learning_rate': 'constant', 'loss': 'log'}</td>\n",
       "      <td>0.832256</td>\n",
       "      <td>0.002536</td>\n",
       "      <td>11</td>\n",
       "    </tr>\n",
       "    <tr>\n",
       "      <th>2</th>\n",
       "      <td>{'alpha': 0.0001, 'eta0': 0.01, 'learning_rate': 'optimal', 'loss': 'hinge'}</td>\n",
       "      <td>0.743610</td>\n",
       "      <td>0.173207</td>\n",
       "      <td>54</td>\n",
       "    </tr>\n",
       "    <tr>\n",
       "      <th>3</th>\n",
       "      <td>{'alpha': 0.0001, 'eta0': 0.01, 'learning_rate': 'optimal', 'loss': 'log'}</td>\n",
       "      <td>0.692094</td>\n",
       "      <td>0.260130</td>\n",
       "      <td>80</td>\n",
       "    </tr>\n",
       "    <tr>\n",
       "      <th>4</th>\n",
       "      <td>{'alpha': 0.0001, 'eta0': 0.01, 'learning_rate': 'invscaling', 'loss': 'hinge'}</td>\n",
       "      <td>0.551357</td>\n",
       "      <td>0.314512</td>\n",
       "      <td>112</td>\n",
       "    </tr>\n",
       "    <tr>\n",
       "      <th>5</th>\n",
       "      <td>{'alpha': 0.0001, 'eta0': 0.01, 'learning_rate': 'invscaling', 'loss': 'log'}</td>\n",
       "      <td>0.696397</td>\n",
       "      <td>0.264719</td>\n",
       "      <td>76</td>\n",
       "    </tr>\n",
       "    <tr>\n",
       "      <th>6</th>\n",
       "      <td>{'alpha': 0.0001, 'eta0': 0.01, 'learning_rate': 'adaptive', 'loss': 'hinge'}</td>\n",
       "      <td>0.762174</td>\n",
       "      <td>0.058906</td>\n",
       "      <td>48</td>\n",
       "    </tr>\n",
       "    <tr>\n",
       "      <th>7</th>\n",
       "      <td>{'alpha': 0.0001, 'eta0': 0.01, 'learning_rate': 'adaptive', 'loss': 'log'}</td>\n",
       "      <td>0.792336</td>\n",
       "      <td>0.024269</td>\n",
       "      <td>36</td>\n",
       "    </tr>\n",
       "    <tr>\n",
       "      <th>8</th>\n",
       "      <td>{'alpha': 0.0001, 'eta0': 0.1, 'learning_rate': 'constant', 'loss': 'hinge'}</td>\n",
       "      <td>0.683658</td>\n",
       "      <td>0.251569</td>\n",
       "      <td>92</td>\n",
       "    </tr>\n",
       "    <tr>\n",
       "      <th>9</th>\n",
       "      <td>{'alpha': 0.0001, 'eta0': 0.1, 'learning_rate': 'constant', 'loss': 'log'}</td>\n",
       "      <td>0.831713</td>\n",
       "      <td>0.002343</td>\n",
       "      <td>19</td>\n",
       "    </tr>\n",
       "    <tr>\n",
       "      <th>10</th>\n",
       "      <td>{'alpha': 0.0001, 'eta0': 0.1, 'learning_rate': 'optimal', 'loss': 'hinge'}</td>\n",
       "      <td>0.743610</td>\n",
       "      <td>0.173207</td>\n",
       "      <td>54</td>\n",
       "    </tr>\n",
       "    <tr>\n",
       "      <th>11</th>\n",
       "      <td>{'alpha': 0.0001, 'eta0': 0.1, 'learning_rate': 'optimal', 'loss': 'log'}</td>\n",
       "      <td>0.692094</td>\n",
       "      <td>0.260130</td>\n",
       "      <td>80</td>\n",
       "    </tr>\n",
       "    <tr>\n",
       "      <th>12</th>\n",
       "      <td>{'alpha': 0.0001, 'eta0': 0.1, 'learning_rate': 'invscaling', 'loss': 'hinge'}</td>\n",
       "      <td>0.697485</td>\n",
       "      <td>0.265243</td>\n",
       "      <td>74</td>\n",
       "    </tr>\n",
       "    <tr>\n",
       "      <th>13</th>\n",
       "      <td>{'alpha': 0.0001, 'eta0': 0.1, 'learning_rate': 'invscaling', 'loss': 'log'}</td>\n",
       "      <td>0.568102</td>\n",
       "      <td>0.323022</td>\n",
       "      <td>108</td>\n",
       "    </tr>\n",
       "    <tr>\n",
       "      <th>14</th>\n",
       "      <td>{'alpha': 0.0001, 'eta0': 0.1, 'learning_rate': 'adaptive', 'loss': 'hinge'}</td>\n",
       "      <td>0.789105</td>\n",
       "      <td>0.026704</td>\n",
       "      <td>39</td>\n",
       "    </tr>\n",
       "    <tr>\n",
       "      <th>15</th>\n",
       "      <td>{'alpha': 0.0001, 'eta0': 0.1, 'learning_rate': 'adaptive', 'loss': 'log'}</td>\n",
       "      <td>0.788016</td>\n",
       "      <td>0.025060</td>\n",
       "      <td>40</td>\n",
       "    </tr>\n",
       "    <tr>\n",
       "      <th>16</th>\n",
       "      <td>{'alpha': 0.0001, 'eta0': 1, 'learning_rate': 'constant', 'loss': 'hinge'}</td>\n",
       "      <td>0.603424</td>\n",
       "      <td>0.273547</td>\n",
       "      <td>100</td>\n",
       "    </tr>\n",
       "    <tr>\n",
       "      <th>17</th>\n",
       "      <td>{'alpha': 0.0001, 'eta0': 1, 'learning_rate': 'constant', 'loss': 'log'}</td>\n",
       "      <td>0.830100</td>\n",
       "      <td>0.005571</td>\n",
       "      <td>24</td>\n",
       "    </tr>\n",
       "    <tr>\n",
       "      <th>18</th>\n",
       "      <td>{'alpha': 0.0001, 'eta0': 1, 'learning_rate': 'optimal', 'loss': 'hinge'}</td>\n",
       "      <td>0.743610</td>\n",
       "      <td>0.173207</td>\n",
       "      <td>54</td>\n",
       "    </tr>\n",
       "    <tr>\n",
       "      <th>19</th>\n",
       "      <td>{'alpha': 0.0001, 'eta0': 1, 'learning_rate': 'optimal', 'loss': 'log'}</td>\n",
       "      <td>0.692094</td>\n",
       "      <td>0.260130</td>\n",
       "      <td>80</td>\n",
       "    </tr>\n",
       "  </tbody>\n",
       "</table>\n",
       "</div>"
      ],
      "text/plain": [
       "                                                                             params  \\\n",
       "0     {'alpha': 0.0001, 'eta0': 0.01, 'learning_rate': 'constant', 'loss': 'hinge'}   \n",
       "1       {'alpha': 0.0001, 'eta0': 0.01, 'learning_rate': 'constant', 'loss': 'log'}   \n",
       "2      {'alpha': 0.0001, 'eta0': 0.01, 'learning_rate': 'optimal', 'loss': 'hinge'}   \n",
       "3        {'alpha': 0.0001, 'eta0': 0.01, 'learning_rate': 'optimal', 'loss': 'log'}   \n",
       "4   {'alpha': 0.0001, 'eta0': 0.01, 'learning_rate': 'invscaling', 'loss': 'hinge'}   \n",
       "5     {'alpha': 0.0001, 'eta0': 0.01, 'learning_rate': 'invscaling', 'loss': 'log'}   \n",
       "6     {'alpha': 0.0001, 'eta0': 0.01, 'learning_rate': 'adaptive', 'loss': 'hinge'}   \n",
       "7       {'alpha': 0.0001, 'eta0': 0.01, 'learning_rate': 'adaptive', 'loss': 'log'}   \n",
       "8      {'alpha': 0.0001, 'eta0': 0.1, 'learning_rate': 'constant', 'loss': 'hinge'}   \n",
       "9        {'alpha': 0.0001, 'eta0': 0.1, 'learning_rate': 'constant', 'loss': 'log'}   \n",
       "10      {'alpha': 0.0001, 'eta0': 0.1, 'learning_rate': 'optimal', 'loss': 'hinge'}   \n",
       "11        {'alpha': 0.0001, 'eta0': 0.1, 'learning_rate': 'optimal', 'loss': 'log'}   \n",
       "12   {'alpha': 0.0001, 'eta0': 0.1, 'learning_rate': 'invscaling', 'loss': 'hinge'}   \n",
       "13     {'alpha': 0.0001, 'eta0': 0.1, 'learning_rate': 'invscaling', 'loss': 'log'}   \n",
       "14     {'alpha': 0.0001, 'eta0': 0.1, 'learning_rate': 'adaptive', 'loss': 'hinge'}   \n",
       "15       {'alpha': 0.0001, 'eta0': 0.1, 'learning_rate': 'adaptive', 'loss': 'log'}   \n",
       "16       {'alpha': 0.0001, 'eta0': 1, 'learning_rate': 'constant', 'loss': 'hinge'}   \n",
       "17         {'alpha': 0.0001, 'eta0': 1, 'learning_rate': 'constant', 'loss': 'log'}   \n",
       "18        {'alpha': 0.0001, 'eta0': 1, 'learning_rate': 'optimal', 'loss': 'hinge'}   \n",
       "19          {'alpha': 0.0001, 'eta0': 1, 'learning_rate': 'optimal', 'loss': 'log'}   \n",
       "\n",
       "    mean_test_score  std_test_score  rank_test_score  \n",
       "0          0.833334        0.000900                1  \n",
       "1          0.832256        0.002536               11  \n",
       "2          0.743610        0.173207               54  \n",
       "3          0.692094        0.260130               80  \n",
       "4          0.551357        0.314512              112  \n",
       "5          0.696397        0.264719               76  \n",
       "6          0.762174        0.058906               48  \n",
       "7          0.792336        0.024269               36  \n",
       "8          0.683658        0.251569               92  \n",
       "9          0.831713        0.002343               19  \n",
       "10         0.743610        0.173207               54  \n",
       "11         0.692094        0.260130               80  \n",
       "12         0.697485        0.265243               74  \n",
       "13         0.568102        0.323022              108  \n",
       "14         0.789105        0.026704               39  \n",
       "15         0.788016        0.025060               40  \n",
       "16         0.603424        0.273547              100  \n",
       "17         0.830100        0.005571               24  \n",
       "18         0.743610        0.173207               54  \n",
       "19         0.692094        0.260130               80  "
      ]
     },
     "execution_count": 57,
     "metadata": {},
     "output_type": "execute_result"
    }
   ],
   "source": [
    "pd.options.display.max_colwidth = 100\n",
    "df[['params','mean_test_score','std_test_score','rank_test_score']].head(20)"
   ]
  },
  {
   "cell_type": "code",
   "execution_count": 58,
   "metadata": {
    "colab": {},
    "colab_type": "code",
    "id": "u_IBLL96S2RP"
   },
   "outputs": [],
   "source": [
    "df.sort_values(['mean_test_score','std_test_score','rank_test_score'],\n",
    "               ascending = [False,True,True],\n",
    "               inplace=True)\n",
    "df.reset_index(drop=True,inplace=True)"
   ]
  },
  {
   "cell_type": "code",
   "execution_count": 59,
   "metadata": {
    "colab": {
     "base_uri": "https://localhost:8080/",
     "height": 542
    },
    "colab_type": "code",
    "id": "IGVvJL3KSDq1",
    "outputId": "68d991d6-2290-4e5d-e30e-077a73a95f63"
   },
   "outputs": [
    {
     "data": {
      "application/vnd.plotly.v1+json": {
       "config": {
        "plotlyServerURL": "https://plot.ly"
       },
       "data": [
        {
         "marker": {
          "color": "royalblue"
         },
         "mode": "markers",
         "name": "Mean score",
         "text": [
          "{'alpha': 0.0001, 'eta0': 0.01, 'learning_rate': 'constant', 'loss': 'hinge'}",
          "{'alpha': 0.1, 'eta0': 1, 'learning_rate': 'constant', 'loss': 'hinge'}",
          "{'alpha': 0.1, 'eta0': 1, 'learning_rate': 'constant', 'loss': 'log'}",
          "{'alpha': 1.0, 'eta0': 0.1, 'learning_rate': 'constant', 'loss': 'hinge'}",
          "{'alpha': 1.0, 'eta0': 0.1, 'learning_rate': 'constant', 'loss': 'log'}",
          "{'alpha': 1.0, 'eta0': 1, 'learning_rate': 'constant', 'loss': 'hinge'}",
          "{'alpha': 1.0, 'eta0': 1, 'learning_rate': 'constant', 'loss': 'log'}",
          "{'alpha': 0.001, 'eta0': 1, 'learning_rate': 'constant', 'loss': 'hinge'}",
          "{'alpha': 0.01, 'eta0': 0.1, 'learning_rate': 'constant', 'loss': 'hinge'}",
          "{'alpha': 0.1, 'eta0': 0.01, 'learning_rate': 'constant', 'loss': 'hinge'}",
          "{'alpha': 0.0001, 'eta0': 0.01, 'learning_rate': 'constant', 'loss': 'log'}",
          "{'alpha': 0.01, 'eta0': 1, 'learning_rate': 'constant', 'loss': 'hinge'}",
          "{'alpha': 0.01, 'eta0': 1, 'learning_rate': 'constant', 'loss': 'log'}",
          "{'alpha': 0.1, 'eta0': 0.1, 'learning_rate': 'constant', 'loss': 'hinge'}",
          "{'alpha': 0.1, 'eta0': 0.1, 'learning_rate': 'constant', 'loss': 'log'}",
          "{'alpha': 1.0, 'eta0': 0.01, 'learning_rate': 'constant', 'loss': 'hinge'}",
          "{'alpha': 1.0, 'eta0': 0.01, 'learning_rate': 'constant', 'loss': 'log'}",
          "{'alpha': 1.0, 'eta0': 1, 'learning_rate': 'adaptive', 'loss': 'log'}",
          "{'alpha': 0.0001, 'eta0': 0.1, 'learning_rate': 'constant', 'loss': 'log'}",
          "{'alpha': 0.001, 'eta0': 0.01, 'learning_rate': 'constant', 'loss': 'log'}",
          "{'alpha': 1.0, 'eta0': 0.01, 'learning_rate': 'optimal', 'loss': 'log'}",
          "{'alpha': 1.0, 'eta0': 0.1, 'learning_rate': 'optimal', 'loss': 'log'}",
          "{'alpha': 1.0, 'eta0': 1, 'learning_rate': 'optimal', 'loss': 'log'}",
          "{'alpha': 0.0001, 'eta0': 1, 'learning_rate': 'constant', 'loss': 'log'}",
          "{'alpha': 0.001, 'eta0': 0.1, 'learning_rate': 'constant', 'loss': 'log'}",
          "{'alpha': 0.01, 'eta0': 0.01, 'learning_rate': 'constant', 'loss': 'log'}",
          "{'alpha': 0.1, 'eta0': 0.1, 'learning_rate': 'adaptive', 'loss': 'hinge'}",
          "{'alpha': 1.0, 'eta0': 0.01, 'learning_rate': 'adaptive', 'loss': 'hinge'}",
          "{'alpha': 0.1, 'eta0': 0.01, 'learning_rate': 'adaptive', 'loss': 'log'}",
          "{'alpha': 0.01, 'eta0': 1, 'learning_rate': 'adaptive', 'loss': 'hinge'}",
          "{'alpha': 0.001, 'eta0': 1, 'learning_rate': 'constant', 'loss': 'log'}",
          "{'alpha': 0.01, 'eta0': 0.1, 'learning_rate': 'constant', 'loss': 'log'}",
          "{'alpha': 0.1, 'eta0': 0.01, 'learning_rate': 'constant', 'loss': 'log'}",
          "{'alpha': 0.01, 'eta0': 1, 'learning_rate': 'adaptive', 'loss': 'log'}",
          "{'alpha': 0.1, 'eta0': 1, 'learning_rate': 'adaptive', 'loss': 'hinge'}",
          "{'alpha': 0.0001, 'eta0': 0.01, 'learning_rate': 'adaptive', 'loss': 'log'}",
          "{'alpha': 1.0, 'eta0': 0.01, 'learning_rate': 'adaptive', 'loss': 'log'}",
          "{'alpha': 0.01, 'eta0': 0.01, 'learning_rate': 'adaptive', 'loss': 'log'}",
          "{'alpha': 0.0001, 'eta0': 0.1, 'learning_rate': 'adaptive', 'loss': 'hinge'}",
          "{'alpha': 0.0001, 'eta0': 0.1, 'learning_rate': 'adaptive', 'loss': 'log'}",
          "{'alpha': 0.001, 'eta0': 1, 'learning_rate': 'adaptive', 'loss': 'hinge'}",
          "{'alpha': 0.0001, 'eta0': 1, 'learning_rate': 'adaptive', 'loss': 'log'}",
          "{'alpha': 0.0001, 'eta0': 1, 'learning_rate': 'adaptive', 'loss': 'hinge'}",
          "{'alpha': 0.001, 'eta0': 0.1, 'learning_rate': 'adaptive', 'loss': 'hinge'}",
          "{'alpha': 0.001, 'eta0': 1, 'learning_rate': 'adaptive', 'loss': 'log'}",
          "{'alpha': 0.001, 'eta0': 0.1, 'learning_rate': 'adaptive', 'loss': 'log'}",
          "{'alpha': 0.01, 'eta0': 0.1, 'learning_rate': 'adaptive', 'loss': 'log'}",
          "{'alpha': 0.0001, 'eta0': 0.01, 'learning_rate': 'adaptive', 'loss': 'hinge'}",
          "{'alpha': 0.001, 'eta0': 0.01, 'learning_rate': 'adaptive', 'loss': 'log'}",
          "{'alpha': 0.1, 'eta0': 1, 'learning_rate': 'adaptive', 'loss': 'log'}",
          "{'alpha': 0.1, 'eta0': 0.01, 'learning_rate': 'adaptive', 'loss': 'hinge'}",
          "{'alpha': 0.01, 'eta0': 0.01, 'learning_rate': 'adaptive', 'loss': 'hinge'}",
          "{'alpha': 0.001, 'eta0': 0.01, 'learning_rate': 'adaptive', 'loss': 'hinge'}",
          "{'alpha': 0.0001, 'eta0': 0.01, 'learning_rate': 'optimal', 'loss': 'hinge'}",
          "{'alpha': 0.0001, 'eta0': 0.1, 'learning_rate': 'optimal', 'loss': 'hinge'}",
          "{'alpha': 0.0001, 'eta0': 1, 'learning_rate': 'optimal', 'loss': 'hinge'}",
          "{'alpha': 0.001, 'eta0': 0.01, 'learning_rate': 'optimal', 'loss': 'hinge'}",
          "{'alpha': 0.001, 'eta0': 0.1, 'learning_rate': 'optimal', 'loss': 'hinge'}",
          "{'alpha': 0.001, 'eta0': 1, 'learning_rate': 'optimal', 'loss': 'hinge'}",
          "{'alpha': 0.01, 'eta0': 0.01, 'learning_rate': 'optimal', 'loss': 'hinge'}",
          "{'alpha': 0.01, 'eta0': 0.1, 'learning_rate': 'optimal', 'loss': 'hinge'}",
          "{'alpha': 0.01, 'eta0': 1, 'learning_rate': 'optimal', 'loss': 'hinge'}",
          "{'alpha': 0.1, 'eta0': 0.01, 'learning_rate': 'optimal', 'loss': 'hinge'}",
          "{'alpha': 0.1, 'eta0': 0.1, 'learning_rate': 'optimal', 'loss': 'hinge'}",
          "{'alpha': 0.1, 'eta0': 1, 'learning_rate': 'optimal', 'loss': 'hinge'}",
          "{'alpha': 1.0, 'eta0': 0.01, 'learning_rate': 'optimal', 'loss': 'hinge'}",
          "{'alpha': 1.0, 'eta0': 0.1, 'learning_rate': 'optimal', 'loss': 'hinge'}",
          "{'alpha': 1.0, 'eta0': 1, 'learning_rate': 'optimal', 'loss': 'hinge'}",
          "{'alpha': 1.0, 'eta0': 0.1, 'learning_rate': 'adaptive', 'loss': 'hinge'}",
          "{'alpha': 0.01, 'eta0': 0.1, 'learning_rate': 'adaptive', 'loss': 'hinge'}",
          "{'alpha': 1.0, 'eta0': 0.1, 'learning_rate': 'adaptive', 'loss': 'log'}",
          "{'alpha': 0.1, 'eta0': 1, 'learning_rate': 'invscaling', 'loss': 'hinge'}",
          "{'alpha': 1.0, 'eta0': 0.1, 'learning_rate': 'invscaling', 'loss': 'hinge'}",
          "{'alpha': 0.0001, 'eta0': 0.1, 'learning_rate': 'invscaling', 'loss': 'hinge'}",
          "{'alpha': 0.001, 'eta0': 0.01, 'learning_rate': 'invscaling', 'loss': 'hinge'}",
          "{'alpha': 0.0001, 'eta0': 0.01, 'learning_rate': 'invscaling', 'loss': 'log'}",
          "{'alpha': 0.001, 'eta0': 1, 'learning_rate': 'invscaling', 'loss': 'log'}",
          "{'alpha': 0.01, 'eta0': 0.1, 'learning_rate': 'invscaling', 'loss': 'log'}",
          "{'alpha': 0.1, 'eta0': 0.01, 'learning_rate': 'invscaling', 'loss': 'log'}",
          "{'alpha': 0.0001, 'eta0': 0.01, 'learning_rate': 'optimal', 'loss': 'log'}",
          "{'alpha': 0.0001, 'eta0': 0.1, 'learning_rate': 'optimal', 'loss': 'log'}",
          "{'alpha': 0.0001, 'eta0': 1, 'learning_rate': 'optimal', 'loss': 'log'}",
          "{'alpha': 0.001, 'eta0': 0.01, 'learning_rate': 'optimal', 'loss': 'log'}",
          "{'alpha': 0.001, 'eta0': 0.1, 'learning_rate': 'optimal', 'loss': 'log'}",
          "{'alpha': 0.001, 'eta0': 1, 'learning_rate': 'optimal', 'loss': 'log'}",
          "{'alpha': 0.01, 'eta0': 0.01, 'learning_rate': 'optimal', 'loss': 'log'}",
          "{'alpha': 0.01, 'eta0': 0.1, 'learning_rate': 'optimal', 'loss': 'log'}",
          "{'alpha': 0.01, 'eta0': 1, 'learning_rate': 'optimal', 'loss': 'log'}",
          "{'alpha': 0.1, 'eta0': 0.01, 'learning_rate': 'optimal', 'loss': 'log'}",
          "{'alpha': 0.1, 'eta0': 0.1, 'learning_rate': 'optimal', 'loss': 'log'}",
          "{'alpha': 0.1, 'eta0': 1, 'learning_rate': 'optimal', 'loss': 'log'}",
          "{'alpha': 0.0001, 'eta0': 0.1, 'learning_rate': 'constant', 'loss': 'hinge'}",
          "{'alpha': 0.001, 'eta0': 0.01, 'learning_rate': 'constant', 'loss': 'hinge'}",
          "{'alpha': 0.01, 'eta0': 1, 'learning_rate': 'invscaling', 'loss': 'log'}",
          "{'alpha': 0.1, 'eta0': 0.1, 'learning_rate': 'invscaling', 'loss': 'log'}",
          "{'alpha': 1.0, 'eta0': 0.01, 'learning_rate': 'invscaling', 'loss': 'log'}",
          "{'alpha': 0.0001, 'eta0': 1, 'learning_rate': 'invscaling', 'loss': 'log'}",
          "{'alpha': 0.001, 'eta0': 0.1, 'learning_rate': 'invscaling', 'loss': 'log'}",
          "{'alpha': 0.01, 'eta0': 0.01, 'learning_rate': 'invscaling', 'loss': 'log'}",
          "{'alpha': 0.0001, 'eta0': 1, 'learning_rate': 'constant', 'loss': 'hinge'}",
          "{'alpha': 0.001, 'eta0': 0.1, 'learning_rate': 'constant', 'loss': 'hinge'}",
          "{'alpha': 0.01, 'eta0': 0.01, 'learning_rate': 'constant', 'loss': 'hinge'}",
          "{'alpha': 0.0001, 'eta0': 1, 'learning_rate': 'invscaling', 'loss': 'hinge'}",
          "{'alpha': 0.001, 'eta0': 0.1, 'learning_rate': 'invscaling', 'loss': 'hinge'}",
          "{'alpha': 0.01, 'eta0': 0.01, 'learning_rate': 'invscaling', 'loss': 'hinge'}",
          "{'alpha': 0.1, 'eta0': 1, 'learning_rate': 'invscaling', 'loss': 'log'}",
          "{'alpha': 1.0, 'eta0': 0.1, 'learning_rate': 'invscaling', 'loss': 'log'}",
          "{'alpha': 0.0001, 'eta0': 0.1, 'learning_rate': 'invscaling', 'loss': 'log'}",
          "{'alpha': 1.0, 'eta0': 1, 'learning_rate': 'adaptive', 'loss': 'hinge'}",
          "{'alpha': 1.0, 'eta0': 1, 'learning_rate': 'invscaling', 'loss': 'hinge'}",
          "{'alpha': 1.0, 'eta0': 1, 'learning_rate': 'invscaling', 'loss': 'log'}",
          "{'alpha': 0.0001, 'eta0': 0.01, 'learning_rate': 'invscaling', 'loss': 'hinge'}",
          "{'alpha': 0.1, 'eta0': 0.1, 'learning_rate': 'adaptive', 'loss': 'log'}",
          "{'alpha': 0.01, 'eta0': 1, 'learning_rate': 'invscaling', 'loss': 'hinge'}",
          "{'alpha': 0.1, 'eta0': 0.1, 'learning_rate': 'invscaling', 'loss': 'hinge'}",
          "{'alpha': 1.0, 'eta0': 0.01, 'learning_rate': 'invscaling', 'loss': 'hinge'}",
          "{'alpha': 0.001, 'eta0': 1, 'learning_rate': 'invscaling', 'loss': 'hinge'}",
          "{'alpha': 0.01, 'eta0': 0.1, 'learning_rate': 'invscaling', 'loss': 'hinge'}",
          "{'alpha': 0.1, 'eta0': 0.01, 'learning_rate': 'invscaling', 'loss': 'hinge'}",
          "{'alpha': 0.001, 'eta0': 0.01, 'learning_rate': 'invscaling', 'loss': 'log'}"
         ],
         "type": "scatter",
         "x": [
          0,
          1,
          2,
          3,
          4,
          5,
          6,
          7,
          8,
          9,
          10,
          11,
          12,
          13,
          14,
          15,
          16,
          17,
          18,
          19,
          20,
          21,
          22,
          23,
          24,
          25,
          26,
          27,
          28,
          29,
          30,
          31,
          32,
          33,
          34,
          35,
          36,
          37,
          38,
          39,
          40,
          41,
          42,
          43,
          44,
          45,
          46,
          47,
          48,
          49,
          50,
          51,
          52,
          53,
          54,
          55,
          56,
          57,
          58,
          59,
          60,
          61,
          62,
          63,
          64,
          65,
          66,
          67,
          68,
          69,
          70,
          71,
          72,
          73,
          74,
          75,
          76,
          77,
          78,
          79,
          80,
          81,
          82,
          83,
          84,
          85,
          86,
          87,
          88,
          89,
          90,
          91,
          92,
          93,
          94,
          95,
          96,
          97,
          98,
          99,
          100,
          101,
          102,
          103,
          104,
          105,
          106,
          107,
          108,
          109,
          110,
          111,
          112,
          113,
          114,
          115,
          116,
          117,
          118,
          119
         ],
         "y": [
          0.8333343046550594,
          0.8333343046550594,
          0.8333343046550594,
          0.8333343046550594,
          0.8333343046550594,
          0.8333343046550594,
          0.8333343046550594,
          0.8327952210971079,
          0.8327952210971079,
          0.8327952210971079,
          0.8322561375391564,
          0.8322561375391564,
          0.8322561375391564,
          0.8322561375391564,
          0.8322561375391564,
          0.8322561375391564,
          0.8322561375391564,
          0.8322561375391564,
          0.8317126830334377,
          0.8317126830334377,
          0.8311779704232535,
          0.8311779704232535,
          0.8311779704232535,
          0.8300998033073504,
          0.8300998033073504,
          0.8300998033073504,
          0.8268653019596416,
          0.8247089677278356,
          0.8236308006119326,
          0.8155430902600715,
          0.8150054636847089,
          0.8150054636847089,
          0.8150054636847089,
          0.8123071319297734,
          0.8063801267574853,
          0.7923362715815546,
          0.7918248706927953,
          0.7907306767684126,
          0.7891046841990238,
          0.7880163182049975,
          0.7858716398339041,
          0.7858687258687258,
          0.78371239163692,
          0.7788606396153567,
          0.77347271800102,
          0.7702280177751877,
          0.763138340496831,
          0.7621738180228746,
          0.7605551103664311,
          0.7562453558679973,
          0.7481591024987251,
          0.7476200189407738,
          0.7459444889633569,
          0.7436104028556859,
          0.7436104028556859,
          0.7436104028556859,
          0.7436104028556859,
          0.7436104028556859,
          0.7436104028556859,
          0.7436104028556859,
          0.7436104028556859,
          0.7436104028556859,
          0.7436104028556859,
          0.7436104028556859,
          0.7436104028556859,
          0.7436104028556859,
          0.7436104028556859,
          0.7436104028556859,
          0.7427682669192104,
          0.7199125810446565,
          0.7190485903693451,
          0.6980243316092374,
          0.6980243316092374,
          0.6974852480512859,
          0.6974852480512859,
          0.6963968820572595,
          0.6947898302615284,
          0.6947898302615284,
          0.6947898302615284,
          0.6920944124717711,
          0.6920944124717711,
          0.6920944124717711,
          0.6920944124717711,
          0.6920944124717711,
          0.6920944124717711,
          0.6920944124717711,
          0.6920944124717711,
          0.6920944124717711,
          0.6920944124717711,
          0.6920944124717711,
          0.6920944124717711,
          0.6836584832811248,
          0.6836584832811248,
          0.669382967873534,
          0.669382967873534,
          0.669382967873534,
          0.6613666496685365,
          0.6613666496685365,
          0.6586712318787791,
          0.6034239090842864,
          0.6034239090842864,
          0.6034239090842864,
          0.569183361258833,
          0.569183361258833,
          0.569183361258833,
          0.569183361258833,
          0.569183361258833,
          0.5681022801777518,
          0.567027027027027,
          0.567027027027027,
          0.567027027027027,
          0.5513571792817076,
          0.5397086034821883,
          0.45950316893713117,
          0.45950316893713117,
          0.45950316893713117,
          0.4020674582938734,
          0.4020674582938734,
          0.4020674582938734,
          0.38966562249581116
         ],
         "yaxis": "y"
        },
        {
         "marker": {
          "color": "green"
         },
         "mode": "markers",
         "name": "Std score",
         "text": [
          "{'alpha': 0.0001, 'eta0': 0.01, 'learning_rate': 'constant', 'loss': 'hinge'}",
          "{'alpha': 0.1, 'eta0': 1, 'learning_rate': 'constant', 'loss': 'hinge'}",
          "{'alpha': 0.1, 'eta0': 1, 'learning_rate': 'constant', 'loss': 'log'}",
          "{'alpha': 1.0, 'eta0': 0.1, 'learning_rate': 'constant', 'loss': 'hinge'}",
          "{'alpha': 1.0, 'eta0': 0.1, 'learning_rate': 'constant', 'loss': 'log'}",
          "{'alpha': 1.0, 'eta0': 1, 'learning_rate': 'constant', 'loss': 'hinge'}",
          "{'alpha': 1.0, 'eta0': 1, 'learning_rate': 'constant', 'loss': 'log'}",
          "{'alpha': 0.001, 'eta0': 1, 'learning_rate': 'constant', 'loss': 'hinge'}",
          "{'alpha': 0.01, 'eta0': 0.1, 'learning_rate': 'constant', 'loss': 'hinge'}",
          "{'alpha': 0.1, 'eta0': 0.01, 'learning_rate': 'constant', 'loss': 'hinge'}",
          "{'alpha': 0.0001, 'eta0': 0.01, 'learning_rate': 'constant', 'loss': 'log'}",
          "{'alpha': 0.01, 'eta0': 1, 'learning_rate': 'constant', 'loss': 'hinge'}",
          "{'alpha': 0.01, 'eta0': 1, 'learning_rate': 'constant', 'loss': 'log'}",
          "{'alpha': 0.1, 'eta0': 0.1, 'learning_rate': 'constant', 'loss': 'hinge'}",
          "{'alpha': 0.1, 'eta0': 0.1, 'learning_rate': 'constant', 'loss': 'log'}",
          "{'alpha': 1.0, 'eta0': 0.01, 'learning_rate': 'constant', 'loss': 'hinge'}",
          "{'alpha': 1.0, 'eta0': 0.01, 'learning_rate': 'constant', 'loss': 'log'}",
          "{'alpha': 1.0, 'eta0': 1, 'learning_rate': 'adaptive', 'loss': 'log'}",
          "{'alpha': 0.0001, 'eta0': 0.1, 'learning_rate': 'constant', 'loss': 'log'}",
          "{'alpha': 0.001, 'eta0': 0.01, 'learning_rate': 'constant', 'loss': 'log'}",
          "{'alpha': 1.0, 'eta0': 0.01, 'learning_rate': 'optimal', 'loss': 'log'}",
          "{'alpha': 1.0, 'eta0': 0.1, 'learning_rate': 'optimal', 'loss': 'log'}",
          "{'alpha': 1.0, 'eta0': 1, 'learning_rate': 'optimal', 'loss': 'log'}",
          "{'alpha': 0.0001, 'eta0': 1, 'learning_rate': 'constant', 'loss': 'log'}",
          "{'alpha': 0.001, 'eta0': 0.1, 'learning_rate': 'constant', 'loss': 'log'}",
          "{'alpha': 0.01, 'eta0': 0.01, 'learning_rate': 'constant', 'loss': 'log'}",
          "{'alpha': 0.1, 'eta0': 0.1, 'learning_rate': 'adaptive', 'loss': 'hinge'}",
          "{'alpha': 1.0, 'eta0': 0.01, 'learning_rate': 'adaptive', 'loss': 'hinge'}",
          "{'alpha': 0.1, 'eta0': 0.01, 'learning_rate': 'adaptive', 'loss': 'log'}",
          "{'alpha': 0.01, 'eta0': 1, 'learning_rate': 'adaptive', 'loss': 'hinge'}",
          "{'alpha': 0.001, 'eta0': 1, 'learning_rate': 'constant', 'loss': 'log'}",
          "{'alpha': 0.01, 'eta0': 0.1, 'learning_rate': 'constant', 'loss': 'log'}",
          "{'alpha': 0.1, 'eta0': 0.01, 'learning_rate': 'constant', 'loss': 'log'}",
          "{'alpha': 0.01, 'eta0': 1, 'learning_rate': 'adaptive', 'loss': 'log'}",
          "{'alpha': 0.1, 'eta0': 1, 'learning_rate': 'adaptive', 'loss': 'hinge'}",
          "{'alpha': 0.0001, 'eta0': 0.01, 'learning_rate': 'adaptive', 'loss': 'log'}",
          "{'alpha': 1.0, 'eta0': 0.01, 'learning_rate': 'adaptive', 'loss': 'log'}",
          "{'alpha': 0.01, 'eta0': 0.01, 'learning_rate': 'adaptive', 'loss': 'log'}",
          "{'alpha': 0.0001, 'eta0': 0.1, 'learning_rate': 'adaptive', 'loss': 'hinge'}",
          "{'alpha': 0.0001, 'eta0': 0.1, 'learning_rate': 'adaptive', 'loss': 'log'}",
          "{'alpha': 0.001, 'eta0': 1, 'learning_rate': 'adaptive', 'loss': 'hinge'}",
          "{'alpha': 0.0001, 'eta0': 1, 'learning_rate': 'adaptive', 'loss': 'log'}",
          "{'alpha': 0.0001, 'eta0': 1, 'learning_rate': 'adaptive', 'loss': 'hinge'}",
          "{'alpha': 0.001, 'eta0': 0.1, 'learning_rate': 'adaptive', 'loss': 'hinge'}",
          "{'alpha': 0.001, 'eta0': 1, 'learning_rate': 'adaptive', 'loss': 'log'}",
          "{'alpha': 0.001, 'eta0': 0.1, 'learning_rate': 'adaptive', 'loss': 'log'}",
          "{'alpha': 0.01, 'eta0': 0.1, 'learning_rate': 'adaptive', 'loss': 'log'}",
          "{'alpha': 0.0001, 'eta0': 0.01, 'learning_rate': 'adaptive', 'loss': 'hinge'}",
          "{'alpha': 0.001, 'eta0': 0.01, 'learning_rate': 'adaptive', 'loss': 'log'}",
          "{'alpha': 0.1, 'eta0': 1, 'learning_rate': 'adaptive', 'loss': 'log'}",
          "{'alpha': 0.1, 'eta0': 0.01, 'learning_rate': 'adaptive', 'loss': 'hinge'}",
          "{'alpha': 0.01, 'eta0': 0.01, 'learning_rate': 'adaptive', 'loss': 'hinge'}",
          "{'alpha': 0.001, 'eta0': 0.01, 'learning_rate': 'adaptive', 'loss': 'hinge'}",
          "{'alpha': 0.0001, 'eta0': 0.01, 'learning_rate': 'optimal', 'loss': 'hinge'}",
          "{'alpha': 0.0001, 'eta0': 0.1, 'learning_rate': 'optimal', 'loss': 'hinge'}",
          "{'alpha': 0.0001, 'eta0': 1, 'learning_rate': 'optimal', 'loss': 'hinge'}",
          "{'alpha': 0.001, 'eta0': 0.01, 'learning_rate': 'optimal', 'loss': 'hinge'}",
          "{'alpha': 0.001, 'eta0': 0.1, 'learning_rate': 'optimal', 'loss': 'hinge'}",
          "{'alpha': 0.001, 'eta0': 1, 'learning_rate': 'optimal', 'loss': 'hinge'}",
          "{'alpha': 0.01, 'eta0': 0.01, 'learning_rate': 'optimal', 'loss': 'hinge'}",
          "{'alpha': 0.01, 'eta0': 0.1, 'learning_rate': 'optimal', 'loss': 'hinge'}",
          "{'alpha': 0.01, 'eta0': 1, 'learning_rate': 'optimal', 'loss': 'hinge'}",
          "{'alpha': 0.1, 'eta0': 0.01, 'learning_rate': 'optimal', 'loss': 'hinge'}",
          "{'alpha': 0.1, 'eta0': 0.1, 'learning_rate': 'optimal', 'loss': 'hinge'}",
          "{'alpha': 0.1, 'eta0': 1, 'learning_rate': 'optimal', 'loss': 'hinge'}",
          "{'alpha': 1.0, 'eta0': 0.01, 'learning_rate': 'optimal', 'loss': 'hinge'}",
          "{'alpha': 1.0, 'eta0': 0.1, 'learning_rate': 'optimal', 'loss': 'hinge'}",
          "{'alpha': 1.0, 'eta0': 1, 'learning_rate': 'optimal', 'loss': 'hinge'}",
          "{'alpha': 1.0, 'eta0': 0.1, 'learning_rate': 'adaptive', 'loss': 'hinge'}",
          "{'alpha': 0.01, 'eta0': 0.1, 'learning_rate': 'adaptive', 'loss': 'hinge'}",
          "{'alpha': 1.0, 'eta0': 0.1, 'learning_rate': 'adaptive', 'loss': 'log'}",
          "{'alpha': 0.1, 'eta0': 1, 'learning_rate': 'invscaling', 'loss': 'hinge'}",
          "{'alpha': 1.0, 'eta0': 0.1, 'learning_rate': 'invscaling', 'loss': 'hinge'}",
          "{'alpha': 0.0001, 'eta0': 0.1, 'learning_rate': 'invscaling', 'loss': 'hinge'}",
          "{'alpha': 0.001, 'eta0': 0.01, 'learning_rate': 'invscaling', 'loss': 'hinge'}",
          "{'alpha': 0.0001, 'eta0': 0.01, 'learning_rate': 'invscaling', 'loss': 'log'}",
          "{'alpha': 0.001, 'eta0': 1, 'learning_rate': 'invscaling', 'loss': 'log'}",
          "{'alpha': 0.01, 'eta0': 0.1, 'learning_rate': 'invscaling', 'loss': 'log'}",
          "{'alpha': 0.1, 'eta0': 0.01, 'learning_rate': 'invscaling', 'loss': 'log'}",
          "{'alpha': 0.0001, 'eta0': 0.01, 'learning_rate': 'optimal', 'loss': 'log'}",
          "{'alpha': 0.0001, 'eta0': 0.1, 'learning_rate': 'optimal', 'loss': 'log'}",
          "{'alpha': 0.0001, 'eta0': 1, 'learning_rate': 'optimal', 'loss': 'log'}",
          "{'alpha': 0.001, 'eta0': 0.01, 'learning_rate': 'optimal', 'loss': 'log'}",
          "{'alpha': 0.001, 'eta0': 0.1, 'learning_rate': 'optimal', 'loss': 'log'}",
          "{'alpha': 0.001, 'eta0': 1, 'learning_rate': 'optimal', 'loss': 'log'}",
          "{'alpha': 0.01, 'eta0': 0.01, 'learning_rate': 'optimal', 'loss': 'log'}",
          "{'alpha': 0.01, 'eta0': 0.1, 'learning_rate': 'optimal', 'loss': 'log'}",
          "{'alpha': 0.01, 'eta0': 1, 'learning_rate': 'optimal', 'loss': 'log'}",
          "{'alpha': 0.1, 'eta0': 0.01, 'learning_rate': 'optimal', 'loss': 'log'}",
          "{'alpha': 0.1, 'eta0': 0.1, 'learning_rate': 'optimal', 'loss': 'log'}",
          "{'alpha': 0.1, 'eta0': 1, 'learning_rate': 'optimal', 'loss': 'log'}",
          "{'alpha': 0.0001, 'eta0': 0.1, 'learning_rate': 'constant', 'loss': 'hinge'}",
          "{'alpha': 0.001, 'eta0': 0.01, 'learning_rate': 'constant', 'loss': 'hinge'}",
          "{'alpha': 0.01, 'eta0': 1, 'learning_rate': 'invscaling', 'loss': 'log'}",
          "{'alpha': 0.1, 'eta0': 0.1, 'learning_rate': 'invscaling', 'loss': 'log'}",
          "{'alpha': 1.0, 'eta0': 0.01, 'learning_rate': 'invscaling', 'loss': 'log'}",
          "{'alpha': 0.0001, 'eta0': 1, 'learning_rate': 'invscaling', 'loss': 'log'}",
          "{'alpha': 0.001, 'eta0': 0.1, 'learning_rate': 'invscaling', 'loss': 'log'}",
          "{'alpha': 0.01, 'eta0': 0.01, 'learning_rate': 'invscaling', 'loss': 'log'}",
          "{'alpha': 0.0001, 'eta0': 1, 'learning_rate': 'constant', 'loss': 'hinge'}",
          "{'alpha': 0.001, 'eta0': 0.1, 'learning_rate': 'constant', 'loss': 'hinge'}",
          "{'alpha': 0.01, 'eta0': 0.01, 'learning_rate': 'constant', 'loss': 'hinge'}",
          "{'alpha': 0.0001, 'eta0': 1, 'learning_rate': 'invscaling', 'loss': 'hinge'}",
          "{'alpha': 0.001, 'eta0': 0.1, 'learning_rate': 'invscaling', 'loss': 'hinge'}",
          "{'alpha': 0.01, 'eta0': 0.01, 'learning_rate': 'invscaling', 'loss': 'hinge'}",
          "{'alpha': 0.1, 'eta0': 1, 'learning_rate': 'invscaling', 'loss': 'log'}",
          "{'alpha': 1.0, 'eta0': 0.1, 'learning_rate': 'invscaling', 'loss': 'log'}",
          "{'alpha': 0.0001, 'eta0': 0.1, 'learning_rate': 'invscaling', 'loss': 'log'}",
          "{'alpha': 1.0, 'eta0': 1, 'learning_rate': 'adaptive', 'loss': 'hinge'}",
          "{'alpha': 1.0, 'eta0': 1, 'learning_rate': 'invscaling', 'loss': 'hinge'}",
          "{'alpha': 1.0, 'eta0': 1, 'learning_rate': 'invscaling', 'loss': 'log'}",
          "{'alpha': 0.0001, 'eta0': 0.01, 'learning_rate': 'invscaling', 'loss': 'hinge'}",
          "{'alpha': 0.1, 'eta0': 0.1, 'learning_rate': 'adaptive', 'loss': 'log'}",
          "{'alpha': 0.01, 'eta0': 1, 'learning_rate': 'invscaling', 'loss': 'hinge'}",
          "{'alpha': 0.1, 'eta0': 0.1, 'learning_rate': 'invscaling', 'loss': 'hinge'}",
          "{'alpha': 1.0, 'eta0': 0.01, 'learning_rate': 'invscaling', 'loss': 'hinge'}",
          "{'alpha': 0.001, 'eta0': 1, 'learning_rate': 'invscaling', 'loss': 'hinge'}",
          "{'alpha': 0.01, 'eta0': 0.1, 'learning_rate': 'invscaling', 'loss': 'hinge'}",
          "{'alpha': 0.1, 'eta0': 0.01, 'learning_rate': 'invscaling', 'loss': 'hinge'}",
          "{'alpha': 0.001, 'eta0': 0.01, 'learning_rate': 'invscaling', 'loss': 'log'}"
         ],
         "type": "scatter",
         "x": [
          0,
          1,
          2,
          3,
          4,
          5,
          6,
          7,
          8,
          9,
          10,
          11,
          12,
          13,
          14,
          15,
          16,
          17,
          18,
          19,
          20,
          21,
          22,
          23,
          24,
          25,
          26,
          27,
          28,
          29,
          30,
          31,
          32,
          33,
          34,
          35,
          36,
          37,
          38,
          39,
          40,
          41,
          42,
          43,
          44,
          45,
          46,
          47,
          48,
          49,
          50,
          51,
          52,
          53,
          54,
          55,
          56,
          57,
          58,
          59,
          60,
          61,
          62,
          63,
          64,
          65,
          66,
          67,
          68,
          69,
          70,
          71,
          72,
          73,
          74,
          75,
          76,
          77,
          78,
          79,
          80,
          81,
          82,
          83,
          84,
          85,
          86,
          87,
          88,
          89,
          90,
          91,
          92,
          93,
          94,
          95,
          96,
          97,
          98,
          99,
          100,
          101,
          102,
          103,
          104,
          105,
          106,
          107,
          108,
          109,
          110,
          111,
          112,
          113,
          114,
          115,
          116,
          117,
          118,
          119
         ],
         "y": [
          0.0009004152400378995,
          0.0009004152400378995,
          0.0009004152400378995,
          0.0009004152400378995,
          0.0009004152400378995,
          0.0009004152400378995,
          0.0009004152400378995,
          0.0015679894723946103,
          0.0015679894723946103,
          0.0015679894723946103,
          0.0025360053285072735,
          0.0025360053285072735,
          0.0025360053285072735,
          0.0025360053285072735,
          0.0025360053285072735,
          0.0025360053285072735,
          0.0025360053285072735,
          0.0025360053285072735,
          0.0023428280032053547,
          0.0023428280032053547,
          0.004620763257997334,
          0.004620763257997334,
          0.004620763257997334,
          0.00557140769128718,
          0.00557140769128718,
          0.00557140769128718,
          0.009775608802018589,
          0.012910056594724937,
          0.015981392501358032,
          0.018947755576396535,
          0.03427986096590366,
          0.03427986096590366,
          0.03427986096590366,
          0.0238959276918711,
          0.05280901527485791,
          0.024268781902911186,
          0.08459902806967445,
          0.020564848403488264,
          0.026703721254610454,
          0.025059638867365366,
          0.02893617880272497,
          0.030520549246517443,
          0.028175150403231868,
          0.034660083570232335,
          0.035943598532246414,
          0.036369094909156144,
          0.07747080175041357,
          0.05890634295485795,
          0.08173862556021785,
          0.1269053974320727,
          0.16387846899904665,
          0.0582917678810727,
          0.03735993050257436,
          0.17320689488389635,
          0.17320689488389635,
          0.17320689488389635,
          0.17320689488389635,
          0.17320689488389635,
          0.17320689488389635,
          0.17320689488389635,
          0.17320689488389635,
          0.17320689488389635,
          0.17320689488389635,
          0.17320689488389635,
          0.17320689488389635,
          0.17320689488389635,
          0.17320689488389635,
          0.17320689488389635,
          0.16549899927809059,
          0.15167423866113766,
          0.19111472958945244,
          0.2654930576069111,
          0.2654930576069111,
          0.26524318871698493,
          0.26524318871698493,
          0.2647192124589269,
          0.264056338888287,
          0.264056338888287,
          0.264056338888287,
          0.2601302453151994,
          0.2601302453151994,
          0.2601302453151994,
          0.2601302453151994,
          0.2601302453151994,
          0.2601302453151994,
          0.2601302453151994,
          0.2601302453151994,
          0.2601302453151994,
          0.2601302453151994,
          0.2601302453151994,
          0.2601302453151994,
          0.25156892344591825,
          0.25156892344591825,
          0.2554632074794683,
          0.2554632074794683,
          0.2554632074794683,
          0.2583890005159848,
          0.2583890005159848,
          0.2570348806566776,
          0.27354702178110124,
          0.27354702178110124,
          0.27354702178110124,
          0.32390409394090963,
          0.32390409394090963,
          0.32390409394090963,
          0.32390409394090963,
          0.32390409394090963,
          0.32302245456695705,
          0.3254305514123692,
          0.32652710003213303,
          0.32652710003213303,
          0.3145123345202446,
          0.2411390986125156,
          0.2815294117879891,
          0.2815294117879891,
          0.2815294117879891,
          0.29224047640526446,
          0.29224047640526446,
          0.29224047640526446,
          0.2773310605681566
         ],
         "yaxis": "y2"
        }
       ],
       "layout": {
        "template": {
         "data": {
          "bar": [
           {
            "error_x": {
             "color": "#2a3f5f"
            },
            "error_y": {
             "color": "#2a3f5f"
            },
            "marker": {
             "line": {
              "color": "#E5ECF6",
              "width": 0.5
             }
            },
            "type": "bar"
           }
          ],
          "barpolar": [
           {
            "marker": {
             "line": {
              "color": "#E5ECF6",
              "width": 0.5
             }
            },
            "type": "barpolar"
           }
          ],
          "carpet": [
           {
            "aaxis": {
             "endlinecolor": "#2a3f5f",
             "gridcolor": "white",
             "linecolor": "white",
             "minorgridcolor": "white",
             "startlinecolor": "#2a3f5f"
            },
            "baxis": {
             "endlinecolor": "#2a3f5f",
             "gridcolor": "white",
             "linecolor": "white",
             "minorgridcolor": "white",
             "startlinecolor": "#2a3f5f"
            },
            "type": "carpet"
           }
          ],
          "choropleth": [
           {
            "colorbar": {
             "outlinewidth": 0,
             "ticks": ""
            },
            "type": "choropleth"
           }
          ],
          "contour": [
           {
            "colorbar": {
             "outlinewidth": 0,
             "ticks": ""
            },
            "colorscale": [
             [
              0,
              "#0d0887"
             ],
             [
              0.1111111111111111,
              "#46039f"
             ],
             [
              0.2222222222222222,
              "#7201a8"
             ],
             [
              0.3333333333333333,
              "#9c179e"
             ],
             [
              0.4444444444444444,
              "#bd3786"
             ],
             [
              0.5555555555555556,
              "#d8576b"
             ],
             [
              0.6666666666666666,
              "#ed7953"
             ],
             [
              0.7777777777777778,
              "#fb9f3a"
             ],
             [
              0.8888888888888888,
              "#fdca26"
             ],
             [
              1,
              "#f0f921"
             ]
            ],
            "type": "contour"
           }
          ],
          "contourcarpet": [
           {
            "colorbar": {
             "outlinewidth": 0,
             "ticks": ""
            },
            "type": "contourcarpet"
           }
          ],
          "heatmap": [
           {
            "colorbar": {
             "outlinewidth": 0,
             "ticks": ""
            },
            "colorscale": [
             [
              0,
              "#0d0887"
             ],
             [
              0.1111111111111111,
              "#46039f"
             ],
             [
              0.2222222222222222,
              "#7201a8"
             ],
             [
              0.3333333333333333,
              "#9c179e"
             ],
             [
              0.4444444444444444,
              "#bd3786"
             ],
             [
              0.5555555555555556,
              "#d8576b"
             ],
             [
              0.6666666666666666,
              "#ed7953"
             ],
             [
              0.7777777777777778,
              "#fb9f3a"
             ],
             [
              0.8888888888888888,
              "#fdca26"
             ],
             [
              1,
              "#f0f921"
             ]
            ],
            "type": "heatmap"
           }
          ],
          "heatmapgl": [
           {
            "colorbar": {
             "outlinewidth": 0,
             "ticks": ""
            },
            "colorscale": [
             [
              0,
              "#0d0887"
             ],
             [
              0.1111111111111111,
              "#46039f"
             ],
             [
              0.2222222222222222,
              "#7201a8"
             ],
             [
              0.3333333333333333,
              "#9c179e"
             ],
             [
              0.4444444444444444,
              "#bd3786"
             ],
             [
              0.5555555555555556,
              "#d8576b"
             ],
             [
              0.6666666666666666,
              "#ed7953"
             ],
             [
              0.7777777777777778,
              "#fb9f3a"
             ],
             [
              0.8888888888888888,
              "#fdca26"
             ],
             [
              1,
              "#f0f921"
             ]
            ],
            "type": "heatmapgl"
           }
          ],
          "histogram": [
           {
            "marker": {
             "colorbar": {
              "outlinewidth": 0,
              "ticks": ""
             }
            },
            "type": "histogram"
           }
          ],
          "histogram2d": [
           {
            "colorbar": {
             "outlinewidth": 0,
             "ticks": ""
            },
            "colorscale": [
             [
              0,
              "#0d0887"
             ],
             [
              0.1111111111111111,
              "#46039f"
             ],
             [
              0.2222222222222222,
              "#7201a8"
             ],
             [
              0.3333333333333333,
              "#9c179e"
             ],
             [
              0.4444444444444444,
              "#bd3786"
             ],
             [
              0.5555555555555556,
              "#d8576b"
             ],
             [
              0.6666666666666666,
              "#ed7953"
             ],
             [
              0.7777777777777778,
              "#fb9f3a"
             ],
             [
              0.8888888888888888,
              "#fdca26"
             ],
             [
              1,
              "#f0f921"
             ]
            ],
            "type": "histogram2d"
           }
          ],
          "histogram2dcontour": [
           {
            "colorbar": {
             "outlinewidth": 0,
             "ticks": ""
            },
            "colorscale": [
             [
              0,
              "#0d0887"
             ],
             [
              0.1111111111111111,
              "#46039f"
             ],
             [
              0.2222222222222222,
              "#7201a8"
             ],
             [
              0.3333333333333333,
              "#9c179e"
             ],
             [
              0.4444444444444444,
              "#bd3786"
             ],
             [
              0.5555555555555556,
              "#d8576b"
             ],
             [
              0.6666666666666666,
              "#ed7953"
             ],
             [
              0.7777777777777778,
              "#fb9f3a"
             ],
             [
              0.8888888888888888,
              "#fdca26"
             ],
             [
              1,
              "#f0f921"
             ]
            ],
            "type": "histogram2dcontour"
           }
          ],
          "mesh3d": [
           {
            "colorbar": {
             "outlinewidth": 0,
             "ticks": ""
            },
            "type": "mesh3d"
           }
          ],
          "parcoords": [
           {
            "line": {
             "colorbar": {
              "outlinewidth": 0,
              "ticks": ""
             }
            },
            "type": "parcoords"
           }
          ],
          "pie": [
           {
            "automargin": true,
            "type": "pie"
           }
          ],
          "scatter": [
           {
            "marker": {
             "colorbar": {
              "outlinewidth": 0,
              "ticks": ""
             }
            },
            "type": "scatter"
           }
          ],
          "scatter3d": [
           {
            "line": {
             "colorbar": {
              "outlinewidth": 0,
              "ticks": ""
             }
            },
            "marker": {
             "colorbar": {
              "outlinewidth": 0,
              "ticks": ""
             }
            },
            "type": "scatter3d"
           }
          ],
          "scattercarpet": [
           {
            "marker": {
             "colorbar": {
              "outlinewidth": 0,
              "ticks": ""
             }
            },
            "type": "scattercarpet"
           }
          ],
          "scattergeo": [
           {
            "marker": {
             "colorbar": {
              "outlinewidth": 0,
              "ticks": ""
             }
            },
            "type": "scattergeo"
           }
          ],
          "scattergl": [
           {
            "marker": {
             "colorbar": {
              "outlinewidth": 0,
              "ticks": ""
             }
            },
            "type": "scattergl"
           }
          ],
          "scattermapbox": [
           {
            "marker": {
             "colorbar": {
              "outlinewidth": 0,
              "ticks": ""
             }
            },
            "type": "scattermapbox"
           }
          ],
          "scatterpolar": [
           {
            "marker": {
             "colorbar": {
              "outlinewidth": 0,
              "ticks": ""
             }
            },
            "type": "scatterpolar"
           }
          ],
          "scatterpolargl": [
           {
            "marker": {
             "colorbar": {
              "outlinewidth": 0,
              "ticks": ""
             }
            },
            "type": "scatterpolargl"
           }
          ],
          "scatterternary": [
           {
            "marker": {
             "colorbar": {
              "outlinewidth": 0,
              "ticks": ""
             }
            },
            "type": "scatterternary"
           }
          ],
          "surface": [
           {
            "colorbar": {
             "outlinewidth": 0,
             "ticks": ""
            },
            "colorscale": [
             [
              0,
              "#0d0887"
             ],
             [
              0.1111111111111111,
              "#46039f"
             ],
             [
              0.2222222222222222,
              "#7201a8"
             ],
             [
              0.3333333333333333,
              "#9c179e"
             ],
             [
              0.4444444444444444,
              "#bd3786"
             ],
             [
              0.5555555555555556,
              "#d8576b"
             ],
             [
              0.6666666666666666,
              "#ed7953"
             ],
             [
              0.7777777777777778,
              "#fb9f3a"
             ],
             [
              0.8888888888888888,
              "#fdca26"
             ],
             [
              1,
              "#f0f921"
             ]
            ],
            "type": "surface"
           }
          ],
          "table": [
           {
            "cells": {
             "fill": {
              "color": "#EBF0F8"
             },
             "line": {
              "color": "white"
             }
            },
            "header": {
             "fill": {
              "color": "#C8D4E3"
             },
             "line": {
              "color": "white"
             }
            },
            "type": "table"
           }
          ]
         },
         "layout": {
          "annotationdefaults": {
           "arrowcolor": "#2a3f5f",
           "arrowhead": 0,
           "arrowwidth": 1
          },
          "coloraxis": {
           "colorbar": {
            "outlinewidth": 0,
            "ticks": ""
           }
          },
          "colorscale": {
           "diverging": [
            [
             0,
             "#8e0152"
            ],
            [
             0.1,
             "#c51b7d"
            ],
            [
             0.2,
             "#de77ae"
            ],
            [
             0.3,
             "#f1b6da"
            ],
            [
             0.4,
             "#fde0ef"
            ],
            [
             0.5,
             "#f7f7f7"
            ],
            [
             0.6,
             "#e6f5d0"
            ],
            [
             0.7,
             "#b8e186"
            ],
            [
             0.8,
             "#7fbc41"
            ],
            [
             0.9,
             "#4d9221"
            ],
            [
             1,
             "#276419"
            ]
           ],
           "sequential": [
            [
             0,
             "#0d0887"
            ],
            [
             0.1111111111111111,
             "#46039f"
            ],
            [
             0.2222222222222222,
             "#7201a8"
            ],
            [
             0.3333333333333333,
             "#9c179e"
            ],
            [
             0.4444444444444444,
             "#bd3786"
            ],
            [
             0.5555555555555556,
             "#d8576b"
            ],
            [
             0.6666666666666666,
             "#ed7953"
            ],
            [
             0.7777777777777778,
             "#fb9f3a"
            ],
            [
             0.8888888888888888,
             "#fdca26"
            ],
            [
             1,
             "#f0f921"
            ]
           ],
           "sequentialminus": [
            [
             0,
             "#0d0887"
            ],
            [
             0.1111111111111111,
             "#46039f"
            ],
            [
             0.2222222222222222,
             "#7201a8"
            ],
            [
             0.3333333333333333,
             "#9c179e"
            ],
            [
             0.4444444444444444,
             "#bd3786"
            ],
            [
             0.5555555555555556,
             "#d8576b"
            ],
            [
             0.6666666666666666,
             "#ed7953"
            ],
            [
             0.7777777777777778,
             "#fb9f3a"
            ],
            [
             0.8888888888888888,
             "#fdca26"
            ],
            [
             1,
             "#f0f921"
            ]
           ]
          },
          "colorway": [
           "#636efa",
           "#EF553B",
           "#00cc96",
           "#ab63fa",
           "#FFA15A",
           "#19d3f3",
           "#FF6692",
           "#B6E880",
           "#FF97FF",
           "#FECB52"
          ],
          "font": {
           "color": "#2a3f5f"
          },
          "geo": {
           "bgcolor": "white",
           "lakecolor": "white",
           "landcolor": "#E5ECF6",
           "showlakes": true,
           "showland": true,
           "subunitcolor": "white"
          },
          "hoverlabel": {
           "align": "left"
          },
          "hovermode": "closest",
          "mapbox": {
           "style": "light"
          },
          "paper_bgcolor": "white",
          "plot_bgcolor": "#E5ECF6",
          "polar": {
           "angularaxis": {
            "gridcolor": "white",
            "linecolor": "white",
            "ticks": ""
           },
           "bgcolor": "#E5ECF6",
           "radialaxis": {
            "gridcolor": "white",
            "linecolor": "white",
            "ticks": ""
           }
          },
          "scene": {
           "xaxis": {
            "backgroundcolor": "#E5ECF6",
            "gridcolor": "white",
            "gridwidth": 2,
            "linecolor": "white",
            "showbackground": true,
            "ticks": "",
            "zerolinecolor": "white"
           },
           "yaxis": {
            "backgroundcolor": "#E5ECF6",
            "gridcolor": "white",
            "gridwidth": 2,
            "linecolor": "white",
            "showbackground": true,
            "ticks": "",
            "zerolinecolor": "white"
           },
           "zaxis": {
            "backgroundcolor": "#E5ECF6",
            "gridcolor": "white",
            "gridwidth": 2,
            "linecolor": "white",
            "showbackground": true,
            "ticks": "",
            "zerolinecolor": "white"
           }
          },
          "shapedefaults": {
           "line": {
            "color": "#2a3f5f"
           }
          },
          "ternary": {
           "aaxis": {
            "gridcolor": "white",
            "linecolor": "white",
            "ticks": ""
           },
           "baxis": {
            "gridcolor": "white",
            "linecolor": "white",
            "ticks": ""
           },
           "bgcolor": "#E5ECF6",
           "caxis": {
            "gridcolor": "white",
            "linecolor": "white",
            "ticks": ""
           }
          },
          "title": {
           "x": 0.05
          },
          "xaxis": {
           "automargin": true,
           "gridcolor": "white",
           "linecolor": "white",
           "ticks": "",
           "title": {
            "standoff": 15
           },
           "zerolinecolor": "white",
           "zerolinewidth": 2
          },
          "yaxis": {
           "automargin": true,
           "gridcolor": "white",
           "linecolor": "white",
           "ticks": "",
           "title": {
            "standoff": 15
           },
           "zerolinecolor": "white",
           "zerolinewidth": 2
          }
         }
        },
        "title": {
         "text": "Reporte para 120 configuraciones de parámetros",
         "x": 0,
         "xref": "paper"
        },
        "xaxis": {
         "anchor": "y",
         "domain": [
          0,
          0.94
         ],
         "title": {
          "text": "ranking"
         }
        },
        "yaxis": {
         "anchor": "x",
         "domain": [
          0,
          1
         ],
         "title": {
          "text": "Mean test score"
         }
        },
        "yaxis2": {
         "anchor": "x",
         "overlaying": "y",
         "side": "right",
         "title": {
          "text": "Std test score"
         }
        }
       }
      },
      "text/html": [
       "<div>\n",
       "        \n",
       "        \n",
       "            <div id=\"14b41456-b45e-46ff-a68f-78c1029bffc3\" class=\"plotly-graph-div\" style=\"height:525px; width:100%;\"></div>\n",
       "            <script type=\"text/javascript\">\n",
       "                require([\"plotly\"], function(Plotly) {\n",
       "                    window.PLOTLYENV=window.PLOTLYENV || {};\n",
       "                    \n",
       "                if (document.getElementById(\"14b41456-b45e-46ff-a68f-78c1029bffc3\")) {\n",
       "                    Plotly.newPlot(\n",
       "                        '14b41456-b45e-46ff-a68f-78c1029bffc3',\n",
       "                        [{\"marker\": {\"color\": \"royalblue\"}, \"mode\": \"markers\", \"name\": \"Mean score\", \"text\": [\"{'alpha': 0.0001, 'eta0': 0.01, 'learning_rate': 'constant', 'loss': 'hinge'}\", \"{'alpha': 0.1, 'eta0': 1, 'learning_rate': 'constant', 'loss': 'hinge'}\", \"{'alpha': 0.1, 'eta0': 1, 'learning_rate': 'constant', 'loss': 'log'}\", \"{'alpha': 1.0, 'eta0': 0.1, 'learning_rate': 'constant', 'loss': 'hinge'}\", \"{'alpha': 1.0, 'eta0': 0.1, 'learning_rate': 'constant', 'loss': 'log'}\", \"{'alpha': 1.0, 'eta0': 1, 'learning_rate': 'constant', 'loss': 'hinge'}\", \"{'alpha': 1.0, 'eta0': 1, 'learning_rate': 'constant', 'loss': 'log'}\", \"{'alpha': 0.001, 'eta0': 1, 'learning_rate': 'constant', 'loss': 'hinge'}\", \"{'alpha': 0.01, 'eta0': 0.1, 'learning_rate': 'constant', 'loss': 'hinge'}\", \"{'alpha': 0.1, 'eta0': 0.01, 'learning_rate': 'constant', 'loss': 'hinge'}\", \"{'alpha': 0.0001, 'eta0': 0.01, 'learning_rate': 'constant', 'loss': 'log'}\", \"{'alpha': 0.01, 'eta0': 1, 'learning_rate': 'constant', 'loss': 'hinge'}\", \"{'alpha': 0.01, 'eta0': 1, 'learning_rate': 'constant', 'loss': 'log'}\", \"{'alpha': 0.1, 'eta0': 0.1, 'learning_rate': 'constant', 'loss': 'hinge'}\", \"{'alpha': 0.1, 'eta0': 0.1, 'learning_rate': 'constant', 'loss': 'log'}\", \"{'alpha': 1.0, 'eta0': 0.01, 'learning_rate': 'constant', 'loss': 'hinge'}\", \"{'alpha': 1.0, 'eta0': 0.01, 'learning_rate': 'constant', 'loss': 'log'}\", \"{'alpha': 1.0, 'eta0': 1, 'learning_rate': 'adaptive', 'loss': 'log'}\", \"{'alpha': 0.0001, 'eta0': 0.1, 'learning_rate': 'constant', 'loss': 'log'}\", \"{'alpha': 0.001, 'eta0': 0.01, 'learning_rate': 'constant', 'loss': 'log'}\", \"{'alpha': 1.0, 'eta0': 0.01, 'learning_rate': 'optimal', 'loss': 'log'}\", \"{'alpha': 1.0, 'eta0': 0.1, 'learning_rate': 'optimal', 'loss': 'log'}\", \"{'alpha': 1.0, 'eta0': 1, 'learning_rate': 'optimal', 'loss': 'log'}\", \"{'alpha': 0.0001, 'eta0': 1, 'learning_rate': 'constant', 'loss': 'log'}\", \"{'alpha': 0.001, 'eta0': 0.1, 'learning_rate': 'constant', 'loss': 'log'}\", \"{'alpha': 0.01, 'eta0': 0.01, 'learning_rate': 'constant', 'loss': 'log'}\", \"{'alpha': 0.1, 'eta0': 0.1, 'learning_rate': 'adaptive', 'loss': 'hinge'}\", \"{'alpha': 1.0, 'eta0': 0.01, 'learning_rate': 'adaptive', 'loss': 'hinge'}\", \"{'alpha': 0.1, 'eta0': 0.01, 'learning_rate': 'adaptive', 'loss': 'log'}\", \"{'alpha': 0.01, 'eta0': 1, 'learning_rate': 'adaptive', 'loss': 'hinge'}\", \"{'alpha': 0.001, 'eta0': 1, 'learning_rate': 'constant', 'loss': 'log'}\", \"{'alpha': 0.01, 'eta0': 0.1, 'learning_rate': 'constant', 'loss': 'log'}\", \"{'alpha': 0.1, 'eta0': 0.01, 'learning_rate': 'constant', 'loss': 'log'}\", \"{'alpha': 0.01, 'eta0': 1, 'learning_rate': 'adaptive', 'loss': 'log'}\", \"{'alpha': 0.1, 'eta0': 1, 'learning_rate': 'adaptive', 'loss': 'hinge'}\", \"{'alpha': 0.0001, 'eta0': 0.01, 'learning_rate': 'adaptive', 'loss': 'log'}\", \"{'alpha': 1.0, 'eta0': 0.01, 'learning_rate': 'adaptive', 'loss': 'log'}\", \"{'alpha': 0.01, 'eta0': 0.01, 'learning_rate': 'adaptive', 'loss': 'log'}\", \"{'alpha': 0.0001, 'eta0': 0.1, 'learning_rate': 'adaptive', 'loss': 'hinge'}\", \"{'alpha': 0.0001, 'eta0': 0.1, 'learning_rate': 'adaptive', 'loss': 'log'}\", \"{'alpha': 0.001, 'eta0': 1, 'learning_rate': 'adaptive', 'loss': 'hinge'}\", \"{'alpha': 0.0001, 'eta0': 1, 'learning_rate': 'adaptive', 'loss': 'log'}\", \"{'alpha': 0.0001, 'eta0': 1, 'learning_rate': 'adaptive', 'loss': 'hinge'}\", \"{'alpha': 0.001, 'eta0': 0.1, 'learning_rate': 'adaptive', 'loss': 'hinge'}\", \"{'alpha': 0.001, 'eta0': 1, 'learning_rate': 'adaptive', 'loss': 'log'}\", \"{'alpha': 0.001, 'eta0': 0.1, 'learning_rate': 'adaptive', 'loss': 'log'}\", \"{'alpha': 0.01, 'eta0': 0.1, 'learning_rate': 'adaptive', 'loss': 'log'}\", \"{'alpha': 0.0001, 'eta0': 0.01, 'learning_rate': 'adaptive', 'loss': 'hinge'}\", \"{'alpha': 0.001, 'eta0': 0.01, 'learning_rate': 'adaptive', 'loss': 'log'}\", \"{'alpha': 0.1, 'eta0': 1, 'learning_rate': 'adaptive', 'loss': 'log'}\", \"{'alpha': 0.1, 'eta0': 0.01, 'learning_rate': 'adaptive', 'loss': 'hinge'}\", \"{'alpha': 0.01, 'eta0': 0.01, 'learning_rate': 'adaptive', 'loss': 'hinge'}\", \"{'alpha': 0.001, 'eta0': 0.01, 'learning_rate': 'adaptive', 'loss': 'hinge'}\", \"{'alpha': 0.0001, 'eta0': 0.01, 'learning_rate': 'optimal', 'loss': 'hinge'}\", \"{'alpha': 0.0001, 'eta0': 0.1, 'learning_rate': 'optimal', 'loss': 'hinge'}\", \"{'alpha': 0.0001, 'eta0': 1, 'learning_rate': 'optimal', 'loss': 'hinge'}\", \"{'alpha': 0.001, 'eta0': 0.01, 'learning_rate': 'optimal', 'loss': 'hinge'}\", \"{'alpha': 0.001, 'eta0': 0.1, 'learning_rate': 'optimal', 'loss': 'hinge'}\", \"{'alpha': 0.001, 'eta0': 1, 'learning_rate': 'optimal', 'loss': 'hinge'}\", \"{'alpha': 0.01, 'eta0': 0.01, 'learning_rate': 'optimal', 'loss': 'hinge'}\", \"{'alpha': 0.01, 'eta0': 0.1, 'learning_rate': 'optimal', 'loss': 'hinge'}\", \"{'alpha': 0.01, 'eta0': 1, 'learning_rate': 'optimal', 'loss': 'hinge'}\", \"{'alpha': 0.1, 'eta0': 0.01, 'learning_rate': 'optimal', 'loss': 'hinge'}\", \"{'alpha': 0.1, 'eta0': 0.1, 'learning_rate': 'optimal', 'loss': 'hinge'}\", \"{'alpha': 0.1, 'eta0': 1, 'learning_rate': 'optimal', 'loss': 'hinge'}\", \"{'alpha': 1.0, 'eta0': 0.01, 'learning_rate': 'optimal', 'loss': 'hinge'}\", \"{'alpha': 1.0, 'eta0': 0.1, 'learning_rate': 'optimal', 'loss': 'hinge'}\", \"{'alpha': 1.0, 'eta0': 1, 'learning_rate': 'optimal', 'loss': 'hinge'}\", \"{'alpha': 1.0, 'eta0': 0.1, 'learning_rate': 'adaptive', 'loss': 'hinge'}\", \"{'alpha': 0.01, 'eta0': 0.1, 'learning_rate': 'adaptive', 'loss': 'hinge'}\", \"{'alpha': 1.0, 'eta0': 0.1, 'learning_rate': 'adaptive', 'loss': 'log'}\", \"{'alpha': 0.1, 'eta0': 1, 'learning_rate': 'invscaling', 'loss': 'hinge'}\", \"{'alpha': 1.0, 'eta0': 0.1, 'learning_rate': 'invscaling', 'loss': 'hinge'}\", \"{'alpha': 0.0001, 'eta0': 0.1, 'learning_rate': 'invscaling', 'loss': 'hinge'}\", \"{'alpha': 0.001, 'eta0': 0.01, 'learning_rate': 'invscaling', 'loss': 'hinge'}\", \"{'alpha': 0.0001, 'eta0': 0.01, 'learning_rate': 'invscaling', 'loss': 'log'}\", \"{'alpha': 0.001, 'eta0': 1, 'learning_rate': 'invscaling', 'loss': 'log'}\", \"{'alpha': 0.01, 'eta0': 0.1, 'learning_rate': 'invscaling', 'loss': 'log'}\", \"{'alpha': 0.1, 'eta0': 0.01, 'learning_rate': 'invscaling', 'loss': 'log'}\", \"{'alpha': 0.0001, 'eta0': 0.01, 'learning_rate': 'optimal', 'loss': 'log'}\", \"{'alpha': 0.0001, 'eta0': 0.1, 'learning_rate': 'optimal', 'loss': 'log'}\", \"{'alpha': 0.0001, 'eta0': 1, 'learning_rate': 'optimal', 'loss': 'log'}\", \"{'alpha': 0.001, 'eta0': 0.01, 'learning_rate': 'optimal', 'loss': 'log'}\", \"{'alpha': 0.001, 'eta0': 0.1, 'learning_rate': 'optimal', 'loss': 'log'}\", \"{'alpha': 0.001, 'eta0': 1, 'learning_rate': 'optimal', 'loss': 'log'}\", \"{'alpha': 0.01, 'eta0': 0.01, 'learning_rate': 'optimal', 'loss': 'log'}\", \"{'alpha': 0.01, 'eta0': 0.1, 'learning_rate': 'optimal', 'loss': 'log'}\", \"{'alpha': 0.01, 'eta0': 1, 'learning_rate': 'optimal', 'loss': 'log'}\", \"{'alpha': 0.1, 'eta0': 0.01, 'learning_rate': 'optimal', 'loss': 'log'}\", \"{'alpha': 0.1, 'eta0': 0.1, 'learning_rate': 'optimal', 'loss': 'log'}\", \"{'alpha': 0.1, 'eta0': 1, 'learning_rate': 'optimal', 'loss': 'log'}\", \"{'alpha': 0.0001, 'eta0': 0.1, 'learning_rate': 'constant', 'loss': 'hinge'}\", \"{'alpha': 0.001, 'eta0': 0.01, 'learning_rate': 'constant', 'loss': 'hinge'}\", \"{'alpha': 0.01, 'eta0': 1, 'learning_rate': 'invscaling', 'loss': 'log'}\", \"{'alpha': 0.1, 'eta0': 0.1, 'learning_rate': 'invscaling', 'loss': 'log'}\", \"{'alpha': 1.0, 'eta0': 0.01, 'learning_rate': 'invscaling', 'loss': 'log'}\", \"{'alpha': 0.0001, 'eta0': 1, 'learning_rate': 'invscaling', 'loss': 'log'}\", \"{'alpha': 0.001, 'eta0': 0.1, 'learning_rate': 'invscaling', 'loss': 'log'}\", \"{'alpha': 0.01, 'eta0': 0.01, 'learning_rate': 'invscaling', 'loss': 'log'}\", \"{'alpha': 0.0001, 'eta0': 1, 'learning_rate': 'constant', 'loss': 'hinge'}\", \"{'alpha': 0.001, 'eta0': 0.1, 'learning_rate': 'constant', 'loss': 'hinge'}\", \"{'alpha': 0.01, 'eta0': 0.01, 'learning_rate': 'constant', 'loss': 'hinge'}\", \"{'alpha': 0.0001, 'eta0': 1, 'learning_rate': 'invscaling', 'loss': 'hinge'}\", \"{'alpha': 0.001, 'eta0': 0.1, 'learning_rate': 'invscaling', 'loss': 'hinge'}\", \"{'alpha': 0.01, 'eta0': 0.01, 'learning_rate': 'invscaling', 'loss': 'hinge'}\", \"{'alpha': 0.1, 'eta0': 1, 'learning_rate': 'invscaling', 'loss': 'log'}\", \"{'alpha': 1.0, 'eta0': 0.1, 'learning_rate': 'invscaling', 'loss': 'log'}\", \"{'alpha': 0.0001, 'eta0': 0.1, 'learning_rate': 'invscaling', 'loss': 'log'}\", \"{'alpha': 1.0, 'eta0': 1, 'learning_rate': 'adaptive', 'loss': 'hinge'}\", \"{'alpha': 1.0, 'eta0': 1, 'learning_rate': 'invscaling', 'loss': 'hinge'}\", \"{'alpha': 1.0, 'eta0': 1, 'learning_rate': 'invscaling', 'loss': 'log'}\", \"{'alpha': 0.0001, 'eta0': 0.01, 'learning_rate': 'invscaling', 'loss': 'hinge'}\", \"{'alpha': 0.1, 'eta0': 0.1, 'learning_rate': 'adaptive', 'loss': 'log'}\", \"{'alpha': 0.01, 'eta0': 1, 'learning_rate': 'invscaling', 'loss': 'hinge'}\", \"{'alpha': 0.1, 'eta0': 0.1, 'learning_rate': 'invscaling', 'loss': 'hinge'}\", \"{'alpha': 1.0, 'eta0': 0.01, 'learning_rate': 'invscaling', 'loss': 'hinge'}\", \"{'alpha': 0.001, 'eta0': 1, 'learning_rate': 'invscaling', 'loss': 'hinge'}\", \"{'alpha': 0.01, 'eta0': 0.1, 'learning_rate': 'invscaling', 'loss': 'hinge'}\", \"{'alpha': 0.1, 'eta0': 0.01, 'learning_rate': 'invscaling', 'loss': 'hinge'}\", \"{'alpha': 0.001, 'eta0': 0.01, 'learning_rate': 'invscaling', 'loss': 'log'}\"], \"type\": \"scatter\", \"x\": [0, 1, 2, 3, 4, 5, 6, 7, 8, 9, 10, 11, 12, 13, 14, 15, 16, 17, 18, 19, 20, 21, 22, 23, 24, 25, 26, 27, 28, 29, 30, 31, 32, 33, 34, 35, 36, 37, 38, 39, 40, 41, 42, 43, 44, 45, 46, 47, 48, 49, 50, 51, 52, 53, 54, 55, 56, 57, 58, 59, 60, 61, 62, 63, 64, 65, 66, 67, 68, 69, 70, 71, 72, 73, 74, 75, 76, 77, 78, 79, 80, 81, 82, 83, 84, 85, 86, 87, 88, 89, 90, 91, 92, 93, 94, 95, 96, 97, 98, 99, 100, 101, 102, 103, 104, 105, 106, 107, 108, 109, 110, 111, 112, 113, 114, 115, 116, 117, 118, 119], \"y\": [0.8333343046550594, 0.8333343046550594, 0.8333343046550594, 0.8333343046550594, 0.8333343046550594, 0.8333343046550594, 0.8333343046550594, 0.8327952210971079, 0.8327952210971079, 0.8327952210971079, 0.8322561375391564, 0.8322561375391564, 0.8322561375391564, 0.8322561375391564, 0.8322561375391564, 0.8322561375391564, 0.8322561375391564, 0.8322561375391564, 0.8317126830334377, 0.8317126830334377, 0.8311779704232535, 0.8311779704232535, 0.8311779704232535, 0.8300998033073504, 0.8300998033073504, 0.8300998033073504, 0.8268653019596416, 0.8247089677278356, 0.8236308006119326, 0.8155430902600715, 0.8150054636847089, 0.8150054636847089, 0.8150054636847089, 0.8123071319297734, 0.8063801267574853, 0.7923362715815546, 0.7918248706927953, 0.7907306767684126, 0.7891046841990238, 0.7880163182049975, 0.7858716398339041, 0.7858687258687258, 0.78371239163692, 0.7788606396153567, 0.77347271800102, 0.7702280177751877, 0.763138340496831, 0.7621738180228746, 0.7605551103664311, 0.7562453558679973, 0.7481591024987251, 0.7476200189407738, 0.7459444889633569, 0.7436104028556859, 0.7436104028556859, 0.7436104028556859, 0.7436104028556859, 0.7436104028556859, 0.7436104028556859, 0.7436104028556859, 0.7436104028556859, 0.7436104028556859, 0.7436104028556859, 0.7436104028556859, 0.7436104028556859, 0.7436104028556859, 0.7436104028556859, 0.7436104028556859, 0.7427682669192104, 0.7199125810446565, 0.7190485903693451, 0.6980243316092374, 0.6980243316092374, 0.6974852480512859, 0.6974852480512859, 0.6963968820572595, 0.6947898302615284, 0.6947898302615284, 0.6947898302615284, 0.6920944124717711, 0.6920944124717711, 0.6920944124717711, 0.6920944124717711, 0.6920944124717711, 0.6920944124717711, 0.6920944124717711, 0.6920944124717711, 0.6920944124717711, 0.6920944124717711, 0.6920944124717711, 0.6920944124717711, 0.6836584832811248, 0.6836584832811248, 0.669382967873534, 0.669382967873534, 0.669382967873534, 0.6613666496685365, 0.6613666496685365, 0.6586712318787791, 0.6034239090842864, 0.6034239090842864, 0.6034239090842864, 0.569183361258833, 0.569183361258833, 0.569183361258833, 0.569183361258833, 0.569183361258833, 0.5681022801777518, 0.567027027027027, 0.567027027027027, 0.567027027027027, 0.5513571792817076, 0.5397086034821883, 0.45950316893713117, 0.45950316893713117, 0.45950316893713117, 0.4020674582938734, 0.4020674582938734, 0.4020674582938734, 0.38966562249581116], \"yaxis\": \"y\"}, {\"marker\": {\"color\": \"green\"}, \"mode\": \"markers\", \"name\": \"Std score\", \"text\": [\"{'alpha': 0.0001, 'eta0': 0.01, 'learning_rate': 'constant', 'loss': 'hinge'}\", \"{'alpha': 0.1, 'eta0': 1, 'learning_rate': 'constant', 'loss': 'hinge'}\", \"{'alpha': 0.1, 'eta0': 1, 'learning_rate': 'constant', 'loss': 'log'}\", \"{'alpha': 1.0, 'eta0': 0.1, 'learning_rate': 'constant', 'loss': 'hinge'}\", \"{'alpha': 1.0, 'eta0': 0.1, 'learning_rate': 'constant', 'loss': 'log'}\", \"{'alpha': 1.0, 'eta0': 1, 'learning_rate': 'constant', 'loss': 'hinge'}\", \"{'alpha': 1.0, 'eta0': 1, 'learning_rate': 'constant', 'loss': 'log'}\", \"{'alpha': 0.001, 'eta0': 1, 'learning_rate': 'constant', 'loss': 'hinge'}\", \"{'alpha': 0.01, 'eta0': 0.1, 'learning_rate': 'constant', 'loss': 'hinge'}\", \"{'alpha': 0.1, 'eta0': 0.01, 'learning_rate': 'constant', 'loss': 'hinge'}\", \"{'alpha': 0.0001, 'eta0': 0.01, 'learning_rate': 'constant', 'loss': 'log'}\", \"{'alpha': 0.01, 'eta0': 1, 'learning_rate': 'constant', 'loss': 'hinge'}\", \"{'alpha': 0.01, 'eta0': 1, 'learning_rate': 'constant', 'loss': 'log'}\", \"{'alpha': 0.1, 'eta0': 0.1, 'learning_rate': 'constant', 'loss': 'hinge'}\", \"{'alpha': 0.1, 'eta0': 0.1, 'learning_rate': 'constant', 'loss': 'log'}\", \"{'alpha': 1.0, 'eta0': 0.01, 'learning_rate': 'constant', 'loss': 'hinge'}\", \"{'alpha': 1.0, 'eta0': 0.01, 'learning_rate': 'constant', 'loss': 'log'}\", \"{'alpha': 1.0, 'eta0': 1, 'learning_rate': 'adaptive', 'loss': 'log'}\", \"{'alpha': 0.0001, 'eta0': 0.1, 'learning_rate': 'constant', 'loss': 'log'}\", \"{'alpha': 0.001, 'eta0': 0.01, 'learning_rate': 'constant', 'loss': 'log'}\", \"{'alpha': 1.0, 'eta0': 0.01, 'learning_rate': 'optimal', 'loss': 'log'}\", \"{'alpha': 1.0, 'eta0': 0.1, 'learning_rate': 'optimal', 'loss': 'log'}\", \"{'alpha': 1.0, 'eta0': 1, 'learning_rate': 'optimal', 'loss': 'log'}\", \"{'alpha': 0.0001, 'eta0': 1, 'learning_rate': 'constant', 'loss': 'log'}\", \"{'alpha': 0.001, 'eta0': 0.1, 'learning_rate': 'constant', 'loss': 'log'}\", \"{'alpha': 0.01, 'eta0': 0.01, 'learning_rate': 'constant', 'loss': 'log'}\", \"{'alpha': 0.1, 'eta0': 0.1, 'learning_rate': 'adaptive', 'loss': 'hinge'}\", \"{'alpha': 1.0, 'eta0': 0.01, 'learning_rate': 'adaptive', 'loss': 'hinge'}\", \"{'alpha': 0.1, 'eta0': 0.01, 'learning_rate': 'adaptive', 'loss': 'log'}\", \"{'alpha': 0.01, 'eta0': 1, 'learning_rate': 'adaptive', 'loss': 'hinge'}\", \"{'alpha': 0.001, 'eta0': 1, 'learning_rate': 'constant', 'loss': 'log'}\", \"{'alpha': 0.01, 'eta0': 0.1, 'learning_rate': 'constant', 'loss': 'log'}\", \"{'alpha': 0.1, 'eta0': 0.01, 'learning_rate': 'constant', 'loss': 'log'}\", \"{'alpha': 0.01, 'eta0': 1, 'learning_rate': 'adaptive', 'loss': 'log'}\", \"{'alpha': 0.1, 'eta0': 1, 'learning_rate': 'adaptive', 'loss': 'hinge'}\", \"{'alpha': 0.0001, 'eta0': 0.01, 'learning_rate': 'adaptive', 'loss': 'log'}\", \"{'alpha': 1.0, 'eta0': 0.01, 'learning_rate': 'adaptive', 'loss': 'log'}\", \"{'alpha': 0.01, 'eta0': 0.01, 'learning_rate': 'adaptive', 'loss': 'log'}\", \"{'alpha': 0.0001, 'eta0': 0.1, 'learning_rate': 'adaptive', 'loss': 'hinge'}\", \"{'alpha': 0.0001, 'eta0': 0.1, 'learning_rate': 'adaptive', 'loss': 'log'}\", \"{'alpha': 0.001, 'eta0': 1, 'learning_rate': 'adaptive', 'loss': 'hinge'}\", \"{'alpha': 0.0001, 'eta0': 1, 'learning_rate': 'adaptive', 'loss': 'log'}\", \"{'alpha': 0.0001, 'eta0': 1, 'learning_rate': 'adaptive', 'loss': 'hinge'}\", \"{'alpha': 0.001, 'eta0': 0.1, 'learning_rate': 'adaptive', 'loss': 'hinge'}\", \"{'alpha': 0.001, 'eta0': 1, 'learning_rate': 'adaptive', 'loss': 'log'}\", \"{'alpha': 0.001, 'eta0': 0.1, 'learning_rate': 'adaptive', 'loss': 'log'}\", \"{'alpha': 0.01, 'eta0': 0.1, 'learning_rate': 'adaptive', 'loss': 'log'}\", \"{'alpha': 0.0001, 'eta0': 0.01, 'learning_rate': 'adaptive', 'loss': 'hinge'}\", \"{'alpha': 0.001, 'eta0': 0.01, 'learning_rate': 'adaptive', 'loss': 'log'}\", \"{'alpha': 0.1, 'eta0': 1, 'learning_rate': 'adaptive', 'loss': 'log'}\", \"{'alpha': 0.1, 'eta0': 0.01, 'learning_rate': 'adaptive', 'loss': 'hinge'}\", \"{'alpha': 0.01, 'eta0': 0.01, 'learning_rate': 'adaptive', 'loss': 'hinge'}\", \"{'alpha': 0.001, 'eta0': 0.01, 'learning_rate': 'adaptive', 'loss': 'hinge'}\", \"{'alpha': 0.0001, 'eta0': 0.01, 'learning_rate': 'optimal', 'loss': 'hinge'}\", \"{'alpha': 0.0001, 'eta0': 0.1, 'learning_rate': 'optimal', 'loss': 'hinge'}\", \"{'alpha': 0.0001, 'eta0': 1, 'learning_rate': 'optimal', 'loss': 'hinge'}\", \"{'alpha': 0.001, 'eta0': 0.01, 'learning_rate': 'optimal', 'loss': 'hinge'}\", \"{'alpha': 0.001, 'eta0': 0.1, 'learning_rate': 'optimal', 'loss': 'hinge'}\", \"{'alpha': 0.001, 'eta0': 1, 'learning_rate': 'optimal', 'loss': 'hinge'}\", \"{'alpha': 0.01, 'eta0': 0.01, 'learning_rate': 'optimal', 'loss': 'hinge'}\", \"{'alpha': 0.01, 'eta0': 0.1, 'learning_rate': 'optimal', 'loss': 'hinge'}\", \"{'alpha': 0.01, 'eta0': 1, 'learning_rate': 'optimal', 'loss': 'hinge'}\", \"{'alpha': 0.1, 'eta0': 0.01, 'learning_rate': 'optimal', 'loss': 'hinge'}\", \"{'alpha': 0.1, 'eta0': 0.1, 'learning_rate': 'optimal', 'loss': 'hinge'}\", \"{'alpha': 0.1, 'eta0': 1, 'learning_rate': 'optimal', 'loss': 'hinge'}\", \"{'alpha': 1.0, 'eta0': 0.01, 'learning_rate': 'optimal', 'loss': 'hinge'}\", \"{'alpha': 1.0, 'eta0': 0.1, 'learning_rate': 'optimal', 'loss': 'hinge'}\", \"{'alpha': 1.0, 'eta0': 1, 'learning_rate': 'optimal', 'loss': 'hinge'}\", \"{'alpha': 1.0, 'eta0': 0.1, 'learning_rate': 'adaptive', 'loss': 'hinge'}\", \"{'alpha': 0.01, 'eta0': 0.1, 'learning_rate': 'adaptive', 'loss': 'hinge'}\", \"{'alpha': 1.0, 'eta0': 0.1, 'learning_rate': 'adaptive', 'loss': 'log'}\", \"{'alpha': 0.1, 'eta0': 1, 'learning_rate': 'invscaling', 'loss': 'hinge'}\", \"{'alpha': 1.0, 'eta0': 0.1, 'learning_rate': 'invscaling', 'loss': 'hinge'}\", \"{'alpha': 0.0001, 'eta0': 0.1, 'learning_rate': 'invscaling', 'loss': 'hinge'}\", \"{'alpha': 0.001, 'eta0': 0.01, 'learning_rate': 'invscaling', 'loss': 'hinge'}\", \"{'alpha': 0.0001, 'eta0': 0.01, 'learning_rate': 'invscaling', 'loss': 'log'}\", \"{'alpha': 0.001, 'eta0': 1, 'learning_rate': 'invscaling', 'loss': 'log'}\", \"{'alpha': 0.01, 'eta0': 0.1, 'learning_rate': 'invscaling', 'loss': 'log'}\", \"{'alpha': 0.1, 'eta0': 0.01, 'learning_rate': 'invscaling', 'loss': 'log'}\", \"{'alpha': 0.0001, 'eta0': 0.01, 'learning_rate': 'optimal', 'loss': 'log'}\", \"{'alpha': 0.0001, 'eta0': 0.1, 'learning_rate': 'optimal', 'loss': 'log'}\", \"{'alpha': 0.0001, 'eta0': 1, 'learning_rate': 'optimal', 'loss': 'log'}\", \"{'alpha': 0.001, 'eta0': 0.01, 'learning_rate': 'optimal', 'loss': 'log'}\", \"{'alpha': 0.001, 'eta0': 0.1, 'learning_rate': 'optimal', 'loss': 'log'}\", \"{'alpha': 0.001, 'eta0': 1, 'learning_rate': 'optimal', 'loss': 'log'}\", \"{'alpha': 0.01, 'eta0': 0.01, 'learning_rate': 'optimal', 'loss': 'log'}\", \"{'alpha': 0.01, 'eta0': 0.1, 'learning_rate': 'optimal', 'loss': 'log'}\", \"{'alpha': 0.01, 'eta0': 1, 'learning_rate': 'optimal', 'loss': 'log'}\", \"{'alpha': 0.1, 'eta0': 0.01, 'learning_rate': 'optimal', 'loss': 'log'}\", \"{'alpha': 0.1, 'eta0': 0.1, 'learning_rate': 'optimal', 'loss': 'log'}\", \"{'alpha': 0.1, 'eta0': 1, 'learning_rate': 'optimal', 'loss': 'log'}\", \"{'alpha': 0.0001, 'eta0': 0.1, 'learning_rate': 'constant', 'loss': 'hinge'}\", \"{'alpha': 0.001, 'eta0': 0.01, 'learning_rate': 'constant', 'loss': 'hinge'}\", \"{'alpha': 0.01, 'eta0': 1, 'learning_rate': 'invscaling', 'loss': 'log'}\", \"{'alpha': 0.1, 'eta0': 0.1, 'learning_rate': 'invscaling', 'loss': 'log'}\", \"{'alpha': 1.0, 'eta0': 0.01, 'learning_rate': 'invscaling', 'loss': 'log'}\", \"{'alpha': 0.0001, 'eta0': 1, 'learning_rate': 'invscaling', 'loss': 'log'}\", \"{'alpha': 0.001, 'eta0': 0.1, 'learning_rate': 'invscaling', 'loss': 'log'}\", \"{'alpha': 0.01, 'eta0': 0.01, 'learning_rate': 'invscaling', 'loss': 'log'}\", \"{'alpha': 0.0001, 'eta0': 1, 'learning_rate': 'constant', 'loss': 'hinge'}\", \"{'alpha': 0.001, 'eta0': 0.1, 'learning_rate': 'constant', 'loss': 'hinge'}\", \"{'alpha': 0.01, 'eta0': 0.01, 'learning_rate': 'constant', 'loss': 'hinge'}\", \"{'alpha': 0.0001, 'eta0': 1, 'learning_rate': 'invscaling', 'loss': 'hinge'}\", \"{'alpha': 0.001, 'eta0': 0.1, 'learning_rate': 'invscaling', 'loss': 'hinge'}\", \"{'alpha': 0.01, 'eta0': 0.01, 'learning_rate': 'invscaling', 'loss': 'hinge'}\", \"{'alpha': 0.1, 'eta0': 1, 'learning_rate': 'invscaling', 'loss': 'log'}\", \"{'alpha': 1.0, 'eta0': 0.1, 'learning_rate': 'invscaling', 'loss': 'log'}\", \"{'alpha': 0.0001, 'eta0': 0.1, 'learning_rate': 'invscaling', 'loss': 'log'}\", \"{'alpha': 1.0, 'eta0': 1, 'learning_rate': 'adaptive', 'loss': 'hinge'}\", \"{'alpha': 1.0, 'eta0': 1, 'learning_rate': 'invscaling', 'loss': 'hinge'}\", \"{'alpha': 1.0, 'eta0': 1, 'learning_rate': 'invscaling', 'loss': 'log'}\", \"{'alpha': 0.0001, 'eta0': 0.01, 'learning_rate': 'invscaling', 'loss': 'hinge'}\", \"{'alpha': 0.1, 'eta0': 0.1, 'learning_rate': 'adaptive', 'loss': 'log'}\", \"{'alpha': 0.01, 'eta0': 1, 'learning_rate': 'invscaling', 'loss': 'hinge'}\", \"{'alpha': 0.1, 'eta0': 0.1, 'learning_rate': 'invscaling', 'loss': 'hinge'}\", \"{'alpha': 1.0, 'eta0': 0.01, 'learning_rate': 'invscaling', 'loss': 'hinge'}\", \"{'alpha': 0.001, 'eta0': 1, 'learning_rate': 'invscaling', 'loss': 'hinge'}\", \"{'alpha': 0.01, 'eta0': 0.1, 'learning_rate': 'invscaling', 'loss': 'hinge'}\", \"{'alpha': 0.1, 'eta0': 0.01, 'learning_rate': 'invscaling', 'loss': 'hinge'}\", \"{'alpha': 0.001, 'eta0': 0.01, 'learning_rate': 'invscaling', 'loss': 'log'}\"], \"type\": \"scatter\", \"x\": [0, 1, 2, 3, 4, 5, 6, 7, 8, 9, 10, 11, 12, 13, 14, 15, 16, 17, 18, 19, 20, 21, 22, 23, 24, 25, 26, 27, 28, 29, 30, 31, 32, 33, 34, 35, 36, 37, 38, 39, 40, 41, 42, 43, 44, 45, 46, 47, 48, 49, 50, 51, 52, 53, 54, 55, 56, 57, 58, 59, 60, 61, 62, 63, 64, 65, 66, 67, 68, 69, 70, 71, 72, 73, 74, 75, 76, 77, 78, 79, 80, 81, 82, 83, 84, 85, 86, 87, 88, 89, 90, 91, 92, 93, 94, 95, 96, 97, 98, 99, 100, 101, 102, 103, 104, 105, 106, 107, 108, 109, 110, 111, 112, 113, 114, 115, 116, 117, 118, 119], \"y\": [0.0009004152400378995, 0.0009004152400378995, 0.0009004152400378995, 0.0009004152400378995, 0.0009004152400378995, 0.0009004152400378995, 0.0009004152400378995, 0.0015679894723946103, 0.0015679894723946103, 0.0015679894723946103, 0.0025360053285072735, 0.0025360053285072735, 0.0025360053285072735, 0.0025360053285072735, 0.0025360053285072735, 0.0025360053285072735, 0.0025360053285072735, 0.0025360053285072735, 0.0023428280032053547, 0.0023428280032053547, 0.004620763257997334, 0.004620763257997334, 0.004620763257997334, 0.00557140769128718, 0.00557140769128718, 0.00557140769128718, 0.009775608802018589, 0.012910056594724937, 0.015981392501358032, 0.018947755576396535, 0.03427986096590366, 0.03427986096590366, 0.03427986096590366, 0.0238959276918711, 0.05280901527485791, 0.024268781902911186, 0.08459902806967445, 0.020564848403488264, 0.026703721254610454, 0.025059638867365366, 0.02893617880272497, 0.030520549246517443, 0.028175150403231868, 0.034660083570232335, 0.035943598532246414, 0.036369094909156144, 0.07747080175041357, 0.05890634295485795, 0.08173862556021785, 0.1269053974320727, 0.16387846899904665, 0.0582917678810727, 0.03735993050257436, 0.17320689488389635, 0.17320689488389635, 0.17320689488389635, 0.17320689488389635, 0.17320689488389635, 0.17320689488389635, 0.17320689488389635, 0.17320689488389635, 0.17320689488389635, 0.17320689488389635, 0.17320689488389635, 0.17320689488389635, 0.17320689488389635, 0.17320689488389635, 0.17320689488389635, 0.16549899927809059, 0.15167423866113766, 0.19111472958945244, 0.2654930576069111, 0.2654930576069111, 0.26524318871698493, 0.26524318871698493, 0.2647192124589269, 0.264056338888287, 0.264056338888287, 0.264056338888287, 0.2601302453151994, 0.2601302453151994, 0.2601302453151994, 0.2601302453151994, 0.2601302453151994, 0.2601302453151994, 0.2601302453151994, 0.2601302453151994, 0.2601302453151994, 0.2601302453151994, 0.2601302453151994, 0.2601302453151994, 0.25156892344591825, 0.25156892344591825, 0.2554632074794683, 0.2554632074794683, 0.2554632074794683, 0.2583890005159848, 0.2583890005159848, 0.2570348806566776, 0.27354702178110124, 0.27354702178110124, 0.27354702178110124, 0.32390409394090963, 0.32390409394090963, 0.32390409394090963, 0.32390409394090963, 0.32390409394090963, 0.32302245456695705, 0.3254305514123692, 0.32652710003213303, 0.32652710003213303, 0.3145123345202446, 0.2411390986125156, 0.2815294117879891, 0.2815294117879891, 0.2815294117879891, 0.29224047640526446, 0.29224047640526446, 0.29224047640526446, 0.2773310605681566], \"yaxis\": \"y2\"}],\n",
       "                        {\"template\": {\"data\": {\"bar\": [{\"error_x\": {\"color\": \"#2a3f5f\"}, \"error_y\": {\"color\": \"#2a3f5f\"}, \"marker\": {\"line\": {\"color\": \"#E5ECF6\", \"width\": 0.5}}, \"type\": \"bar\"}], \"barpolar\": [{\"marker\": {\"line\": {\"color\": \"#E5ECF6\", \"width\": 0.5}}, \"type\": \"barpolar\"}], \"carpet\": [{\"aaxis\": {\"endlinecolor\": \"#2a3f5f\", \"gridcolor\": \"white\", \"linecolor\": \"white\", \"minorgridcolor\": \"white\", \"startlinecolor\": \"#2a3f5f\"}, \"baxis\": {\"endlinecolor\": \"#2a3f5f\", \"gridcolor\": \"white\", \"linecolor\": \"white\", \"minorgridcolor\": \"white\", \"startlinecolor\": \"#2a3f5f\"}, \"type\": \"carpet\"}], \"choropleth\": [{\"colorbar\": {\"outlinewidth\": 0, \"ticks\": \"\"}, \"type\": \"choropleth\"}], \"contour\": [{\"colorbar\": {\"outlinewidth\": 0, \"ticks\": \"\"}, \"colorscale\": [[0.0, \"#0d0887\"], [0.1111111111111111, \"#46039f\"], [0.2222222222222222, \"#7201a8\"], [0.3333333333333333, \"#9c179e\"], [0.4444444444444444, \"#bd3786\"], [0.5555555555555556, \"#d8576b\"], [0.6666666666666666, \"#ed7953\"], [0.7777777777777778, \"#fb9f3a\"], [0.8888888888888888, \"#fdca26\"], [1.0, \"#f0f921\"]], \"type\": \"contour\"}], \"contourcarpet\": [{\"colorbar\": {\"outlinewidth\": 0, \"ticks\": \"\"}, \"type\": \"contourcarpet\"}], \"heatmap\": [{\"colorbar\": {\"outlinewidth\": 0, \"ticks\": \"\"}, \"colorscale\": [[0.0, \"#0d0887\"], [0.1111111111111111, \"#46039f\"], [0.2222222222222222, \"#7201a8\"], [0.3333333333333333, \"#9c179e\"], [0.4444444444444444, \"#bd3786\"], [0.5555555555555556, \"#d8576b\"], [0.6666666666666666, \"#ed7953\"], [0.7777777777777778, \"#fb9f3a\"], [0.8888888888888888, \"#fdca26\"], [1.0, \"#f0f921\"]], \"type\": \"heatmap\"}], \"heatmapgl\": [{\"colorbar\": {\"outlinewidth\": 0, \"ticks\": \"\"}, \"colorscale\": [[0.0, \"#0d0887\"], [0.1111111111111111, \"#46039f\"], [0.2222222222222222, \"#7201a8\"], [0.3333333333333333, \"#9c179e\"], [0.4444444444444444, \"#bd3786\"], [0.5555555555555556, \"#d8576b\"], [0.6666666666666666, \"#ed7953\"], [0.7777777777777778, \"#fb9f3a\"], [0.8888888888888888, \"#fdca26\"], [1.0, \"#f0f921\"]], \"type\": \"heatmapgl\"}], \"histogram\": [{\"marker\": {\"colorbar\": {\"outlinewidth\": 0, \"ticks\": \"\"}}, \"type\": \"histogram\"}], \"histogram2d\": [{\"colorbar\": {\"outlinewidth\": 0, \"ticks\": \"\"}, \"colorscale\": [[0.0, \"#0d0887\"], [0.1111111111111111, \"#46039f\"], [0.2222222222222222, \"#7201a8\"], [0.3333333333333333, \"#9c179e\"], [0.4444444444444444, \"#bd3786\"], [0.5555555555555556, \"#d8576b\"], [0.6666666666666666, \"#ed7953\"], [0.7777777777777778, \"#fb9f3a\"], [0.8888888888888888, \"#fdca26\"], [1.0, \"#f0f921\"]], \"type\": \"histogram2d\"}], \"histogram2dcontour\": [{\"colorbar\": {\"outlinewidth\": 0, \"ticks\": \"\"}, \"colorscale\": [[0.0, \"#0d0887\"], [0.1111111111111111, \"#46039f\"], [0.2222222222222222, \"#7201a8\"], [0.3333333333333333, \"#9c179e\"], [0.4444444444444444, \"#bd3786\"], [0.5555555555555556, \"#d8576b\"], [0.6666666666666666, \"#ed7953\"], [0.7777777777777778, \"#fb9f3a\"], [0.8888888888888888, \"#fdca26\"], [1.0, \"#f0f921\"]], \"type\": \"histogram2dcontour\"}], \"mesh3d\": [{\"colorbar\": {\"outlinewidth\": 0, \"ticks\": \"\"}, \"type\": \"mesh3d\"}], \"parcoords\": [{\"line\": {\"colorbar\": {\"outlinewidth\": 0, \"ticks\": \"\"}}, \"type\": \"parcoords\"}], \"pie\": [{\"automargin\": true, \"type\": \"pie\"}], \"scatter\": [{\"marker\": {\"colorbar\": {\"outlinewidth\": 0, \"ticks\": \"\"}}, \"type\": \"scatter\"}], \"scatter3d\": [{\"line\": {\"colorbar\": {\"outlinewidth\": 0, \"ticks\": \"\"}}, \"marker\": {\"colorbar\": {\"outlinewidth\": 0, \"ticks\": \"\"}}, \"type\": \"scatter3d\"}], \"scattercarpet\": [{\"marker\": {\"colorbar\": {\"outlinewidth\": 0, \"ticks\": \"\"}}, \"type\": \"scattercarpet\"}], \"scattergeo\": [{\"marker\": {\"colorbar\": {\"outlinewidth\": 0, \"ticks\": \"\"}}, \"type\": \"scattergeo\"}], \"scattergl\": [{\"marker\": {\"colorbar\": {\"outlinewidth\": 0, \"ticks\": \"\"}}, \"type\": \"scattergl\"}], \"scattermapbox\": [{\"marker\": {\"colorbar\": {\"outlinewidth\": 0, \"ticks\": \"\"}}, \"type\": \"scattermapbox\"}], \"scatterpolar\": [{\"marker\": {\"colorbar\": {\"outlinewidth\": 0, \"ticks\": \"\"}}, \"type\": \"scatterpolar\"}], \"scatterpolargl\": [{\"marker\": {\"colorbar\": {\"outlinewidth\": 0, \"ticks\": \"\"}}, \"type\": \"scatterpolargl\"}], \"scatterternary\": [{\"marker\": {\"colorbar\": {\"outlinewidth\": 0, \"ticks\": \"\"}}, \"type\": \"scatterternary\"}], \"surface\": [{\"colorbar\": {\"outlinewidth\": 0, \"ticks\": \"\"}, \"colorscale\": [[0.0, \"#0d0887\"], [0.1111111111111111, \"#46039f\"], [0.2222222222222222, \"#7201a8\"], [0.3333333333333333, \"#9c179e\"], [0.4444444444444444, \"#bd3786\"], [0.5555555555555556, \"#d8576b\"], [0.6666666666666666, \"#ed7953\"], [0.7777777777777778, \"#fb9f3a\"], [0.8888888888888888, \"#fdca26\"], [1.0, \"#f0f921\"]], \"type\": \"surface\"}], \"table\": [{\"cells\": {\"fill\": {\"color\": \"#EBF0F8\"}, \"line\": {\"color\": \"white\"}}, \"header\": {\"fill\": {\"color\": \"#C8D4E3\"}, \"line\": {\"color\": \"white\"}}, \"type\": \"table\"}]}, \"layout\": {\"annotationdefaults\": {\"arrowcolor\": \"#2a3f5f\", \"arrowhead\": 0, \"arrowwidth\": 1}, \"coloraxis\": {\"colorbar\": {\"outlinewidth\": 0, \"ticks\": \"\"}}, \"colorscale\": {\"diverging\": [[0, \"#8e0152\"], [0.1, \"#c51b7d\"], [0.2, \"#de77ae\"], [0.3, \"#f1b6da\"], [0.4, \"#fde0ef\"], [0.5, \"#f7f7f7\"], [0.6, \"#e6f5d0\"], [0.7, \"#b8e186\"], [0.8, \"#7fbc41\"], [0.9, \"#4d9221\"], [1, \"#276419\"]], \"sequential\": [[0.0, \"#0d0887\"], [0.1111111111111111, \"#46039f\"], [0.2222222222222222, \"#7201a8\"], [0.3333333333333333, \"#9c179e\"], [0.4444444444444444, \"#bd3786\"], [0.5555555555555556, \"#d8576b\"], [0.6666666666666666, \"#ed7953\"], [0.7777777777777778, \"#fb9f3a\"], [0.8888888888888888, \"#fdca26\"], [1.0, \"#f0f921\"]], \"sequentialminus\": [[0.0, \"#0d0887\"], [0.1111111111111111, \"#46039f\"], [0.2222222222222222, \"#7201a8\"], [0.3333333333333333, \"#9c179e\"], [0.4444444444444444, \"#bd3786\"], [0.5555555555555556, \"#d8576b\"], [0.6666666666666666, \"#ed7953\"], [0.7777777777777778, \"#fb9f3a\"], [0.8888888888888888, \"#fdca26\"], [1.0, \"#f0f921\"]]}, \"colorway\": [\"#636efa\", \"#EF553B\", \"#00cc96\", \"#ab63fa\", \"#FFA15A\", \"#19d3f3\", \"#FF6692\", \"#B6E880\", \"#FF97FF\", \"#FECB52\"], \"font\": {\"color\": \"#2a3f5f\"}, \"geo\": {\"bgcolor\": \"white\", \"lakecolor\": \"white\", \"landcolor\": \"#E5ECF6\", \"showlakes\": true, \"showland\": true, \"subunitcolor\": \"white\"}, \"hoverlabel\": {\"align\": \"left\"}, \"hovermode\": \"closest\", \"mapbox\": {\"style\": \"light\"}, \"paper_bgcolor\": \"white\", \"plot_bgcolor\": \"#E5ECF6\", \"polar\": {\"angularaxis\": {\"gridcolor\": \"white\", \"linecolor\": \"white\", \"ticks\": \"\"}, \"bgcolor\": \"#E5ECF6\", \"radialaxis\": {\"gridcolor\": \"white\", \"linecolor\": \"white\", \"ticks\": \"\"}}, \"scene\": {\"xaxis\": {\"backgroundcolor\": \"#E5ECF6\", \"gridcolor\": \"white\", \"gridwidth\": 2, \"linecolor\": \"white\", \"showbackground\": true, \"ticks\": \"\", \"zerolinecolor\": \"white\"}, \"yaxis\": {\"backgroundcolor\": \"#E5ECF6\", \"gridcolor\": \"white\", \"gridwidth\": 2, \"linecolor\": \"white\", \"showbackground\": true, \"ticks\": \"\", \"zerolinecolor\": \"white\"}, \"zaxis\": {\"backgroundcolor\": \"#E5ECF6\", \"gridcolor\": \"white\", \"gridwidth\": 2, \"linecolor\": \"white\", \"showbackground\": true, \"ticks\": \"\", \"zerolinecolor\": \"white\"}}, \"shapedefaults\": {\"line\": {\"color\": \"#2a3f5f\"}}, \"ternary\": {\"aaxis\": {\"gridcolor\": \"white\", \"linecolor\": \"white\", \"ticks\": \"\"}, \"baxis\": {\"gridcolor\": \"white\", \"linecolor\": \"white\", \"ticks\": \"\"}, \"bgcolor\": \"#E5ECF6\", \"caxis\": {\"gridcolor\": \"white\", \"linecolor\": \"white\", \"ticks\": \"\"}}, \"title\": {\"x\": 0.05}, \"xaxis\": {\"automargin\": true, \"gridcolor\": \"white\", \"linecolor\": \"white\", \"ticks\": \"\", \"title\": {\"standoff\": 15}, \"zerolinecolor\": \"white\", \"zerolinewidth\": 2}, \"yaxis\": {\"automargin\": true, \"gridcolor\": \"white\", \"linecolor\": \"white\", \"ticks\": \"\", \"title\": {\"standoff\": 15}, \"zerolinecolor\": \"white\", \"zerolinewidth\": 2}}}, \"title\": {\"text\": \"Reporte para 120 configuraciones de par\\u00e1metros\", \"x\": 0, \"xref\": \"paper\"}, \"xaxis\": {\"anchor\": \"y\", \"domain\": [0.0, 0.94], \"title\": {\"text\": \"ranking\"}}, \"yaxis\": {\"anchor\": \"x\", \"domain\": [0.0, 1.0], \"title\": {\"text\": \"Mean test score\"}}, \"yaxis2\": {\"anchor\": \"x\", \"overlaying\": \"y\", \"side\": \"right\", \"title\": {\"text\": \"Std test score\"}}},\n",
       "                        {\"responsive\": true}\n",
       "                    ).then(function(){\n",
       "                            \n",
       "var gd = document.getElementById('14b41456-b45e-46ff-a68f-78c1029bffc3');\n",
       "var x = new MutationObserver(function (mutations, observer) {{\n",
       "        var display = window.getComputedStyle(gd).display;\n",
       "        if (!display || display === 'none') {{\n",
       "            console.log([gd, 'removed!']);\n",
       "            Plotly.purge(gd);\n",
       "            observer.disconnect();\n",
       "        }}\n",
       "}});\n",
       "\n",
       "// Listen for the removal of the full notebook cells\n",
       "var notebookContainer = gd.closest('#notebook-container');\n",
       "if (notebookContainer) {{\n",
       "    x.observe(notebookContainer, {childList: true});\n",
       "}}\n",
       "\n",
       "// Listen for the clearing of the current output cell\n",
       "var outputEl = gd.closest('.output');\n",
       "if (outputEl) {{\n",
       "    x.observe(outputEl, {childList: true});\n",
       "}}\n",
       "\n",
       "                        })\n",
       "                };\n",
       "                });\n",
       "            </script>\n",
       "        </div>"
      ]
     },
     "metadata": {},
     "output_type": "display_data"
    }
   ],
   "source": [
    "fig = go.Figure()\n",
    "\n",
    "fig = make_subplots(specs=[[{\"secondary_y\": True}]])\n",
    "\n",
    "fig.add_trace(go.Scatter(x=df.index, y=df['mean_test_score'], \n",
    "                         name='Mean score', mode='markers', marker=dict(color='royalblue'),\n",
    "                         yaxis='y1',\n",
    "                         text=df['params'].astype('str')\n",
    "                         )\n",
    "             )\n",
    "\n",
    "fig.add_trace(go.Scatter(x=df.index, y=df['std_test_score'], \n",
    "                         name='Std score', mode='markers', marker=dict(color='green'),\n",
    "                         yaxis = 'y2',\n",
    "                         text=df['params'].astype('str')\n",
    "                         )\n",
    "             )\n",
    "\n",
    "fig.update_layout(\n",
    "    title=go.layout.Title(\n",
    "        text=\"Reporte para {} configuraciones de parámetros\".format(len(df)),\n",
    "        xref=\"paper\",\n",
    "        x=0\n",
    "    ),\n",
    "    xaxis_title=\"ranking\",\n",
    "    yaxis_title=\"Mean test score\",\n",
    "    yaxis2_title=\"Std test score\", \n",
    " )\n"
   ]
  },
  {
   "cell_type": "markdown",
   "metadata": {
    "colab_type": "text",
    "id": "uJj3MUDWaX2w"
   },
   "source": [
    "Seleccionamos la mejor configuración de hyper parámetros."
   ]
  },
  {
   "cell_type": "code",
   "execution_count": 60,
   "metadata": {
    "colab": {
     "base_uri": "https://localhost:8080/",
     "height": 33
    },
    "colab_type": "code",
    "id": "XK6ZdIsAw3Yk",
    "outputId": "90d52127-22bd-4912-b48e-93ddb3ba8800"
   },
   "outputs": [
    {
     "data": {
      "text/plain": [
       "{'alpha': 0.0001, 'eta0': 0.01, 'learning_rate': 'constant', 'loss': 'hinge'}"
      ]
     },
     "execution_count": 60,
     "metadata": {},
     "output_type": "execute_result"
    }
   ],
   "source": [
    "best_model = df.loc[df['rank_test_score'].idxmin()]['params']\n",
    "best_model"
   ]
  },
  {
   "cell_type": "code",
   "execution_count": 61,
   "metadata": {
    "colab": {
     "base_uri": "https://localhost:8080/",
     "height": 117
    },
    "colab_type": "code",
    "id": "DZ4_lCzBjweX",
    "outputId": "e64b0179-4062-450b-d821-d9ed2cca8e95"
   },
   "outputs": [
    {
     "data": {
      "text/plain": [
       "SGDClassifier(eta0=0.01, learning_rate='constant', random_state=0)"
      ]
     },
     "execution_count": 61,
     "metadata": {},
     "output_type": "execute_result"
    }
   ],
   "source": [
    "model = SGDClassifier(**best_model, random_state=0)\n",
    "model.fit(X_train, y_train)"
   ]
  },
  {
   "cell_type": "code",
   "execution_count": 62,
   "metadata": {
    "colab": {},
    "colab_type": "code",
    "id": "5D-zkYcFk83N"
   },
   "outputs": [],
   "source": [
    "y_train_pred = model.predict(X_train)\n",
    "y_test_pred = model.predict(X_test)"
   ]
  },
  {
   "cell_type": "code",
   "execution_count": 63,
   "metadata": {
    "colab": {
     "base_uri": "https://localhost:8080/",
     "height": 167
    },
    "colab_type": "code",
    "id": "zrOF-xiVlDBW",
    "outputId": "2ba0432e-9a74-430e-a688-140f1057b510"
   },
   "outputs": [
    {
     "name": "stdout",
     "output_type": "stream",
     "text": [
      "              precision    recall  f1-score   support\n",
      "\n",
      "           0       0.87      0.99      0.93      1232\n",
      "           1       0.88      0.28      0.43       251\n",
      "\n",
      "    accuracy                           0.87      1483\n",
      "   macro avg       0.87      0.64      0.68      1483\n",
      "weighted avg       0.87      0.87      0.84      1483\n",
      "\n"
     ]
    }
   ],
   "source": [
    "print(classification_report(y_train, y_train_pred))"
   ]
  },
  {
   "cell_type": "code",
   "execution_count": 64,
   "metadata": {
    "colab": {
     "base_uri": "https://localhost:8080/",
     "height": 50
    },
    "colab_type": "code",
    "id": "_9bQOdnklOTl",
    "outputId": "e17ca883-f7cf-4d11-fd1d-a5ffb0fc042e"
   },
   "outputs": [
    {
     "name": "stdout",
     "output_type": "stream",
     "text": [
      "TP:  71 \t FP:  10 \n",
      "TN:  1222 \t FN:  180\n"
     ]
    }
   ],
   "source": [
    "tn, fp, fn, tp = confusion_matrix(y_train, y_train_pred).ravel()\n",
    "print('TP: ', tp, '\\t FP: ', fp, '\\nTN: ', tn, '\\t FN: ', fn)"
   ]
  },
  {
   "cell_type": "code",
   "execution_count": 65,
   "metadata": {
    "colab": {
     "base_uri": "https://localhost:8080/",
     "height": 167
    },
    "colab_type": "code",
    "id": "72fFJBFvlWLG",
    "outputId": "723982c8-9625-4d67-920c-07cec1ea4340"
   },
   "outputs": [
    {
     "name": "stdout",
     "output_type": "stream",
     "text": [
      "              precision    recall  f1-score   support\n",
      "\n",
      "           0       0.88      1.00      0.94       313\n",
      "           1       0.94      0.28      0.43        58\n",
      "\n",
      "    accuracy                           0.88       371\n",
      "   macro avg       0.91      0.64      0.68       371\n",
      "weighted avg       0.89      0.88      0.86       371\n",
      "\n"
     ]
    }
   ],
   "source": [
    "print(classification_report(y_test, y_test_pred))"
   ]
  },
  {
   "cell_type": "code",
   "execution_count": 66,
   "metadata": {
    "colab": {
     "base_uri": "https://localhost:8080/",
     "height": 50
    },
    "colab_type": "code",
    "id": "pcIxiQQglepa",
    "outputId": "a82ea3fe-3696-4c11-e72a-0301b0715c9f"
   },
   "outputs": [
    {
     "name": "stdout",
     "output_type": "stream",
     "text": [
      "TP:  16 \t FP:  1 \n",
      "TN:  312 \t FN:  42\n"
     ]
    }
   ],
   "source": [
    "tn, fp, fn, tp = confusion_matrix(y_test, y_test_pred).ravel()\n",
    "print('TP: ', tp, '\\t FP: ', fp, '\\nTN: ', tn, '\\t FN: ', fn)"
   ]
  },
  {
   "cell_type": "markdown",
   "metadata": {
    "colab_type": "text",
    "id": "_zLoFXp2Pe7F"
   },
   "source": [
    "## Ejercicio 3: Árboles de Decisión\n",
    "\n",
    "En este ejercicio se entrenarán árboles de decisión para predecir la variable objetivo.\n",
    "\n",
    "Para ello, deberán utilizar la clase DecisionTreeClassifier de scikit-learn.\n",
    "\n",
    "Documentación:\n",
    "- https://scikit-learn.org/stable/modules/tree.html\n",
    "  - https://scikit-learn.org/stable/modules/tree.html#tips-on-practical-use\n",
    "- https://scikit-learn.org/stable/modules/generated/sklearn.tree.DecisionTreeClassifier.html\n",
    "- https://scikit-learn.org/stable/auto_examples/tree/plot_unveil_tree_structure.html"
   ]
  },
  {
   "cell_type": "markdown",
   "metadata": {
    "colab_type": "text",
    "id": "4sCseE4APe7G"
   },
   "source": [
    "### Ejercicio 3.1: DecisionTreeClassifier con hiperparámetros por defecto\n",
    "\n",
    "Entrenar y evaluar el clasificador DecisionTreeClassifier usando los valores por omisión de scikit-learn para todos los parámetros. Únicamente **fijar la semilla aleatoria** para hacer repetible el experimento.\n",
    "\n",
    "Evaluar sobre el conjunto de **entrenamiento** y sobre el conjunto de **evaluación**, reportando:\n",
    "- Accuracy\n",
    "- Precision\n",
    "- Recall\n",
    "- F1\n",
    "- matriz de confusión\n"
   ]
  },
  {
   "cell_type": "code",
   "execution_count": 67,
   "metadata": {
    "colab": {
     "base_uri": "https://localhost:8080/",
     "height": 117
    },
    "colab_type": "code",
    "id": "dTMd6ggjc5PJ",
    "outputId": "07174479-9f93-451b-b34c-abb27b82d117"
   },
   "outputs": [
    {
     "data": {
      "text/plain": [
       "DecisionTreeClassifier(random_state=0)"
      ]
     },
     "execution_count": 67,
     "metadata": {},
     "output_type": "execute_result"
    }
   ],
   "source": [
    "model = DecisionTreeClassifier(random_state=0)\n",
    "model.fit(X_train, y_train)"
   ]
  },
  {
   "cell_type": "code",
   "execution_count": 68,
   "metadata": {
    "colab": {},
    "colab_type": "code",
    "id": "s4UVGgSHhcyW"
   },
   "outputs": [],
   "source": [
    "y_train_pred = model.predict(X_train)\n",
    "y_test_pred = model.predict(X_test)"
   ]
  },
  {
   "cell_type": "code",
   "execution_count": 69,
   "metadata": {
    "colab": {
     "base_uri": "https://localhost:8080/",
     "height": 50
    },
    "colab_type": "code",
    "id": "f6D9dbodwcys",
    "outputId": "43dc5192-266f-47a1-bf93-a7b544808900"
   },
   "outputs": [
    {
     "name": "stdout",
     "output_type": "stream",
     "text": [
      "Profundidad máxima del árbol: 22\n",
      "Cantidad máxima de hojas: 141\n"
     ]
    }
   ],
   "source": [
    "print('Profundidad máxima del árbol:', model.get_depth())\n",
    "print('Cantidad máxima de hojas:', model.get_n_leaves())"
   ]
  },
  {
   "cell_type": "code",
   "execution_count": 70,
   "metadata": {
    "colab": {
     "base_uri": "https://localhost:8080/",
     "height": 167
    },
    "colab_type": "code",
    "id": "f4yU8qBKhjl_",
    "outputId": "ab30f35f-6434-46c3-e757-cff331798e53"
   },
   "outputs": [
    {
     "name": "stdout",
     "output_type": "stream",
     "text": [
      "              precision    recall  f1-score   support\n",
      "\n",
      "           0       1.00      1.00      1.00      1232\n",
      "           1       1.00      1.00      1.00       251\n",
      "\n",
      "    accuracy                           1.00      1483\n",
      "   macro avg       1.00      1.00      1.00      1483\n",
      "weighted avg       1.00      1.00      1.00      1483\n",
      "\n"
     ]
    }
   ],
   "source": [
    "print(classification_report(y_train, y_train_pred))"
   ]
  },
  {
   "cell_type": "code",
   "execution_count": 71,
   "metadata": {
    "colab": {
     "base_uri": "https://localhost:8080/",
     "height": 50
    },
    "colab_type": "code",
    "id": "gMN7oQeRjK8Q",
    "outputId": "d3453e92-f91c-4d4a-c3a4-de1079cd5805"
   },
   "outputs": [
    {
     "name": "stdout",
     "output_type": "stream",
     "text": [
      "TP:  251 \t FP:  0 \n",
      "TN:  1232 \t FN:  0\n"
     ]
    }
   ],
   "source": [
    "tn, fp, fn, tp = confusion_matrix(y_train, y_train_pred).ravel()\n",
    "print('TP: ', tp, '\\t FP: ', fp, '\\nTN: ', tn, '\\t FN: ', fn)"
   ]
  },
  {
   "cell_type": "code",
   "execution_count": 72,
   "metadata": {
    "colab": {
     "base_uri": "https://localhost:8080/",
     "height": 167
    },
    "colab_type": "code",
    "id": "EgRHIAE8nFAu",
    "outputId": "27b844a3-eba6-4f1a-a0c5-c4e7bf728b53"
   },
   "outputs": [
    {
     "name": "stdout",
     "output_type": "stream",
     "text": [
      "              precision    recall  f1-score   support\n",
      "\n",
      "           0       0.93      0.93      0.93       313\n",
      "           1       0.62      0.64      0.63        58\n",
      "\n",
      "    accuracy                           0.88       371\n",
      "   macro avg       0.77      0.78      0.78       371\n",
      "weighted avg       0.88      0.88      0.88       371\n",
      "\n"
     ]
    }
   ],
   "source": [
    "print(classification_report(y_test, y_test_pred))"
   ]
  },
  {
   "cell_type": "code",
   "execution_count": 73,
   "metadata": {
    "colab": {
     "base_uri": "https://localhost:8080/",
     "height": 50
    },
    "colab_type": "code",
    "id": "LCuojxJKnM1s",
    "outputId": "c26041a0-20ee-43d1-b510-59223999d31f"
   },
   "outputs": [
    {
     "name": "stdout",
     "output_type": "stream",
     "text": [
      "TP:  37 \t FP:  23 \n",
      "TN:  290 \t FN:  21\n"
     ]
    }
   ],
   "source": [
    "tn, fp, fn, tp = confusion_matrix(y_test, y_test_pred).ravel()\n",
    "print('TP: ', tp, '\\t FP: ', fp, '\\nTN: ', tn, '\\t FN: ', fn)"
   ]
  },
  {
   "cell_type": "markdown",
   "metadata": {
    "colab_type": "text",
    "id": "54MeGPCExs8z"
   },
   "source": [
    "Graficamos el árbol de decisión."
   ]
  },
  {
   "cell_type": "code",
   "execution_count": 74,
   "metadata": {
    "colab": {
     "base_uri": "https://localhost:8080/",
     "height": 578
    },
    "colab_type": "code",
    "id": "yPmscM-hxHYL",
    "outputId": "6aa28e3c-8373-4318-b0f6-dbf76daa163d"
   },
   "outputs": [
    {
     "data": {
      "image/png": "[encoded data removed]",
      "text/plain": [
       "<Figure size 1224x720 with 1 Axes>"
      ]
     },
     "metadata": {
      "needs_background": "light"
     },
     "output_type": "display_data"
    }
   ],
   "source": [
    "plt.figure(figsize=(17,10))\n",
    "plot_tree(model, impurity=False, fontsize=8, filled=True, label='root')  #filled=True,\n",
    "plt.show()"
   ]
  },
  {
   "cell_type": "markdown",
   "metadata": {
    "colab_type": "text",
    "id": "IL_sYYbmPe7J"
   },
   "source": [
    "### Ejercicio 3.2: Ajuste de Hiperparámetros\n",
    "\n",
    "Seleccionar valores para los hiperparámetros principales del DecisionTreeClassifier. Como mínimo, probar diferentes criterios de partición (criterion), profundidad máxima del árbol (max_depth), y cantidad mínima de samples por hoja (min_samples_leaf).\n",
    "\n",
    "Para ello, usar grid-search y 5-fold cross-validation sobre el conjunto de entrenamiento para explorar muchas combinaciones posibles de valores.\n",
    "\n",
    "Reportar accuracy promedio y varianza para todas las configuraciones.\n",
    "\n",
    "Para la mejor configuración encontrada, evaluar sobre el conjunto de **entrenamiento** y sobre el conjunto de **evaluación**, reportando:\n",
    "- Accuracy\n",
    "- Precision\n",
    "- Recall\n",
    "- F1\n",
    "- matriz de confusión\n",
    "\n",
    "\n",
    "Documentación:\n",
    "- https://scikit-learn.org/stable/modules/grid_search.html\n",
    "- https://scikit-learn.org/stable/modules/generated/sklearn.model_selection.GridSearchCV.html"
   ]
  },
  {
   "cell_type": "code",
   "execution_count": 75,
   "metadata": {
    "colab": {},
    "colab_type": "code",
    "id": "itc7wf7bjrPz"
   },
   "outputs": [],
   "source": [
    "param_grid = {\n",
    "    'splitter': ['best', 'random'],\n",
    "    'criterion': ['gini', 'entropy'],\n",
    "    'max_depth': np.arange(4,20,2),\n",
    "    'min_samples_leaf': np.arange(1,10),\n",
    "}\n"
   ]
  },
  {
   "cell_type": "code",
   "execution_count": 76,
   "metadata": {
    "colab": {},
    "colab_type": "code",
    "id": "ixBh61gkkC1p"
   },
   "outputs": [],
   "source": [
    "cv = GridSearchCV(DecisionTreeClassifier(random_state=0), param_grid, scoring='accuracy')\n",
    "cv.fit(X, y);"
   ]
  },
  {
   "cell_type": "code",
   "execution_count": 77,
   "metadata": {
    "colab": {},
    "colab_type": "code",
    "id": "0bZCXqVelRzi"
   },
   "outputs": [],
   "source": [
    "results = cv.cv_results_\n",
    "df = pd.DataFrame(results)"
   ]
  },
  {
   "cell_type": "code",
   "execution_count": 78,
   "metadata": {
    "colab": {},
    "colab_type": "code",
    "id": "Ja5KS53Py2lD"
   },
   "outputs": [],
   "source": [
    "df.sort_values(['mean_test_score','std_test_score','rank_test_score'],\n",
    "               ascending = [False,True,True],\n",
    "               inplace=True)\n",
    "df.reset_index(drop=True,inplace=True)"
   ]
  },
  {
   "cell_type": "code",
   "execution_count": 79,
   "metadata": {
    "colab": {
     "base_uri": "https://localhost:8080/",
     "height": 542
    },
    "colab_type": "code",
    "id": "edhT5UHbzFIO",
    "outputId": "8fade83a-9108-47c5-828f-b0aa14152cd6"
   },
   "outputs": [
    {
     "data": {
      "application/vnd.plotly.v1+json": {
       "config": {
        "plotlyServerURL": "https://plot.ly"
       },
       "data": [
        {
         "marker": {
          "color": "royalblue"
         },
         "mode": "markers",
         "name": "Mean score",
         "text": [
          "{'criterion': 'gini', 'max_depth': 8, 'min_samples_leaf': 2, 'splitter': 'best'}",
          "{'criterion': 'gini', 'max_depth': 8, 'min_samples_leaf': 1, 'splitter': 'best'}",
          "{'criterion': 'gini', 'max_depth': 6, 'min_samples_leaf': 9, 'splitter': 'best'}",
          "{'criterion': 'entropy', 'max_depth': 12, 'min_samples_leaf': 1, 'splitter': 'random'}",
          "{'criterion': 'gini', 'max_depth': 10, 'min_samples_leaf': 1, 'splitter': 'random'}",
          "{'criterion': 'gini', 'max_depth': 8, 'min_samples_leaf': 1, 'splitter': 'random'}",
          "{'criterion': 'gini', 'max_depth': 8, 'min_samples_leaf': 3, 'splitter': 'best'}",
          "{'criterion': 'gini', 'max_depth': 4, 'min_samples_leaf': 7, 'splitter': 'best'}",
          "{'criterion': 'gini', 'max_depth': 4, 'min_samples_leaf': 9, 'splitter': 'best'}",
          "{'criterion': 'gini', 'max_depth': 8, 'min_samples_leaf': 4, 'splitter': 'best'}",
          "{'criterion': 'entropy', 'max_depth': 4, 'min_samples_leaf': 9, 'splitter': 'best'}",
          "{'criterion': 'gini', 'max_depth': 8, 'min_samples_leaf': 8, 'splitter': 'best'}",
          "{'criterion': 'gini', 'max_depth': 4, 'min_samples_leaf': 5, 'splitter': 'best'}",
          "{'criterion': 'gini', 'max_depth': 4, 'min_samples_leaf': 6, 'splitter': 'best'}",
          "{'criterion': 'gini', 'max_depth': 4, 'min_samples_leaf': 8, 'splitter': 'best'}",
          "{'criterion': 'entropy', 'max_depth': 4, 'min_samples_leaf': 7, 'splitter': 'best'}",
          "{'criterion': 'gini', 'max_depth': 8, 'min_samples_leaf': 9, 'splitter': 'best'}",
          "{'criterion': 'gini', 'max_depth': 4, 'min_samples_leaf': 2, 'splitter': 'best'}",
          "{'criterion': 'entropy', 'max_depth': 4, 'min_samples_leaf': 8, 'splitter': 'best'}",
          "{'criterion': 'entropy', 'max_depth': 4, 'min_samples_leaf': 3, 'splitter': 'best'}",
          "{'criterion': 'entropy', 'max_depth': 14, 'min_samples_leaf': 1, 'splitter': 'random'}",
          "{'criterion': 'entropy', 'max_depth': 16, 'min_samples_leaf': 1, 'splitter': 'random'}",
          "{'criterion': 'gini', 'max_depth': 6, 'min_samples_leaf': 8, 'splitter': 'best'}",
          "{'criterion': 'gini', 'max_depth': 6, 'min_samples_leaf': 7, 'splitter': 'best'}",
          "{'criterion': 'gini', 'max_depth': 4, 'min_samples_leaf': 1, 'splitter': 'best'}",
          "{'criterion': 'gini', 'max_depth': 14, 'min_samples_leaf': 1, 'splitter': 'random'}",
          "{'criterion': 'entropy', 'max_depth': 4, 'min_samples_leaf': 6, 'splitter': 'best'}",
          "{'criterion': 'entropy', 'max_depth': 4, 'min_samples_leaf': 1, 'splitter': 'best'}",
          "{'criterion': 'entropy', 'max_depth': 4, 'min_samples_leaf': 2, 'splitter': 'best'}",
          "{'criterion': 'entropy', 'max_depth': 4, 'min_samples_leaf': 4, 'splitter': 'best'}",
          "{'criterion': 'gini', 'max_depth': 6, 'min_samples_leaf': 1, 'splitter': 'best'}",
          "{'criterion': 'gini', 'max_depth': 4, 'min_samples_leaf': 3, 'splitter': 'best'}",
          "{'criterion': 'gini', 'max_depth': 4, 'min_samples_leaf': 4, 'splitter': 'best'}",
          "{'criterion': 'entropy', 'max_depth': 4, 'min_samples_leaf': 5, 'splitter': 'best'}",
          "{'criterion': 'gini', 'max_depth': 8, 'min_samples_leaf': 7, 'splitter': 'best'}",
          "{'criterion': 'entropy', 'max_depth': 8, 'min_samples_leaf': 2, 'splitter': 'best'}",
          "{'criterion': 'entropy', 'max_depth': 8, 'min_samples_leaf': 1, 'splitter': 'best'}",
          "{'criterion': 'gini', 'max_depth': 16, 'min_samples_leaf': 1, 'splitter': 'random'}",
          "{'criterion': 'entropy', 'max_depth': 18, 'min_samples_leaf': 2, 'splitter': 'random'}",
          "{'criterion': 'gini', 'max_depth': 8, 'min_samples_leaf': 6, 'splitter': 'best'}",
          "{'criterion': 'gini', 'max_depth': 6, 'min_samples_leaf': 2, 'splitter': 'best'}",
          "{'criterion': 'gini', 'max_depth': 6, 'min_samples_leaf': 3, 'splitter': 'best'}",
          "{'criterion': 'gini', 'max_depth': 8, 'min_samples_leaf': 6, 'splitter': 'random'}",
          "{'criterion': 'gini', 'max_depth': 6, 'min_samples_leaf': 1, 'splitter': 'random'}",
          "{'criterion': 'gini', 'max_depth': 12, 'min_samples_leaf': 1, 'splitter': 'random'}",
          "{'criterion': 'gini', 'max_depth': 10, 'min_samples_leaf': 2, 'splitter': 'random'}",
          "{'criterion': 'gini', 'max_depth': 14, 'min_samples_leaf': 3, 'splitter': 'best'}",
          "{'criterion': 'gini', 'max_depth': 10, 'min_samples_leaf': 8, 'splitter': 'best'}",
          "{'criterion': 'gini', 'max_depth': 8, 'min_samples_leaf': 5, 'splitter': 'best'}",
          "{'criterion': 'gini', 'max_depth': 6, 'min_samples_leaf': 6, 'splitter': 'best'}",
          "{'criterion': 'entropy', 'max_depth': 6, 'min_samples_leaf': 9, 'splitter': 'best'}",
          "{'criterion': 'entropy', 'max_depth': 6, 'min_samples_leaf': 1, 'splitter': 'best'}",
          "{'criterion': 'gini', 'max_depth': 16, 'min_samples_leaf': 2, 'splitter': 'random'}",
          "{'criterion': 'gini', 'max_depth': 8, 'min_samples_leaf': 5, 'splitter': 'random'}",
          "{'criterion': 'gini', 'max_depth': 12, 'min_samples_leaf': 2, 'splitter': 'random'}",
          "{'criterion': 'gini', 'max_depth': 12, 'min_samples_leaf': 3, 'splitter': 'best'}",
          "{'criterion': 'entropy', 'max_depth': 14, 'min_samples_leaf': 2, 'splitter': 'random'}",
          "{'criterion': 'gini', 'max_depth': 10, 'min_samples_leaf': 6, 'splitter': 'best'}",
          "{'criterion': 'entropy', 'max_depth': 8, 'min_samples_leaf': 1, 'splitter': 'random'}",
          "{'criterion': 'entropy', 'max_depth': 6, 'min_samples_leaf': 2, 'splitter': 'best'}",
          "{'criterion': 'entropy', 'max_depth': 6, 'min_samples_leaf': 3, 'splitter': 'best'}",
          "{'criterion': 'entropy', 'max_depth': 10, 'min_samples_leaf': 1, 'splitter': 'random'}",
          "{'criterion': 'entropy', 'max_depth': 8, 'min_samples_leaf': 8, 'splitter': 'best'}",
          "{'criterion': 'gini', 'max_depth': 12, 'min_samples_leaf': 4, 'splitter': 'best'}",
          "{'criterion': 'gini', 'max_depth': 10, 'min_samples_leaf': 7, 'splitter': 'best'}",
          "{'criterion': 'entropy', 'max_depth': 8, 'min_samples_leaf': 3, 'splitter': 'best'}",
          "{'criterion': 'gini', 'max_depth': 6, 'min_samples_leaf': 4, 'splitter': 'best'}",
          "{'criterion': 'gini', 'max_depth': 10, 'min_samples_leaf': 1, 'splitter': 'best'}",
          "{'criterion': 'gini', 'max_depth': 16, 'min_samples_leaf': 4, 'splitter': 'best'}",
          "{'criterion': 'gini', 'max_depth': 10, 'min_samples_leaf': 5, 'splitter': 'best'}",
          "{'criterion': 'entropy', 'max_depth': 12, 'min_samples_leaf': 2, 'splitter': 'random'}",
          "{'criterion': 'entropy', 'max_depth': 10, 'min_samples_leaf': 2, 'splitter': 'random'}",
          "{'criterion': 'entropy', 'max_depth': 6, 'min_samples_leaf': 8, 'splitter': 'best'}",
          "{'criterion': 'entropy', 'max_depth': 6, 'min_samples_leaf': 4, 'splitter': 'best'}",
          "{'criterion': 'entropy', 'max_depth': 6, 'min_samples_leaf': 1, 'splitter': 'random'}",
          "{'criterion': 'entropy', 'max_depth': 14, 'min_samples_leaf': 4, 'splitter': 'random'}",
          "{'criterion': 'gini', 'max_depth': 10, 'min_samples_leaf': 9, 'splitter': 'best'}",
          "{'criterion': 'entropy', 'max_depth': 8, 'min_samples_leaf': 3, 'splitter': 'random'}",
          "{'criterion': 'gini', 'max_depth': 12, 'min_samples_leaf': 1, 'splitter': 'best'}",
          "{'criterion': 'entropy', 'max_depth': 16, 'min_samples_leaf': 2, 'splitter': 'random'}",
          "{'criterion': 'gini', 'max_depth': 12, 'min_samples_leaf': 2, 'splitter': 'best'}",
          "{'criterion': 'gini', 'max_depth': 8, 'min_samples_leaf': 3, 'splitter': 'random'}",
          "{'criterion': 'entropy', 'max_depth': 6, 'min_samples_leaf': 5, 'splitter': 'best'}",
          "{'criterion': 'gini', 'max_depth': 6, 'min_samples_leaf': 5, 'splitter': 'best'}",
          "{'criterion': 'gini', 'max_depth': 10, 'min_samples_leaf': 2, 'splitter': 'best'}",
          "{'criterion': 'gini', 'max_depth': 10, 'min_samples_leaf': 3, 'splitter': 'best'}",
          "{'criterion': 'entropy', 'max_depth': 6, 'min_samples_leaf': 6, 'splitter': 'best'}",
          "{'criterion': 'gini', 'max_depth': 12, 'min_samples_leaf': 8, 'splitter': 'best'}",
          "{'criterion': 'gini', 'max_depth': 18, 'min_samples_leaf': 4, 'splitter': 'best'}",
          "{'criterion': 'entropy', 'max_depth': 12, 'min_samples_leaf': 3, 'splitter': 'random'}",
          "{'criterion': 'entropy', 'max_depth': 8, 'min_samples_leaf': 6, 'splitter': 'best'}",
          "{'criterion': 'entropy', 'max_depth': 8, 'min_samples_leaf': 5, 'splitter': 'random'}",
          "{'criterion': 'gini', 'max_depth': 12, 'min_samples_leaf': 9, 'splitter': 'best'}",
          "{'criterion': 'entropy', 'max_depth': 8, 'min_samples_leaf': 9, 'splitter': 'best'}",
          "{'criterion': 'gini', 'max_depth': 16, 'min_samples_leaf': 3, 'splitter': 'best'}",
          "{'criterion': 'entropy', 'max_depth': 8, 'min_samples_leaf': 4, 'splitter': 'best'}",
          "{'criterion': 'entropy', 'max_depth': 10, 'min_samples_leaf': 2, 'splitter': 'best'}",
          "{'criterion': 'entropy', 'max_depth': 6, 'min_samples_leaf': 7, 'splitter': 'best'}",
          "{'criterion': 'gini', 'max_depth': 18, 'min_samples_leaf': 2, 'splitter': 'random'}",
          "{'criterion': 'gini', 'max_depth': 8, 'min_samples_leaf': 4, 'splitter': 'random'}",
          "{'criterion': 'gini', 'max_depth': 14, 'min_samples_leaf': 4, 'splitter': 'best'}",
          "{'criterion': 'entropy', 'max_depth': 8, 'min_samples_leaf': 5, 'splitter': 'best'}",
          "{'criterion': 'gini', 'max_depth': 10, 'min_samples_leaf': 4, 'splitter': 'best'}",
          "{'criterion': 'entropy', 'max_depth': 8, 'min_samples_leaf': 7, 'splitter': 'best'}",
          "{'criterion': 'gini', 'max_depth': 18, 'min_samples_leaf': 3, 'splitter': 'best'}",
          "{'criterion': 'entropy', 'max_depth': 8, 'min_samples_leaf': 6, 'splitter': 'random'}",
          "{'criterion': 'gini', 'max_depth': 10, 'min_samples_leaf': 7, 'splitter': 'random'}",
          "{'criterion': 'entropy', 'max_depth': 10, 'min_samples_leaf': 1, 'splitter': 'best'}",
          "{'criterion': 'gini', 'max_depth': 4, 'min_samples_leaf': 2, 'splitter': 'random'}",
          "{'criterion': 'gini', 'max_depth': 6, 'min_samples_leaf': 4, 'splitter': 'random'}",
          "{'criterion': 'gini', 'max_depth': 4, 'min_samples_leaf': 7, 'splitter': 'random'}",
          "{'criterion': 'gini', 'max_depth': 12, 'min_samples_leaf': 6, 'splitter': 'best'}",
          "{'criterion': 'gini', 'max_depth': 18, 'min_samples_leaf': 5, 'splitter': 'random'}",
          "{'criterion': 'gini', 'max_depth': 16, 'min_samples_leaf': 4, 'splitter': 'random'}",
          "{'criterion': 'gini', 'max_depth': 8, 'min_samples_leaf': 2, 'splitter': 'random'}",
          "{'criterion': 'gini', 'max_depth': 4, 'min_samples_leaf': 1, 'splitter': 'random'}",
          "{'criterion': 'gini', 'max_depth': 4, 'min_samples_leaf': 3, 'splitter': 'random'}",
          "{'criterion': 'gini', 'max_depth': 12, 'min_samples_leaf': 7, 'splitter': 'best'}",
          "{'criterion': 'gini', 'max_depth': 12, 'min_samples_leaf': 7, 'splitter': 'random'}",
          "{'criterion': 'entropy', 'max_depth': 8, 'min_samples_leaf': 2, 'splitter': 'random'}",
          "{'criterion': 'entropy', 'max_depth': 6, 'min_samples_leaf': 2, 'splitter': 'random'}",
          "{'criterion': 'gini', 'max_depth': 16, 'min_samples_leaf': 2, 'splitter': 'best'}",
          "{'criterion': 'gini', 'max_depth': 4, 'min_samples_leaf': 8, 'splitter': 'random'}",
          "{'criterion': 'entropy', 'max_depth': 4, 'min_samples_leaf': 1, 'splitter': 'random'}",
          "{'criterion': 'entropy', 'max_depth': 4, 'min_samples_leaf': 2, 'splitter': 'random'}",
          "{'criterion': 'entropy', 'max_depth': 4, 'min_samples_leaf': 7, 'splitter': 'random'}",
          "{'criterion': 'gini', 'max_depth': 14, 'min_samples_leaf': 2, 'splitter': 'random'}",
          "{'criterion': 'gini', 'max_depth': 6, 'min_samples_leaf': 3, 'splitter': 'random'}",
          "{'criterion': 'gini', 'max_depth': 4, 'min_samples_leaf': 6, 'splitter': 'random'}",
          "{'criterion': 'entropy', 'max_depth': 4, 'min_samples_leaf': 3, 'splitter': 'random'}",
          "{'criterion': 'entropy', 'max_depth': 6, 'min_samples_leaf': 7, 'splitter': 'random'}",
          "{'criterion': 'gini', 'max_depth': 14, 'min_samples_leaf': 8, 'splitter': 'best'}",
          "{'criterion': 'entropy', 'max_depth': 4, 'min_samples_leaf': 8, 'splitter': 'random'}",
          "{'criterion': 'gini', 'max_depth': 16, 'min_samples_leaf': 8, 'splitter': 'random'}",
          "{'criterion': 'gini', 'max_depth': 14, 'min_samples_leaf': 6, 'splitter': 'best'}",
          "{'criterion': 'gini', 'max_depth': 14, 'min_samples_leaf': 9, 'splitter': 'best'}",
          "{'criterion': 'gini', 'max_depth': 16, 'min_samples_leaf': 9, 'splitter': 'best'}",
          "{'criterion': 'gini', 'max_depth': 14, 'min_samples_leaf': 7, 'splitter': 'random'}",
          "{'criterion': 'gini', 'max_depth': 6, 'min_samples_leaf': 2, 'splitter': 'random'}",
          "{'criterion': 'entropy', 'max_depth': 16, 'min_samples_leaf': 3, 'splitter': 'random'}",
          "{'criterion': 'entropy', 'max_depth': 18, 'min_samples_leaf': 1, 'splitter': 'random'}",
          "{'criterion': 'gini', 'max_depth': 4, 'min_samples_leaf': 4, 'splitter': 'random'}",
          "{'criterion': 'gini', 'max_depth': 4, 'min_samples_leaf': 5, 'splitter': 'random'}",
          "{'criterion': 'entropy', 'max_depth': 4, 'min_samples_leaf': 6, 'splitter': 'random'}",
          "{'criterion': 'gini', 'max_depth': 16, 'min_samples_leaf': 5, 'splitter': 'random'}",
          "{'criterion': 'entropy', 'max_depth': 6, 'min_samples_leaf': 8, 'splitter': 'random'}",
          "{'criterion': 'gini', 'max_depth': 14, 'min_samples_leaf': 2, 'splitter': 'best'}",
          "{'criterion': 'gini', 'max_depth': 16, 'min_samples_leaf': 8, 'splitter': 'best'}",
          "{'criterion': 'gini', 'max_depth': 14, 'min_samples_leaf': 5, 'splitter': 'best'}",
          "{'criterion': 'entropy', 'max_depth': 4, 'min_samples_leaf': 4, 'splitter': 'random'}",
          "{'criterion': 'entropy', 'max_depth': 4, 'min_samples_leaf': 5, 'splitter': 'random'}",
          "{'criterion': 'gini', 'max_depth': 12, 'min_samples_leaf': 5, 'splitter': 'best'}",
          "{'criterion': 'gini', 'max_depth': 16, 'min_samples_leaf': 7, 'splitter': 'best'}",
          "{'criterion': 'gini', 'max_depth': 10, 'min_samples_leaf': 3, 'splitter': 'random'}",
          "{'criterion': 'entropy', 'max_depth': 8, 'min_samples_leaf': 9, 'splitter': 'random'}",
          "{'criterion': 'entropy', 'max_depth': 8, 'min_samples_leaf': 4, 'splitter': 'random'}",
          "{'criterion': 'entropy', 'max_depth': 14, 'min_samples_leaf': 6, 'splitter': 'random'}",
          "{'criterion': 'gini', 'max_depth': 14, 'min_samples_leaf': 7, 'splitter': 'best'}",
          "{'criterion': 'entropy', 'max_depth': 14, 'min_samples_leaf': 3, 'splitter': 'random'}",
          "{'criterion': 'entropy', 'max_depth': 10, 'min_samples_leaf': 3, 'splitter': 'random'}",
          "{'criterion': 'entropy', 'max_depth': 8, 'min_samples_leaf': 7, 'splitter': 'random'}",
          "{'criterion': 'gini', 'max_depth': 18, 'min_samples_leaf': 2, 'splitter': 'best'}",
          "{'criterion': 'entropy', 'max_depth': 6, 'min_samples_leaf': 4, 'splitter': 'random'}",
          "{'criterion': 'gini', 'max_depth': 12, 'min_samples_leaf': 5, 'splitter': 'random'}",
          "{'criterion': 'entropy', 'max_depth': 10, 'min_samples_leaf': 3, 'splitter': 'best'}",
          "{'criterion': 'entropy', 'max_depth': 12, 'min_samples_leaf': 2, 'splitter': 'best'}",
          "{'criterion': 'entropy', 'max_depth': 6, 'min_samples_leaf': 5, 'splitter': 'random'}",
          "{'criterion': 'gini', 'max_depth': 16, 'min_samples_leaf': 6, 'splitter': 'best'}",
          "{'criterion': 'entropy', 'max_depth': 18, 'min_samples_leaf': 4, 'splitter': 'random'}",
          "{'criterion': 'gini', 'max_depth': 8, 'min_samples_leaf': 7, 'splitter': 'random'}",
          "{'criterion': 'gini', 'max_depth': 12, 'min_samples_leaf': 3, 'splitter': 'random'}",
          "{'criterion': 'gini', 'max_depth': 4, 'min_samples_leaf': 9, 'splitter': 'random'}",
          "{'criterion': 'entropy', 'max_depth': 6, 'min_samples_leaf': 9, 'splitter': 'random'}",
          "{'criterion': 'entropy', 'max_depth': 14, 'min_samples_leaf': 7, 'splitter': 'random'}",
          "{'criterion': 'gini', 'max_depth': 18, 'min_samples_leaf': 1, 'splitter': 'random'}",
          "{'criterion': 'gini', 'max_depth': 6, 'min_samples_leaf': 5, 'splitter': 'random'}",
          "{'criterion': 'entropy', 'max_depth': 10, 'min_samples_leaf': 8, 'splitter': 'best'}",
          "{'criterion': 'gini', 'max_depth': 18, 'min_samples_leaf': 8, 'splitter': 'best'}",
          "{'criterion': 'entropy', 'max_depth': 16, 'min_samples_leaf': 6, 'splitter': 'random'}",
          "{'criterion': 'entropy', 'max_depth': 12, 'min_samples_leaf': 1, 'splitter': 'best'}",
          "{'criterion': 'entropy', 'max_depth': 10, 'min_samples_leaf': 7, 'splitter': 'random'}",
          "{'criterion': 'gini', 'max_depth': 14, 'min_samples_leaf': 1, 'splitter': 'best'}",
          "{'criterion': 'entropy', 'max_depth': 4, 'min_samples_leaf': 9, 'splitter': 'random'}",
          "{'criterion': 'gini', 'max_depth': 18, 'min_samples_leaf': 1, 'splitter': 'best'}",
          "{'criterion': 'entropy', 'max_depth': 18, 'min_samples_leaf': 9, 'splitter': 'random'}",
          "{'criterion': 'entropy', 'max_depth': 6, 'min_samples_leaf': 6, 'splitter': 'random'}",
          "{'criterion': 'gini', 'max_depth': 14, 'min_samples_leaf': 8, 'splitter': 'random'}",
          "{'criterion': 'gini', 'max_depth': 18, 'min_samples_leaf': 7, 'splitter': 'best'}",
          "{'criterion': 'gini', 'max_depth': 18, 'min_samples_leaf': 6, 'splitter': 'best'}",
          "{'criterion': 'entropy', 'max_depth': 12, 'min_samples_leaf': 8, 'splitter': 'random'}",
          "{'criterion': 'entropy', 'max_depth': 10, 'min_samples_leaf': 6, 'splitter': 'best'}",
          "{'criterion': 'gini', 'max_depth': 6, 'min_samples_leaf': 8, 'splitter': 'random'}",
          "{'criterion': 'gini', 'max_depth': 12, 'min_samples_leaf': 8, 'splitter': 'random'}",
          "{'criterion': 'gini', 'max_depth': 18, 'min_samples_leaf': 8, 'splitter': 'random'}",
          "{'criterion': 'gini', 'max_depth': 6, 'min_samples_leaf': 7, 'splitter': 'random'}",
          "{'criterion': 'gini', 'max_depth': 16, 'min_samples_leaf': 1, 'splitter': 'best'}",
          "{'criterion': 'entropy', 'max_depth': 16, 'min_samples_leaf': 7, 'splitter': 'random'}",
          "{'criterion': 'gini', 'max_depth': 18, 'min_samples_leaf': 9, 'splitter': 'best'}",
          "{'criterion': 'entropy', 'max_depth': 16, 'min_samples_leaf': 4, 'splitter': 'random'}",
          "{'criterion': 'entropy', 'max_depth': 6, 'min_samples_leaf': 3, 'splitter': 'random'}",
          "{'criterion': 'gini', 'max_depth': 8, 'min_samples_leaf': 8, 'splitter': 'random'}",
          "{'criterion': 'entropy', 'max_depth': 12, 'min_samples_leaf': 8, 'splitter': 'best'}",
          "{'criterion': 'entropy', 'max_depth': 14, 'min_samples_leaf': 8, 'splitter': 'best'}",
          "{'criterion': 'gini', 'max_depth': 6, 'min_samples_leaf': 6, 'splitter': 'random'}",
          "{'criterion': 'gini', 'max_depth': 18, 'min_samples_leaf': 5, 'splitter': 'best'}",
          "{'criterion': 'entropy', 'max_depth': 10, 'min_samples_leaf': 6, 'splitter': 'random'}",
          "{'criterion': 'entropy', 'max_depth': 10, 'min_samples_leaf': 4, 'splitter': 'best'}",
          "{'criterion': 'entropy', 'max_depth': 12, 'min_samples_leaf': 6, 'splitter': 'random'}",
          "{'criterion': 'entropy', 'max_depth': 14, 'min_samples_leaf': 2, 'splitter': 'best'}",
          "{'criterion': 'entropy', 'max_depth': 18, 'min_samples_leaf': 2, 'splitter': 'best'}",
          "{'criterion': 'entropy', 'max_depth': 10, 'min_samples_leaf': 8, 'splitter': 'random'}",
          "{'criterion': 'gini', 'max_depth': 12, 'min_samples_leaf': 6, 'splitter': 'random'}",
          "{'criterion': 'entropy', 'max_depth': 8, 'min_samples_leaf': 8, 'splitter': 'random'}",
          "{'criterion': 'entropy', 'max_depth': 18, 'min_samples_leaf': 5, 'splitter': 'random'}",
          "{'criterion': 'entropy', 'max_depth': 10, 'min_samples_leaf': 9, 'splitter': 'best'}",
          "{'criterion': 'gini', 'max_depth': 18, 'min_samples_leaf': 7, 'splitter': 'random'}",
          "{'criterion': 'gini', 'max_depth': 10, 'min_samples_leaf': 4, 'splitter': 'random'}",
          "{'criterion': 'entropy', 'max_depth': 10, 'min_samples_leaf': 7, 'splitter': 'best'}",
          "{'criterion': 'gini', 'max_depth': 10, 'min_samples_leaf': 8, 'splitter': 'random'}",
          "{'criterion': 'gini', 'max_depth': 6, 'min_samples_leaf': 9, 'splitter': 'random'}",
          "{'criterion': 'entropy', 'max_depth': 14, 'min_samples_leaf': 1, 'splitter': 'best'}",
          "{'criterion': 'entropy', 'max_depth': 16, 'min_samples_leaf': 5, 'splitter': 'random'}",
          "{'criterion': 'entropy', 'max_depth': 14, 'min_samples_leaf': 5, 'splitter': 'random'}",
          "{'criterion': 'entropy', 'max_depth': 16, 'min_samples_leaf': 8, 'splitter': 'best'}",
          "{'criterion': 'entropy', 'max_depth': 12, 'min_samples_leaf': 7, 'splitter': 'random'}",
          "{'criterion': 'gini', 'max_depth': 12, 'min_samples_leaf': 9, 'splitter': 'random'}",
          "{'criterion': 'gini', 'max_depth': 14, 'min_samples_leaf': 3, 'splitter': 'random'}",
          "{'criterion': 'entropy', 'max_depth': 18, 'min_samples_leaf': 3, 'splitter': 'random'}",
          "{'criterion': 'entropy', 'max_depth': 16, 'min_samples_leaf': 2, 'splitter': 'best'}",
          "{'criterion': 'entropy', 'max_depth': 12, 'min_samples_leaf': 4, 'splitter': 'best'}",
          "{'criterion': 'entropy', 'max_depth': 18, 'min_samples_leaf': 7, 'splitter': 'random'}",
          "{'criterion': 'entropy', 'max_depth': 18, 'min_samples_leaf': 8, 'splitter': 'best'}",
          "{'criterion': 'entropy', 'max_depth': 12, 'min_samples_leaf': 5, 'splitter': 'random'}",
          "{'criterion': 'gini', 'max_depth': 12, 'min_samples_leaf': 4, 'splitter': 'random'}",
          "{'criterion': 'gini', 'max_depth': 10, 'min_samples_leaf': 9, 'splitter': 'random'}",
          "{'criterion': 'entropy', 'max_depth': 14, 'min_samples_leaf': 8, 'splitter': 'random'}",
          "{'criterion': 'gini', 'max_depth': 16, 'min_samples_leaf': 3, 'splitter': 'random'}",
          "{'criterion': 'entropy', 'max_depth': 10, 'min_samples_leaf': 4, 'splitter': 'random'}",
          "{'criterion': 'entropy', 'max_depth': 16, 'min_samples_leaf': 1, 'splitter': 'best'}",
          "{'criterion': 'entropy', 'max_depth': 18, 'min_samples_leaf': 1, 'splitter': 'best'}",
          "{'criterion': 'gini', 'max_depth': 10, 'min_samples_leaf': 6, 'splitter': 'random'}",
          "{'criterion': 'entropy', 'max_depth': 12, 'min_samples_leaf': 7, 'splitter': 'best'}",
          "{'criterion': 'entropy', 'max_depth': 14, 'min_samples_leaf': 7, 'splitter': 'best'}",
          "{'criterion': 'gini', 'max_depth': 18, 'min_samples_leaf': 6, 'splitter': 'random'}",
          "{'criterion': 'gini', 'max_depth': 14, 'min_samples_leaf': 6, 'splitter': 'random'}",
          "{'criterion': 'entropy', 'max_depth': 10, 'min_samples_leaf': 5, 'splitter': 'random'}",
          "{'criterion': 'gini', 'max_depth': 16, 'min_samples_leaf': 5, 'splitter': 'best'}",
          "{'criterion': 'gini', 'max_depth': 8, 'min_samples_leaf': 9, 'splitter': 'random'}",
          "{'criterion': 'entropy', 'max_depth': 10, 'min_samples_leaf': 5, 'splitter': 'best'}",
          "{'criterion': 'entropy', 'max_depth': 14, 'min_samples_leaf': 6, 'splitter': 'best'}",
          "{'criterion': 'gini', 'max_depth': 14, 'min_samples_leaf': 4, 'splitter': 'random'}",
          "{'criterion': 'entropy', 'max_depth': 12, 'min_samples_leaf': 3, 'splitter': 'best'}",
          "{'criterion': 'gini', 'max_depth': 18, 'min_samples_leaf': 3, 'splitter': 'random'}",
          "{'criterion': 'entropy', 'max_depth': 18, 'min_samples_leaf': 6, 'splitter': 'random'}",
          "{'criterion': 'entropy', 'max_depth': 16, 'min_samples_leaf': 6, 'splitter': 'best'}",
          "{'criterion': 'gini', 'max_depth': 18, 'min_samples_leaf': 9, 'splitter': 'random'}",
          "{'criterion': 'entropy', 'max_depth': 12, 'min_samples_leaf': 9, 'splitter': 'best'}",
          "{'criterion': 'entropy', 'max_depth': 14, 'min_samples_leaf': 9, 'splitter': 'best'}",
          "{'criterion': 'gini', 'max_depth': 16, 'min_samples_leaf': 7, 'splitter': 'random'}",
          "{'criterion': 'gini', 'max_depth': 18, 'min_samples_leaf': 4, 'splitter': 'random'}",
          "{'criterion': 'entropy', 'max_depth': 12, 'min_samples_leaf': 6, 'splitter': 'best'}",
          "{'criterion': 'entropy', 'max_depth': 14, 'min_samples_leaf': 3, 'splitter': 'best'}",
          "{'criterion': 'entropy', 'max_depth': 16, 'min_samples_leaf': 8, 'splitter': 'random'}",
          "{'criterion': 'gini', 'max_depth': 16, 'min_samples_leaf': 6, 'splitter': 'random'}",
          "{'criterion': 'entropy', 'max_depth': 12, 'min_samples_leaf': 4, 'splitter': 'random'}",
          "{'criterion': 'entropy', 'max_depth': 16, 'min_samples_leaf': 9, 'splitter': 'best'}",
          "{'criterion': 'entropy', 'max_depth': 18, 'min_samples_leaf': 6, 'splitter': 'best'}",
          "{'criterion': 'entropy', 'max_depth': 10, 'min_samples_leaf': 9, 'splitter': 'random'}",
          "{'criterion': 'gini', 'max_depth': 14, 'min_samples_leaf': 9, 'splitter': 'random'}",
          "{'criterion': 'entropy', 'max_depth': 14, 'min_samples_leaf': 4, 'splitter': 'best'}",
          "{'criterion': 'entropy', 'max_depth': 16, 'min_samples_leaf': 7, 'splitter': 'best'}",
          "{'criterion': 'entropy', 'max_depth': 18, 'min_samples_leaf': 9, 'splitter': 'best'}",
          "{'criterion': 'entropy', 'max_depth': 14, 'min_samples_leaf': 9, 'splitter': 'random'}",
          "{'criterion': 'entropy', 'max_depth': 16, 'min_samples_leaf': 4, 'splitter': 'best'}",
          "{'criterion': 'entropy', 'max_depth': 16, 'min_samples_leaf': 3, 'splitter': 'best'}",
          "{'criterion': 'entropy', 'max_depth': 18, 'min_samples_leaf': 8, 'splitter': 'random'}",
          "{'criterion': 'gini', 'max_depth': 16, 'min_samples_leaf': 9, 'splitter': 'random'}",
          "{'criterion': 'entropy', 'max_depth': 16, 'min_samples_leaf': 9, 'splitter': 'random'}",
          "{'criterion': 'entropy', 'max_depth': 18, 'min_samples_leaf': 4, 'splitter': 'best'}",
          "{'criterion': 'entropy', 'max_depth': 18, 'min_samples_leaf': 7, 'splitter': 'best'}",
          "{'criterion': 'entropy', 'max_depth': 12, 'min_samples_leaf': 9, 'splitter': 'random'}",
          "{'criterion': 'gini', 'max_depth': 14, 'min_samples_leaf': 5, 'splitter': 'random'}",
          "{'criterion': 'entropy', 'max_depth': 18, 'min_samples_leaf': 3, 'splitter': 'best'}",
          "{'criterion': 'entropy', 'max_depth': 12, 'min_samples_leaf': 5, 'splitter': 'best'}",
          "{'criterion': 'entropy', 'max_depth': 14, 'min_samples_leaf': 5, 'splitter': 'best'}",
          "{'criterion': 'gini', 'max_depth': 10, 'min_samples_leaf': 5, 'splitter': 'random'}",
          "{'criterion': 'entropy', 'max_depth': 16, 'min_samples_leaf': 5, 'splitter': 'best'}",
          "{'criterion': 'entropy', 'max_depth': 18, 'min_samples_leaf': 5, 'splitter': 'best'}"
         ],
         "type": "scatter",
         "x": [
          0,
          1,
          2,
          3,
          4,
          5,
          6,
          7,
          8,
          9,
          10,
          11,
          12,
          13,
          14,
          15,
          16,
          17,
          18,
          19,
          20,
          21,
          22,
          23,
          24,
          25,
          26,
          27,
          28,
          29,
          30,
          31,
          32,
          33,
          34,
          35,
          36,
          37,
          38,
          39,
          40,
          41,
          42,
          43,
          44,
          45,
          46,
          47,
          48,
          49,
          50,
          51,
          52,
          53,
          54,
          55,
          56,
          57,
          58,
          59,
          60,
          61,
          62,
          63,
          64,
          65,
          66,
          67,
          68,
          69,
          70,
          71,
          72,
          73,
          74,
          75,
          76,
          77,
          78,
          79,
          80,
          81,
          82,
          83,
          84,
          85,
          86,
          87,
          88,
          89,
          90,
          91,
          92,
          93,
          94,
          95,
          96,
          97,
          98,
          99,
          100,
          101,
          102,
          103,
          104,
          105,
          106,
          107,
          108,
          109,
          110,
          111,
          112,
          113,
          114,
          115,
          116,
          117,
          118,
          119,
          120,
          121,
          122,
          123,
          124,
          125,
          126,
          127,
          128,
          129,
          130,
          131,
          132,
          133,
          134,
          135,
          136,
          137,
          138,
          139,
          140,
          141,
          142,
          143,
          144,
          145,
          146,
          147,
          148,
          149,
          150,
          151,
          152,
          153,
          154,
          155,
          156,
          157,
          158,
          159,
          160,
          161,
          162,
          163,
          164,
          165,
          166,
          167,
          168,
          169,
          170,
          171,
          172,
          173,
          174,
          175,
          176,
          177,
          178,
          179,
          180,
          181,
          182,
          183,
          184,
          185,
          186,
          187,
          188,
          189,
          190,
          191,
          192,
          193,
          194,
          195,
          196,
          197,
          198,
          199,
          200,
          201,
          202,
          203,
          204,
          205,
          206,
          207,
          208,
          209,
          210,
          211,
          212,
          213,
          214,
          215,
          216,
          217,
          218,
          219,
          220,
          221,
          222,
          223,
          224,
          225,
          226,
          227,
          228,
          229,
          230,
          231,
          232,
          233,
          234,
          235,
          236,
          237,
          238,
          239,
          240,
          241,
          242,
          243,
          244,
          245,
          246,
          247,
          248,
          249,
          250,
          251,
          252,
          253,
          254,
          255,
          256,
          257,
          258,
          259,
          260,
          261,
          262,
          263,
          264,
          265,
          266,
          267,
          268,
          269,
          270,
          271,
          272,
          273,
          274,
          275,
          276,
          277,
          278,
          279,
          280,
          281,
          282,
          283,
          284,
          285,
          286,
          287
         ],
         "y": [
          0.8764901289429592,
          0.8759510453850077,
          0.875409047861878,
          0.8748655933561593,
          0.874327966780797,
          0.8743250528156189,
          0.8737961681357908,
          0.8732585415604284,
          0.8732585415604284,
          0.8732570845778393,
          0.8732541706126611,
          0.8732512566474832,
          0.8721803744445253,
          0.8721803744445253,
          0.8721803744445253,
          0.8721760034967583,
          0.8721672616012238,
          0.871644204851752,
          0.8716369199388068,
          0.8716354629562177,
          0.8711022073286223,
          0.8710920084504992,
          0.8710876375027319,
          0.8710847235375537,
          0.8705631237706708,
          0.8705616667880818,
          0.8705587528229037,
          0.8705572958403147,
          0.8705572958403147,
          0.8705572958403147,
          0.8705543818751366,
          0.8700269541778975,
          0.869487870619946,
          0.8694791287244117,
          0.8694762147592335,
          0.8694718438114665,
          0.8694718438114665,
          0.869463101915932,
          0.868937131201282,
          0.8689342172361041,
          0.8689342172361041,
          0.8689342172361041,
          0.8684038755736869,
          0.8684024185910978,
          0.8683965906607417,
          0.8683936766955636,
          0.8678677059809135,
          0.8678618780505574,
          0.867854593137612,
          0.867850222189845,
          0.8678502221898448,
          0.8678487652072558,
          0.8678443942594886,
          0.8673213375100168,
          0.8673155095796605,
          0.8667851679172435,
          0.8667778830042983,
          0.866777883004298,
          0.8667720550739417,
          0.8667705980913528,
          0.8667705980913528,
          0.8657026298535732,
          0.8657026298535732,
          0.8657026298535732,
          0.8657011728709841,
          0.865698258905806,
          0.8656938879580389,
          0.8651664602607999,
          0.8651664602607999,
          0.8651635462956218,
          0.8651548044000874,
          0.8651548044000874,
          0.8651518904349093,
          0.8651504334523203,
          0.8646142638595469,
          0.8640810082319514,
          0.8640795512493625,
          0.8640766372841844,
          0.8635404676914111,
          0.8635360967436438,
          0.8630101260289939,
          0.8629999271508705,
          0.8629940992205144,
          0.8629911852553362,
          0.8624710424710423,
          0.8624637575580973,
          0.8624535586799738,
          0.861934872878269,
          0.8613899613899614,
          0.8613870474247832,
          0.8613870474247832,
          0.8613855904421943,
          0.8613841334596051,
          0.8613841334596051,
          0.8613826764770162,
          0.8613826764770162,
          0.8613797625118378,
          0.8613753915640707,
          0.8613710206163037,
          0.8613695636337144,
          0.8608494208494208,
          0.8608479638668319,
          0.8608479638668317,
          0.8608479638668317,
          0.8608479638668317,
          0.8608465068842428,
          0.8608406789538865,
          0.8608406789538865,
          0.8603132512566475,
          0.8603132512566475,
          0.8603117942740584,
          0.8603074233262913,
          0.860305966343702,
          0.8603045093611131,
          0.860300138413346,
          0.859774167698696,
          0.8597727107161071,
          0.8597712537335178,
          0.8597639688205726,
          0.8597625118379835,
          0.8597595978728055,
          0.8592365411233336,
          0.8592336271581555,
          0.8592321701755665,
          0.8592321701755665,
          0.8592307131929774,
          0.8592219712974429,
          0.8592176003496759,
          0.858694543600204,
          0.8586916296350259,
          0.8586858017046696,
          0.8581612879726087,
          0.8581525460770744,
          0.8581525460770744,
          0.8581510890944852,
          0.8581496321118964,
          0.8581496321118964,
          0.8581467181467183,
          0.8581452611641291,
          0.8581438041815401,
          0.8581394332337728,
          0.857616376484301,
          0.857616376484301,
          0.8576134625191228,
          0.8576120055365338,
          0.8576090915713557,
          0.8570845778392948,
          0.8570802068915275,
          0.8570758359437605,
          0.8570743789611713,
          0.8570743789611713,
          0.8570700080134042,
          0.856536752385809,
          0.8565323814380419,
          0.8565309244554526,
          0.8565192685947401,
          0.8559991258104466,
          0.8559962118452684,
          0.8559932978800904,
          0.8554644132002623,
          0.8554614992350842,
          0.8554614992350842,
          0.8554600422524951,
          0.8554513003569607,
          0.8554513003569607,
          0.8554513003569607,
          0.8549209586945435,
          0.8549165877467765,
          0.8549165877467765,
          0.8549107598164201,
          0.8549063888686529,
          0.854381875136592,
          0.8543745902236468,
          0.8543731332410578,
          0.8543614773803453,
          0.8538457055438187,
          0.8538427915786405,
          0.8538369636482844,
          0.8538325927005171,
          0.8538325927005171,
          0.853826764770161,
          0.8533007940555111,
          0.8533007940555111,
          0.8532978800903329,
          0.8532978800903329,
          0.8532964231077438,
          0.8532935091425656,
          0.8532935091425656,
          0.8532905951773875,
          0.8532876812122095,
          0.8527617104975596,
          0.852218255991841,
          0.852216799009252,
          0.852216799009252,
          0.8522167990092517,
          0.8522138850440738,
          0.8522138850440737,
          0.8522109710788957,
          0.8522080571137174,
          0.8522080571137174,
          0.8516864573468347,
          0.8516850003642457,
          0.8516850003642457,
          0.8516820863990675,
          0.8516762584687113,
          0.8511415458585271,
          0.8511386318933489,
          0.8511357179281708,
          0.8511328039629926,
          0.8511313469804037,
          0.8511313469804035,
          0.8506112041961099,
          0.8505980913528083,
          0.850592263422452,
          0.850063378742624,
          0.8500517228819117,
          0.8495301231150287,
          0.8495272091498507,
          0.8495228382020835,
          0.8495228382020835,
          0.8495170102717273,
          0.8495140963065492,
          0.8495126393239602,
          0.8489895825744883,
          0.8489808406789539,
          0.8489764697311866,
          0.8489677278356524,
          0.8484403001384134,
          0.8484388431558244,
          0.848437386173235,
          0.8479085014934071,
          0.8479085014934071,
          0.8479070445108181,
          0.8478983026152835,
          0.8478953886501056,
          0.8478953886501056,
          0.8478895607197494,
          0.8473606760399213,
          0.8473592190573325,
          0.8473548481095652,
          0.8468376192904495,
          0.8468303343775041,
          0.8468303343775041,
          0.8468288773949151,
          0.8468288773949151,
          0.8468215924819699,
          0.8468113936038464,
          0.8462912508195526,
          0.8462897938369636,
          0.8462897938369636,
          0.8462839659066075,
          0.8462795949588402,
          0.8462781379762511,
          0.8457521672616011,
          0.845750710279012,
          0.845746339331245,
          0.8452072557732935,
          0.8452072557732935,
          0.8452072557732935,
          0.8446710861805201,
          0.8446710861805201,
          0.8446652582501638,
          0.8446623442849857,
          0.8441422015006921,
          0.8441363735703359,
          0.8441290886573904,
          0.8441290886573904,
          0.8435958330297954,
          0.8435900050994389,
          0.8435841771690828,
          0.8430567494718438,
          0.8430480075763095,
          0.8430480075763095,
          0.8430421796459532,
          0.8425060100531798,
          0.8424987251402346,
          0.8419727544255846,
          0.8419727544255846,
          0.8419581845996941,
          0.8414351278502222,
          0.8408945873096816,
          0.8398105922634225,
          0.8387280541997523,
          0.8376528010490274,
          0.834958840241859,
          0.8333415895680046,
          0.8333401325854156,
          0.831718510963794
         ],
         "yaxis": "y"
        },
        {
         "marker": {
          "color": "green"
         },
         "mode": "markers",
         "name": "Std score",
         "text": [
          "{'criterion': 'gini', 'max_depth': 8, 'min_samples_leaf': 2, 'splitter': 'best'}",
          "{'criterion': 'gini', 'max_depth': 8, 'min_samples_leaf': 1, 'splitter': 'best'}",
          "{'criterion': 'gini', 'max_depth': 6, 'min_samples_leaf': 9, 'splitter': 'best'}",
          "{'criterion': 'entropy', 'max_depth': 12, 'min_samples_leaf': 1, 'splitter': 'random'}",
          "{'criterion': 'gini', 'max_depth': 10, 'min_samples_leaf': 1, 'splitter': 'random'}",
          "{'criterion': 'gini', 'max_depth': 8, 'min_samples_leaf': 1, 'splitter': 'random'}",
          "{'criterion': 'gini', 'max_depth': 8, 'min_samples_leaf': 3, 'splitter': 'best'}",
          "{'criterion': 'gini', 'max_depth': 4, 'min_samples_leaf': 7, 'splitter': 'best'}",
          "{'criterion': 'gini', 'max_depth': 4, 'min_samples_leaf': 9, 'splitter': 'best'}",
          "{'criterion': 'gini', 'max_depth': 8, 'min_samples_leaf': 4, 'splitter': 'best'}",
          "{'criterion': 'entropy', 'max_depth': 4, 'min_samples_leaf': 9, 'splitter': 'best'}",
          "{'criterion': 'gini', 'max_depth': 8, 'min_samples_leaf': 8, 'splitter': 'best'}",
          "{'criterion': 'gini', 'max_depth': 4, 'min_samples_leaf': 5, 'splitter': 'best'}",
          "{'criterion': 'gini', 'max_depth': 4, 'min_samples_leaf': 6, 'splitter': 'best'}",
          "{'criterion': 'gini', 'max_depth': 4, 'min_samples_leaf': 8, 'splitter': 'best'}",
          "{'criterion': 'entropy', 'max_depth': 4, 'min_samples_leaf': 7, 'splitter': 'best'}",
          "{'criterion': 'gini', 'max_depth': 8, 'min_samples_leaf': 9, 'splitter': 'best'}",
          "{'criterion': 'gini', 'max_depth': 4, 'min_samples_leaf': 2, 'splitter': 'best'}",
          "{'criterion': 'entropy', 'max_depth': 4, 'min_samples_leaf': 8, 'splitter': 'best'}",
          "{'criterion': 'entropy', 'max_depth': 4, 'min_samples_leaf': 3, 'splitter': 'best'}",
          "{'criterion': 'entropy', 'max_depth': 14, 'min_samples_leaf': 1, 'splitter': 'random'}",
          "{'criterion': 'entropy', 'max_depth': 16, 'min_samples_leaf': 1, 'splitter': 'random'}",
          "{'criterion': 'gini', 'max_depth': 6, 'min_samples_leaf': 8, 'splitter': 'best'}",
          "{'criterion': 'gini', 'max_depth': 6, 'min_samples_leaf': 7, 'splitter': 'best'}",
          "{'criterion': 'gini', 'max_depth': 4, 'min_samples_leaf': 1, 'splitter': 'best'}",
          "{'criterion': 'gini', 'max_depth': 14, 'min_samples_leaf': 1, 'splitter': 'random'}",
          "{'criterion': 'entropy', 'max_depth': 4, 'min_samples_leaf': 6, 'splitter': 'best'}",
          "{'criterion': 'entropy', 'max_depth': 4, 'min_samples_leaf': 1, 'splitter': 'best'}",
          "{'criterion': 'entropy', 'max_depth': 4, 'min_samples_leaf': 2, 'splitter': 'best'}",
          "{'criterion': 'entropy', 'max_depth': 4, 'min_samples_leaf': 4, 'splitter': 'best'}",
          "{'criterion': 'gini', 'max_depth': 6, 'min_samples_leaf': 1, 'splitter': 'best'}",
          "{'criterion': 'gini', 'max_depth': 4, 'min_samples_leaf': 3, 'splitter': 'best'}",
          "{'criterion': 'gini', 'max_depth': 4, 'min_samples_leaf': 4, 'splitter': 'best'}",
          "{'criterion': 'entropy', 'max_depth': 4, 'min_samples_leaf': 5, 'splitter': 'best'}",
          "{'criterion': 'gini', 'max_depth': 8, 'min_samples_leaf': 7, 'splitter': 'best'}",
          "{'criterion': 'entropy', 'max_depth': 8, 'min_samples_leaf': 2, 'splitter': 'best'}",
          "{'criterion': 'entropy', 'max_depth': 8, 'min_samples_leaf': 1, 'splitter': 'best'}",
          "{'criterion': 'gini', 'max_depth': 16, 'min_samples_leaf': 1, 'splitter': 'random'}",
          "{'criterion': 'entropy', 'max_depth': 18, 'min_samples_leaf': 2, 'splitter': 'random'}",
          "{'criterion': 'gini', 'max_depth': 8, 'min_samples_leaf': 6, 'splitter': 'best'}",
          "{'criterion': 'gini', 'max_depth': 6, 'min_samples_leaf': 2, 'splitter': 'best'}",
          "{'criterion': 'gini', 'max_depth': 6, 'min_samples_leaf': 3, 'splitter': 'best'}",
          "{'criterion': 'gini', 'max_depth': 8, 'min_samples_leaf': 6, 'splitter': 'random'}",
          "{'criterion': 'gini', 'max_depth': 6, 'min_samples_leaf': 1, 'splitter': 'random'}",
          "{'criterion': 'gini', 'max_depth': 12, 'min_samples_leaf': 1, 'splitter': 'random'}",
          "{'criterion': 'gini', 'max_depth': 10, 'min_samples_leaf': 2, 'splitter': 'random'}",
          "{'criterion': 'gini', 'max_depth': 14, 'min_samples_leaf': 3, 'splitter': 'best'}",
          "{'criterion': 'gini', 'max_depth': 10, 'min_samples_leaf': 8, 'splitter': 'best'}",
          "{'criterion': 'gini', 'max_depth': 8, 'min_samples_leaf': 5, 'splitter': 'best'}",
          "{'criterion': 'gini', 'max_depth': 6, 'min_samples_leaf': 6, 'splitter': 'best'}",
          "{'criterion': 'entropy', 'max_depth': 6, 'min_samples_leaf': 9, 'splitter': 'best'}",
          "{'criterion': 'entropy', 'max_depth': 6, 'min_samples_leaf': 1, 'splitter': 'best'}",
          "{'criterion': 'gini', 'max_depth': 16, 'min_samples_leaf': 2, 'splitter': 'random'}",
          "{'criterion': 'gini', 'max_depth': 8, 'min_samples_leaf': 5, 'splitter': 'random'}",
          "{'criterion': 'gini', 'max_depth': 12, 'min_samples_leaf': 2, 'splitter': 'random'}",
          "{'criterion': 'gini', 'max_depth': 12, 'min_samples_leaf': 3, 'splitter': 'best'}",
          "{'criterion': 'entropy', 'max_depth': 14, 'min_samples_leaf': 2, 'splitter': 'random'}",
          "{'criterion': 'gini', 'max_depth': 10, 'min_samples_leaf': 6, 'splitter': 'best'}",
          "{'criterion': 'entropy', 'max_depth': 8, 'min_samples_leaf': 1, 'splitter': 'random'}",
          "{'criterion': 'entropy', 'max_depth': 6, 'min_samples_leaf': 2, 'splitter': 'best'}",
          "{'criterion': 'entropy', 'max_depth': 6, 'min_samples_leaf': 3, 'splitter': 'best'}",
          "{'criterion': 'entropy', 'max_depth': 10, 'min_samples_leaf': 1, 'splitter': 'random'}",
          "{'criterion': 'entropy', 'max_depth': 8, 'min_samples_leaf': 8, 'splitter': 'best'}",
          "{'criterion': 'gini', 'max_depth': 12, 'min_samples_leaf': 4, 'splitter': 'best'}",
          "{'criterion': 'gini', 'max_depth': 10, 'min_samples_leaf': 7, 'splitter': 'best'}",
          "{'criterion': 'entropy', 'max_depth': 8, 'min_samples_leaf': 3, 'splitter': 'best'}",
          "{'criterion': 'gini', 'max_depth': 6, 'min_samples_leaf': 4, 'splitter': 'best'}",
          "{'criterion': 'gini', 'max_depth': 10, 'min_samples_leaf': 1, 'splitter': 'best'}",
          "{'criterion': 'gini', 'max_depth': 16, 'min_samples_leaf': 4, 'splitter': 'best'}",
          "{'criterion': 'gini', 'max_depth': 10, 'min_samples_leaf': 5, 'splitter': 'best'}",
          "{'criterion': 'entropy', 'max_depth': 12, 'min_samples_leaf': 2, 'splitter': 'random'}",
          "{'criterion': 'entropy', 'max_depth': 10, 'min_samples_leaf': 2, 'splitter': 'random'}",
          "{'criterion': 'entropy', 'max_depth': 6, 'min_samples_leaf': 8, 'splitter': 'best'}",
          "{'criterion': 'entropy', 'max_depth': 6, 'min_samples_leaf': 4, 'splitter': 'best'}",
          "{'criterion': 'entropy', 'max_depth': 6, 'min_samples_leaf': 1, 'splitter': 'random'}",
          "{'criterion': 'entropy', 'max_depth': 14, 'min_samples_leaf': 4, 'splitter': 'random'}",
          "{'criterion': 'gini', 'max_depth': 10, 'min_samples_leaf': 9, 'splitter': 'best'}",
          "{'criterion': 'entropy', 'max_depth': 8, 'min_samples_leaf': 3, 'splitter': 'random'}",
          "{'criterion': 'gini', 'max_depth': 12, 'min_samples_leaf': 1, 'splitter': 'best'}",
          "{'criterion': 'entropy', 'max_depth': 16, 'min_samples_leaf': 2, 'splitter': 'random'}",
          "{'criterion': 'gini', 'max_depth': 12, 'min_samples_leaf': 2, 'splitter': 'best'}",
          "{'criterion': 'gini', 'max_depth': 8, 'min_samples_leaf': 3, 'splitter': 'random'}",
          "{'criterion': 'entropy', 'max_depth': 6, 'min_samples_leaf': 5, 'splitter': 'best'}",
          "{'criterion': 'gini', 'max_depth': 6, 'min_samples_leaf': 5, 'splitter': 'best'}",
          "{'criterion': 'gini', 'max_depth': 10, 'min_samples_leaf': 2, 'splitter': 'best'}",
          "{'criterion': 'gini', 'max_depth': 10, 'min_samples_leaf': 3, 'splitter': 'best'}",
          "{'criterion': 'entropy', 'max_depth': 6, 'min_samples_leaf': 6, 'splitter': 'best'}",
          "{'criterion': 'gini', 'max_depth': 12, 'min_samples_leaf': 8, 'splitter': 'best'}",
          "{'criterion': 'gini', 'max_depth': 18, 'min_samples_leaf': 4, 'splitter': 'best'}",
          "{'criterion': 'entropy', 'max_depth': 12, 'min_samples_leaf': 3, 'splitter': 'random'}",
          "{'criterion': 'entropy', 'max_depth': 8, 'min_samples_leaf': 6, 'splitter': 'best'}",
          "{'criterion': 'entropy', 'max_depth': 8, 'min_samples_leaf': 5, 'splitter': 'random'}",
          "{'criterion': 'gini', 'max_depth': 12, 'min_samples_leaf': 9, 'splitter': 'best'}",
          "{'criterion': 'entropy', 'max_depth': 8, 'min_samples_leaf': 9, 'splitter': 'best'}",
          "{'criterion': 'gini', 'max_depth': 16, 'min_samples_leaf': 3, 'splitter': 'best'}",
          "{'criterion': 'entropy', 'max_depth': 8, 'min_samples_leaf': 4, 'splitter': 'best'}",
          "{'criterion': 'entropy', 'max_depth': 10, 'min_samples_leaf': 2, 'splitter': 'best'}",
          "{'criterion': 'entropy', 'max_depth': 6, 'min_samples_leaf': 7, 'splitter': 'best'}",
          "{'criterion': 'gini', 'max_depth': 18, 'min_samples_leaf': 2, 'splitter': 'random'}",
          "{'criterion': 'gini', 'max_depth': 8, 'min_samples_leaf': 4, 'splitter': 'random'}",
          "{'criterion': 'gini', 'max_depth': 14, 'min_samples_leaf': 4, 'splitter': 'best'}",
          "{'criterion': 'entropy', 'max_depth': 8, 'min_samples_leaf': 5, 'splitter': 'best'}",
          "{'criterion': 'gini', 'max_depth': 10, 'min_samples_leaf': 4, 'splitter': 'best'}",
          "{'criterion': 'entropy', 'max_depth': 8, 'min_samples_leaf': 7, 'splitter': 'best'}",
          "{'criterion': 'gini', 'max_depth': 18, 'min_samples_leaf': 3, 'splitter': 'best'}",
          "{'criterion': 'entropy', 'max_depth': 8, 'min_samples_leaf': 6, 'splitter': 'random'}",
          "{'criterion': 'gini', 'max_depth': 10, 'min_samples_leaf': 7, 'splitter': 'random'}",
          "{'criterion': 'entropy', 'max_depth': 10, 'min_samples_leaf': 1, 'splitter': 'best'}",
          "{'criterion': 'gini', 'max_depth': 4, 'min_samples_leaf': 2, 'splitter': 'random'}",
          "{'criterion': 'gini', 'max_depth': 6, 'min_samples_leaf': 4, 'splitter': 'random'}",
          "{'criterion': 'gini', 'max_depth': 4, 'min_samples_leaf': 7, 'splitter': 'random'}",
          "{'criterion': 'gini', 'max_depth': 12, 'min_samples_leaf': 6, 'splitter': 'best'}",
          "{'criterion': 'gini', 'max_depth': 18, 'min_samples_leaf': 5, 'splitter': 'random'}",
          "{'criterion': 'gini', 'max_depth': 16, 'min_samples_leaf': 4, 'splitter': 'random'}",
          "{'criterion': 'gini', 'max_depth': 8, 'min_samples_leaf': 2, 'splitter': 'random'}",
          "{'criterion': 'gini', 'max_depth': 4, 'min_samples_leaf': 1, 'splitter': 'random'}",
          "{'criterion': 'gini', 'max_depth': 4, 'min_samples_leaf': 3, 'splitter': 'random'}",
          "{'criterion': 'gini', 'max_depth': 12, 'min_samples_leaf': 7, 'splitter': 'best'}",
          "{'criterion': 'gini', 'max_depth': 12, 'min_samples_leaf': 7, 'splitter': 'random'}",
          "{'criterion': 'entropy', 'max_depth': 8, 'min_samples_leaf': 2, 'splitter': 'random'}",
          "{'criterion': 'entropy', 'max_depth': 6, 'min_samples_leaf': 2, 'splitter': 'random'}",
          "{'criterion': 'gini', 'max_depth': 16, 'min_samples_leaf': 2, 'splitter': 'best'}",
          "{'criterion': 'gini', 'max_depth': 4, 'min_samples_leaf': 8, 'splitter': 'random'}",
          "{'criterion': 'entropy', 'max_depth': 4, 'min_samples_leaf': 1, 'splitter': 'random'}",
          "{'criterion': 'entropy', 'max_depth': 4, 'min_samples_leaf': 2, 'splitter': 'random'}",
          "{'criterion': 'entropy', 'max_depth': 4, 'min_samples_leaf': 7, 'splitter': 'random'}",
          "{'criterion': 'gini', 'max_depth': 14, 'min_samples_leaf': 2, 'splitter': 'random'}",
          "{'criterion': 'gini', 'max_depth': 6, 'min_samples_leaf': 3, 'splitter': 'random'}",
          "{'criterion': 'gini', 'max_depth': 4, 'min_samples_leaf': 6, 'splitter': 'random'}",
          "{'criterion': 'entropy', 'max_depth': 4, 'min_samples_leaf': 3, 'splitter': 'random'}",
          "{'criterion': 'entropy', 'max_depth': 6, 'min_samples_leaf': 7, 'splitter': 'random'}",
          "{'criterion': 'gini', 'max_depth': 14, 'min_samples_leaf': 8, 'splitter': 'best'}",
          "{'criterion': 'entropy', 'max_depth': 4, 'min_samples_leaf': 8, 'splitter': 'random'}",
          "{'criterion': 'gini', 'max_depth': 16, 'min_samples_leaf': 8, 'splitter': 'random'}",
          "{'criterion': 'gini', 'max_depth': 14, 'min_samples_leaf': 6, 'splitter': 'best'}",
          "{'criterion': 'gini', 'max_depth': 14, 'min_samples_leaf': 9, 'splitter': 'best'}",
          "{'criterion': 'gini', 'max_depth': 16, 'min_samples_leaf': 9, 'splitter': 'best'}",
          "{'criterion': 'gini', 'max_depth': 14, 'min_samples_leaf': 7, 'splitter': 'random'}",
          "{'criterion': 'gini', 'max_depth': 6, 'min_samples_leaf': 2, 'splitter': 'random'}",
          "{'criterion': 'entropy', 'max_depth': 16, 'min_samples_leaf': 3, 'splitter': 'random'}",
          "{'criterion': 'entropy', 'max_depth': 18, 'min_samples_leaf': 1, 'splitter': 'random'}",
          "{'criterion': 'gini', 'max_depth': 4, 'min_samples_leaf': 4, 'splitter': 'random'}",
          "{'criterion': 'gini', 'max_depth': 4, 'min_samples_leaf': 5, 'splitter': 'random'}",
          "{'criterion': 'entropy', 'max_depth': 4, 'min_samples_leaf': 6, 'splitter': 'random'}",
          "{'criterion': 'gini', 'max_depth': 16, 'min_samples_leaf': 5, 'splitter': 'random'}",
          "{'criterion': 'entropy', 'max_depth': 6, 'min_samples_leaf': 8, 'splitter': 'random'}",
          "{'criterion': 'gini', 'max_depth': 14, 'min_samples_leaf': 2, 'splitter': 'best'}",
          "{'criterion': 'gini', 'max_depth': 16, 'min_samples_leaf': 8, 'splitter': 'best'}",
          "{'criterion': 'gini', 'max_depth': 14, 'min_samples_leaf': 5, 'splitter': 'best'}",
          "{'criterion': 'entropy', 'max_depth': 4, 'min_samples_leaf': 4, 'splitter': 'random'}",
          "{'criterion': 'entropy', 'max_depth': 4, 'min_samples_leaf': 5, 'splitter': 'random'}",
          "{'criterion': 'gini', 'max_depth': 12, 'min_samples_leaf': 5, 'splitter': 'best'}",
          "{'criterion': 'gini', 'max_depth': 16, 'min_samples_leaf': 7, 'splitter': 'best'}",
          "{'criterion': 'gini', 'max_depth': 10, 'min_samples_leaf': 3, 'splitter': 'random'}",
          "{'criterion': 'entropy', 'max_depth': 8, 'min_samples_leaf': 9, 'splitter': 'random'}",
          "{'criterion': 'entropy', 'max_depth': 8, 'min_samples_leaf': 4, 'splitter': 'random'}",
          "{'criterion': 'entropy', 'max_depth': 14, 'min_samples_leaf': 6, 'splitter': 'random'}",
          "{'criterion': 'gini', 'max_depth': 14, 'min_samples_leaf': 7, 'splitter': 'best'}",
          "{'criterion': 'entropy', 'max_depth': 14, 'min_samples_leaf': 3, 'splitter': 'random'}",
          "{'criterion': 'entropy', 'max_depth': 10, 'min_samples_leaf': 3, 'splitter': 'random'}",
          "{'criterion': 'entropy', 'max_depth': 8, 'min_samples_leaf': 7, 'splitter': 'random'}",
          "{'criterion': 'gini', 'max_depth': 18, 'min_samples_leaf': 2, 'splitter': 'best'}",
          "{'criterion': 'entropy', 'max_depth': 6, 'min_samples_leaf': 4, 'splitter': 'random'}",
          "{'criterion': 'gini', 'max_depth': 12, 'min_samples_leaf': 5, 'splitter': 'random'}",
          "{'criterion': 'entropy', 'max_depth': 10, 'min_samples_leaf': 3, 'splitter': 'best'}",
          "{'criterion': 'entropy', 'max_depth': 12, 'min_samples_leaf': 2, 'splitter': 'best'}",
          "{'criterion': 'entropy', 'max_depth': 6, 'min_samples_leaf': 5, 'splitter': 'random'}",
          "{'criterion': 'gini', 'max_depth': 16, 'min_samples_leaf': 6, 'splitter': 'best'}",
          "{'criterion': 'entropy', 'max_depth': 18, 'min_samples_leaf': 4, 'splitter': 'random'}",
          "{'criterion': 'gini', 'max_depth': 8, 'min_samples_leaf': 7, 'splitter': 'random'}",
          "{'criterion': 'gini', 'max_depth': 12, 'min_samples_leaf': 3, 'splitter': 'random'}",
          "{'criterion': 'gini', 'max_depth': 4, 'min_samples_leaf': 9, 'splitter': 'random'}",
          "{'criterion': 'entropy', 'max_depth': 6, 'min_samples_leaf': 9, 'splitter': 'random'}",
          "{'criterion': 'entropy', 'max_depth': 14, 'min_samples_leaf': 7, 'splitter': 'random'}",
          "{'criterion': 'gini', 'max_depth': 18, 'min_samples_leaf': 1, 'splitter': 'random'}",
          "{'criterion': 'gini', 'max_depth': 6, 'min_samples_leaf': 5, 'splitter': 'random'}",
          "{'criterion': 'entropy', 'max_depth': 10, 'min_samples_leaf': 8, 'splitter': 'best'}",
          "{'criterion': 'gini', 'max_depth': 18, 'min_samples_leaf': 8, 'splitter': 'best'}",
          "{'criterion': 'entropy', 'max_depth': 16, 'min_samples_leaf': 6, 'splitter': 'random'}",
          "{'criterion': 'entropy', 'max_depth': 12, 'min_samples_leaf': 1, 'splitter': 'best'}",
          "{'criterion': 'entropy', 'max_depth': 10, 'min_samples_leaf': 7, 'splitter': 'random'}",
          "{'criterion': 'gini', 'max_depth': 14, 'min_samples_leaf': 1, 'splitter': 'best'}",
          "{'criterion': 'entropy', 'max_depth': 4, 'min_samples_leaf': 9, 'splitter': 'random'}",
          "{'criterion': 'gini', 'max_depth': 18, 'min_samples_leaf': 1, 'splitter': 'best'}",
          "{'criterion': 'entropy', 'max_depth': 18, 'min_samples_leaf': 9, 'splitter': 'random'}",
          "{'criterion': 'entropy', 'max_depth': 6, 'min_samples_leaf': 6, 'splitter': 'random'}",
          "{'criterion': 'gini', 'max_depth': 14, 'min_samples_leaf': 8, 'splitter': 'random'}",
          "{'criterion': 'gini', 'max_depth': 18, 'min_samples_leaf': 7, 'splitter': 'best'}",
          "{'criterion': 'gini', 'max_depth': 18, 'min_samples_leaf': 6, 'splitter': 'best'}",
          "{'criterion': 'entropy', 'max_depth': 12, 'min_samples_leaf': 8, 'splitter': 'random'}",
          "{'criterion': 'entropy', 'max_depth': 10, 'min_samples_leaf': 6, 'splitter': 'best'}",
          "{'criterion': 'gini', 'max_depth': 6, 'min_samples_leaf': 8, 'splitter': 'random'}",
          "{'criterion': 'gini', 'max_depth': 12, 'min_samples_leaf': 8, 'splitter': 'random'}",
          "{'criterion': 'gini', 'max_depth': 18, 'min_samples_leaf': 8, 'splitter': 'random'}",
          "{'criterion': 'gini', 'max_depth': 6, 'min_samples_leaf': 7, 'splitter': 'random'}",
          "{'criterion': 'gini', 'max_depth': 16, 'min_samples_leaf': 1, 'splitter': 'best'}",
          "{'criterion': 'entropy', 'max_depth': 16, 'min_samples_leaf': 7, 'splitter': 'random'}",
          "{'criterion': 'gini', 'max_depth': 18, 'min_samples_leaf': 9, 'splitter': 'best'}",
          "{'criterion': 'entropy', 'max_depth': 16, 'min_samples_leaf': 4, 'splitter': 'random'}",
          "{'criterion': 'entropy', 'max_depth': 6, 'min_samples_leaf': 3, 'splitter': 'random'}",
          "{'criterion': 'gini', 'max_depth': 8, 'min_samples_leaf': 8, 'splitter': 'random'}",
          "{'criterion': 'entropy', 'max_depth': 12, 'min_samples_leaf': 8, 'splitter': 'best'}",
          "{'criterion': 'entropy', 'max_depth': 14, 'min_samples_leaf': 8, 'splitter': 'best'}",
          "{'criterion': 'gini', 'max_depth': 6, 'min_samples_leaf': 6, 'splitter': 'random'}",
          "{'criterion': 'gini', 'max_depth': 18, 'min_samples_leaf': 5, 'splitter': 'best'}",
          "{'criterion': 'entropy', 'max_depth': 10, 'min_samples_leaf': 6, 'splitter': 'random'}",
          "{'criterion': 'entropy', 'max_depth': 10, 'min_samples_leaf': 4, 'splitter': 'best'}",
          "{'criterion': 'entropy', 'max_depth': 12, 'min_samples_leaf': 6, 'splitter': 'random'}",
          "{'criterion': 'entropy', 'max_depth': 14, 'min_samples_leaf': 2, 'splitter': 'best'}",
          "{'criterion': 'entropy', 'max_depth': 18, 'min_samples_leaf': 2, 'splitter': 'best'}",
          "{'criterion': 'entropy', 'max_depth': 10, 'min_samples_leaf': 8, 'splitter': 'random'}",
          "{'criterion': 'gini', 'max_depth': 12, 'min_samples_leaf': 6, 'splitter': 'random'}",
          "{'criterion': 'entropy', 'max_depth': 8, 'min_samples_leaf': 8, 'splitter': 'random'}",
          "{'criterion': 'entropy', 'max_depth': 18, 'min_samples_leaf': 5, 'splitter': 'random'}",
          "{'criterion': 'entropy', 'max_depth': 10, 'min_samples_leaf': 9, 'splitter': 'best'}",
          "{'criterion': 'gini', 'max_depth': 18, 'min_samples_leaf': 7, 'splitter': 'random'}",
          "{'criterion': 'gini', 'max_depth': 10, 'min_samples_leaf': 4, 'splitter': 'random'}",
          "{'criterion': 'entropy', 'max_depth': 10, 'min_samples_leaf': 7, 'splitter': 'best'}",
          "{'criterion': 'gini', 'max_depth': 10, 'min_samples_leaf': 8, 'splitter': 'random'}",
          "{'criterion': 'gini', 'max_depth': 6, 'min_samples_leaf': 9, 'splitter': 'random'}",
          "{'criterion': 'entropy', 'max_depth': 14, 'min_samples_leaf': 1, 'splitter': 'best'}",
          "{'criterion': 'entropy', 'max_depth': 16, 'min_samples_leaf': 5, 'splitter': 'random'}",
          "{'criterion': 'entropy', 'max_depth': 14, 'min_samples_leaf': 5, 'splitter': 'random'}",
          "{'criterion': 'entropy', 'max_depth': 16, 'min_samples_leaf': 8, 'splitter': 'best'}",
          "{'criterion': 'entropy', 'max_depth': 12, 'min_samples_leaf': 7, 'splitter': 'random'}",
          "{'criterion': 'gini', 'max_depth': 12, 'min_samples_leaf': 9, 'splitter': 'random'}",
          "{'criterion': 'gini', 'max_depth': 14, 'min_samples_leaf': 3, 'splitter': 'random'}",
          "{'criterion': 'entropy', 'max_depth': 18, 'min_samples_leaf': 3, 'splitter': 'random'}",
          "{'criterion': 'entropy', 'max_depth': 16, 'min_samples_leaf': 2, 'splitter': 'best'}",
          "{'criterion': 'entropy', 'max_depth': 12, 'min_samples_leaf': 4, 'splitter': 'best'}",
          "{'criterion': 'entropy', 'max_depth': 18, 'min_samples_leaf': 7, 'splitter': 'random'}",
          "{'criterion': 'entropy', 'max_depth': 18, 'min_samples_leaf': 8, 'splitter': 'best'}",
          "{'criterion': 'entropy', 'max_depth': 12, 'min_samples_leaf': 5, 'splitter': 'random'}",
          "{'criterion': 'gini', 'max_depth': 12, 'min_samples_leaf': 4, 'splitter': 'random'}",
          "{'criterion': 'gini', 'max_depth': 10, 'min_samples_leaf': 9, 'splitter': 'random'}",
          "{'criterion': 'entropy', 'max_depth': 14, 'min_samples_leaf': 8, 'splitter': 'random'}",
          "{'criterion': 'gini', 'max_depth': 16, 'min_samples_leaf': 3, 'splitter': 'random'}",
          "{'criterion': 'entropy', 'max_depth': 10, 'min_samples_leaf': 4, 'splitter': 'random'}",
          "{'criterion': 'entropy', 'max_depth': 16, 'min_samples_leaf': 1, 'splitter': 'best'}",
          "{'criterion': 'entropy', 'max_depth': 18, 'min_samples_leaf': 1, 'splitter': 'best'}",
          "{'criterion': 'gini', 'max_depth': 10, 'min_samples_leaf': 6, 'splitter': 'random'}",
          "{'criterion': 'entropy', 'max_depth': 12, 'min_samples_leaf': 7, 'splitter': 'best'}",
          "{'criterion': 'entropy', 'max_depth': 14, 'min_samples_leaf': 7, 'splitter': 'best'}",
          "{'criterion': 'gini', 'max_depth': 18, 'min_samples_leaf': 6, 'splitter': 'random'}",
          "{'criterion': 'gini', 'max_depth': 14, 'min_samples_leaf': 6, 'splitter': 'random'}",
          "{'criterion': 'entropy', 'max_depth': 10, 'min_samples_leaf': 5, 'splitter': 'random'}",
          "{'criterion': 'gini', 'max_depth': 16, 'min_samples_leaf': 5, 'splitter': 'best'}",
          "{'criterion': 'gini', 'max_depth': 8, 'min_samples_leaf': 9, 'splitter': 'random'}",
          "{'criterion': 'entropy', 'max_depth': 10, 'min_samples_leaf': 5, 'splitter': 'best'}",
          "{'criterion': 'entropy', 'max_depth': 14, 'min_samples_leaf': 6, 'splitter': 'best'}",
          "{'criterion': 'gini', 'max_depth': 14, 'min_samples_leaf': 4, 'splitter': 'random'}",
          "{'criterion': 'entropy', 'max_depth': 12, 'min_samples_leaf': 3, 'splitter': 'best'}",
          "{'criterion': 'gini', 'max_depth': 18, 'min_samples_leaf': 3, 'splitter': 'random'}",
          "{'criterion': 'entropy', 'max_depth': 18, 'min_samples_leaf': 6, 'splitter': 'random'}",
          "{'criterion': 'entropy', 'max_depth': 16, 'min_samples_leaf': 6, 'splitter': 'best'}",
          "{'criterion': 'gini', 'max_depth': 18, 'min_samples_leaf': 9, 'splitter': 'random'}",
          "{'criterion': 'entropy', 'max_depth': 12, 'min_samples_leaf': 9, 'splitter': 'best'}",
          "{'criterion': 'entropy', 'max_depth': 14, 'min_samples_leaf': 9, 'splitter': 'best'}",
          "{'criterion': 'gini', 'max_depth': 16, 'min_samples_leaf': 7, 'splitter': 'random'}",
          "{'criterion': 'gini', 'max_depth': 18, 'min_samples_leaf': 4, 'splitter': 'random'}",
          "{'criterion': 'entropy', 'max_depth': 12, 'min_samples_leaf': 6, 'splitter': 'best'}",
          "{'criterion': 'entropy', 'max_depth': 14, 'min_samples_leaf': 3, 'splitter': 'best'}",
          "{'criterion': 'entropy', 'max_depth': 16, 'min_samples_leaf': 8, 'splitter': 'random'}",
          "{'criterion': 'gini', 'max_depth': 16, 'min_samples_leaf': 6, 'splitter': 'random'}",
          "{'criterion': 'entropy', 'max_depth': 12, 'min_samples_leaf': 4, 'splitter': 'random'}",
          "{'criterion': 'entropy', 'max_depth': 16, 'min_samples_leaf': 9, 'splitter': 'best'}",
          "{'criterion': 'entropy', 'max_depth': 18, 'min_samples_leaf': 6, 'splitter': 'best'}",
          "{'criterion': 'entropy', 'max_depth': 10, 'min_samples_leaf': 9, 'splitter': 'random'}",
          "{'criterion': 'gini', 'max_depth': 14, 'min_samples_leaf': 9, 'splitter': 'random'}",
          "{'criterion': 'entropy', 'max_depth': 14, 'min_samples_leaf': 4, 'splitter': 'best'}",
          "{'criterion': 'entropy', 'max_depth': 16, 'min_samples_leaf': 7, 'splitter': 'best'}",
          "{'criterion': 'entropy', 'max_depth': 18, 'min_samples_leaf': 9, 'splitter': 'best'}",
          "{'criterion': 'entropy', 'max_depth': 14, 'min_samples_leaf': 9, 'splitter': 'random'}",
          "{'criterion': 'entropy', 'max_depth': 16, 'min_samples_leaf': 4, 'splitter': 'best'}",
          "{'criterion': 'entropy', 'max_depth': 16, 'min_samples_leaf': 3, 'splitter': 'best'}",
          "{'criterion': 'entropy', 'max_depth': 18, 'min_samples_leaf': 8, 'splitter': 'random'}",
          "{'criterion': 'gini', 'max_depth': 16, 'min_samples_leaf': 9, 'splitter': 'random'}",
          "{'criterion': 'entropy', 'max_depth': 16, 'min_samples_leaf': 9, 'splitter': 'random'}",
          "{'criterion': 'entropy', 'max_depth': 18, 'min_samples_leaf': 4, 'splitter': 'best'}",
          "{'criterion': 'entropy', 'max_depth': 18, 'min_samples_leaf': 7, 'splitter': 'best'}",
          "{'criterion': 'entropy', 'max_depth': 12, 'min_samples_leaf': 9, 'splitter': 'random'}",
          "{'criterion': 'gini', 'max_depth': 14, 'min_samples_leaf': 5, 'splitter': 'random'}",
          "{'criterion': 'entropy', 'max_depth': 18, 'min_samples_leaf': 3, 'splitter': 'best'}",
          "{'criterion': 'entropy', 'max_depth': 12, 'min_samples_leaf': 5, 'splitter': 'best'}",
          "{'criterion': 'entropy', 'max_depth': 14, 'min_samples_leaf': 5, 'splitter': 'best'}",
          "{'criterion': 'gini', 'max_depth': 10, 'min_samples_leaf': 5, 'splitter': 'random'}",
          "{'criterion': 'entropy', 'max_depth': 16, 'min_samples_leaf': 5, 'splitter': 'best'}",
          "{'criterion': 'entropy', 'max_depth': 18, 'min_samples_leaf': 5, 'splitter': 'best'}"
         ],
         "type": "scatter",
         "x": [
          0,
          1,
          2,
          3,
          4,
          5,
          6,
          7,
          8,
          9,
          10,
          11,
          12,
          13,
          14,
          15,
          16,
          17,
          18,
          19,
          20,
          21,
          22,
          23,
          24,
          25,
          26,
          27,
          28,
          29,
          30,
          31,
          32,
          33,
          34,
          35,
          36,
          37,
          38,
          39,
          40,
          41,
          42,
          43,
          44,
          45,
          46,
          47,
          48,
          49,
          50,
          51,
          52,
          53,
          54,
          55,
          56,
          57,
          58,
          59,
          60,
          61,
          62,
          63,
          64,
          65,
          66,
          67,
          68,
          69,
          70,
          71,
          72,
          73,
          74,
          75,
          76,
          77,
          78,
          79,
          80,
          81,
          82,
          83,
          84,
          85,
          86,
          87,
          88,
          89,
          90,
          91,
          92,
          93,
          94,
          95,
          96,
          97,
          98,
          99,
          100,
          101,
          102,
          103,
          104,
          105,
          106,
          107,
          108,
          109,
          110,
          111,
          112,
          113,
          114,
          115,
          116,
          117,
          118,
          119,
          120,
          121,
          122,
          123,
          124,
          125,
          126,
          127,
          128,
          129,
          130,
          131,
          132,
          133,
          134,
          135,
          136,
          137,
          138,
          139,
          140,
          141,
          142,
          143,
          144,
          145,
          146,
          147,
          148,
          149,
          150,
          151,
          152,
          153,
          154,
          155,
          156,
          157,
          158,
          159,
          160,
          161,
          162,
          163,
          164,
          165,
          166,
          167,
          168,
          169,
          170,
          171,
          172,
          173,
          174,
          175,
          176,
          177,
          178,
          179,
          180,
          181,
          182,
          183,
          184,
          185,
          186,
          187,
          188,
          189,
          190,
          191,
          192,
          193,
          194,
          195,
          196,
          197,
          198,
          199,
          200,
          201,
          202,
          203,
          204,
          205,
          206,
          207,
          208,
          209,
          210,
          211,
          212,
          213,
          214,
          215,
          216,
          217,
          218,
          219,
          220,
          221,
          222,
          223,
          224,
          225,
          226,
          227,
          228,
          229,
          230,
          231,
          232,
          233,
          234,
          235,
          236,
          237,
          238,
          239,
          240,
          241,
          242,
          243,
          244,
          245,
          246,
          247,
          248,
          249,
          250,
          251,
          252,
          253,
          254,
          255,
          256,
          257,
          258,
          259,
          260,
          261,
          262,
          263,
          264,
          265,
          266,
          267,
          268,
          269,
          270,
          271,
          272,
          273,
          274,
          275,
          276,
          277,
          278,
          279,
          280,
          281,
          282,
          283,
          284,
          285,
          286,
          287
         ],
         "y": [
          0.020800035915756125,
          0.017505767010117426,
          0.01065062005941963,
          0.009726903933859306,
          0.015846793953763663,
          0.018569630117015602,
          0.01970935048531178,
          0.019523549514023526,
          0.019523549514023526,
          0.021980329265143036,
          0.014608824909227937,
          0.017687273202140148,
          0.01941591879248396,
          0.01941591879248396,
          0.020005668925397672,
          0.015808314536265262,
          0.014433409303719837,
          0.0247358888548839,
          0.016348501364181436,
          0.012650765625925346,
          0.030990360246492335,
          0.017316451315011312,
          0.011757205298371287,
          0.011914683378291336,
          0.023563304422535725,
          0.021973181391435132,
          0.016021221699551225,
          0.013997948073370299,
          0.013997948073370299,
          0.014902937552227692,
          0.015021101865259397,
          0.026315009247838132,
          0.027722945245773692,
          0.01571480212713598,
          0.013551535964928097,
          0.012591362560889005,
          0.01759716380601273,
          0.022834870485809233,
          0.014482003840882916,
          0.007313123203709896,
          0.015661579914300977,
          0.018937354819745844,
          0.01962594291782806,
          0.018092118244820696,
          0.015157556732257795,
          0.014988359961998945,
          0.019876793005160105,
          0.022827378855420605,
          0.013191254838306868,
          0.007087108978660257,
          0.013983299142270457,
          0.020769030824182824,
          0.01049493797257471,
          0.014742459734411168,
          0.019230332082117947,
          0.019041569392613228,
          0.017410111378396168,
          0.007681059103216875,
          0.015884967681745667,
          0.01580657949622029,
          0.02222523936049689,
          0.0194982977881858,
          0.019498297788185803,
          0.02421812307299739,
          0.01475688932427143,
          0.017399394174542407,
          0.019995059372843092,
          0.011956466075528043,
          0.027761070208388784,
          0.012573227925237825,
          0.01780979330312889,
          0.019070566606494824,
          0.016478501165529923,
          0.021670374787772968,
          0.015215233391219673,
          0.01707247759186591,
          0.01742012545722493,
          0.015688193158183015,
          0.009997801786534534,
          0.020442902717815167,
          0.01969676737038262,
          0.012445616572500253,
          0.020660024620742044,
          0.010808079507045189,
          0.01287898405960696,
          0.007926094557416769,
          0.019851413172844053,
          0.023638346314701634,
          0.0290219045971349,
          0.021700877788577152,
          0.023377060940860495,
          0.014381073264585618,
          0.015835590067262754,
          0.017492341708432866,
          0.016652195592705785,
          0.022057551936340132,
          0.014534499024013778,
          0.014579591685954213,
          0.013165610705228826,
          0.02175267705900357,
          0.024462158167903918,
          0.021832693089039266,
          0.019735327785068445,
          0.021293604695398417,
          0.021497347124645436,
          0.022752883875948482,
          0.011392930857106572,
          0.015869956778307076,
          0.011369180103908708,
          0.015197767437814145,
          0.010588414846295356,
          0.011551210840181705,
          0.016618836984101673,
          0.01132897421525332,
          0.00957994094655182,
          0.011314888138810587,
          0.010391115658132125,
          0.014789002280114765,
          0.009159624854333718,
          0.019660511179757253,
          0.01664192172907114,
          0.02191997625780251,
          0.011375843508945993,
          0.008961665757010661,
          0.008961665757010661,
          0.008816268463633148,
          0.011116473150843626,
          0.016960522985969288,
          0.010741964177934875,
          0.007981442647881868,
          0.018154764510036194,
          0.027078929968434334,
          0.009627601158291728,
          0.01383829729762205,
          0.014263826508011251,
          0.019595539663825694,
          0.019595539663825694,
          0.01602693324984381,
          0.01657395512107702,
          0.01888066606731194,
          0.024828514812104904,
          0.011366518727973543,
          0.011366518727973543,
          0.008803697907805625,
          0.016596773581174725,
          0.017636267208133084,
          0.022782213906113617,
          0.02590088877758948,
          0.01645184740441693,
          0.008898029693306954,
          0.008898029693306954,
          0.013595373025996648,
          0.017427584065641447,
          0.017372447480691812,
          0.02149415261974662,
          0.01600653936597625,
          0.02133193181499723,
          0.016858193698849635,
          0.016791765994006308,
          0.030317802283034823,
          0.019620274364944353,
          0.022126345288795427,
          0.016132922876327775,
          0.015554146175206656,
          0.016284359055117475,
          0.01930560670747826,
          0.01790663610234141,
          0.015591942318487673,
          0.02092410309922458,
          0.012545127402531024,
          0.016579533619239684,
          0.016343331611026857,
          0.019914505774137482,
          0.009880695194654445,
          0.01273509668194887,
          0.021024520066241444,
          0.019901384865762047,
          0.023231834963169842,
          0.011448224909148465,
          0.016970322274353158,
          0.008969157363686685,
          0.014126299099839614,
          0.01482886044272732,
          0.010069740351707445,
          0.018974813151505218,
          0.01275849296993342,
          0.012324940820542668,
          0.014887942303043406,
          0.013696344970344469,
          0.011668553590123205,
          0.02644483989656057,
          0.013823962596618214,
          0.008838967612887329,
          0.011547443618734877,
          0.014850144068794384,
          0.011829214273879078,
          0.016888926892024817,
          0.018786003775339986,
          0.012381144172929303,
          0.01769544648717173,
          0.021002801996616426,
          0.02260857980779396,
          0.02260857980779396,
          0.016798195192059877,
          0.014821002114983217,
          0.009879496297941118,
          0.021484267464529336,
          0.007641511300419322,
          0.010422467692791525,
          0.012930168782741922,
          0.008269310534498009,
          0.02150695602143016,
          0.015449241553546109,
          0.01841583711924735,
          0.013064627608515393,
          0.015700679636808414,
          0.022363353858505717,
          0.022245844369912563,
          0.009586524717512314,
          0.016757048062064323,
          0.014679099512453117,
          0.021793877715330034,
          0.01248002979569152,
          0.022600588060064205,
          0.013578672520233747,
          0.023796749929280082,
          0.017865980338220365,
          0.015896095100955986,
          0.012652675716740235,
          0.020402048690296763,
          0.01674780895580566,
          0.02139537017947756,
          0.01349077637450854,
          0.017081441671642012,
          0.008122457227538984,
          0.012375687300077046,
          0.00858637604740591,
          0.009826867902886087,
          0.01838986201375398,
          0.017946648575091886,
          0.021072694135067294,
          0.023699152496377274,
          0.023699152496377274,
          0.013783476055245809,
          0.020340962259805452,
          0.007995877971011324,
          0.01544672464420141,
          0.01994165932785762,
          0.022804416878485972,
          0.028725999821487273,
          0.02251506435914035,
          0.018818403364111166,
          0.015437897379443405,
          0.01582861861415671,
          0.028946381133173875,
          0.0241493242770819,
          0.014649686863930714,
          0.014649686863930714,
          0.01786710146874783,
          0.016491047802472944,
          0.026823417466870943,
          0.017722909172246077,
          0.010964355366431323,
          0.023229773096521307,
          0.02060079179801099,
          0.014723275563419735,
          0.027886452489549435,
          0.015409629211210864,
          0.018214695898938302,
          0.025268385824553135,
          0.02534744798935381,
          0.013722355513968066,
          0.021482026402510093,
          0.022768127392677695,
          0.02110330841145716,
          0.030734359759910648,
          0.016761973705747696,
          0.01872726414351677,
          0.02262744790446596,
          0.02376450459937011,
          0.02534404424179439,
          0.019293963084218914,
          0.021036875291102562,
          0.02235192295851399,
          0.024740478348770054,
          0.01909994614024064,
          0.024860464329992976,
          0.024242062503643753
         ],
         "yaxis": "y2"
        }
       ],
       "layout": {
        "template": {
         "data": {
          "bar": [
           {
            "error_x": {
             "color": "#2a3f5f"
            },
            "error_y": {
             "color": "#2a3f5f"
            },
            "marker": {
             "line": {
              "color": "#E5ECF6",
              "width": 0.5
             }
            },
            "type": "bar"
           }
          ],
          "barpolar": [
           {
            "marker": {
             "line": {
              "color": "#E5ECF6",
              "width": 0.5
             }
            },
            "type": "barpolar"
           }
          ],
          "carpet": [
           {
            "aaxis": {
             "endlinecolor": "#2a3f5f",
             "gridcolor": "white",
             "linecolor": "white",
             "minorgridcolor": "white",
             "startlinecolor": "#2a3f5f"
            },
            "baxis": {
             "endlinecolor": "#2a3f5f",
             "gridcolor": "white",
             "linecolor": "white",
             "minorgridcolor": "white",
             "startlinecolor": "#2a3f5f"
            },
            "type": "carpet"
           }
          ],
          "choropleth": [
           {
            "colorbar": {
             "outlinewidth": 0,
             "ticks": ""
            },
            "type": "choropleth"
           }
          ],
          "contour": [
           {
            "colorbar": {
             "outlinewidth": 0,
             "ticks": ""
            },
            "colorscale": [
             [
              0,
              "#0d0887"
             ],
             [
              0.1111111111111111,
              "#46039f"
             ],
             [
              0.2222222222222222,
              "#7201a8"
             ],
             [
              0.3333333333333333,
              "#9c179e"
             ],
             [
              0.4444444444444444,
              "#bd3786"
             ],
             [
              0.5555555555555556,
              "#d8576b"
             ],
             [
              0.6666666666666666,
              "#ed7953"
             ],
             [
              0.7777777777777778,
              "#fb9f3a"
             ],
             [
              0.8888888888888888,
              "#fdca26"
             ],
             [
              1,
              "#f0f921"
             ]
            ],
            "type": "contour"
           }
          ],
          "contourcarpet": [
           {
            "colorbar": {
             "outlinewidth": 0,
             "ticks": ""
            },
            "type": "contourcarpet"
           }
          ],
          "heatmap": [
           {
            "colorbar": {
             "outlinewidth": 0,
             "ticks": ""
            },
            "colorscale": [
             [
              0,
              "#0d0887"
             ],
             [
              0.1111111111111111,
              "#46039f"
             ],
             [
              0.2222222222222222,
              "#7201a8"
             ],
             [
              0.3333333333333333,
              "#9c179e"
             ],
             [
              0.4444444444444444,
              "#bd3786"
             ],
             [
              0.5555555555555556,
              "#d8576b"
             ],
             [
              0.6666666666666666,
              "#ed7953"
             ],
             [
              0.7777777777777778,
              "#fb9f3a"
             ],
             [
              0.8888888888888888,
              "#fdca26"
             ],
             [
              1,
              "#f0f921"
             ]
            ],
            "type": "heatmap"
           }
          ],
          "heatmapgl": [
           {
            "colorbar": {
             "outlinewidth": 0,
             "ticks": ""
            },
            "colorscale": [
             [
              0,
              "#0d0887"
             ],
             [
              0.1111111111111111,
              "#46039f"
             ],
             [
              0.2222222222222222,
              "#7201a8"
             ],
             [
              0.3333333333333333,
              "#9c179e"
             ],
             [
              0.4444444444444444,
              "#bd3786"
             ],
             [
              0.5555555555555556,
              "#d8576b"
             ],
             [
              0.6666666666666666,
              "#ed7953"
             ],
             [
              0.7777777777777778,
              "#fb9f3a"
             ],
             [
              0.8888888888888888,
              "#fdca26"
             ],
             [
              1,
              "#f0f921"
             ]
            ],
            "type": "heatmapgl"
           }
          ],
          "histogram": [
           {
            "marker": {
             "colorbar": {
              "outlinewidth": 0,
              "ticks": ""
             }
            },
            "type": "histogram"
           }
          ],
          "histogram2d": [
           {
            "colorbar": {
             "outlinewidth": 0,
             "ticks": ""
            },
            "colorscale": [
             [
              0,
              "#0d0887"
             ],
             [
              0.1111111111111111,
              "#46039f"
             ],
             [
              0.2222222222222222,
              "#7201a8"
             ],
             [
              0.3333333333333333,
              "#9c179e"
             ],
             [
              0.4444444444444444,
              "#bd3786"
             ],
             [
              0.5555555555555556,
              "#d8576b"
             ],
             [
              0.6666666666666666,
              "#ed7953"
             ],
             [
              0.7777777777777778,
              "#fb9f3a"
             ],
             [
              0.8888888888888888,
              "#fdca26"
             ],
             [
              1,
              "#f0f921"
             ]
            ],
            "type": "histogram2d"
           }
          ],
          "histogram2dcontour": [
           {
            "colorbar": {
             "outlinewidth": 0,
             "ticks": ""
            },
            "colorscale": [
             [
              0,
              "#0d0887"
             ],
             [
              0.1111111111111111,
              "#46039f"
             ],
             [
              0.2222222222222222,
              "#7201a8"
             ],
             [
              0.3333333333333333,
              "#9c179e"
             ],
             [
              0.4444444444444444,
              "#bd3786"
             ],
             [
              0.5555555555555556,
              "#d8576b"
             ],
             [
              0.6666666666666666,
              "#ed7953"
             ],
             [
              0.7777777777777778,
              "#fb9f3a"
             ],
             [
              0.8888888888888888,
              "#fdca26"
             ],
             [
              1,
              "#f0f921"
             ]
            ],
            "type": "histogram2dcontour"
           }
          ],
          "mesh3d": [
           {
            "colorbar": {
             "outlinewidth": 0,
             "ticks": ""
            },
            "type": "mesh3d"
           }
          ],
          "parcoords": [
           {
            "line": {
             "colorbar": {
              "outlinewidth": 0,
              "ticks": ""
             }
            },
            "type": "parcoords"
           }
          ],
          "pie": [
           {
            "automargin": true,
            "type": "pie"
           }
          ],
          "scatter": [
           {
            "marker": {
             "colorbar": {
              "outlinewidth": 0,
              "ticks": ""
             }
            },
            "type": "scatter"
           }
          ],
          "scatter3d": [
           {
            "line": {
             "colorbar": {
              "outlinewidth": 0,
              "ticks": ""
             }
            },
            "marker": {
             "colorbar": {
              "outlinewidth": 0,
              "ticks": ""
             }
            },
            "type": "scatter3d"
           }
          ],
          "scattercarpet": [
           {
            "marker": {
             "colorbar": {
              "outlinewidth": 0,
              "ticks": ""
             }
            },
            "type": "scattercarpet"
           }
          ],
          "scattergeo": [
           {
            "marker": {
             "colorbar": {
              "outlinewidth": 0,
              "ticks": ""
             }
            },
            "type": "scattergeo"
           }
          ],
          "scattergl": [
           {
            "marker": {
             "colorbar": {
              "outlinewidth": 0,
              "ticks": ""
             }
            },
            "type": "scattergl"
           }
          ],
          "scattermapbox": [
           {
            "marker": {
             "colorbar": {
              "outlinewidth": 0,
              "ticks": ""
             }
            },
            "type": "scattermapbox"
           }
          ],
          "scatterpolar": [
           {
            "marker": {
             "colorbar": {
              "outlinewidth": 0,
              "ticks": ""
             }
            },
            "type": "scatterpolar"
           }
          ],
          "scatterpolargl": [
           {
            "marker": {
             "colorbar": {
              "outlinewidth": 0,
              "ticks": ""
             }
            },
            "type": "scatterpolargl"
           }
          ],
          "scatterternary": [
           {
            "marker": {
             "colorbar": {
              "outlinewidth": 0,
              "ticks": ""
             }
            },
            "type": "scatterternary"
           }
          ],
          "surface": [
           {
            "colorbar": {
             "outlinewidth": 0,
             "ticks": ""
            },
            "colorscale": [
             [
              0,
              "#0d0887"
             ],
             [
              0.1111111111111111,
              "#46039f"
             ],
             [
              0.2222222222222222,
              "#7201a8"
             ],
             [
              0.3333333333333333,
              "#9c179e"
             ],
             [
              0.4444444444444444,
              "#bd3786"
             ],
             [
              0.5555555555555556,
              "#d8576b"
             ],
             [
              0.6666666666666666,
              "#ed7953"
             ],
             [
              0.7777777777777778,
              "#fb9f3a"
             ],
             [
              0.8888888888888888,
              "#fdca26"
             ],
             [
              1,
              "#f0f921"
             ]
            ],
            "type": "surface"
           }
          ],
          "table": [
           {
            "cells": {
             "fill": {
              "color": "#EBF0F8"
             },
             "line": {
              "color": "white"
             }
            },
            "header": {
             "fill": {
              "color": "#C8D4E3"
             },
             "line": {
              "color": "white"
             }
            },
            "type": "table"
           }
          ]
         },
         "layout": {
          "annotationdefaults": {
           "arrowcolor": "#2a3f5f",
           "arrowhead": 0,
           "arrowwidth": 1
          },
          "coloraxis": {
           "colorbar": {
            "outlinewidth": 0,
            "ticks": ""
           }
          },
          "colorscale": {
           "diverging": [
            [
             0,
             "#8e0152"
            ],
            [
             0.1,
             "#c51b7d"
            ],
            [
             0.2,
             "#de77ae"
            ],
            [
             0.3,
             "#f1b6da"
            ],
            [
             0.4,
             "#fde0ef"
            ],
            [
             0.5,
             "#f7f7f7"
            ],
            [
             0.6,
             "#e6f5d0"
            ],
            [
             0.7,
             "#b8e186"
            ],
            [
             0.8,
             "#7fbc41"
            ],
            [
             0.9,
             "#4d9221"
            ],
            [
             1,
             "#276419"
            ]
           ],
           "sequential": [
            [
             0,
             "#0d0887"
            ],
            [
             0.1111111111111111,
             "#46039f"
            ],
            [
             0.2222222222222222,
             "#7201a8"
            ],
            [
             0.3333333333333333,
             "#9c179e"
            ],
            [
             0.4444444444444444,
             "#bd3786"
            ],
            [
             0.5555555555555556,
             "#d8576b"
            ],
            [
             0.6666666666666666,
             "#ed7953"
            ],
            [
             0.7777777777777778,
             "#fb9f3a"
            ],
            [
             0.8888888888888888,
             "#fdca26"
            ],
            [
             1,
             "#f0f921"
            ]
           ],
           "sequentialminus": [
            [
             0,
             "#0d0887"
            ],
            [
             0.1111111111111111,
             "#46039f"
            ],
            [
             0.2222222222222222,
             "#7201a8"
            ],
            [
             0.3333333333333333,
             "#9c179e"
            ],
            [
             0.4444444444444444,
             "#bd3786"
            ],
            [
             0.5555555555555556,
             "#d8576b"
            ],
            [
             0.6666666666666666,
             "#ed7953"
            ],
            [
             0.7777777777777778,
             "#fb9f3a"
            ],
            [
             0.8888888888888888,
             "#fdca26"
            ],
            [
             1,
             "#f0f921"
            ]
           ]
          },
          "colorway": [
           "#636efa",
           "#EF553B",
           "#00cc96",
           "#ab63fa",
           "#FFA15A",
           "#19d3f3",
           "#FF6692",
           "#B6E880",
           "#FF97FF",
           "#FECB52"
          ],
          "font": {
           "color": "#2a3f5f"
          },
          "geo": {
           "bgcolor": "white",
           "lakecolor": "white",
           "landcolor": "#E5ECF6",
           "showlakes": true,
           "showland": true,
           "subunitcolor": "white"
          },
          "hoverlabel": {
           "align": "left"
          },
          "hovermode": "closest",
          "mapbox": {
           "style": "light"
          },
          "paper_bgcolor": "white",
          "plot_bgcolor": "#E5ECF6",
          "polar": {
           "angularaxis": {
            "gridcolor": "white",
            "linecolor": "white",
            "ticks": ""
           },
           "bgcolor": "#E5ECF6",
           "radialaxis": {
            "gridcolor": "white",
            "linecolor": "white",
            "ticks": ""
           }
          },
          "scene": {
           "xaxis": {
            "backgroundcolor": "#E5ECF6",
            "gridcolor": "white",
            "gridwidth": 2,
            "linecolor": "white",
            "showbackground": true,
            "ticks": "",
            "zerolinecolor": "white"
           },
           "yaxis": {
            "backgroundcolor": "#E5ECF6",
            "gridcolor": "white",
            "gridwidth": 2,
            "linecolor": "white",
            "showbackground": true,
            "ticks": "",
            "zerolinecolor": "white"
           },
           "zaxis": {
            "backgroundcolor": "#E5ECF6",
            "gridcolor": "white",
            "gridwidth": 2,
            "linecolor": "white",
            "showbackground": true,
            "ticks": "",
            "zerolinecolor": "white"
           }
          },
          "shapedefaults": {
           "line": {
            "color": "#2a3f5f"
           }
          },
          "ternary": {
           "aaxis": {
            "gridcolor": "white",
            "linecolor": "white",
            "ticks": ""
           },
           "baxis": {
            "gridcolor": "white",
            "linecolor": "white",
            "ticks": ""
           },
           "bgcolor": "#E5ECF6",
           "caxis": {
            "gridcolor": "white",
            "linecolor": "white",
            "ticks": ""
           }
          },
          "title": {
           "x": 0.05
          },
          "xaxis": {
           "automargin": true,
           "gridcolor": "white",
           "linecolor": "white",
           "ticks": "",
           "title": {
            "standoff": 15
           },
           "zerolinecolor": "white",
           "zerolinewidth": 2
          },
          "yaxis": {
           "automargin": true,
           "gridcolor": "white",
           "linecolor": "white",
           "ticks": "",
           "title": {
            "standoff": 15
           },
           "zerolinecolor": "white",
           "zerolinewidth": 2
          }
         }
        },
        "title": {
         "text": "Reporte para 288 configuraciones de parámetros",
         "x": 0,
         "xref": "paper"
        },
        "xaxis": {
         "anchor": "y",
         "domain": [
          0,
          0.94
         ],
         "title": {
          "text": "ranking"
         }
        },
        "yaxis": {
         "anchor": "x",
         "domain": [
          0,
          1
         ],
         "title": {
          "text": "Mean test score"
         }
        },
        "yaxis2": {
         "anchor": "x",
         "overlaying": "y",
         "side": "right",
         "title": {
          "text": "Std test score"
         }
        }
       }
      },
      "text/html": [
       "<div>\n",
       "        \n",
       "        \n",
       "            <div id=\"fe4c9032-4a5f-44cb-ba2b-945b6599d465\" class=\"plotly-graph-div\" style=\"height:525px; width:100%;\"></div>\n",
       "            <script type=\"text/javascript\">\n",
       "                require([\"plotly\"], function(Plotly) {\n",
       "                    window.PLOTLYENV=window.PLOTLYENV || {};\n",
       "                    \n",
       "                if (document.getElementById(\"fe4c9032-4a5f-44cb-ba2b-945b6599d465\")) {\n",
       "                    Plotly.newPlot(\n",
       "                        'fe4c9032-4a5f-44cb-ba2b-945b6599d465',\n",
       "                        [{\"marker\": {\"color\": \"royalblue\"}, \"mode\": \"markers\", \"name\": \"Mean score\", \"text\": [\"{'criterion': 'gini', 'max_depth': 8, 'min_samples_leaf': 2, 'splitter': 'best'}\", \"{'criterion': 'gini', 'max_depth': 8, 'min_samples_leaf': 1, 'splitter': 'best'}\", \"{'criterion': 'gini', 'max_depth': 6, 'min_samples_leaf': 9, 'splitter': 'best'}\", \"{'criterion': 'entropy', 'max_depth': 12, 'min_samples_leaf': 1, 'splitter': 'random'}\", \"{'criterion': 'gini', 'max_depth': 10, 'min_samples_leaf': 1, 'splitter': 'random'}\", \"{'criterion': 'gini', 'max_depth': 8, 'min_samples_leaf': 1, 'splitter': 'random'}\", \"{'criterion': 'gini', 'max_depth': 8, 'min_samples_leaf': 3, 'splitter': 'best'}\", \"{'criterion': 'gini', 'max_depth': 4, 'min_samples_leaf': 7, 'splitter': 'best'}\", \"{'criterion': 'gini', 'max_depth': 4, 'min_samples_leaf': 9, 'splitter': 'best'}\", \"{'criterion': 'gini', 'max_depth': 8, 'min_samples_leaf': 4, 'splitter': 'best'}\", \"{'criterion': 'entropy', 'max_depth': 4, 'min_samples_leaf': 9, 'splitter': 'best'}\", \"{'criterion': 'gini', 'max_depth': 8, 'min_samples_leaf': 8, 'splitter': 'best'}\", \"{'criterion': 'gini', 'max_depth': 4, 'min_samples_leaf': 5, 'splitter': 'best'}\", \"{'criterion': 'gini', 'max_depth': 4, 'min_samples_leaf': 6, 'splitter': 'best'}\", \"{'criterion': 'gini', 'max_depth': 4, 'min_samples_leaf': 8, 'splitter': 'best'}\", \"{'criterion': 'entropy', 'max_depth': 4, 'min_samples_leaf': 7, 'splitter': 'best'}\", \"{'criterion': 'gini', 'max_depth': 8, 'min_samples_leaf': 9, 'splitter': 'best'}\", \"{'criterion': 'gini', 'max_depth': 4, 'min_samples_leaf': 2, 'splitter': 'best'}\", \"{'criterion': 'entropy', 'max_depth': 4, 'min_samples_leaf': 8, 'splitter': 'best'}\", \"{'criterion': 'entropy', 'max_depth': 4, 'min_samples_leaf': 3, 'splitter': 'best'}\", \"{'criterion': 'entropy', 'max_depth': 14, 'min_samples_leaf': 1, 'splitter': 'random'}\", \"{'criterion': 'entropy', 'max_depth': 16, 'min_samples_leaf': 1, 'splitter': 'random'}\", \"{'criterion': 'gini', 'max_depth': 6, 'min_samples_leaf': 8, 'splitter': 'best'}\", \"{'criterion': 'gini', 'max_depth': 6, 'min_samples_leaf': 7, 'splitter': 'best'}\", \"{'criterion': 'gini', 'max_depth': 4, 'min_samples_leaf': 1, 'splitter': 'best'}\", \"{'criterion': 'gini', 'max_depth': 14, 'min_samples_leaf': 1, 'splitter': 'random'}\", \"{'criterion': 'entropy', 'max_depth': 4, 'min_samples_leaf': 6, 'splitter': 'best'}\", \"{'criterion': 'entropy', 'max_depth': 4, 'min_samples_leaf': 1, 'splitter': 'best'}\", \"{'criterion': 'entropy', 'max_depth': 4, 'min_samples_leaf': 2, 'splitter': 'best'}\", \"{'criterion': 'entropy', 'max_depth': 4, 'min_samples_leaf': 4, 'splitter': 'best'}\", \"{'criterion': 'gini', 'max_depth': 6, 'min_samples_leaf': 1, 'splitter': 'best'}\", \"{'criterion': 'gini', 'max_depth': 4, 'min_samples_leaf': 3, 'splitter': 'best'}\", \"{'criterion': 'gini', 'max_depth': 4, 'min_samples_leaf': 4, 'splitter': 'best'}\", \"{'criterion': 'entropy', 'max_depth': 4, 'min_samples_leaf': 5, 'splitter': 'best'}\", \"{'criterion': 'gini', 'max_depth': 8, 'min_samples_leaf': 7, 'splitter': 'best'}\", \"{'criterion': 'entropy', 'max_depth': 8, 'min_samples_leaf': 2, 'splitter': 'best'}\", \"{'criterion': 'entropy', 'max_depth': 8, 'min_samples_leaf': 1, 'splitter': 'best'}\", \"{'criterion': 'gini', 'max_depth': 16, 'min_samples_leaf': 1, 'splitter': 'random'}\", \"{'criterion': 'entropy', 'max_depth': 18, 'min_samples_leaf': 2, 'splitter': 'random'}\", \"{'criterion': 'gini', 'max_depth': 8, 'min_samples_leaf': 6, 'splitter': 'best'}\", \"{'criterion': 'gini', 'max_depth': 6, 'min_samples_leaf': 2, 'splitter': 'best'}\", \"{'criterion': 'gini', 'max_depth': 6, 'min_samples_leaf': 3, 'splitter': 'best'}\", \"{'criterion': 'gini', 'max_depth': 8, 'min_samples_leaf': 6, 'splitter': 'random'}\", \"{'criterion': 'gini', 'max_depth': 6, 'min_samples_leaf': 1, 'splitter': 'random'}\", \"{'criterion': 'gini', 'max_depth': 12, 'min_samples_leaf': 1, 'splitter': 'random'}\", \"{'criterion': 'gini', 'max_depth': 10, 'min_samples_leaf': 2, 'splitter': 'random'}\", \"{'criterion': 'gini', 'max_depth': 14, 'min_samples_leaf': 3, 'splitter': 'best'}\", \"{'criterion': 'gini', 'max_depth': 10, 'min_samples_leaf': 8, 'splitter': 'best'}\", \"{'criterion': 'gini', 'max_depth': 8, 'min_samples_leaf': 5, 'splitter': 'best'}\", \"{'criterion': 'gini', 'max_depth': 6, 'min_samples_leaf': 6, 'splitter': 'best'}\", \"{'criterion': 'entropy', 'max_depth': 6, 'min_samples_leaf': 9, 'splitter': 'best'}\", \"{'criterion': 'entropy', 'max_depth': 6, 'min_samples_leaf': 1, 'splitter': 'best'}\", \"{'criterion': 'gini', 'max_depth': 16, 'min_samples_leaf': 2, 'splitter': 'random'}\", \"{'criterion': 'gini', 'max_depth': 8, 'min_samples_leaf': 5, 'splitter': 'random'}\", \"{'criterion': 'gini', 'max_depth': 12, 'min_samples_leaf': 2, 'splitter': 'random'}\", \"{'criterion': 'gini', 'max_depth': 12, 'min_samples_leaf': 3, 'splitter': 'best'}\", \"{'criterion': 'entropy', 'max_depth': 14, 'min_samples_leaf': 2, 'splitter': 'random'}\", \"{'criterion': 'gini', 'max_depth': 10, 'min_samples_leaf': 6, 'splitter': 'best'}\", \"{'criterion': 'entropy', 'max_depth': 8, 'min_samples_leaf': 1, 'splitter': 'random'}\", \"{'criterion': 'entropy', 'max_depth': 6, 'min_samples_leaf': 2, 'splitter': 'best'}\", \"{'criterion': 'entropy', 'max_depth': 6, 'min_samples_leaf': 3, 'splitter': 'best'}\", \"{'criterion': 'entropy', 'max_depth': 10, 'min_samples_leaf': 1, 'splitter': 'random'}\", \"{'criterion': 'entropy', 'max_depth': 8, 'min_samples_leaf': 8, 'splitter': 'best'}\", \"{'criterion': 'gini', 'max_depth': 12, 'min_samples_leaf': 4, 'splitter': 'best'}\", \"{'criterion': 'gini', 'max_depth': 10, 'min_samples_leaf': 7, 'splitter': 'best'}\", \"{'criterion': 'entropy', 'max_depth': 8, 'min_samples_leaf': 3, 'splitter': 'best'}\", \"{'criterion': 'gini', 'max_depth': 6, 'min_samples_leaf': 4, 'splitter': 'best'}\", \"{'criterion': 'gini', 'max_depth': 10, 'min_samples_leaf': 1, 'splitter': 'best'}\", \"{'criterion': 'gini', 'max_depth': 16, 'min_samples_leaf': 4, 'splitter': 'best'}\", \"{'criterion': 'gini', 'max_depth': 10, 'min_samples_leaf': 5, 'splitter': 'best'}\", \"{'criterion': 'entropy', 'max_depth': 12, 'min_samples_leaf': 2, 'splitter': 'random'}\", \"{'criterion': 'entropy', 'max_depth': 10, 'min_samples_leaf': 2, 'splitter': 'random'}\", \"{'criterion': 'entropy', 'max_depth': 6, 'min_samples_leaf': 8, 'splitter': 'best'}\", \"{'criterion': 'entropy', 'max_depth': 6, 'min_samples_leaf': 4, 'splitter': 'best'}\", \"{'criterion': 'entropy', 'max_depth': 6, 'min_samples_leaf': 1, 'splitter': 'random'}\", \"{'criterion': 'entropy', 'max_depth': 14, 'min_samples_leaf': 4, 'splitter': 'random'}\", \"{'criterion': 'gini', 'max_depth': 10, 'min_samples_leaf': 9, 'splitter': 'best'}\", \"{'criterion': 'entropy', 'max_depth': 8, 'min_samples_leaf': 3, 'splitter': 'random'}\", \"{'criterion': 'gini', 'max_depth': 12, 'min_samples_leaf': 1, 'splitter': 'best'}\", \"{'criterion': 'entropy', 'max_depth': 16, 'min_samples_leaf': 2, 'splitter': 'random'}\", \"{'criterion': 'gini', 'max_depth': 12, 'min_samples_leaf': 2, 'splitter': 'best'}\", \"{'criterion': 'gini', 'max_depth': 8, 'min_samples_leaf': 3, 'splitter': 'random'}\", \"{'criterion': 'entropy', 'max_depth': 6, 'min_samples_leaf': 5, 'splitter': 'best'}\", \"{'criterion': 'gini', 'max_depth': 6, 'min_samples_leaf': 5, 'splitter': 'best'}\", \"{'criterion': 'gini', 'max_depth': 10, 'min_samples_leaf': 2, 'splitter': 'best'}\", \"{'criterion': 'gini', 'max_depth': 10, 'min_samples_leaf': 3, 'splitter': 'best'}\", \"{'criterion': 'entropy', 'max_depth': 6, 'min_samples_leaf': 6, 'splitter': 'best'}\", \"{'criterion': 'gini', 'max_depth': 12, 'min_samples_leaf': 8, 'splitter': 'best'}\", \"{'criterion': 'gini', 'max_depth': 18, 'min_samples_leaf': 4, 'splitter': 'best'}\", \"{'criterion': 'entropy', 'max_depth': 12, 'min_samples_leaf': 3, 'splitter': 'random'}\", \"{'criterion': 'entropy', 'max_depth': 8, 'min_samples_leaf': 6, 'splitter': 'best'}\", \"{'criterion': 'entropy', 'max_depth': 8, 'min_samples_leaf': 5, 'splitter': 'random'}\", \"{'criterion': 'gini', 'max_depth': 12, 'min_samples_leaf': 9, 'splitter': 'best'}\", \"{'criterion': 'entropy', 'max_depth': 8, 'min_samples_leaf': 9, 'splitter': 'best'}\", \"{'criterion': 'gini', 'max_depth': 16, 'min_samples_leaf': 3, 'splitter': 'best'}\", \"{'criterion': 'entropy', 'max_depth': 8, 'min_samples_leaf': 4, 'splitter': 'best'}\", \"{'criterion': 'entropy', 'max_depth': 10, 'min_samples_leaf': 2, 'splitter': 'best'}\", \"{'criterion': 'entropy', 'max_depth': 6, 'min_samples_leaf': 7, 'splitter': 'best'}\", \"{'criterion': 'gini', 'max_depth': 18, 'min_samples_leaf': 2, 'splitter': 'random'}\", \"{'criterion': 'gini', 'max_depth': 8, 'min_samples_leaf': 4, 'splitter': 'random'}\", \"{'criterion': 'gini', 'max_depth': 14, 'min_samples_leaf': 4, 'splitter': 'best'}\", \"{'criterion': 'entropy', 'max_depth': 8, 'min_samples_leaf': 5, 'splitter': 'best'}\", \"{'criterion': 'gini', 'max_depth': 10, 'min_samples_leaf': 4, 'splitter': 'best'}\", \"{'criterion': 'entropy', 'max_depth': 8, 'min_samples_leaf': 7, 'splitter': 'best'}\", \"{'criterion': 'gini', 'max_depth': 18, 'min_samples_leaf': 3, 'splitter': 'best'}\", \"{'criterion': 'entropy', 'max_depth': 8, 'min_samples_leaf': 6, 'splitter': 'random'}\", \"{'criterion': 'gini', 'max_depth': 10, 'min_samples_leaf': 7, 'splitter': 'random'}\", \"{'criterion': 'entropy', 'max_depth': 10, 'min_samples_leaf': 1, 'splitter': 'best'}\", \"{'criterion': 'gini', 'max_depth': 4, 'min_samples_leaf': 2, 'splitter': 'random'}\", \"{'criterion': 'gini', 'max_depth': 6, 'min_samples_leaf': 4, 'splitter': 'random'}\", \"{'criterion': 'gini', 'max_depth': 4, 'min_samples_leaf': 7, 'splitter': 'random'}\", \"{'criterion': 'gini', 'max_depth': 12, 'min_samples_leaf': 6, 'splitter': 'best'}\", \"{'criterion': 'gini', 'max_depth': 18, 'min_samples_leaf': 5, 'splitter': 'random'}\", \"{'criterion': 'gini', 'max_depth': 16, 'min_samples_leaf': 4, 'splitter': 'random'}\", \"{'criterion': 'gini', 'max_depth': 8, 'min_samples_leaf': 2, 'splitter': 'random'}\", \"{'criterion': 'gini', 'max_depth': 4, 'min_samples_leaf': 1, 'splitter': 'random'}\", \"{'criterion': 'gini', 'max_depth': 4, 'min_samples_leaf': 3, 'splitter': 'random'}\", \"{'criterion': 'gini', 'max_depth': 12, 'min_samples_leaf': 7, 'splitter': 'best'}\", \"{'criterion': 'gini', 'max_depth': 12, 'min_samples_leaf': 7, 'splitter': 'random'}\", \"{'criterion': 'entropy', 'max_depth': 8, 'min_samples_leaf': 2, 'splitter': 'random'}\", \"{'criterion': 'entropy', 'max_depth': 6, 'min_samples_leaf': 2, 'splitter': 'random'}\", \"{'criterion': 'gini', 'max_depth': 16, 'min_samples_leaf': 2, 'splitter': 'best'}\", \"{'criterion': 'gini', 'max_depth': 4, 'min_samples_leaf': 8, 'splitter': 'random'}\", \"{'criterion': 'entropy', 'max_depth': 4, 'min_samples_leaf': 1, 'splitter': 'random'}\", \"{'criterion': 'entropy', 'max_depth': 4, 'min_samples_leaf': 2, 'splitter': 'random'}\", \"{'criterion': 'entropy', 'max_depth': 4, 'min_samples_leaf': 7, 'splitter': 'random'}\", \"{'criterion': 'gini', 'max_depth': 14, 'min_samples_leaf': 2, 'splitter': 'random'}\", \"{'criterion': 'gini', 'max_depth': 6, 'min_samples_leaf': 3, 'splitter': 'random'}\", \"{'criterion': 'gini', 'max_depth': 4, 'min_samples_leaf': 6, 'splitter': 'random'}\", \"{'criterion': 'entropy', 'max_depth': 4, 'min_samples_leaf': 3, 'splitter': 'random'}\", \"{'criterion': 'entropy', 'max_depth': 6, 'min_samples_leaf': 7, 'splitter': 'random'}\", \"{'criterion': 'gini', 'max_depth': 14, 'min_samples_leaf': 8, 'splitter': 'best'}\", \"{'criterion': 'entropy', 'max_depth': 4, 'min_samples_leaf': 8, 'splitter': 'random'}\", \"{'criterion': 'gini', 'max_depth': 16, 'min_samples_leaf': 8, 'splitter': 'random'}\", \"{'criterion': 'gini', 'max_depth': 14, 'min_samples_leaf': 6, 'splitter': 'best'}\", \"{'criterion': 'gini', 'max_depth': 14, 'min_samples_leaf': 9, 'splitter': 'best'}\", \"{'criterion': 'gini', 'max_depth': 16, 'min_samples_leaf': 9, 'splitter': 'best'}\", \"{'criterion': 'gini', 'max_depth': 14, 'min_samples_leaf': 7, 'splitter': 'random'}\", \"{'criterion': 'gini', 'max_depth': 6, 'min_samples_leaf': 2, 'splitter': 'random'}\", \"{'criterion': 'entropy', 'max_depth': 16, 'min_samples_leaf': 3, 'splitter': 'random'}\", \"{'criterion': 'entropy', 'max_depth': 18, 'min_samples_leaf': 1, 'splitter': 'random'}\", \"{'criterion': 'gini', 'max_depth': 4, 'min_samples_leaf': 4, 'splitter': 'random'}\", \"{'criterion': 'gini', 'max_depth': 4, 'min_samples_leaf': 5, 'splitter': 'random'}\", \"{'criterion': 'entropy', 'max_depth': 4, 'min_samples_leaf': 6, 'splitter': 'random'}\", \"{'criterion': 'gini', 'max_depth': 16, 'min_samples_leaf': 5, 'splitter': 'random'}\", \"{'criterion': 'entropy', 'max_depth': 6, 'min_samples_leaf': 8, 'splitter': 'random'}\", \"{'criterion': 'gini', 'max_depth': 14, 'min_samples_leaf': 2, 'splitter': 'best'}\", \"{'criterion': 'gini', 'max_depth': 16, 'min_samples_leaf': 8, 'splitter': 'best'}\", \"{'criterion': 'gini', 'max_depth': 14, 'min_samples_leaf': 5, 'splitter': 'best'}\", \"{'criterion': 'entropy', 'max_depth': 4, 'min_samples_leaf': 4, 'splitter': 'random'}\", \"{'criterion': 'entropy', 'max_depth': 4, 'min_samples_leaf': 5, 'splitter': 'random'}\", \"{'criterion': 'gini', 'max_depth': 12, 'min_samples_leaf': 5, 'splitter': 'best'}\", \"{'criterion': 'gini', 'max_depth': 16, 'min_samples_leaf': 7, 'splitter': 'best'}\", \"{'criterion': 'gini', 'max_depth': 10, 'min_samples_leaf': 3, 'splitter': 'random'}\", \"{'criterion': 'entropy', 'max_depth': 8, 'min_samples_leaf': 9, 'splitter': 'random'}\", \"{'criterion': 'entropy', 'max_depth': 8, 'min_samples_leaf': 4, 'splitter': 'random'}\", \"{'criterion': 'entropy', 'max_depth': 14, 'min_samples_leaf': 6, 'splitter': 'random'}\", \"{'criterion': 'gini', 'max_depth': 14, 'min_samples_leaf': 7, 'splitter': 'best'}\", \"{'criterion': 'entropy', 'max_depth': 14, 'min_samples_leaf': 3, 'splitter': 'random'}\", \"{'criterion': 'entropy', 'max_depth': 10, 'min_samples_leaf': 3, 'splitter': 'random'}\", \"{'criterion': 'entropy', 'max_depth': 8, 'min_samples_leaf': 7, 'splitter': 'random'}\", \"{'criterion': 'gini', 'max_depth': 18, 'min_samples_leaf': 2, 'splitter': 'best'}\", \"{'criterion': 'entropy', 'max_depth': 6, 'min_samples_leaf': 4, 'splitter': 'random'}\", \"{'criterion': 'gini', 'max_depth': 12, 'min_samples_leaf': 5, 'splitter': 'random'}\", \"{'criterion': 'entropy', 'max_depth': 10, 'min_samples_leaf': 3, 'splitter': 'best'}\", \"{'criterion': 'entropy', 'max_depth': 12, 'min_samples_leaf': 2, 'splitter': 'best'}\", \"{'criterion': 'entropy', 'max_depth': 6, 'min_samples_leaf': 5, 'splitter': 'random'}\", \"{'criterion': 'gini', 'max_depth': 16, 'min_samples_leaf': 6, 'splitter': 'best'}\", \"{'criterion': 'entropy', 'max_depth': 18, 'min_samples_leaf': 4, 'splitter': 'random'}\", \"{'criterion': 'gini', 'max_depth': 8, 'min_samples_leaf': 7, 'splitter': 'random'}\", \"{'criterion': 'gini', 'max_depth': 12, 'min_samples_leaf': 3, 'splitter': 'random'}\", \"{'criterion': 'gini', 'max_depth': 4, 'min_samples_leaf': 9, 'splitter': 'random'}\", \"{'criterion': 'entropy', 'max_depth': 6, 'min_samples_leaf': 9, 'splitter': 'random'}\", \"{'criterion': 'entropy', 'max_depth': 14, 'min_samples_leaf': 7, 'splitter': 'random'}\", \"{'criterion': 'gini', 'max_depth': 18, 'min_samples_leaf': 1, 'splitter': 'random'}\", \"{'criterion': 'gini', 'max_depth': 6, 'min_samples_leaf': 5, 'splitter': 'random'}\", \"{'criterion': 'entropy', 'max_depth': 10, 'min_samples_leaf': 8, 'splitter': 'best'}\", \"{'criterion': 'gini', 'max_depth': 18, 'min_samples_leaf': 8, 'splitter': 'best'}\", \"{'criterion': 'entropy', 'max_depth': 16, 'min_samples_leaf': 6, 'splitter': 'random'}\", \"{'criterion': 'entropy', 'max_depth': 12, 'min_samples_leaf': 1, 'splitter': 'best'}\", \"{'criterion': 'entropy', 'max_depth': 10, 'min_samples_leaf': 7, 'splitter': 'random'}\", \"{'criterion': 'gini', 'max_depth': 14, 'min_samples_leaf': 1, 'splitter': 'best'}\", \"{'criterion': 'entropy', 'max_depth': 4, 'min_samples_leaf': 9, 'splitter': 'random'}\", \"{'criterion': 'gini', 'max_depth': 18, 'min_samples_leaf': 1, 'splitter': 'best'}\", \"{'criterion': 'entropy', 'max_depth': 18, 'min_samples_leaf': 9, 'splitter': 'random'}\", \"{'criterion': 'entropy', 'max_depth': 6, 'min_samples_leaf': 6, 'splitter': 'random'}\", \"{'criterion': 'gini', 'max_depth': 14, 'min_samples_leaf': 8, 'splitter': 'random'}\", \"{'criterion': 'gini', 'max_depth': 18, 'min_samples_leaf': 7, 'splitter': 'best'}\", \"{'criterion': 'gini', 'max_depth': 18, 'min_samples_leaf': 6, 'splitter': 'best'}\", \"{'criterion': 'entropy', 'max_depth': 12, 'min_samples_leaf': 8, 'splitter': 'random'}\", \"{'criterion': 'entropy', 'max_depth': 10, 'min_samples_leaf': 6, 'splitter': 'best'}\", \"{'criterion': 'gini', 'max_depth': 6, 'min_samples_leaf': 8, 'splitter': 'random'}\", \"{'criterion': 'gini', 'max_depth': 12, 'min_samples_leaf': 8, 'splitter': 'random'}\", \"{'criterion': 'gini', 'max_depth': 18, 'min_samples_leaf': 8, 'splitter': 'random'}\", \"{'criterion': 'gini', 'max_depth': 6, 'min_samples_leaf': 7, 'splitter': 'random'}\", \"{'criterion': 'gini', 'max_depth': 16, 'min_samples_leaf': 1, 'splitter': 'best'}\", \"{'criterion': 'entropy', 'max_depth': 16, 'min_samples_leaf': 7, 'splitter': 'random'}\", \"{'criterion': 'gini', 'max_depth': 18, 'min_samples_leaf': 9, 'splitter': 'best'}\", \"{'criterion': 'entropy', 'max_depth': 16, 'min_samples_leaf': 4, 'splitter': 'random'}\", \"{'criterion': 'entropy', 'max_depth': 6, 'min_samples_leaf': 3, 'splitter': 'random'}\", \"{'criterion': 'gini', 'max_depth': 8, 'min_samples_leaf': 8, 'splitter': 'random'}\", \"{'criterion': 'entropy', 'max_depth': 12, 'min_samples_leaf': 8, 'splitter': 'best'}\", \"{'criterion': 'entropy', 'max_depth': 14, 'min_samples_leaf': 8, 'splitter': 'best'}\", \"{'criterion': 'gini', 'max_depth': 6, 'min_samples_leaf': 6, 'splitter': 'random'}\", \"{'criterion': 'gini', 'max_depth': 18, 'min_samples_leaf': 5, 'splitter': 'best'}\", \"{'criterion': 'entropy', 'max_depth': 10, 'min_samples_leaf': 6, 'splitter': 'random'}\", \"{'criterion': 'entropy', 'max_depth': 10, 'min_samples_leaf': 4, 'splitter': 'best'}\", \"{'criterion': 'entropy', 'max_depth': 12, 'min_samples_leaf': 6, 'splitter': 'random'}\", \"{'criterion': 'entropy', 'max_depth': 14, 'min_samples_leaf': 2, 'splitter': 'best'}\", \"{'criterion': 'entropy', 'max_depth': 18, 'min_samples_leaf': 2, 'splitter': 'best'}\", \"{'criterion': 'entropy', 'max_depth': 10, 'min_samples_leaf': 8, 'splitter': 'random'}\", \"{'criterion': 'gini', 'max_depth': 12, 'min_samples_leaf': 6, 'splitter': 'random'}\", \"{'criterion': 'entropy', 'max_depth': 8, 'min_samples_leaf': 8, 'splitter': 'random'}\", \"{'criterion': 'entropy', 'max_depth': 18, 'min_samples_leaf': 5, 'splitter': 'random'}\", \"{'criterion': 'entropy', 'max_depth': 10, 'min_samples_leaf': 9, 'splitter': 'best'}\", \"{'criterion': 'gini', 'max_depth': 18, 'min_samples_leaf': 7, 'splitter': 'random'}\", \"{'criterion': 'gini', 'max_depth': 10, 'min_samples_leaf': 4, 'splitter': 'random'}\", \"{'criterion': 'entropy', 'max_depth': 10, 'min_samples_leaf': 7, 'splitter': 'best'}\", \"{'criterion': 'gini', 'max_depth': 10, 'min_samples_leaf': 8, 'splitter': 'random'}\", \"{'criterion': 'gini', 'max_depth': 6, 'min_samples_leaf': 9, 'splitter': 'random'}\", \"{'criterion': 'entropy', 'max_depth': 14, 'min_samples_leaf': 1, 'splitter': 'best'}\", \"{'criterion': 'entropy', 'max_depth': 16, 'min_samples_leaf': 5, 'splitter': 'random'}\", \"{'criterion': 'entropy', 'max_depth': 14, 'min_samples_leaf': 5, 'splitter': 'random'}\", \"{'criterion': 'entropy', 'max_depth': 16, 'min_samples_leaf': 8, 'splitter': 'best'}\", \"{'criterion': 'entropy', 'max_depth': 12, 'min_samples_leaf': 7, 'splitter': 'random'}\", \"{'criterion': 'gini', 'max_depth': 12, 'min_samples_leaf': 9, 'splitter': 'random'}\", \"{'criterion': 'gini', 'max_depth': 14, 'min_samples_leaf': 3, 'splitter': 'random'}\", \"{'criterion': 'entropy', 'max_depth': 18, 'min_samples_leaf': 3, 'splitter': 'random'}\", \"{'criterion': 'entropy', 'max_depth': 16, 'min_samples_leaf': 2, 'splitter': 'best'}\", \"{'criterion': 'entropy', 'max_depth': 12, 'min_samples_leaf': 4, 'splitter': 'best'}\", \"{'criterion': 'entropy', 'max_depth': 18, 'min_samples_leaf': 7, 'splitter': 'random'}\", \"{'criterion': 'entropy', 'max_depth': 18, 'min_samples_leaf': 8, 'splitter': 'best'}\", \"{'criterion': 'entropy', 'max_depth': 12, 'min_samples_leaf': 5, 'splitter': 'random'}\", \"{'criterion': 'gini', 'max_depth': 12, 'min_samples_leaf': 4, 'splitter': 'random'}\", \"{'criterion': 'gini', 'max_depth': 10, 'min_samples_leaf': 9, 'splitter': 'random'}\", \"{'criterion': 'entropy', 'max_depth': 14, 'min_samples_leaf': 8, 'splitter': 'random'}\", \"{'criterion': 'gini', 'max_depth': 16, 'min_samples_leaf': 3, 'splitter': 'random'}\", \"{'criterion': 'entropy', 'max_depth': 10, 'min_samples_leaf': 4, 'splitter': 'random'}\", \"{'criterion': 'entropy', 'max_depth': 16, 'min_samples_leaf': 1, 'splitter': 'best'}\", \"{'criterion': 'entropy', 'max_depth': 18, 'min_samples_leaf': 1, 'splitter': 'best'}\", \"{'criterion': 'gini', 'max_depth': 10, 'min_samples_leaf': 6, 'splitter': 'random'}\", \"{'criterion': 'entropy', 'max_depth': 12, 'min_samples_leaf': 7, 'splitter': 'best'}\", \"{'criterion': 'entropy', 'max_depth': 14, 'min_samples_leaf': 7, 'splitter': 'best'}\", \"{'criterion': 'gini', 'max_depth': 18, 'min_samples_leaf': 6, 'splitter': 'random'}\", \"{'criterion': 'gini', 'max_depth': 14, 'min_samples_leaf': 6, 'splitter': 'random'}\", \"{'criterion': 'entropy', 'max_depth': 10, 'min_samples_leaf': 5, 'splitter': 'random'}\", \"{'criterion': 'gini', 'max_depth': 16, 'min_samples_leaf': 5, 'splitter': 'best'}\", \"{'criterion': 'gini', 'max_depth': 8, 'min_samples_leaf': 9, 'splitter': 'random'}\", \"{'criterion': 'entropy', 'max_depth': 10, 'min_samples_leaf': 5, 'splitter': 'best'}\", \"{'criterion': 'entropy', 'max_depth': 14, 'min_samples_leaf': 6, 'splitter': 'best'}\", \"{'criterion': 'gini', 'max_depth': 14, 'min_samples_leaf': 4, 'splitter': 'random'}\", \"{'criterion': 'entropy', 'max_depth': 12, 'min_samples_leaf': 3, 'splitter': 'best'}\", \"{'criterion': 'gini', 'max_depth': 18, 'min_samples_leaf': 3, 'splitter': 'random'}\", \"{'criterion': 'entropy', 'max_depth': 18, 'min_samples_leaf': 6, 'splitter': 'random'}\", \"{'criterion': 'entropy', 'max_depth': 16, 'min_samples_leaf': 6, 'splitter': 'best'}\", \"{'criterion': 'gini', 'max_depth': 18, 'min_samples_leaf': 9, 'splitter': 'random'}\", \"{'criterion': 'entropy', 'max_depth': 12, 'min_samples_leaf': 9, 'splitter': 'best'}\", \"{'criterion': 'entropy', 'max_depth': 14, 'min_samples_leaf': 9, 'splitter': 'best'}\", \"{'criterion': 'gini', 'max_depth': 16, 'min_samples_leaf': 7, 'splitter': 'random'}\", \"{'criterion': 'gini', 'max_depth': 18, 'min_samples_leaf': 4, 'splitter': 'random'}\", \"{'criterion': 'entropy', 'max_depth': 12, 'min_samples_leaf': 6, 'splitter': 'best'}\", \"{'criterion': 'entropy', 'max_depth': 14, 'min_samples_leaf': 3, 'splitter': 'best'}\", \"{'criterion': 'entropy', 'max_depth': 16, 'min_samples_leaf': 8, 'splitter': 'random'}\", \"{'criterion': 'gini', 'max_depth': 16, 'min_samples_leaf': 6, 'splitter': 'random'}\", \"{'criterion': 'entropy', 'max_depth': 12, 'min_samples_leaf': 4, 'splitter': 'random'}\", \"{'criterion': 'entropy', 'max_depth': 16, 'min_samples_leaf': 9, 'splitter': 'best'}\", \"{'criterion': 'entropy', 'max_depth': 18, 'min_samples_leaf': 6, 'splitter': 'best'}\", \"{'criterion': 'entropy', 'max_depth': 10, 'min_samples_leaf': 9, 'splitter': 'random'}\", \"{'criterion': 'gini', 'max_depth': 14, 'min_samples_leaf': 9, 'splitter': 'random'}\", \"{'criterion': 'entropy', 'max_depth': 14, 'min_samples_leaf': 4, 'splitter': 'best'}\", \"{'criterion': 'entropy', 'max_depth': 16, 'min_samples_leaf': 7, 'splitter': 'best'}\", \"{'criterion': 'entropy', 'max_depth': 18, 'min_samples_leaf': 9, 'splitter': 'best'}\", \"{'criterion': 'entropy', 'max_depth': 14, 'min_samples_leaf': 9, 'splitter': 'random'}\", \"{'criterion': 'entropy', 'max_depth': 16, 'min_samples_leaf': 4, 'splitter': 'best'}\", \"{'criterion': 'entropy', 'max_depth': 16, 'min_samples_leaf': 3, 'splitter': 'best'}\", \"{'criterion': 'entropy', 'max_depth': 18, 'min_samples_leaf': 8, 'splitter': 'random'}\", \"{'criterion': 'gini', 'max_depth': 16, 'min_samples_leaf': 9, 'splitter': 'random'}\", \"{'criterion': 'entropy', 'max_depth': 16, 'min_samples_leaf': 9, 'splitter': 'random'}\", \"{'criterion': 'entropy', 'max_depth': 18, 'min_samples_leaf': 4, 'splitter': 'best'}\", \"{'criterion': 'entropy', 'max_depth': 18, 'min_samples_leaf': 7, 'splitter': 'best'}\", \"{'criterion': 'entropy', 'max_depth': 12, 'min_samples_leaf': 9, 'splitter': 'random'}\", \"{'criterion': 'gini', 'max_depth': 14, 'min_samples_leaf': 5, 'splitter': 'random'}\", \"{'criterion': 'entropy', 'max_depth': 18, 'min_samples_leaf': 3, 'splitter': 'best'}\", \"{'criterion': 'entropy', 'max_depth': 12, 'min_samples_leaf': 5, 'splitter': 'best'}\", \"{'criterion': 'entropy', 'max_depth': 14, 'min_samples_leaf': 5, 'splitter': 'best'}\", \"{'criterion': 'gini', 'max_depth': 10, 'min_samples_leaf': 5, 'splitter': 'random'}\", \"{'criterion': 'entropy', 'max_depth': 16, 'min_samples_leaf': 5, 'splitter': 'best'}\", \"{'criterion': 'entropy', 'max_depth': 18, 'min_samples_leaf': 5, 'splitter': 'best'}\"], \"type\": \"scatter\", \"x\": [0, 1, 2, 3, 4, 5, 6, 7, 8, 9, 10, 11, 12, 13, 14, 15, 16, 17, 18, 19, 20, 21, 22, 23, 24, 25, 26, 27, 28, 29, 30, 31, 32, 33, 34, 35, 36, 37, 38, 39, 40, 41, 42, 43, 44, 45, 46, 47, 48, 49, 50, 51, 52, 53, 54, 55, 56, 57, 58, 59, 60, 61, 62, 63, 64, 65, 66, 67, 68, 69, 70, 71, 72, 73, 74, 75, 76, 77, 78, 79, 80, 81, 82, 83, 84, 85, 86, 87, 88, 89, 90, 91, 92, 93, 94, 95, 96, 97, 98, 99, 100, 101, 102, 103, 104, 105, 106, 107, 108, 109, 110, 111, 112, 113, 114, 115, 116, 117, 118, 119, 120, 121, 122, 123, 124, 125, 126, 127, 128, 129, 130, 131, 132, 133, 134, 135, 136, 137, 138, 139, 140, 141, 142, 143, 144, 145, 146, 147, 148, 149, 150, 151, 152, 153, 154, 155, 156, 157, 158, 159, 160, 161, 162, 163, 164, 165, 166, 167, 168, 169, 170, 171, 172, 173, 174, 175, 176, 177, 178, 179, 180, 181, 182, 183, 184, 185, 186, 187, 188, 189, 190, 191, 192, 193, 194, 195, 196, 197, 198, 199, 200, 201, 202, 203, 204, 205, 206, 207, 208, 209, 210, 211, 212, 213, 214, 215, 216, 217, 218, 219, 220, 221, 222, 223, 224, 225, 226, 227, 228, 229, 230, 231, 232, 233, 234, 235, 236, 237, 238, 239, 240, 241, 242, 243, 244, 245, 246, 247, 248, 249, 250, 251, 252, 253, 254, 255, 256, 257, 258, 259, 260, 261, 262, 263, 264, 265, 266, 267, 268, 269, 270, 271, 272, 273, 274, 275, 276, 277, 278, 279, 280, 281, 282, 283, 284, 285, 286, 287], \"y\": [0.8764901289429592, 0.8759510453850077, 0.875409047861878, 0.8748655933561593, 0.874327966780797, 0.8743250528156189, 0.8737961681357908, 0.8732585415604284, 0.8732585415604284, 0.8732570845778393, 0.8732541706126611, 0.8732512566474832, 0.8721803744445253, 0.8721803744445253, 0.8721803744445253, 0.8721760034967583, 0.8721672616012238, 0.871644204851752, 0.8716369199388068, 0.8716354629562177, 0.8711022073286223, 0.8710920084504992, 0.8710876375027319, 0.8710847235375537, 0.8705631237706708, 0.8705616667880818, 0.8705587528229037, 0.8705572958403147, 0.8705572958403147, 0.8705572958403147, 0.8705543818751366, 0.8700269541778975, 0.869487870619946, 0.8694791287244117, 0.8694762147592335, 0.8694718438114665, 0.8694718438114665, 0.869463101915932, 0.868937131201282, 0.8689342172361041, 0.8689342172361041, 0.8689342172361041, 0.8684038755736869, 0.8684024185910978, 0.8683965906607417, 0.8683936766955636, 0.8678677059809135, 0.8678618780505574, 0.867854593137612, 0.867850222189845, 0.8678502221898448, 0.8678487652072558, 0.8678443942594886, 0.8673213375100168, 0.8673155095796605, 0.8667851679172435, 0.8667778830042983, 0.866777883004298, 0.8667720550739417, 0.8667705980913528, 0.8667705980913528, 0.8657026298535732, 0.8657026298535732, 0.8657026298535732, 0.8657011728709841, 0.865698258905806, 0.8656938879580389, 0.8651664602607999, 0.8651664602607999, 0.8651635462956218, 0.8651548044000874, 0.8651548044000874, 0.8651518904349093, 0.8651504334523203, 0.8646142638595469, 0.8640810082319514, 0.8640795512493625, 0.8640766372841844, 0.8635404676914111, 0.8635360967436438, 0.8630101260289939, 0.8629999271508705, 0.8629940992205144, 0.8629911852553362, 0.8624710424710423, 0.8624637575580973, 0.8624535586799738, 0.861934872878269, 0.8613899613899614, 0.8613870474247832, 0.8613870474247832, 0.8613855904421943, 0.8613841334596051, 0.8613841334596051, 0.8613826764770162, 0.8613826764770162, 0.8613797625118378, 0.8613753915640707, 0.8613710206163037, 0.8613695636337144, 0.8608494208494208, 0.8608479638668319, 0.8608479638668317, 0.8608479638668317, 0.8608479638668317, 0.8608465068842428, 0.8608406789538865, 0.8608406789538865, 0.8603132512566475, 0.8603132512566475, 0.8603117942740584, 0.8603074233262913, 0.860305966343702, 0.8603045093611131, 0.860300138413346, 0.859774167698696, 0.8597727107161071, 0.8597712537335178, 0.8597639688205726, 0.8597625118379835, 0.8597595978728055, 0.8592365411233336, 0.8592336271581555, 0.8592321701755665, 0.8592321701755665, 0.8592307131929774, 0.8592219712974429, 0.8592176003496759, 0.858694543600204, 0.8586916296350259, 0.8586858017046696, 0.8581612879726087, 0.8581525460770744, 0.8581525460770744, 0.8581510890944852, 0.8581496321118964, 0.8581496321118964, 0.8581467181467183, 0.8581452611641291, 0.8581438041815401, 0.8581394332337728, 0.857616376484301, 0.857616376484301, 0.8576134625191228, 0.8576120055365338, 0.8576090915713557, 0.8570845778392948, 0.8570802068915275, 0.8570758359437605, 0.8570743789611713, 0.8570743789611713, 0.8570700080134042, 0.856536752385809, 0.8565323814380419, 0.8565309244554526, 0.8565192685947401, 0.8559991258104466, 0.8559962118452684, 0.8559932978800904, 0.8554644132002623, 0.8554614992350842, 0.8554614992350842, 0.8554600422524951, 0.8554513003569607, 0.8554513003569607, 0.8554513003569607, 0.8549209586945435, 0.8549165877467765, 0.8549165877467765, 0.8549107598164201, 0.8549063888686529, 0.854381875136592, 0.8543745902236468, 0.8543731332410578, 0.8543614773803453, 0.8538457055438187, 0.8538427915786405, 0.8538369636482844, 0.8538325927005171, 0.8538325927005171, 0.853826764770161, 0.8533007940555111, 0.8533007940555111, 0.8532978800903329, 0.8532978800903329, 0.8532964231077438, 0.8532935091425656, 0.8532935091425656, 0.8532905951773875, 0.8532876812122095, 0.8527617104975596, 0.852218255991841, 0.852216799009252, 0.852216799009252, 0.8522167990092517, 0.8522138850440738, 0.8522138850440737, 0.8522109710788957, 0.8522080571137174, 0.8522080571137174, 0.8516864573468347, 0.8516850003642457, 0.8516850003642457, 0.8516820863990675, 0.8516762584687113, 0.8511415458585271, 0.8511386318933489, 0.8511357179281708, 0.8511328039629926, 0.8511313469804037, 0.8511313469804035, 0.8506112041961099, 0.8505980913528083, 0.850592263422452, 0.850063378742624, 0.8500517228819117, 0.8495301231150287, 0.8495272091498507, 0.8495228382020835, 0.8495228382020835, 0.8495170102717273, 0.8495140963065492, 0.8495126393239602, 0.8489895825744883, 0.8489808406789539, 0.8489764697311866, 0.8489677278356524, 0.8484403001384134, 0.8484388431558244, 0.848437386173235, 0.8479085014934071, 0.8479085014934071, 0.8479070445108181, 0.8478983026152835, 0.8478953886501056, 0.8478953886501056, 0.8478895607197494, 0.8473606760399213, 0.8473592190573325, 0.8473548481095652, 0.8468376192904495, 0.8468303343775041, 0.8468303343775041, 0.8468288773949151, 0.8468288773949151, 0.8468215924819699, 0.8468113936038464, 0.8462912508195526, 0.8462897938369636, 0.8462897938369636, 0.8462839659066075, 0.8462795949588402, 0.8462781379762511, 0.8457521672616011, 0.845750710279012, 0.845746339331245, 0.8452072557732935, 0.8452072557732935, 0.8452072557732935, 0.8446710861805201, 0.8446710861805201, 0.8446652582501638, 0.8446623442849857, 0.8441422015006921, 0.8441363735703359, 0.8441290886573904, 0.8441290886573904, 0.8435958330297954, 0.8435900050994389, 0.8435841771690828, 0.8430567494718438, 0.8430480075763095, 0.8430480075763095, 0.8430421796459532, 0.8425060100531798, 0.8424987251402346, 0.8419727544255846, 0.8419727544255846, 0.8419581845996941, 0.8414351278502222, 0.8408945873096816, 0.8398105922634225, 0.8387280541997523, 0.8376528010490274, 0.834958840241859, 0.8333415895680046, 0.8333401325854156, 0.831718510963794], \"yaxis\": \"y\"}, {\"marker\": {\"color\": \"green\"}, \"mode\": \"markers\", \"name\": \"Std score\", \"text\": [\"{'criterion': 'gini', 'max_depth': 8, 'min_samples_leaf': 2, 'splitter': 'best'}\", \"{'criterion': 'gini', 'max_depth': 8, 'min_samples_leaf': 1, 'splitter': 'best'}\", \"{'criterion': 'gini', 'max_depth': 6, 'min_samples_leaf': 9, 'splitter': 'best'}\", \"{'criterion': 'entropy', 'max_depth': 12, 'min_samples_leaf': 1, 'splitter': 'random'}\", \"{'criterion': 'gini', 'max_depth': 10, 'min_samples_leaf': 1, 'splitter': 'random'}\", \"{'criterion': 'gini', 'max_depth': 8, 'min_samples_leaf': 1, 'splitter': 'random'}\", \"{'criterion': 'gini', 'max_depth': 8, 'min_samples_leaf': 3, 'splitter': 'best'}\", \"{'criterion': 'gini', 'max_depth': 4, 'min_samples_leaf': 7, 'splitter': 'best'}\", \"{'criterion': 'gini', 'max_depth': 4, 'min_samples_leaf': 9, 'splitter': 'best'}\", \"{'criterion': 'gini', 'max_depth': 8, 'min_samples_leaf': 4, 'splitter': 'best'}\", \"{'criterion': 'entropy', 'max_depth': 4, 'min_samples_leaf': 9, 'splitter': 'best'}\", \"{'criterion': 'gini', 'max_depth': 8, 'min_samples_leaf': 8, 'splitter': 'best'}\", \"{'criterion': 'gini', 'max_depth': 4, 'min_samples_leaf': 5, 'splitter': 'best'}\", \"{'criterion': 'gini', 'max_depth': 4, 'min_samples_leaf': 6, 'splitter': 'best'}\", \"{'criterion': 'gini', 'max_depth': 4, 'min_samples_leaf': 8, 'splitter': 'best'}\", \"{'criterion': 'entropy', 'max_depth': 4, 'min_samples_leaf': 7, 'splitter': 'best'}\", \"{'criterion': 'gini', 'max_depth': 8, 'min_samples_leaf': 9, 'splitter': 'best'}\", \"{'criterion': 'gini', 'max_depth': 4, 'min_samples_leaf': 2, 'splitter': 'best'}\", \"{'criterion': 'entropy', 'max_depth': 4, 'min_samples_leaf': 8, 'splitter': 'best'}\", \"{'criterion': 'entropy', 'max_depth': 4, 'min_samples_leaf': 3, 'splitter': 'best'}\", \"{'criterion': 'entropy', 'max_depth': 14, 'min_samples_leaf': 1, 'splitter': 'random'}\", \"{'criterion': 'entropy', 'max_depth': 16, 'min_samples_leaf': 1, 'splitter': 'random'}\", \"{'criterion': 'gini', 'max_depth': 6, 'min_samples_leaf': 8, 'splitter': 'best'}\", \"{'criterion': 'gini', 'max_depth': 6, 'min_samples_leaf': 7, 'splitter': 'best'}\", \"{'criterion': 'gini', 'max_depth': 4, 'min_samples_leaf': 1, 'splitter': 'best'}\", \"{'criterion': 'gini', 'max_depth': 14, 'min_samples_leaf': 1, 'splitter': 'random'}\", \"{'criterion': 'entropy', 'max_depth': 4, 'min_samples_leaf': 6, 'splitter': 'best'}\", \"{'criterion': 'entropy', 'max_depth': 4, 'min_samples_leaf': 1, 'splitter': 'best'}\", \"{'criterion': 'entropy', 'max_depth': 4, 'min_samples_leaf': 2, 'splitter': 'best'}\", \"{'criterion': 'entropy', 'max_depth': 4, 'min_samples_leaf': 4, 'splitter': 'best'}\", \"{'criterion': 'gini', 'max_depth': 6, 'min_samples_leaf': 1, 'splitter': 'best'}\", \"{'criterion': 'gini', 'max_depth': 4, 'min_samples_leaf': 3, 'splitter': 'best'}\", \"{'criterion': 'gini', 'max_depth': 4, 'min_samples_leaf': 4, 'splitter': 'best'}\", \"{'criterion': 'entropy', 'max_depth': 4, 'min_samples_leaf': 5, 'splitter': 'best'}\", \"{'criterion': 'gini', 'max_depth': 8, 'min_samples_leaf': 7, 'splitter': 'best'}\", \"{'criterion': 'entropy', 'max_depth': 8, 'min_samples_leaf': 2, 'splitter': 'best'}\", \"{'criterion': 'entropy', 'max_depth': 8, 'min_samples_leaf': 1, 'splitter': 'best'}\", \"{'criterion': 'gini', 'max_depth': 16, 'min_samples_leaf': 1, 'splitter': 'random'}\", \"{'criterion': 'entropy', 'max_depth': 18, 'min_samples_leaf': 2, 'splitter': 'random'}\", \"{'criterion': 'gini', 'max_depth': 8, 'min_samples_leaf': 6, 'splitter': 'best'}\", \"{'criterion': 'gini', 'max_depth': 6, 'min_samples_leaf': 2, 'splitter': 'best'}\", \"{'criterion': 'gini', 'max_depth': 6, 'min_samples_leaf': 3, 'splitter': 'best'}\", \"{'criterion': 'gini', 'max_depth': 8, 'min_samples_leaf': 6, 'splitter': 'random'}\", \"{'criterion': 'gini', 'max_depth': 6, 'min_samples_leaf': 1, 'splitter': 'random'}\", \"{'criterion': 'gini', 'max_depth': 12, 'min_samples_leaf': 1, 'splitter': 'random'}\", \"{'criterion': 'gini', 'max_depth': 10, 'min_samples_leaf': 2, 'splitter': 'random'}\", \"{'criterion': 'gini', 'max_depth': 14, 'min_samples_leaf': 3, 'splitter': 'best'}\", \"{'criterion': 'gini', 'max_depth': 10, 'min_samples_leaf': 8, 'splitter': 'best'}\", \"{'criterion': 'gini', 'max_depth': 8, 'min_samples_leaf': 5, 'splitter': 'best'}\", \"{'criterion': 'gini', 'max_depth': 6, 'min_samples_leaf': 6, 'splitter': 'best'}\", \"{'criterion': 'entropy', 'max_depth': 6, 'min_samples_leaf': 9, 'splitter': 'best'}\", \"{'criterion': 'entropy', 'max_depth': 6, 'min_samples_leaf': 1, 'splitter': 'best'}\", \"{'criterion': 'gini', 'max_depth': 16, 'min_samples_leaf': 2, 'splitter': 'random'}\", \"{'criterion': 'gini', 'max_depth': 8, 'min_samples_leaf': 5, 'splitter': 'random'}\", \"{'criterion': 'gini', 'max_depth': 12, 'min_samples_leaf': 2, 'splitter': 'random'}\", \"{'criterion': 'gini', 'max_depth': 12, 'min_samples_leaf': 3, 'splitter': 'best'}\", \"{'criterion': 'entropy', 'max_depth': 14, 'min_samples_leaf': 2, 'splitter': 'random'}\", \"{'criterion': 'gini', 'max_depth': 10, 'min_samples_leaf': 6, 'splitter': 'best'}\", \"{'criterion': 'entropy', 'max_depth': 8, 'min_samples_leaf': 1, 'splitter': 'random'}\", \"{'criterion': 'entropy', 'max_depth': 6, 'min_samples_leaf': 2, 'splitter': 'best'}\", \"{'criterion': 'entropy', 'max_depth': 6, 'min_samples_leaf': 3, 'splitter': 'best'}\", \"{'criterion': 'entropy', 'max_depth': 10, 'min_samples_leaf': 1, 'splitter': 'random'}\", \"{'criterion': 'entropy', 'max_depth': 8, 'min_samples_leaf': 8, 'splitter': 'best'}\", \"{'criterion': 'gini', 'max_depth': 12, 'min_samples_leaf': 4, 'splitter': 'best'}\", \"{'criterion': 'gini', 'max_depth': 10, 'min_samples_leaf': 7, 'splitter': 'best'}\", \"{'criterion': 'entropy', 'max_depth': 8, 'min_samples_leaf': 3, 'splitter': 'best'}\", \"{'criterion': 'gini', 'max_depth': 6, 'min_samples_leaf': 4, 'splitter': 'best'}\", \"{'criterion': 'gini', 'max_depth': 10, 'min_samples_leaf': 1, 'splitter': 'best'}\", \"{'criterion': 'gini', 'max_depth': 16, 'min_samples_leaf': 4, 'splitter': 'best'}\", \"{'criterion': 'gini', 'max_depth': 10, 'min_samples_leaf': 5, 'splitter': 'best'}\", \"{'criterion': 'entropy', 'max_depth': 12, 'min_samples_leaf': 2, 'splitter': 'random'}\", \"{'criterion': 'entropy', 'max_depth': 10, 'min_samples_leaf': 2, 'splitter': 'random'}\", \"{'criterion': 'entropy', 'max_depth': 6, 'min_samples_leaf': 8, 'splitter': 'best'}\", \"{'criterion': 'entropy', 'max_depth': 6, 'min_samples_leaf': 4, 'splitter': 'best'}\", \"{'criterion': 'entropy', 'max_depth': 6, 'min_samples_leaf': 1, 'splitter': 'random'}\", \"{'criterion': 'entropy', 'max_depth': 14, 'min_samples_leaf': 4, 'splitter': 'random'}\", \"{'criterion': 'gini', 'max_depth': 10, 'min_samples_leaf': 9, 'splitter': 'best'}\", \"{'criterion': 'entropy', 'max_depth': 8, 'min_samples_leaf': 3, 'splitter': 'random'}\", \"{'criterion': 'gini', 'max_depth': 12, 'min_samples_leaf': 1, 'splitter': 'best'}\", \"{'criterion': 'entropy', 'max_depth': 16, 'min_samples_leaf': 2, 'splitter': 'random'}\", \"{'criterion': 'gini', 'max_depth': 12, 'min_samples_leaf': 2, 'splitter': 'best'}\", \"{'criterion': 'gini', 'max_depth': 8, 'min_samples_leaf': 3, 'splitter': 'random'}\", \"{'criterion': 'entropy', 'max_depth': 6, 'min_samples_leaf': 5, 'splitter': 'best'}\", \"{'criterion': 'gini', 'max_depth': 6, 'min_samples_leaf': 5, 'splitter': 'best'}\", \"{'criterion': 'gini', 'max_depth': 10, 'min_samples_leaf': 2, 'splitter': 'best'}\", \"{'criterion': 'gini', 'max_depth': 10, 'min_samples_leaf': 3, 'splitter': 'best'}\", \"{'criterion': 'entropy', 'max_depth': 6, 'min_samples_leaf': 6, 'splitter': 'best'}\", \"{'criterion': 'gini', 'max_depth': 12, 'min_samples_leaf': 8, 'splitter': 'best'}\", \"{'criterion': 'gini', 'max_depth': 18, 'min_samples_leaf': 4, 'splitter': 'best'}\", \"{'criterion': 'entropy', 'max_depth': 12, 'min_samples_leaf': 3, 'splitter': 'random'}\", \"{'criterion': 'entropy', 'max_depth': 8, 'min_samples_leaf': 6, 'splitter': 'best'}\", \"{'criterion': 'entropy', 'max_depth': 8, 'min_samples_leaf': 5, 'splitter': 'random'}\", \"{'criterion': 'gini', 'max_depth': 12, 'min_samples_leaf': 9, 'splitter': 'best'}\", \"{'criterion': 'entropy', 'max_depth': 8, 'min_samples_leaf': 9, 'splitter': 'best'}\", \"{'criterion': 'gini', 'max_depth': 16, 'min_samples_leaf': 3, 'splitter': 'best'}\", \"{'criterion': 'entropy', 'max_depth': 8, 'min_samples_leaf': 4, 'splitter': 'best'}\", \"{'criterion': 'entropy', 'max_depth': 10, 'min_samples_leaf': 2, 'splitter': 'best'}\", \"{'criterion': 'entropy', 'max_depth': 6, 'min_samples_leaf': 7, 'splitter': 'best'}\", \"{'criterion': 'gini', 'max_depth': 18, 'min_samples_leaf': 2, 'splitter': 'random'}\", \"{'criterion': 'gini', 'max_depth': 8, 'min_samples_leaf': 4, 'splitter': 'random'}\", \"{'criterion': 'gini', 'max_depth': 14, 'min_samples_leaf': 4, 'splitter': 'best'}\", \"{'criterion': 'entropy', 'max_depth': 8, 'min_samples_leaf': 5, 'splitter': 'best'}\", \"{'criterion': 'gini', 'max_depth': 10, 'min_samples_leaf': 4, 'splitter': 'best'}\", \"{'criterion': 'entropy', 'max_depth': 8, 'min_samples_leaf': 7, 'splitter': 'best'}\", \"{'criterion': 'gini', 'max_depth': 18, 'min_samples_leaf': 3, 'splitter': 'best'}\", \"{'criterion': 'entropy', 'max_depth': 8, 'min_samples_leaf': 6, 'splitter': 'random'}\", \"{'criterion': 'gini', 'max_depth': 10, 'min_samples_leaf': 7, 'splitter': 'random'}\", \"{'criterion': 'entropy', 'max_depth': 10, 'min_samples_leaf': 1, 'splitter': 'best'}\", \"{'criterion': 'gini', 'max_depth': 4, 'min_samples_leaf': 2, 'splitter': 'random'}\", \"{'criterion': 'gini', 'max_depth': 6, 'min_samples_leaf': 4, 'splitter': 'random'}\", \"{'criterion': 'gini', 'max_depth': 4, 'min_samples_leaf': 7, 'splitter': 'random'}\", \"{'criterion': 'gini', 'max_depth': 12, 'min_samples_leaf': 6, 'splitter': 'best'}\", \"{'criterion': 'gini', 'max_depth': 18, 'min_samples_leaf': 5, 'splitter': 'random'}\", \"{'criterion': 'gini', 'max_depth': 16, 'min_samples_leaf': 4, 'splitter': 'random'}\", \"{'criterion': 'gini', 'max_depth': 8, 'min_samples_leaf': 2, 'splitter': 'random'}\", \"{'criterion': 'gini', 'max_depth': 4, 'min_samples_leaf': 1, 'splitter': 'random'}\", \"{'criterion': 'gini', 'max_depth': 4, 'min_samples_leaf': 3, 'splitter': 'random'}\", \"{'criterion': 'gini', 'max_depth': 12, 'min_samples_leaf': 7, 'splitter': 'best'}\", \"{'criterion': 'gini', 'max_depth': 12, 'min_samples_leaf': 7, 'splitter': 'random'}\", \"{'criterion': 'entropy', 'max_depth': 8, 'min_samples_leaf': 2, 'splitter': 'random'}\", \"{'criterion': 'entropy', 'max_depth': 6, 'min_samples_leaf': 2, 'splitter': 'random'}\", \"{'criterion': 'gini', 'max_depth': 16, 'min_samples_leaf': 2, 'splitter': 'best'}\", \"{'criterion': 'gini', 'max_depth': 4, 'min_samples_leaf': 8, 'splitter': 'random'}\", \"{'criterion': 'entropy', 'max_depth': 4, 'min_samples_leaf': 1, 'splitter': 'random'}\", \"{'criterion': 'entropy', 'max_depth': 4, 'min_samples_leaf': 2, 'splitter': 'random'}\", \"{'criterion': 'entropy', 'max_depth': 4, 'min_samples_leaf': 7, 'splitter': 'random'}\", \"{'criterion': 'gini', 'max_depth': 14, 'min_samples_leaf': 2, 'splitter': 'random'}\", \"{'criterion': 'gini', 'max_depth': 6, 'min_samples_leaf': 3, 'splitter': 'random'}\", \"{'criterion': 'gini', 'max_depth': 4, 'min_samples_leaf': 6, 'splitter': 'random'}\", \"{'criterion': 'entropy', 'max_depth': 4, 'min_samples_leaf': 3, 'splitter': 'random'}\", \"{'criterion': 'entropy', 'max_depth': 6, 'min_samples_leaf': 7, 'splitter': 'random'}\", \"{'criterion': 'gini', 'max_depth': 14, 'min_samples_leaf': 8, 'splitter': 'best'}\", \"{'criterion': 'entropy', 'max_depth': 4, 'min_samples_leaf': 8, 'splitter': 'random'}\", \"{'criterion': 'gini', 'max_depth': 16, 'min_samples_leaf': 8, 'splitter': 'random'}\", \"{'criterion': 'gini', 'max_depth': 14, 'min_samples_leaf': 6, 'splitter': 'best'}\", \"{'criterion': 'gini', 'max_depth': 14, 'min_samples_leaf': 9, 'splitter': 'best'}\", \"{'criterion': 'gini', 'max_depth': 16, 'min_samples_leaf': 9, 'splitter': 'best'}\", \"{'criterion': 'gini', 'max_depth': 14, 'min_samples_leaf': 7, 'splitter': 'random'}\", \"{'criterion': 'gini', 'max_depth': 6, 'min_samples_leaf': 2, 'splitter': 'random'}\", \"{'criterion': 'entropy', 'max_depth': 16, 'min_samples_leaf': 3, 'splitter': 'random'}\", \"{'criterion': 'entropy', 'max_depth': 18, 'min_samples_leaf': 1, 'splitter': 'random'}\", \"{'criterion': 'gini', 'max_depth': 4, 'min_samples_leaf': 4, 'splitter': 'random'}\", \"{'criterion': 'gini', 'max_depth': 4, 'min_samples_leaf': 5, 'splitter': 'random'}\", \"{'criterion': 'entropy', 'max_depth': 4, 'min_samples_leaf': 6, 'splitter': 'random'}\", \"{'criterion': 'gini', 'max_depth': 16, 'min_samples_leaf': 5, 'splitter': 'random'}\", \"{'criterion': 'entropy', 'max_depth': 6, 'min_samples_leaf': 8, 'splitter': 'random'}\", \"{'criterion': 'gini', 'max_depth': 14, 'min_samples_leaf': 2, 'splitter': 'best'}\", \"{'criterion': 'gini', 'max_depth': 16, 'min_samples_leaf': 8, 'splitter': 'best'}\", \"{'criterion': 'gini', 'max_depth': 14, 'min_samples_leaf': 5, 'splitter': 'best'}\", \"{'criterion': 'entropy', 'max_depth': 4, 'min_samples_leaf': 4, 'splitter': 'random'}\", \"{'criterion': 'entropy', 'max_depth': 4, 'min_samples_leaf': 5, 'splitter': 'random'}\", \"{'criterion': 'gini', 'max_depth': 12, 'min_samples_leaf': 5, 'splitter': 'best'}\", \"{'criterion': 'gini', 'max_depth': 16, 'min_samples_leaf': 7, 'splitter': 'best'}\", \"{'criterion': 'gini', 'max_depth': 10, 'min_samples_leaf': 3, 'splitter': 'random'}\", \"{'criterion': 'entropy', 'max_depth': 8, 'min_samples_leaf': 9, 'splitter': 'random'}\", \"{'criterion': 'entropy', 'max_depth': 8, 'min_samples_leaf': 4, 'splitter': 'random'}\", \"{'criterion': 'entropy', 'max_depth': 14, 'min_samples_leaf': 6, 'splitter': 'random'}\", \"{'criterion': 'gini', 'max_depth': 14, 'min_samples_leaf': 7, 'splitter': 'best'}\", \"{'criterion': 'entropy', 'max_depth': 14, 'min_samples_leaf': 3, 'splitter': 'random'}\", \"{'criterion': 'entropy', 'max_depth': 10, 'min_samples_leaf': 3, 'splitter': 'random'}\", \"{'criterion': 'entropy', 'max_depth': 8, 'min_samples_leaf': 7, 'splitter': 'random'}\", \"{'criterion': 'gini', 'max_depth': 18, 'min_samples_leaf': 2, 'splitter': 'best'}\", \"{'criterion': 'entropy', 'max_depth': 6, 'min_samples_leaf': 4, 'splitter': 'random'}\", \"{'criterion': 'gini', 'max_depth': 12, 'min_samples_leaf': 5, 'splitter': 'random'}\", \"{'criterion': 'entropy', 'max_depth': 10, 'min_samples_leaf': 3, 'splitter': 'best'}\", \"{'criterion': 'entropy', 'max_depth': 12, 'min_samples_leaf': 2, 'splitter': 'best'}\", \"{'criterion': 'entropy', 'max_depth': 6, 'min_samples_leaf': 5, 'splitter': 'random'}\", \"{'criterion': 'gini', 'max_depth': 16, 'min_samples_leaf': 6, 'splitter': 'best'}\", \"{'criterion': 'entropy', 'max_depth': 18, 'min_samples_leaf': 4, 'splitter': 'random'}\", \"{'criterion': 'gini', 'max_depth': 8, 'min_samples_leaf': 7, 'splitter': 'random'}\", \"{'criterion': 'gini', 'max_depth': 12, 'min_samples_leaf': 3, 'splitter': 'random'}\", \"{'criterion': 'gini', 'max_depth': 4, 'min_samples_leaf': 9, 'splitter': 'random'}\", \"{'criterion': 'entropy', 'max_depth': 6, 'min_samples_leaf': 9, 'splitter': 'random'}\", \"{'criterion': 'entropy', 'max_depth': 14, 'min_samples_leaf': 7, 'splitter': 'random'}\", \"{'criterion': 'gini', 'max_depth': 18, 'min_samples_leaf': 1, 'splitter': 'random'}\", \"{'criterion': 'gini', 'max_depth': 6, 'min_samples_leaf': 5, 'splitter': 'random'}\", \"{'criterion': 'entropy', 'max_depth': 10, 'min_samples_leaf': 8, 'splitter': 'best'}\", \"{'criterion': 'gini', 'max_depth': 18, 'min_samples_leaf': 8, 'splitter': 'best'}\", \"{'criterion': 'entropy', 'max_depth': 16, 'min_samples_leaf': 6, 'splitter': 'random'}\", \"{'criterion': 'entropy', 'max_depth': 12, 'min_samples_leaf': 1, 'splitter': 'best'}\", \"{'criterion': 'entropy', 'max_depth': 10, 'min_samples_leaf': 7, 'splitter': 'random'}\", \"{'criterion': 'gini', 'max_depth': 14, 'min_samples_leaf': 1, 'splitter': 'best'}\", \"{'criterion': 'entropy', 'max_depth': 4, 'min_samples_leaf': 9, 'splitter': 'random'}\", \"{'criterion': 'gini', 'max_depth': 18, 'min_samples_leaf': 1, 'splitter': 'best'}\", \"{'criterion': 'entropy', 'max_depth': 18, 'min_samples_leaf': 9, 'splitter': 'random'}\", \"{'criterion': 'entropy', 'max_depth': 6, 'min_samples_leaf': 6, 'splitter': 'random'}\", \"{'criterion': 'gini', 'max_depth': 14, 'min_samples_leaf': 8, 'splitter': 'random'}\", \"{'criterion': 'gini', 'max_depth': 18, 'min_samples_leaf': 7, 'splitter': 'best'}\", \"{'criterion': 'gini', 'max_depth': 18, 'min_samples_leaf': 6, 'splitter': 'best'}\", \"{'criterion': 'entropy', 'max_depth': 12, 'min_samples_leaf': 8, 'splitter': 'random'}\", \"{'criterion': 'entropy', 'max_depth': 10, 'min_samples_leaf': 6, 'splitter': 'best'}\", \"{'criterion': 'gini', 'max_depth': 6, 'min_samples_leaf': 8, 'splitter': 'random'}\", \"{'criterion': 'gini', 'max_depth': 12, 'min_samples_leaf': 8, 'splitter': 'random'}\", \"{'criterion': 'gini', 'max_depth': 18, 'min_samples_leaf': 8, 'splitter': 'random'}\", \"{'criterion': 'gini', 'max_depth': 6, 'min_samples_leaf': 7, 'splitter': 'random'}\", \"{'criterion': 'gini', 'max_depth': 16, 'min_samples_leaf': 1, 'splitter': 'best'}\", \"{'criterion': 'entropy', 'max_depth': 16, 'min_samples_leaf': 7, 'splitter': 'random'}\", \"{'criterion': 'gini', 'max_depth': 18, 'min_samples_leaf': 9, 'splitter': 'best'}\", \"{'criterion': 'entropy', 'max_depth': 16, 'min_samples_leaf': 4, 'splitter': 'random'}\", \"{'criterion': 'entropy', 'max_depth': 6, 'min_samples_leaf': 3, 'splitter': 'random'}\", \"{'criterion': 'gini', 'max_depth': 8, 'min_samples_leaf': 8, 'splitter': 'random'}\", \"{'criterion': 'entropy', 'max_depth': 12, 'min_samples_leaf': 8, 'splitter': 'best'}\", \"{'criterion': 'entropy', 'max_depth': 14, 'min_samples_leaf': 8, 'splitter': 'best'}\", \"{'criterion': 'gini', 'max_depth': 6, 'min_samples_leaf': 6, 'splitter': 'random'}\", \"{'criterion': 'gini', 'max_depth': 18, 'min_samples_leaf': 5, 'splitter': 'best'}\", \"{'criterion': 'entropy', 'max_depth': 10, 'min_samples_leaf': 6, 'splitter': 'random'}\", \"{'criterion': 'entropy', 'max_depth': 10, 'min_samples_leaf': 4, 'splitter': 'best'}\", \"{'criterion': 'entropy', 'max_depth': 12, 'min_samples_leaf': 6, 'splitter': 'random'}\", \"{'criterion': 'entropy', 'max_depth': 14, 'min_samples_leaf': 2, 'splitter': 'best'}\", \"{'criterion': 'entropy', 'max_depth': 18, 'min_samples_leaf': 2, 'splitter': 'best'}\", \"{'criterion': 'entropy', 'max_depth': 10, 'min_samples_leaf': 8, 'splitter': 'random'}\", \"{'criterion': 'gini', 'max_depth': 12, 'min_samples_leaf': 6, 'splitter': 'random'}\", \"{'criterion': 'entropy', 'max_depth': 8, 'min_samples_leaf': 8, 'splitter': 'random'}\", \"{'criterion': 'entropy', 'max_depth': 18, 'min_samples_leaf': 5, 'splitter': 'random'}\", \"{'criterion': 'entropy', 'max_depth': 10, 'min_samples_leaf': 9, 'splitter': 'best'}\", \"{'criterion': 'gini', 'max_depth': 18, 'min_samples_leaf': 7, 'splitter': 'random'}\", \"{'criterion': 'gini', 'max_depth': 10, 'min_samples_leaf': 4, 'splitter': 'random'}\", \"{'criterion': 'entropy', 'max_depth': 10, 'min_samples_leaf': 7, 'splitter': 'best'}\", \"{'criterion': 'gini', 'max_depth': 10, 'min_samples_leaf': 8, 'splitter': 'random'}\", \"{'criterion': 'gini', 'max_depth': 6, 'min_samples_leaf': 9, 'splitter': 'random'}\", \"{'criterion': 'entropy', 'max_depth': 14, 'min_samples_leaf': 1, 'splitter': 'best'}\", \"{'criterion': 'entropy', 'max_depth': 16, 'min_samples_leaf': 5, 'splitter': 'random'}\", \"{'criterion': 'entropy', 'max_depth': 14, 'min_samples_leaf': 5, 'splitter': 'random'}\", \"{'criterion': 'entropy', 'max_depth': 16, 'min_samples_leaf': 8, 'splitter': 'best'}\", \"{'criterion': 'entropy', 'max_depth': 12, 'min_samples_leaf': 7, 'splitter': 'random'}\", \"{'criterion': 'gini', 'max_depth': 12, 'min_samples_leaf': 9, 'splitter': 'random'}\", \"{'criterion': 'gini', 'max_depth': 14, 'min_samples_leaf': 3, 'splitter': 'random'}\", \"{'criterion': 'entropy', 'max_depth': 18, 'min_samples_leaf': 3, 'splitter': 'random'}\", \"{'criterion': 'entropy', 'max_depth': 16, 'min_samples_leaf': 2, 'splitter': 'best'}\", \"{'criterion': 'entropy', 'max_depth': 12, 'min_samples_leaf': 4, 'splitter': 'best'}\", \"{'criterion': 'entropy', 'max_depth': 18, 'min_samples_leaf': 7, 'splitter': 'random'}\", \"{'criterion': 'entropy', 'max_depth': 18, 'min_samples_leaf': 8, 'splitter': 'best'}\", \"{'criterion': 'entropy', 'max_depth': 12, 'min_samples_leaf': 5, 'splitter': 'random'}\", \"{'criterion': 'gini', 'max_depth': 12, 'min_samples_leaf': 4, 'splitter': 'random'}\", \"{'criterion': 'gini', 'max_depth': 10, 'min_samples_leaf': 9, 'splitter': 'random'}\", \"{'criterion': 'entropy', 'max_depth': 14, 'min_samples_leaf': 8, 'splitter': 'random'}\", \"{'criterion': 'gini', 'max_depth': 16, 'min_samples_leaf': 3, 'splitter': 'random'}\", \"{'criterion': 'entropy', 'max_depth': 10, 'min_samples_leaf': 4, 'splitter': 'random'}\", \"{'criterion': 'entropy', 'max_depth': 16, 'min_samples_leaf': 1, 'splitter': 'best'}\", \"{'criterion': 'entropy', 'max_depth': 18, 'min_samples_leaf': 1, 'splitter': 'best'}\", \"{'criterion': 'gini', 'max_depth': 10, 'min_samples_leaf': 6, 'splitter': 'random'}\", \"{'criterion': 'entropy', 'max_depth': 12, 'min_samples_leaf': 7, 'splitter': 'best'}\", \"{'criterion': 'entropy', 'max_depth': 14, 'min_samples_leaf': 7, 'splitter': 'best'}\", \"{'criterion': 'gini', 'max_depth': 18, 'min_samples_leaf': 6, 'splitter': 'random'}\", \"{'criterion': 'gini', 'max_depth': 14, 'min_samples_leaf': 6, 'splitter': 'random'}\", \"{'criterion': 'entropy', 'max_depth': 10, 'min_samples_leaf': 5, 'splitter': 'random'}\", \"{'criterion': 'gini', 'max_depth': 16, 'min_samples_leaf': 5, 'splitter': 'best'}\", \"{'criterion': 'gini', 'max_depth': 8, 'min_samples_leaf': 9, 'splitter': 'random'}\", \"{'criterion': 'entropy', 'max_depth': 10, 'min_samples_leaf': 5, 'splitter': 'best'}\", \"{'criterion': 'entropy', 'max_depth': 14, 'min_samples_leaf': 6, 'splitter': 'best'}\", \"{'criterion': 'gini', 'max_depth': 14, 'min_samples_leaf': 4, 'splitter': 'random'}\", \"{'criterion': 'entropy', 'max_depth': 12, 'min_samples_leaf': 3, 'splitter': 'best'}\", \"{'criterion': 'gini', 'max_depth': 18, 'min_samples_leaf': 3, 'splitter': 'random'}\", \"{'criterion': 'entropy', 'max_depth': 18, 'min_samples_leaf': 6, 'splitter': 'random'}\", \"{'criterion': 'entropy', 'max_depth': 16, 'min_samples_leaf': 6, 'splitter': 'best'}\", \"{'criterion': 'gini', 'max_depth': 18, 'min_samples_leaf': 9, 'splitter': 'random'}\", \"{'criterion': 'entropy', 'max_depth': 12, 'min_samples_leaf': 9, 'splitter': 'best'}\", \"{'criterion': 'entropy', 'max_depth': 14, 'min_samples_leaf': 9, 'splitter': 'best'}\", \"{'criterion': 'gini', 'max_depth': 16, 'min_samples_leaf': 7, 'splitter': 'random'}\", \"{'criterion': 'gini', 'max_depth': 18, 'min_samples_leaf': 4, 'splitter': 'random'}\", \"{'criterion': 'entropy', 'max_depth': 12, 'min_samples_leaf': 6, 'splitter': 'best'}\", \"{'criterion': 'entropy', 'max_depth': 14, 'min_samples_leaf': 3, 'splitter': 'best'}\", \"{'criterion': 'entropy', 'max_depth': 16, 'min_samples_leaf': 8, 'splitter': 'random'}\", \"{'criterion': 'gini', 'max_depth': 16, 'min_samples_leaf': 6, 'splitter': 'random'}\", \"{'criterion': 'entropy', 'max_depth': 12, 'min_samples_leaf': 4, 'splitter': 'random'}\", \"{'criterion': 'entropy', 'max_depth': 16, 'min_samples_leaf': 9, 'splitter': 'best'}\", \"{'criterion': 'entropy', 'max_depth': 18, 'min_samples_leaf': 6, 'splitter': 'best'}\", \"{'criterion': 'entropy', 'max_depth': 10, 'min_samples_leaf': 9, 'splitter': 'random'}\", \"{'criterion': 'gini', 'max_depth': 14, 'min_samples_leaf': 9, 'splitter': 'random'}\", \"{'criterion': 'entropy', 'max_depth': 14, 'min_samples_leaf': 4, 'splitter': 'best'}\", \"{'criterion': 'entropy', 'max_depth': 16, 'min_samples_leaf': 7, 'splitter': 'best'}\", \"{'criterion': 'entropy', 'max_depth': 18, 'min_samples_leaf': 9, 'splitter': 'best'}\", \"{'criterion': 'entropy', 'max_depth': 14, 'min_samples_leaf': 9, 'splitter': 'random'}\", \"{'criterion': 'entropy', 'max_depth': 16, 'min_samples_leaf': 4, 'splitter': 'best'}\", \"{'criterion': 'entropy', 'max_depth': 16, 'min_samples_leaf': 3, 'splitter': 'best'}\", \"{'criterion': 'entropy', 'max_depth': 18, 'min_samples_leaf': 8, 'splitter': 'random'}\", \"{'criterion': 'gini', 'max_depth': 16, 'min_samples_leaf': 9, 'splitter': 'random'}\", \"{'criterion': 'entropy', 'max_depth': 16, 'min_samples_leaf': 9, 'splitter': 'random'}\", \"{'criterion': 'entropy', 'max_depth': 18, 'min_samples_leaf': 4, 'splitter': 'best'}\", \"{'criterion': 'entropy', 'max_depth': 18, 'min_samples_leaf': 7, 'splitter': 'best'}\", \"{'criterion': 'entropy', 'max_depth': 12, 'min_samples_leaf': 9, 'splitter': 'random'}\", \"{'criterion': 'gini', 'max_depth': 14, 'min_samples_leaf': 5, 'splitter': 'random'}\", \"{'criterion': 'entropy', 'max_depth': 18, 'min_samples_leaf': 3, 'splitter': 'best'}\", \"{'criterion': 'entropy', 'max_depth': 12, 'min_samples_leaf': 5, 'splitter': 'best'}\", \"{'criterion': 'entropy', 'max_depth': 14, 'min_samples_leaf': 5, 'splitter': 'best'}\", \"{'criterion': 'gini', 'max_depth': 10, 'min_samples_leaf': 5, 'splitter': 'random'}\", \"{'criterion': 'entropy', 'max_depth': 16, 'min_samples_leaf': 5, 'splitter': 'best'}\", \"{'criterion': 'entropy', 'max_depth': 18, 'min_samples_leaf': 5, 'splitter': 'best'}\"], \"type\": \"scatter\", \"x\": [0, 1, 2, 3, 4, 5, 6, 7, 8, 9, 10, 11, 12, 13, 14, 15, 16, 17, 18, 19, 20, 21, 22, 23, 24, 25, 26, 27, 28, 29, 30, 31, 32, 33, 34, 35, 36, 37, 38, 39, 40, 41, 42, 43, 44, 45, 46, 47, 48, 49, 50, 51, 52, 53, 54, 55, 56, 57, 58, 59, 60, 61, 62, 63, 64, 65, 66, 67, 68, 69, 70, 71, 72, 73, 74, 75, 76, 77, 78, 79, 80, 81, 82, 83, 84, 85, 86, 87, 88, 89, 90, 91, 92, 93, 94, 95, 96, 97, 98, 99, 100, 101, 102, 103, 104, 105, 106, 107, 108, 109, 110, 111, 112, 113, 114, 115, 116, 117, 118, 119, 120, 121, 122, 123, 124, 125, 126, 127, 128, 129, 130, 131, 132, 133, 134, 135, 136, 137, 138, 139, 140, 141, 142, 143, 144, 145, 146, 147, 148, 149, 150, 151, 152, 153, 154, 155, 156, 157, 158, 159, 160, 161, 162, 163, 164, 165, 166, 167, 168, 169, 170, 171, 172, 173, 174, 175, 176, 177, 178, 179, 180, 181, 182, 183, 184, 185, 186, 187, 188, 189, 190, 191, 192, 193, 194, 195, 196, 197, 198, 199, 200, 201, 202, 203, 204, 205, 206, 207, 208, 209, 210, 211, 212, 213, 214, 215, 216, 217, 218, 219, 220, 221, 222, 223, 224, 225, 226, 227, 228, 229, 230, 231, 232, 233, 234, 235, 236, 237, 238, 239, 240, 241, 242, 243, 244, 245, 246, 247, 248, 249, 250, 251, 252, 253, 254, 255, 256, 257, 258, 259, 260, 261, 262, 263, 264, 265, 266, 267, 268, 269, 270, 271, 272, 273, 274, 275, 276, 277, 278, 279, 280, 281, 282, 283, 284, 285, 286, 287], \"y\": [0.020800035915756125, 0.017505767010117426, 0.01065062005941963, 0.009726903933859306, 0.015846793953763663, 0.018569630117015602, 0.01970935048531178, 0.019523549514023526, 0.019523549514023526, 0.021980329265143036, 0.014608824909227937, 0.017687273202140148, 0.01941591879248396, 0.01941591879248396, 0.020005668925397672, 0.015808314536265262, 0.014433409303719837, 0.0247358888548839, 0.016348501364181436, 0.012650765625925346, 0.030990360246492335, 0.017316451315011312, 0.011757205298371287, 0.011914683378291336, 0.023563304422535725, 0.021973181391435132, 0.016021221699551225, 0.013997948073370299, 0.013997948073370299, 0.014902937552227692, 0.015021101865259397, 0.026315009247838132, 0.027722945245773692, 0.01571480212713598, 0.013551535964928097, 0.012591362560889005, 0.01759716380601273, 0.022834870485809233, 0.014482003840882916, 0.007313123203709896, 0.015661579914300977, 0.018937354819745844, 0.01962594291782806, 0.018092118244820696, 0.015157556732257795, 0.014988359961998945, 0.019876793005160105, 0.022827378855420605, 0.013191254838306868, 0.007087108978660257, 0.013983299142270457, 0.020769030824182824, 0.01049493797257471, 0.014742459734411168, 0.019230332082117947, 0.019041569392613228, 0.017410111378396168, 0.007681059103216875, 0.015884967681745667, 0.01580657949622029, 0.02222523936049689, 0.0194982977881858, 0.019498297788185803, 0.02421812307299739, 0.01475688932427143, 0.017399394174542407, 0.019995059372843092, 0.011956466075528043, 0.027761070208388784, 0.012573227925237825, 0.01780979330312889, 0.019070566606494824, 0.016478501165529923, 0.021670374787772968, 0.015215233391219673, 0.01707247759186591, 0.01742012545722493, 0.015688193158183015, 0.009997801786534534, 0.020442902717815167, 0.01969676737038262, 0.012445616572500253, 0.020660024620742044, 0.010808079507045189, 0.01287898405960696, 0.007926094557416769, 0.019851413172844053, 0.023638346314701634, 0.0290219045971349, 0.021700877788577152, 0.023377060940860495, 0.014381073264585618, 0.015835590067262754, 0.017492341708432866, 0.016652195592705785, 0.022057551936340132, 0.014534499024013778, 0.014579591685954213, 0.013165610705228826, 0.02175267705900357, 0.024462158167903918, 0.021832693089039266, 0.019735327785068445, 0.021293604695398417, 0.021497347124645436, 0.022752883875948482, 0.011392930857106572, 0.015869956778307076, 0.011369180103908708, 0.015197767437814145, 0.010588414846295356, 0.011551210840181705, 0.016618836984101673, 0.01132897421525332, 0.00957994094655182, 0.011314888138810587, 0.010391115658132125, 0.014789002280114765, 0.009159624854333718, 0.019660511179757253, 0.01664192172907114, 0.02191997625780251, 0.011375843508945993, 0.008961665757010661, 0.008961665757010661, 0.008816268463633148, 0.011116473150843626, 0.016960522985969288, 0.010741964177934875, 0.007981442647881868, 0.018154764510036194, 0.027078929968434334, 0.009627601158291728, 0.01383829729762205, 0.014263826508011251, 0.019595539663825694, 0.019595539663825694, 0.01602693324984381, 0.01657395512107702, 0.01888066606731194, 0.024828514812104904, 0.011366518727973543, 0.011366518727973543, 0.008803697907805625, 0.016596773581174725, 0.017636267208133084, 0.022782213906113617, 0.02590088877758948, 0.01645184740441693, 0.008898029693306954, 0.008898029693306954, 0.013595373025996648, 0.017427584065641447, 0.017372447480691812, 0.02149415261974662, 0.01600653936597625, 0.02133193181499723, 0.016858193698849635, 0.016791765994006308, 0.030317802283034823, 0.019620274364944353, 0.022126345288795427, 0.016132922876327775, 0.015554146175206656, 0.016284359055117475, 0.01930560670747826, 0.01790663610234141, 0.015591942318487673, 0.02092410309922458, 0.012545127402531024, 0.016579533619239684, 0.016343331611026857, 0.019914505774137482, 0.009880695194654445, 0.01273509668194887, 0.021024520066241444, 0.019901384865762047, 0.023231834963169842, 0.011448224909148465, 0.016970322274353158, 0.008969157363686685, 0.014126299099839614, 0.01482886044272732, 0.010069740351707445, 0.018974813151505218, 0.01275849296993342, 0.012324940820542668, 0.014887942303043406, 0.013696344970344469, 0.011668553590123205, 0.02644483989656057, 0.013823962596618214, 0.008838967612887329, 0.011547443618734877, 0.014850144068794384, 0.011829214273879078, 0.016888926892024817, 0.018786003775339986, 0.012381144172929303, 0.01769544648717173, 0.021002801996616426, 0.02260857980779396, 0.02260857980779396, 0.016798195192059877, 0.014821002114983217, 0.009879496297941118, 0.021484267464529336, 0.007641511300419322, 0.010422467692791525, 0.012930168782741922, 0.008269310534498009, 0.02150695602143016, 0.015449241553546109, 0.01841583711924735, 0.013064627608515393, 0.015700679636808414, 0.022363353858505717, 0.022245844369912563, 0.009586524717512314, 0.016757048062064323, 0.014679099512453117, 0.021793877715330034, 0.01248002979569152, 0.022600588060064205, 0.013578672520233747, 0.023796749929280082, 0.017865980338220365, 0.015896095100955986, 0.012652675716740235, 0.020402048690296763, 0.01674780895580566, 0.02139537017947756, 0.01349077637450854, 0.017081441671642012, 0.008122457227538984, 0.012375687300077046, 0.00858637604740591, 0.009826867902886087, 0.01838986201375398, 0.017946648575091886, 0.021072694135067294, 0.023699152496377274, 0.023699152496377274, 0.013783476055245809, 0.020340962259805452, 0.007995877971011324, 0.01544672464420141, 0.01994165932785762, 0.022804416878485972, 0.028725999821487273, 0.02251506435914035, 0.018818403364111166, 0.015437897379443405, 0.01582861861415671, 0.028946381133173875, 0.0241493242770819, 0.014649686863930714, 0.014649686863930714, 0.01786710146874783, 0.016491047802472944, 0.026823417466870943, 0.017722909172246077, 0.010964355366431323, 0.023229773096521307, 0.02060079179801099, 0.014723275563419735, 0.027886452489549435, 0.015409629211210864, 0.018214695898938302, 0.025268385824553135, 0.02534744798935381, 0.013722355513968066, 0.021482026402510093, 0.022768127392677695, 0.02110330841145716, 0.030734359759910648, 0.016761973705747696, 0.01872726414351677, 0.02262744790446596, 0.02376450459937011, 0.02534404424179439, 0.019293963084218914, 0.021036875291102562, 0.02235192295851399, 0.024740478348770054, 0.01909994614024064, 0.024860464329992976, 0.024242062503643753], \"yaxis\": \"y2\"}],\n",
       "                        {\"template\": {\"data\": {\"bar\": [{\"error_x\": {\"color\": \"#2a3f5f\"}, \"error_y\": {\"color\": \"#2a3f5f\"}, \"marker\": {\"line\": {\"color\": \"#E5ECF6\", \"width\": 0.5}}, \"type\": \"bar\"}], \"barpolar\": [{\"marker\": {\"line\": {\"color\": \"#E5ECF6\", \"width\": 0.5}}, \"type\": \"barpolar\"}], \"carpet\": [{\"aaxis\": {\"endlinecolor\": \"#2a3f5f\", \"gridcolor\": \"white\", \"linecolor\": \"white\", \"minorgridcolor\": \"white\", \"startlinecolor\": \"#2a3f5f\"}, \"baxis\": {\"endlinecolor\": \"#2a3f5f\", \"gridcolor\": \"white\", \"linecolor\": \"white\", \"minorgridcolor\": \"white\", \"startlinecolor\": \"#2a3f5f\"}, \"type\": \"carpet\"}], \"choropleth\": [{\"colorbar\": {\"outlinewidth\": 0, \"ticks\": \"\"}, \"type\": \"choropleth\"}], \"contour\": [{\"colorbar\": {\"outlinewidth\": 0, \"ticks\": \"\"}, \"colorscale\": [[0.0, \"#0d0887\"], [0.1111111111111111, \"#46039f\"], [0.2222222222222222, \"#7201a8\"], [0.3333333333333333, \"#9c179e\"], [0.4444444444444444, \"#bd3786\"], [0.5555555555555556, \"#d8576b\"], [0.6666666666666666, \"#ed7953\"], [0.7777777777777778, \"#fb9f3a\"], [0.8888888888888888, \"#fdca26\"], [1.0, \"#f0f921\"]], \"type\": \"contour\"}], \"contourcarpet\": [{\"colorbar\": {\"outlinewidth\": 0, \"ticks\": \"\"}, \"type\": \"contourcarpet\"}], \"heatmap\": [{\"colorbar\": {\"outlinewidth\": 0, \"ticks\": \"\"}, \"colorscale\": [[0.0, \"#0d0887\"], [0.1111111111111111, \"#46039f\"], [0.2222222222222222, \"#7201a8\"], [0.3333333333333333, \"#9c179e\"], [0.4444444444444444, \"#bd3786\"], [0.5555555555555556, \"#d8576b\"], [0.6666666666666666, \"#ed7953\"], [0.7777777777777778, \"#fb9f3a\"], [0.8888888888888888, \"#fdca26\"], [1.0, \"#f0f921\"]], \"type\": \"heatmap\"}], \"heatmapgl\": [{\"colorbar\": {\"outlinewidth\": 0, \"ticks\": \"\"}, \"colorscale\": [[0.0, \"#0d0887\"], [0.1111111111111111, \"#46039f\"], [0.2222222222222222, \"#7201a8\"], [0.3333333333333333, \"#9c179e\"], [0.4444444444444444, \"#bd3786\"], [0.5555555555555556, \"#d8576b\"], [0.6666666666666666, \"#ed7953\"], [0.7777777777777778, \"#fb9f3a\"], [0.8888888888888888, \"#fdca26\"], [1.0, \"#f0f921\"]], \"type\": \"heatmapgl\"}], \"histogram\": [{\"marker\": {\"colorbar\": {\"outlinewidth\": 0, \"ticks\": \"\"}}, \"type\": \"histogram\"}], \"histogram2d\": [{\"colorbar\": {\"outlinewidth\": 0, \"ticks\": \"\"}, \"colorscale\": [[0.0, \"#0d0887\"], [0.1111111111111111, \"#46039f\"], [0.2222222222222222, \"#7201a8\"], [0.3333333333333333, \"#9c179e\"], [0.4444444444444444, \"#bd3786\"], [0.5555555555555556, \"#d8576b\"], [0.6666666666666666, \"#ed7953\"], [0.7777777777777778, \"#fb9f3a\"], [0.8888888888888888, \"#fdca26\"], [1.0, \"#f0f921\"]], \"type\": \"histogram2d\"}], \"histogram2dcontour\": [{\"colorbar\": {\"outlinewidth\": 0, \"ticks\": \"\"}, \"colorscale\": [[0.0, \"#0d0887\"], [0.1111111111111111, \"#46039f\"], [0.2222222222222222, \"#7201a8\"], [0.3333333333333333, \"#9c179e\"], [0.4444444444444444, \"#bd3786\"], [0.5555555555555556, \"#d8576b\"], [0.6666666666666666, \"#ed7953\"], [0.7777777777777778, \"#fb9f3a\"], [0.8888888888888888, \"#fdca26\"], [1.0, \"#f0f921\"]], \"type\": \"histogram2dcontour\"}], \"mesh3d\": [{\"colorbar\": {\"outlinewidth\": 0, \"ticks\": \"\"}, \"type\": \"mesh3d\"}], \"parcoords\": [{\"line\": {\"colorbar\": {\"outlinewidth\": 0, \"ticks\": \"\"}}, \"type\": \"parcoords\"}], \"pie\": [{\"automargin\": true, \"type\": \"pie\"}], \"scatter\": [{\"marker\": {\"colorbar\": {\"outlinewidth\": 0, \"ticks\": \"\"}}, \"type\": \"scatter\"}], \"scatter3d\": [{\"line\": {\"colorbar\": {\"outlinewidth\": 0, \"ticks\": \"\"}}, \"marker\": {\"colorbar\": {\"outlinewidth\": 0, \"ticks\": \"\"}}, \"type\": \"scatter3d\"}], \"scattercarpet\": [{\"marker\": {\"colorbar\": {\"outlinewidth\": 0, \"ticks\": \"\"}}, \"type\": \"scattercarpet\"}], \"scattergeo\": [{\"marker\": {\"colorbar\": {\"outlinewidth\": 0, \"ticks\": \"\"}}, \"type\": \"scattergeo\"}], \"scattergl\": [{\"marker\": {\"colorbar\": {\"outlinewidth\": 0, \"ticks\": \"\"}}, \"type\": \"scattergl\"}], \"scattermapbox\": [{\"marker\": {\"colorbar\": {\"outlinewidth\": 0, \"ticks\": \"\"}}, \"type\": \"scattermapbox\"}], \"scatterpolar\": [{\"marker\": {\"colorbar\": {\"outlinewidth\": 0, \"ticks\": \"\"}}, \"type\": \"scatterpolar\"}], \"scatterpolargl\": [{\"marker\": {\"colorbar\": {\"outlinewidth\": 0, \"ticks\": \"\"}}, \"type\": \"scatterpolargl\"}], \"scatterternary\": [{\"marker\": {\"colorbar\": {\"outlinewidth\": 0, \"ticks\": \"\"}}, \"type\": \"scatterternary\"}], \"surface\": [{\"colorbar\": {\"outlinewidth\": 0, \"ticks\": \"\"}, \"colorscale\": [[0.0, \"#0d0887\"], [0.1111111111111111, \"#46039f\"], [0.2222222222222222, \"#7201a8\"], [0.3333333333333333, \"#9c179e\"], [0.4444444444444444, \"#bd3786\"], [0.5555555555555556, \"#d8576b\"], [0.6666666666666666, \"#ed7953\"], [0.7777777777777778, \"#fb9f3a\"], [0.8888888888888888, \"#fdca26\"], [1.0, \"#f0f921\"]], \"type\": \"surface\"}], \"table\": [{\"cells\": {\"fill\": {\"color\": \"#EBF0F8\"}, \"line\": {\"color\": \"white\"}}, \"header\": {\"fill\": {\"color\": \"#C8D4E3\"}, \"line\": {\"color\": \"white\"}}, \"type\": \"table\"}]}, \"layout\": {\"annotationdefaults\": {\"arrowcolor\": \"#2a3f5f\", \"arrowhead\": 0, \"arrowwidth\": 1}, \"coloraxis\": {\"colorbar\": {\"outlinewidth\": 0, \"ticks\": \"\"}}, \"colorscale\": {\"diverging\": [[0, \"#8e0152\"], [0.1, \"#c51b7d\"], [0.2, \"#de77ae\"], [0.3, \"#f1b6da\"], [0.4, \"#fde0ef\"], [0.5, \"#f7f7f7\"], [0.6, \"#e6f5d0\"], [0.7, \"#b8e186\"], [0.8, \"#7fbc41\"], [0.9, \"#4d9221\"], [1, \"#276419\"]], \"sequential\": [[0.0, \"#0d0887\"], [0.1111111111111111, \"#46039f\"], [0.2222222222222222, \"#7201a8\"], [0.3333333333333333, \"#9c179e\"], [0.4444444444444444, \"#bd3786\"], [0.5555555555555556, \"#d8576b\"], [0.6666666666666666, \"#ed7953\"], [0.7777777777777778, \"#fb9f3a\"], [0.8888888888888888, \"#fdca26\"], [1.0, \"#f0f921\"]], \"sequentialminus\": [[0.0, \"#0d0887\"], [0.1111111111111111, \"#46039f\"], [0.2222222222222222, \"#7201a8\"], [0.3333333333333333, \"#9c179e\"], [0.4444444444444444, \"#bd3786\"], [0.5555555555555556, \"#d8576b\"], [0.6666666666666666, \"#ed7953\"], [0.7777777777777778, \"#fb9f3a\"], [0.8888888888888888, \"#fdca26\"], [1.0, \"#f0f921\"]]}, \"colorway\": [\"#636efa\", \"#EF553B\", \"#00cc96\", \"#ab63fa\", \"#FFA15A\", \"#19d3f3\", \"#FF6692\", \"#B6E880\", \"#FF97FF\", \"#FECB52\"], \"font\": {\"color\": \"#2a3f5f\"}, \"geo\": {\"bgcolor\": \"white\", \"lakecolor\": \"white\", \"landcolor\": \"#E5ECF6\", \"showlakes\": true, \"showland\": true, \"subunitcolor\": \"white\"}, \"hoverlabel\": {\"align\": \"left\"}, \"hovermode\": \"closest\", \"mapbox\": {\"style\": \"light\"}, \"paper_bgcolor\": \"white\", \"plot_bgcolor\": \"#E5ECF6\", \"polar\": {\"angularaxis\": {\"gridcolor\": \"white\", \"linecolor\": \"white\", \"ticks\": \"\"}, \"bgcolor\": \"#E5ECF6\", \"radialaxis\": {\"gridcolor\": \"white\", \"linecolor\": \"white\", \"ticks\": \"\"}}, \"scene\": {\"xaxis\": {\"backgroundcolor\": \"#E5ECF6\", \"gridcolor\": \"white\", \"gridwidth\": 2, \"linecolor\": \"white\", \"showbackground\": true, \"ticks\": \"\", \"zerolinecolor\": \"white\"}, \"yaxis\": {\"backgroundcolor\": \"#E5ECF6\", \"gridcolor\": \"white\", \"gridwidth\": 2, \"linecolor\": \"white\", \"showbackground\": true, \"ticks\": \"\", \"zerolinecolor\": \"white\"}, \"zaxis\": {\"backgroundcolor\": \"#E5ECF6\", \"gridcolor\": \"white\", \"gridwidth\": 2, \"linecolor\": \"white\", \"showbackground\": true, \"ticks\": \"\", \"zerolinecolor\": \"white\"}}, \"shapedefaults\": {\"line\": {\"color\": \"#2a3f5f\"}}, \"ternary\": {\"aaxis\": {\"gridcolor\": \"white\", \"linecolor\": \"white\", \"ticks\": \"\"}, \"baxis\": {\"gridcolor\": \"white\", \"linecolor\": \"white\", \"ticks\": \"\"}, \"bgcolor\": \"#E5ECF6\", \"caxis\": {\"gridcolor\": \"white\", \"linecolor\": \"white\", \"ticks\": \"\"}}, \"title\": {\"x\": 0.05}, \"xaxis\": {\"automargin\": true, \"gridcolor\": \"white\", \"linecolor\": \"white\", \"ticks\": \"\", \"title\": {\"standoff\": 15}, \"zerolinecolor\": \"white\", \"zerolinewidth\": 2}, \"yaxis\": {\"automargin\": true, \"gridcolor\": \"white\", \"linecolor\": \"white\", \"ticks\": \"\", \"title\": {\"standoff\": 15}, \"zerolinecolor\": \"white\", \"zerolinewidth\": 2}}}, \"title\": {\"text\": \"Reporte para 288 configuraciones de par\\u00e1metros\", \"x\": 0, \"xref\": \"paper\"}, \"xaxis\": {\"anchor\": \"y\", \"domain\": [0.0, 0.94], \"title\": {\"text\": \"ranking\"}}, \"yaxis\": {\"anchor\": \"x\", \"domain\": [0.0, 1.0], \"title\": {\"text\": \"Mean test score\"}}, \"yaxis2\": {\"anchor\": \"x\", \"overlaying\": \"y\", \"side\": \"right\", \"title\": {\"text\": \"Std test score\"}}},\n",
       "                        {\"responsive\": true}\n",
       "                    ).then(function(){\n",
       "                            \n",
       "var gd = document.getElementById('fe4c9032-4a5f-44cb-ba2b-945b6599d465');\n",
       "var x = new MutationObserver(function (mutations, observer) {{\n",
       "        var display = window.getComputedStyle(gd).display;\n",
       "        if (!display || display === 'none') {{\n",
       "            console.log([gd, 'removed!']);\n",
       "            Plotly.purge(gd);\n",
       "            observer.disconnect();\n",
       "        }}\n",
       "}});\n",
       "\n",
       "// Listen for the removal of the full notebook cells\n",
       "var notebookContainer = gd.closest('#notebook-container');\n",
       "if (notebookContainer) {{\n",
       "    x.observe(notebookContainer, {childList: true});\n",
       "}}\n",
       "\n",
       "// Listen for the clearing of the current output cell\n",
       "var outputEl = gd.closest('.output');\n",
       "if (outputEl) {{\n",
       "    x.observe(outputEl, {childList: true});\n",
       "}}\n",
       "\n",
       "                        })\n",
       "                };\n",
       "                });\n",
       "            </script>\n",
       "        </div>"
      ]
     },
     "metadata": {},
     "output_type": "display_data"
    }
   ],
   "source": [
    "fig = go.Figure()\n",
    "\n",
    "fig = make_subplots(specs=[[{\"secondary_y\": True}]])\n",
    "\n",
    "fig.add_trace(go.Scatter(x=df.index, y=df['mean_test_score'], \n",
    "                         name='Mean score', mode='markers', marker=dict(color='royalblue'),\n",
    "                         yaxis='y1',\n",
    "                         text=df['params'].astype('str')\n",
    "                         )\n",
    "             )\n",
    "\n",
    "fig.add_trace(go.Scatter(x=df.index, y=df['std_test_score'], \n",
    "                         name='Std score', mode='markers', marker=dict(color='green'),\n",
    "                         yaxis = 'y2',\n",
    "                         text=df['params'].astype('str')\n",
    "                         )\n",
    "             )\n",
    "\n",
    "fig.update_layout(\n",
    "    title=go.layout.Title(\n",
    "        text=\"Reporte para {} configuraciones de parámetros\".format(len(df)),\n",
    "        xref=\"paper\",\n",
    "        x=0\n",
    "    ),\n",
    "    xaxis_title=\"ranking\",\n",
    "    yaxis_title=\"Mean test score\",\n",
    "    yaxis2_title=\"Std test score\", \n",
    " )\n"
   ]
  },
  {
   "cell_type": "markdown",
   "metadata": {
    "colab_type": "text",
    "id": "ujIz1OHXzSku"
   },
   "source": [
    "Seleccionamos la mejor configuración de hyper parámetros."
   ]
  },
  {
   "cell_type": "code",
   "execution_count": 80,
   "metadata": {
    "colab": {
     "base_uri": "https://localhost:8080/",
     "height": 83
    },
    "colab_type": "code",
    "id": "2cpwARdKzaU-",
    "outputId": "bfc8f3a4-e6e4-4729-f0ff-9f6da73b160b"
   },
   "outputs": [
    {
     "data": {
      "text/plain": [
       "{'criterion': 'gini',\n",
       " 'max_depth': 8,\n",
       " 'min_samples_leaf': 2,\n",
       " 'splitter': 'best'}"
      ]
     },
     "execution_count": 80,
     "metadata": {},
     "output_type": "execute_result"
    }
   ],
   "source": [
    "best_model = df.loc[df['rank_test_score'].idxmin()]['params']\n",
    "best_model"
   ]
  },
  {
   "cell_type": "code",
   "execution_count": 81,
   "metadata": {
    "colab": {
     "base_uri": "https://localhost:8080/",
     "height": 117
    },
    "colab_type": "code",
    "id": "O0s7NDWTzaTs",
    "outputId": "d10dfb24-9a83-4d87-85f5-2eea6ecf9df3"
   },
   "outputs": [
    {
     "data": {
      "text/plain": [
       "DecisionTreeClassifier(max_depth=8, min_samples_leaf=2, random_state=0)"
      ]
     },
     "execution_count": 81,
     "metadata": {},
     "output_type": "execute_result"
    }
   ],
   "source": [
    "model = DecisionTreeClassifier(**best_model, random_state=0)\n",
    "model.fit(X_train, y_train)"
   ]
  },
  {
   "cell_type": "code",
   "execution_count": 82,
   "metadata": {
    "colab": {},
    "colab_type": "code",
    "id": "nlsfS29upldd"
   },
   "outputs": [],
   "source": [
    "y_train_pred = model.predict(X_train)\n",
    "y_test_pred = model.predict(X_test)"
   ]
  },
  {
   "cell_type": "code",
   "execution_count": 83,
   "metadata": {
    "colab": {
     "base_uri": "https://localhost:8080/",
     "height": 50
    },
    "colab_type": "code",
    "id": "Os_ZYSf80wYp",
    "outputId": "71bed357-a482-4919-d59e-2b77c93d3657"
   },
   "outputs": [
    {
     "name": "stdout",
     "output_type": "stream",
     "text": [
      "Profundidad máxima del árbol: 8\n",
      "Cantidad máxima de hojas: 47\n"
     ]
    }
   ],
   "source": [
    "print('Profundidad máxima del árbol:', model.get_depth())\n",
    "print('Cantidad máxima de hojas:', model.get_n_leaves())"
   ]
  },
  {
   "cell_type": "code",
   "execution_count": 84,
   "metadata": {
    "colab": {
     "base_uri": "https://localhost:8080/",
     "height": 167
    },
    "colab_type": "code",
    "id": "qQ20sUN9pqyZ",
    "outputId": "a782f0bd-791b-46f1-d973-50cbeb0edc01"
   },
   "outputs": [
    {
     "name": "stdout",
     "output_type": "stream",
     "text": [
      "              precision    recall  f1-score   support\n",
      "\n",
      "           0       0.94      0.99      0.96      1232\n",
      "           1       0.92      0.67      0.78       251\n",
      "\n",
      "    accuracy                           0.93      1483\n",
      "   macro avg       0.93      0.83      0.87      1483\n",
      "weighted avg       0.93      0.93      0.93      1483\n",
      "\n"
     ]
    }
   ],
   "source": [
    "print(classification_report(y_train, y_train_pred))"
   ]
  },
  {
   "cell_type": "code",
   "execution_count": 85,
   "metadata": {
    "colab": {
     "base_uri": "https://localhost:8080/",
     "height": 50
    },
    "colab_type": "code",
    "id": "bcXc8vLApxON",
    "outputId": "0f2b414e-f759-472a-d055-52910d099b4b"
   },
   "outputs": [
    {
     "name": "stdout",
     "output_type": "stream",
     "text": [
      "TP:  169 \t FP:  15 \n",
      "TN:  1217 \t FN:  82\n"
     ]
    }
   ],
   "source": [
    "tn, fp, fn, tp = confusion_matrix(y_train, y_train_pred).ravel()\n",
    "print('TP: ', tp, '\\t FP: ', fp, '\\nTN: ', tn, '\\t FN: ', fn)"
   ]
  },
  {
   "cell_type": "code",
   "execution_count": 86,
   "metadata": {
    "colab": {
     "base_uri": "https://localhost:8080/",
     "height": 167
    },
    "colab_type": "code",
    "id": "w_6h9Ilsp3Sh",
    "outputId": "0696f53a-9c24-45f9-c3cf-283c1554e11c"
   },
   "outputs": [
    {
     "name": "stdout",
     "output_type": "stream",
     "text": [
      "              precision    recall  f1-score   support\n",
      "\n",
      "           0       0.91      0.94      0.92       313\n",
      "           1       0.60      0.48      0.53        58\n",
      "\n",
      "    accuracy                           0.87       371\n",
      "   macro avg       0.75      0.71      0.73       371\n",
      "weighted avg       0.86      0.87      0.86       371\n",
      "\n"
     ]
    }
   ],
   "source": [
    "print(classification_report(y_test, y_test_pred))"
   ]
  },
  {
   "cell_type": "code",
   "execution_count": 87,
   "metadata": {
    "colab": {
     "base_uri": "https://localhost:8080/",
     "height": 50
    },
    "colab_type": "code",
    "id": "pdVD_NIuqAGX",
    "outputId": "6856d260-16a0-43c2-9bb7-18159364d445"
   },
   "outputs": [
    {
     "name": "stdout",
     "output_type": "stream",
     "text": [
      "TP:  28 \t FP:  19 \n",
      "TN:  294 \t FN:  30\n"
     ]
    }
   ],
   "source": [
    "tn, fp, fn, tp = confusion_matrix(y_test, y_test_pred).ravel()\n",
    "print('TP: ', tp, '\\t FP: ', fp, '\\nTN: ', tn, '\\t FN: ', fn)"
   ]
  },
  {
   "cell_type": "markdown",
   "metadata": {
    "colab_type": "text",
    "id": "nm-_s8Ql2y4Q"
   },
   "source": [
    "Graficamos el árbol de decisión."
   ]
  },
  {
   "cell_type": "code",
   "execution_count": 88,
   "metadata": {
    "colab": {
     "base_uri": "https://localhost:8080/",
     "height": 575
    },
    "colab_type": "code",
    "id": "A50psd7I2W_h",
    "outputId": "45a2e54a-05bb-47d9-c325-1945edb80341"
   },
   "outputs": [
    {
     "data": {
      "image/png": "[encoded data removed]",
      "text/plain": [
       "<Figure size 1224x720 with 1 Axes>"
      ]
     },
     "metadata": {
      "needs_background": "light"
     },
     "output_type": "display_data"
    }
   ],
   "source": [
    "plt.figure(figsize=(17,10))\n",
    "plot_tree(model, impurity=False, fontsize=8, filled=True, label='root')  #filled=True,\n",
    "plt.show()"
   ]
  },
  {
   "cell_type": "code",
   "execution_count": null,
   "metadata": {
    "colab": {},
    "colab_type": "code",
    "id": "CGgdK-Wh224P"
   },
   "outputs": [],
   "source": []
  },
  {
   "cell_type": "markdown",
   "metadata": {
    "colab_type": "text",
    "id": "nh9IIjHB7BTI"
   },
   "source": [
    "## Conclusión\n",
    "\n",
    "Observamos que el modelo de árbol de decisión fue más preciso que el modelo descenso de graciente estocástico.\n",
    "\n",
    "También observamos que los datos están un poco desbalanceados. De los 1854 préstamos, sólo un 25% corresponden a préstamos no cancelados. \n"
   ]
  },
  {
   "cell_type": "code",
   "execution_count": null,
   "metadata": {
    "colab": {},
    "colab_type": "code",
    "id": "RLttql1Z7B-0"
   },
   "outputs": [],
   "source": []
  }
 ],
 "metadata": {
  "colab": {
   "collapsed_sections": [],
   "name": "Lab 2.ipynb",
   "provenance": [],
   "toc_visible": true
  },
  "kernelspec": {
   "display_name": "Python 3",
   "language": "python",
   "name": "python3"
  },
  "language_info": {
   "codemirror_mode": {
    "name": "ipython",
    "version": 3
   },
   "file_extension": ".py",
   "mimetype": "text/x-python",
   "name": "python",
   "nbconvert_exporter": "python",
   "pygments_lexer": "ipython3",
   "version": "3.7.4"
  }
 },
 "nbformat": 4,
 "nbformat_minor": 1
}
